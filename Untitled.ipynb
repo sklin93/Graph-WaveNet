{
 "cells": [
  {
   "cell_type": "code",
   "execution_count": 1,
   "metadata": {},
   "outputs": [],
   "source": [
    "import torch\n",
    "import numpy as np\n",
    "import ipdb"
   ]
  },
  {
   "cell_type": "code",
   "execution_count": 2,
   "metadata": {},
   "outputs": [],
   "source": [
    "S = torch.rand(64, 200, 100, 10)\n",
    "A = torch.rand(64, 200, 200)"
   ]
  },
  {
   "cell_type": "code",
   "execution_count": 5,
   "metadata": {},
   "outputs": [
    {
     "data": {
      "text/plain": [
       "torch.Size([64, 100, 100])"
      ]
     },
     "execution_count": 5,
     "metadata": {},
     "output_type": "execute_result"
    }
   ],
   "source": [
    "_A = torch.einsum('bcnt,bnn,bnkt->bck', s.transpose(1,2), A, S)\n",
    "A_ = torch.einsum('bnct, bcc, bckt->bnk', )"
   ]
  },
  {
   "cell_type": "code",
   "execution_count": 20,
   "metadata": {},
   "outputs": [],
   "source": [
    "_mean = torch.rand(200, 16)\n",
    "_logstd = torch.rand(200, 16)"
   ]
  },
  {
   "cell_type": "code",
   "execution_count": 19,
   "metadata": {},
   "outputs": [],
   "source": [
    "def single_kl(_mean, _logstd):\n",
    "    return -0.5/_mean.shape[0]*(1 + 2*_logstd - _mean**2 - torch.exp(_logstd)**2).sum(1).mean()"
   ]
  },
  {
   "cell_type": "code",
   "execution_count": 18,
   "metadata": {},
   "outputs": [],
   "source": [
    "mean_ = torch.rand(200, 16, 200)\n",
    "logstd_ = torch.rand(200, 16, 200)"
   ]
  },
  {
   "cell_type": "code",
   "execution_count": 28,
   "metadata": {},
   "outputs": [
    {
     "data": {
      "text/plain": [
       "tensor(0.0618)"
      ]
     },
     "execution_count": 28,
     "metadata": {},
     "output_type": "execute_result"
    }
   ],
   "source": [
    "single_kl(mean_[-1].transpose(0,1), logstd_[-1].transpose(0,1))"
   ]
  },
  {
   "cell_type": "code",
   "execution_count": 32,
   "metadata": {},
   "outputs": [
    {
     "data": {
      "text/plain": [
       "tensor([0.0616, 0.0610, 0.0611, 0.0606, 0.0612, 0.0616, 0.0612, 0.0603, 0.0607,\n",
       "        0.0609, 0.0616, 0.0624, 0.0618, 0.0622, 0.0604, 0.0608, 0.0606, 0.0616,\n",
       "        0.0615, 0.0609, 0.0614, 0.0608, 0.0617, 0.0619, 0.0604, 0.0611, 0.0612,\n",
       "        0.0612, 0.0613, 0.0611, 0.0610, 0.0607, 0.0610, 0.0607, 0.0617, 0.0622,\n",
       "        0.0608, 0.0616, 0.0606, 0.0593, 0.0619, 0.0601, 0.0615, 0.0608, 0.0607,\n",
       "        0.0615, 0.0608, 0.0614, 0.0606, 0.0603, 0.0611, 0.0624, 0.0614, 0.0598,\n",
       "        0.0623, 0.0621, 0.0618, 0.0620, 0.0598, 0.0604, 0.0594, 0.0607, 0.0602,\n",
       "        0.0608, 0.0614, 0.0602, 0.0621, 0.0610, 0.0606, 0.0612, 0.0599, 0.0610,\n",
       "        0.0613, 0.0607, 0.0617, 0.0605, 0.0601, 0.0623, 0.0614, 0.0610, 0.0595,\n",
       "        0.0621, 0.0601, 0.0599, 0.0615, 0.0608, 0.0605, 0.0611, 0.0617, 0.0605,\n",
       "        0.0604, 0.0626, 0.0604, 0.0616, 0.0615, 0.0610, 0.0605, 0.0629, 0.0592,\n",
       "        0.0617, 0.0617, 0.0606, 0.0603, 0.0626, 0.0608, 0.0616, 0.0592, 0.0597,\n",
       "        0.0606, 0.0617, 0.0596, 0.0582, 0.0600, 0.0611, 0.0630, 0.0611, 0.0617,\n",
       "        0.0616, 0.0610, 0.0611, 0.0621, 0.0610, 0.0597, 0.0617, 0.0620, 0.0614,\n",
       "        0.0620, 0.0598, 0.0606, 0.0606, 0.0623, 0.0590, 0.0612, 0.0629, 0.0598,\n",
       "        0.0610, 0.0620, 0.0612, 0.0609, 0.0608, 0.0602, 0.0617, 0.0593, 0.0598,\n",
       "        0.0615, 0.0608, 0.0616, 0.0624, 0.0612, 0.0607, 0.0603, 0.0625, 0.0602,\n",
       "        0.0608, 0.0622, 0.0614, 0.0616, 0.0615, 0.0616, 0.0608, 0.0615, 0.0602,\n",
       "        0.0605, 0.0614, 0.0612, 0.0612, 0.0598, 0.0610, 0.0614, 0.0612, 0.0609,\n",
       "        0.0608, 0.0618, 0.0621, 0.0617, 0.0621, 0.0610, 0.0610, 0.0603, 0.0605,\n",
       "        0.0615, 0.0607, 0.0595, 0.0610, 0.0608, 0.0608, 0.0608, 0.0606, 0.0623,\n",
       "        0.0613, 0.0609, 0.0612, 0.0613, 0.0600, 0.0599, 0.0610, 0.0615, 0.0624,\n",
       "        0.0618, 0.0618])"
      ]
     },
     "execution_count": 32,
     "metadata": {},
     "output_type": "execute_result"
    }
   ],
   "source": [
    "(-0.5/mean_.shape[-1]*(1 + 2*logstd_ - mean_**2 - torch.exp(logstd_)**2)).sum(1).mean(-1)"
   ]
  },
  {
   "cell_type": "code",
   "execution_count": null,
   "metadata": {},
   "outputs": [],
   "source": []
  },
  {
   "cell_type": "code",
   "execution_count": null,
   "metadata": {},
   "outputs": [],
   "source": []
  }
 ],
 "metadata": {
  "kernelspec": {
   "display_name": "Python 3",
   "language": "python",
   "name": "python3"
  },
  "language_info": {
   "codemirror_mode": {
    "name": "ipython",
    "version": 3
   },
   "file_extension": ".py",
   "mimetype": "text/x-python",
   "name": "python",
   "nbconvert_exporter": "python",
   "pygments_lexer": "ipython3",
   "version": "3.8.5"
  }
 },
 "nbformat": 4,
 "nbformat_minor": 4
}
