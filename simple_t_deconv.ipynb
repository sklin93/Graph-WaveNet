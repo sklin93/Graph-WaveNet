{
 "cells": [
  {
   "cell_type": "code",
   "execution_count": 19,
   "metadata": {},
   "outputs": [],
   "source": [
    "%matplotlib inline\n",
    "import matplotlib.pyplot as plt\n",
    "import torch\n",
    "import torch.nn as nn\n",
    "import torch.optim as optim\n",
    "import torch.nn.functional as F\n",
    "from torch.autograd import backward\n",
    "from coolmom import SGD\n",
    "\n",
    "import numpy as np\n",
    "import pickle\n",
    "import os\n",
    "from sklearn.utils import shuffle\n",
    "from tqdm import tqdm\n",
    "import ipdb\n",
    "\n",
    "import Utils.util as util\n",
    "\n",
    "np.random.seed(0)\n",
    "torch.manual_seed(999)\n",
    "if torch.cuda.is_available():\n",
    "    torch.cuda.manual_seed_all(999)\n",
    "    torch.cuda.empty_cache()"
   ]
  },
  {
   "cell_type": "code",
   "execution_count": 20,
   "metadata": {},
   "outputs": [],
   "source": [
    "# CRASH_fname = 'CRASH_FE_filtered_subsampled_fmriADJ.pkl'\n",
    "\n",
    "# with open(CRASH_fname, 'rb') as handle:\n",
    "#     F_t, adj_mx, adj_mx_idx, _input, _gt, coeffs, \\\n",
    "#     inv_mapping, region_assignment, nTrain, nValid, \\\n",
    "#     nTest, scaler_in, scaler_out = pickle.load(handle)\n",
    "    \n",
    "CRASH_fname = 'CRASH_Fonly.pkl'\n",
    "with open(CRASH_fname, 'rb') as handle:\n",
    "    F_t, adj_mx, adj_mx_idx, _input, _gt, nTrain, \\\n",
    "    nValid, nTest, scaler_in, scaler_out = pickle.load(handle)\n"
   ]
  },
  {
   "cell_type": "markdown",
   "metadata": {},
   "source": [
    "### helper functions to test"
   ]
  },
  {
   "cell_type": "code",
   "execution_count": 3,
   "metadata": {},
   "outputs": [],
   "source": [
    "def weighted_mse(preds, labels, null_val=np.nan):\n",
    "    # assign more weights to further away points (preds:[16, 1, 10])\n",
    "    num_t = preds.shape[2]\n",
    "    wts = (torch.arange(num_t) + 1.0) / (torch.arange(num_t) + 1.0).sum()\n",
    "\n",
    "    loss = (preds-labels)**2\n",
    "    loss = torch.mean(loss, [0,1])\n",
    "\n",
    "    wts = wts.to(loss.device)\n",
    "    loss = loss * wts\n",
    "    \n",
    "    return torch.mean(loss)\n",
    "\n",
    "def clipped_repulsion(preds):\n",
    "    preds = abs(preds)\n",
    "    \n",
    "    preds[preds < 1e-3] = 1e-3\n",
    "    loss = 1 / (abs(preds)**2)\n",
    "    return torch.mean(loss)"
   ]
  },
  {
   "cell_type": "markdown",
   "metadata": {},
   "source": [
    "## Testing temporal conv-deconv: only using one node's value across time"
   ]
  },
  {
   "cell_type": "code",
   "execution_count": 53,
   "metadata": {},
   "outputs": [
    {
     "name": "stdout",
     "output_type": "stream",
     "text": [
      "(11712, 1, 10) (11712, 1, 10)\n"
     ]
    },
    {
     "data": {
      "image/png": "[encoded data removed]",
      "text/plain": [
       "<Figure size 432x288 with 1 Axes>"
      ]
     },
     "metadata": {
      "needs_background": "light"
     },
     "output_type": "display_data"
    }
   ],
   "source": [
    "device = 'cuda:0'\n",
    "# prep data\n",
    "x = _input[...,0][:,None,:]\n",
    "# y = x\n",
    "y = _gt[...,0][:,None,:]\n",
    "print(x.shape, y.shape)\n",
    "\n",
    "# plt.plot(x[0,0])\n",
    "# plt.plot(y[0,0])\n",
    "plt.plot(np.concatenate((x[20,0],y[20,0]), 0))\n",
    "\n",
    "x = torch.tensor(x).to(device)\n",
    "y = torch.tensor(y).to(device)\n"
   ]
  },
  {
   "cell_type": "code",
   "execution_count": 63,
   "metadata": {},
   "outputs": [
    {
     "name": "stdout",
     "output_type": "stream",
     "text": [
      "tmodel(\n",
      "  (filter_convs): ModuleList(\n",
      "    (0): Conv1d(32, 32, kernel_size=(2,), stride=(1,), padding=(1,))\n",
      "    (1): Conv1d(32, 32, kernel_size=(2,), stride=(1,), padding=(2,), dilation=(2,))\n",
      "    (2): Conv1d(32, 32, kernel_size=(2,), stride=(1,), padding=(1,))\n",
      "    (3): Conv1d(32, 32, kernel_size=(2,), stride=(1,), padding=(2,), dilation=(2,))\n",
      "    (4): Conv1d(32, 32, kernel_size=(2,), stride=(1,), padding=(1,))\n",
      "    (5): Conv1d(32, 32, kernel_size=(2,), stride=(1,), padding=(2,), dilation=(2,))\n",
      "  )\n",
      "  (gate_convs): ModuleList(\n",
      "    (0): Conv1d(32, 32, kernel_size=(2,), stride=(1,), padding=(1,))\n",
      "    (1): Conv1d(32, 32, kernel_size=(2,), stride=(1,), padding=(2,), dilation=(2,))\n",
      "    (2): Conv1d(32, 32, kernel_size=(2,), stride=(1,), padding=(1,))\n",
      "    (3): Conv1d(32, 32, kernel_size=(2,), stride=(1,), padding=(2,), dilation=(2,))\n",
      "    (4): Conv1d(32, 32, kernel_size=(2,), stride=(1,), padding=(1,))\n",
      "    (5): Conv1d(32, 32, kernel_size=(2,), stride=(1,), padding=(2,), dilation=(2,))\n",
      "  )\n",
      "  (residual_convs): ModuleList(\n",
      "    (0): Conv1d(32, 32, kernel_size=(1,), stride=(1,))\n",
      "    (1): Conv1d(32, 32, kernel_size=(1,), stride=(1,))\n",
      "    (2): Conv1d(32, 32, kernel_size=(1,), stride=(1,))\n",
      "    (3): Conv1d(32, 32, kernel_size=(1,), stride=(1,))\n",
      "    (4): Conv1d(32, 32, kernel_size=(1,), stride=(1,))\n",
      "    (5): Conv1d(32, 32, kernel_size=(1,), stride=(1,))\n",
      "  )\n",
      "  (skip_convs): ModuleList(\n",
      "    (0): Conv1d(32, 256, kernel_size=(1,), stride=(1,))\n",
      "    (1): Conv1d(32, 256, kernel_size=(1,), stride=(1,))\n",
      "    (2): Conv1d(32, 256, kernel_size=(1,), stride=(1,))\n",
      "    (3): Conv1d(32, 256, kernel_size=(1,), stride=(1,))\n",
      "    (4): Conv1d(32, 256, kernel_size=(1,), stride=(1,))\n",
      "    (5): Conv1d(32, 256, kernel_size=(1,), stride=(1,))\n",
      "  )\n",
      "  (bn): ModuleList(\n",
      "    (0): BatchNorm1d(32, eps=1e-05, momentum=0.1, affine=True, track_running_stats=True)\n",
      "    (1): BatchNorm1d(32, eps=1e-05, momentum=0.1, affine=True, track_running_stats=True)\n",
      "    (2): BatchNorm1d(32, eps=1e-05, momentum=0.1, affine=True, track_running_stats=True)\n",
      "    (3): BatchNorm1d(32, eps=1e-05, momentum=0.1, affine=True, track_running_stats=True)\n",
      "    (4): BatchNorm1d(32, eps=1e-05, momentum=0.1, affine=True, track_running_stats=True)\n",
      "    (5): BatchNorm1d(32, eps=1e-05, momentum=0.1, affine=True, track_running_stats=True)\n",
      "  )\n",
      "  (start_conv): Conv1d(1, 32, kernel_size=(1,), stride=(1,))\n",
      "  (end_conv_1): Conv1d(256, 64, kernel_size=(1,), stride=(1,))\n",
      "  (end_conv_2): Conv1d(64, 10, kernel_size=(1,), stride=(1,))\n",
      "  (end_conv_3): Conv1d(10, 1, kernel_size=(1,), stride=(1,))\n",
      ")\n"
     ]
    }
   ],
   "source": [
    "def CausalConv1d(in_channels, out_channels, kernel_size, dilation=1, **kwargs):\n",
    "    pad = (kernel_size - 1) * dilation\n",
    "    return nn.Conv1d(in_channels, out_channels, kernel_size, padding=pad, dilation=dilation, **kwargs)\n",
    "\n",
    "# def CausalConv1d(in_channels, out_channels, kernel_size, dilation=1, **kwargs): \n",
    "#     ## only pad left (??? pytorch doesn't support)\n",
    "#     pad = (kernel_size - 1) * dilation\n",
    "#     return nn.Conv1d(in_channels, out_channels, kernel_size, padding=(pad,0), dilation=dilation, **kwargs)\n",
    "\n",
    "\n",
    "# tcn & de-tcn model\n",
    "class tmodel(nn.Module): # for model testing, f in, same f out\n",
    "    def __init__(self, device='cuda:0', dropout=0.3, in_dim=1,\n",
    "                residual_channels=32, dilation_channels=32, skip_channels=256,\n",
    "                end_channels=64, kernel_size=2, blocks=4, layers=2):\n",
    "        super(tmodel, self).__init__()\n",
    "        self.dropout = dropout\n",
    "        self.blocks = blocks\n",
    "        self.layers = layers\n",
    "        self.device = device\n",
    "\n",
    "        self.filter_convs = nn.ModuleList()\n",
    "        self.gate_convs = nn.ModuleList()\n",
    "        self.residual_convs = nn.ModuleList()\n",
    "        self.skip_convs = nn.ModuleList()\n",
    "        self.bn = nn.ModuleList()\n",
    "\n",
    "        self.start_conv = nn.Conv1d(in_channels=in_dim,\n",
    "                                    out_channels=residual_channels,\n",
    "                                    kernel_size=1)\n",
    "\n",
    "        receptive_field = 1\n",
    "        multi_factor = 2\n",
    "        for b in range(blocks):\n",
    "            additional_scope = kernel_size - 1\n",
    "            new_dilation = 1\n",
    "            for i in range(layers):\n",
    "                # dilated convolutions\n",
    "                self.filter_convs.append(CausalConv1d(residual_channels, dilation_channels, kernel_size, new_dilation))\n",
    "                self.gate_convs.append(CausalConv1d(residual_channels, dilation_channels, kernel_size, new_dilation))\n",
    "\n",
    "                # 1x1 convolution for residual connection\n",
    "                self.residual_convs.append(nn.Conv1d(in_channels=dilation_channels,out_channels=residual_channels,kernel_size=1))\n",
    "\n",
    "                # 1x1 convolution for skip connection\n",
    "                self.skip_convs.append(nn.Conv1d(in_channels=dilation_channels,out_channels=skip_channels,kernel_size=1))\n",
    "                self.bn.append(nn.BatchNorm1d(residual_channels))\n",
    "\n",
    "                new_dilation *= multi_factor\n",
    "                receptive_field += additional_scope\n",
    "                additional_scope *= multi_factor\n",
    "\n",
    "\n",
    "#         ## temporal transConv (de-tcn)\n",
    "#         convTransK = 2\n",
    "#         convTransD = 1\n",
    "#         upScale = 2\n",
    "\n",
    "#         self.end_module_conv = nn.ModuleList()\n",
    "#         self.end_module_up = nn.ModuleList()\n",
    "#         # for b in range(blocks):\n",
    "#         #     for l in range(layers):\n",
    "#         for i in range(3):\n",
    "#             self.end_module_up.append(nn.Upsample(scale_factor=upScale))\n",
    "#             self.end_module_conv.append(nn.ConvTranspose1d(in_channels=skip_channels, out_channels=residual_channels, \n",
    "#                            kernel_size=convTransK, dilation=convTransD))\n",
    "#         self.end_mlp = nn.Sequential(\n",
    "#             nn.LeakyReLU(),\n",
    "#             nn.Conv1d(in_channels=128, out_channels=16,\n",
    "#                       kernel_size=1, bias=True),\n",
    "#             nn.LeakyReLU(),\n",
    "#             nn.Conv1d(in_channels=16, out_channels=1,\n",
    "#                       kernel_size=1, bias=True)\n",
    "#             )\n",
    "        self.end_conv_1 = nn.Conv1d(skip_channels, end_channels, 1, bias=True)\n",
    "        self.end_conv_2 = nn.Conv1d(end_channels, 10, 1, bias=True)\n",
    "        self.end_conv_3 = nn.Conv1d(10, 1, 1, bias=True)\n",
    "        \n",
    "        self.receptive_field = receptive_field\n",
    "\n",
    "    def forward(self, input, viz=False):\n",
    "        # inputs: [batch_size, 1, in_len]\n",
    "        ### deal with supports\n",
    "        # print(self.receptive_field)\n",
    "#         in_len = input.size(-1)\n",
    "#         if in_len<self.receptive_field:\n",
    "#             x = nn.functional.pad(input,(self.receptive_field-in_len,0))\n",
    "#         else:\n",
    "#             x = input\n",
    "        x = input\n",
    "        x = self.start_conv(x)\n",
    "\n",
    "        if viz: # x.shape [16, 32, 15]\n",
    "            ### plot features on different channels representing the same node fmri signal\n",
    "            for j in range(x.shape[1]):\n",
    "                plt.plot(x.detach().cpu().numpy()[0,j,:])\n",
    "            plt.show()\n",
    "\n",
    "        skip = 0\n",
    "\n",
    "        # WaveNet layers\n",
    "        for i in range(self.blocks * self.layers):\n",
    "            # print(i, x.shape)\n",
    "            #            |----------------------------------------|     *residual*\n",
    "            #            |                                        |\n",
    "            #            |    |-- conv -- tanh --|                |\n",
    "            # -> dilate -|----|                  * ----|-- 1x1 -- + --> *input*\n",
    "            #                 |-- conv -- sigm --|     |\n",
    "            #                                         1x1\n",
    "            #                                          |\n",
    "            # ---------------------------------------> + -------------> *skip*\n",
    "\n",
    "            #(dilation, init_dilation) = self.dilations[i]\n",
    "\n",
    "            #residual = dilation_func(x, dilation, init_dilation, i)\n",
    "            residual = x #[batch_size, residual_dim, 80, 16]\n",
    "\n",
    "            # dilated convolution\n",
    "            filter = self.filter_convs[i](residual)\n",
    "            filter = torch.tanh(filter[:, :, :-self.filter_convs[i].padding[0]])\n",
    "            gate = self.gate_convs[i](residual)\n",
    "            gate = torch.sigmoid(gate[:, :, :-self.gate_convs[i].padding[0]])\n",
    "            x = filter * gate\n",
    "#             print(x.shape)\n",
    "            if i % self.layers == self.layers-1:\n",
    "                x = F.max_pool1d(x,2)\n",
    "            # parametrized skip connection\n",
    "            s = x\n",
    "            s = self.skip_convs[i](s)\n",
    "            try:\n",
    "                if s.size(-1)*2 == skip.size(-1):\n",
    "                    skip = F.max_pool1d(skip,2)\n",
    "                else:\n",
    "                    skip = skip[:, :,  -s.size(-1):]\n",
    "            except:\n",
    "                skip = 0\n",
    "            skip = s + skip\n",
    "            \n",
    "            x = self.residual_convs[i](x)\n",
    "            \n",
    "#             print(residual.shape, x.shape)\n",
    "            x = x + residual[:, :, -x.size(-1):]\n",
    "            # x = torch.cat([x, residual[:, :, :, -x.size(3):], t_rep], axis=1)\n",
    "            x = self.bn[i](x) # comment off for overfitting\n",
    "            \n",
    "        # del residual, x\n",
    "        # skip: [batch_size, hidden_dim, num_nodes, 1]\n",
    "\n",
    "        # ### test: adding noise to hidden rep\n",
    "        # skip = skip + torch.normal(torch.zeros_like(skip), 0.1*skip.std()*torch.ones_like(skip))\n",
    "        # ###\n",
    "        # x = self.end_module(skip)\n",
    "        # if viz: # x.shape [16, 512, 200, 1]\n",
    "        #     # (results look similar) each node's h-D (h being #hidden dim) feature\n",
    "        #     for j in range(10):\n",
    "        #         plt.plot(x.detach().cpu().numpy()[0,:,j,0])\n",
    "        #     plt.show()\n",
    "        #     # plot each channel's value (on all nodes)\n",
    "        #     for j in range(10): \n",
    "        #         plt.plot(x.detach().cpu().numpy()[0,j,:,0])\n",
    "        #     plt.show()\n",
    "        \n",
    "        x = F.relu(skip)\n",
    "        x = F.relu(self.end_conv_1(x))\n",
    "#         x = self.end_conv_2(x).transpose(1,2)\n",
    "        \n",
    "        # output a single value\n",
    "        x = F.relu(self.end_conv_2(x))   \n",
    "        x = self.end_conv_3(x)\n",
    "        \n",
    "#         for i in range(3):#range(self.blocks * self.layers):       \n",
    "#             x = self.end_module_up[i](x)\n",
    "#             x = F.relu(self.end_module_conv[i](x))\n",
    "        \n",
    "#         x = self.end_mlp(x)\n",
    "#         # x = self.end_mlp_f(x.transpose(1,3))\n",
    "        return x\n",
    "\n",
    "model = tmodel(blocks=3, layers=2).to(device)\n",
    "print(model)\n",
    "model_name = \"garage/exp_t_pred1step_mse.pth\" # for loading pretrained model and saving trained ones"
   ]
  },
  {
   "cell_type": "code",
   "execution_count": 35,
   "metadata": {},
   "outputs": [],
   "source": [
    "# load pretrained model\n",
    "if os.path.isfile(model_name):\n",
    "    # finetune\n",
    "    pretrained_dict = torch.load(model_name)\n",
    "    model_dict = model.state_dict()\n",
    "    pretrained_dict = {k: v for k, v in pretrained_dict.items() if k in model_dict}\n",
    "    model_dict.update(pretrained_dict) \n",
    "    model.load_state_dict(model_dict)"
   ]
  },
  {
   "cell_type": "code",
   "execution_count": 64,
   "metadata": {},
   "outputs": [
    {
     "name": "stderr",
     "output_type": "stream",
     "text": [
      "  5%|▍         | 6/128 [00:00<00:02, 49.60it/s]"
     ]
    },
    {
     "name": "stdout",
     "output_type": "stream",
     "text": [
      "8198 1757 1757\n"
     ]
    },
    {
     "name": "stderr",
     "output_type": "stream",
     "text": [
      "100%|██████████| 128/128 [00:02<00:00, 49.27it/s]\n",
      "  5%|▍         | 6/128 [00:00<00:02, 50.27it/s]"
     ]
    },
    {
     "name": "stdout",
     "output_type": "stream",
     "text": [
      "epoch 0 train loss 0.22259659043629654\n",
      "val loss 0.04391806200146675 mape 7.534990310668945\n"
     ]
    },
    {
     "name": "stderr",
     "output_type": "stream",
     "text": [
      "100%|██████████| 128/128 [00:02<00:00, 49.30it/s]\n",
      "  4%|▍         | 5/128 [00:00<00:02, 48.14it/s]"
     ]
    },
    {
     "name": "stdout",
     "output_type": "stream",
     "text": [
      "epoch 1 train loss 0.041992416634457186\n",
      "val loss 0.03197725489735603 mape 6.64809513092041\n"
     ]
    },
    {
     "name": "stderr",
     "output_type": "stream",
     "text": [
      "100%|██████████| 128/128 [00:02<00:00, 49.31it/s]\n",
      "  4%|▍         | 5/128 [00:00<00:02, 48.99it/s]"
     ]
    },
    {
     "name": "stdout",
     "output_type": "stream",
     "text": [
      "epoch 2 train loss 0.027899412016267888\n",
      "val loss 0.01817246899008751 mape 4.093479633331299\n"
     ]
    },
    {
     "name": "stderr",
     "output_type": "stream",
     "text": [
      "100%|██████████| 128/128 [00:02<00:00, 49.75it/s]\n",
      "  4%|▍         | 5/128 [00:00<00:02, 48.75it/s]"
     ]
    },
    {
     "name": "stdout",
     "output_type": "stream",
     "text": [
      "epoch 3 train loss 0.021881205124373082\n",
      "val loss 0.01716831512749195 mape 5.953685283660889\n"
     ]
    },
    {
     "name": "stderr",
     "output_type": "stream",
     "text": [
      "100%|██████████| 128/128 [00:02<00:00, 49.62it/s]\n",
      "  4%|▍         | 5/128 [00:00<00:02, 49.81it/s]"
     ]
    },
    {
     "name": "stdout",
     "output_type": "stream",
     "text": [
      "epoch 4 train loss 0.016371133770007873\n",
      "val loss 0.010182141326367855 mape 4.6591315269470215\n"
     ]
    },
    {
     "name": "stderr",
     "output_type": "stream",
     "text": [
      "100%|██████████| 128/128 [00:02<00:00, 49.47it/s]\n",
      "  5%|▍         | 6/128 [00:00<00:02, 50.12it/s]"
     ]
    },
    {
     "name": "stdout",
     "output_type": "stream",
     "text": [
      "epoch 5 train loss 0.01627849612850696\n",
      "val loss 0.008619369938969612 mape 4.580525875091553\n"
     ]
    },
    {
     "name": "stderr",
     "output_type": "stream",
     "text": [
      "100%|██████████| 128/128 [00:02<00:00, 49.72it/s]\n",
      "  5%|▍         | 6/128 [00:00<00:02, 49.86it/s]"
     ]
    },
    {
     "name": "stdout",
     "output_type": "stream",
     "text": [
      "epoch 6 train loss 0.014232159624953056\n",
      "val loss 0.007140600122511387 mape 4.816939830780029\n"
     ]
    },
    {
     "name": "stderr",
     "output_type": "stream",
     "text": [
      "100%|██████████| 128/128 [00:02<00:00, 49.52it/s]\n",
      "  5%|▍         | 6/128 [00:00<00:02, 50.69it/s]"
     ]
    },
    {
     "name": "stdout",
     "output_type": "stream",
     "text": [
      "epoch 7 train loss 0.013881553284591064\n",
      "val loss 0.014766297303140163 mape 3.3789565563201904\n"
     ]
    },
    {
     "name": "stderr",
     "output_type": "stream",
     "text": [
      "100%|██████████| 128/128 [00:02<00:00, 49.57it/s]\n",
      "  4%|▍         | 5/128 [00:00<00:02, 49.80it/s]"
     ]
    },
    {
     "name": "stdout",
     "output_type": "stream",
     "text": [
      "epoch 8 train loss 0.013443953863315983\n",
      "val loss 0.0072923991829156876 mape 4.677306652069092\n"
     ]
    },
    {
     "name": "stderr",
     "output_type": "stream",
     "text": [
      "100%|██████████| 128/128 [00:02<00:00, 49.74it/s]\n",
      "  5%|▍         | 6/128 [00:00<00:02, 50.82it/s]"
     ]
    },
    {
     "name": "stdout",
     "output_type": "stream",
     "text": [
      "epoch 9 train loss 0.012843986833104282\n",
      "val loss 0.008129803463816643 mape 3.937753915786743\n"
     ]
    },
    {
     "name": "stderr",
     "output_type": "stream",
     "text": [
      "100%|██████████| 128/128 [00:02<00:00, 49.72it/s]\n",
      "  4%|▍         | 5/128 [00:00<00:02, 49.16it/s]"
     ]
    },
    {
     "name": "stdout",
     "output_type": "stream",
     "text": [
      "epoch 10 train loss 0.014039375600987114\n",
      "val loss 0.0074213058687746525 mape 4.931251049041748\n"
     ]
    },
    {
     "name": "stderr",
     "output_type": "stream",
     "text": [
      "100%|██████████| 128/128 [00:02<00:00, 49.64it/s]\n",
      "  4%|▍         | 5/128 [00:00<00:02, 49.55it/s]"
     ]
    },
    {
     "name": "stdout",
     "output_type": "stream",
     "text": [
      "epoch 11 train loss 0.011305797925160732\n",
      "val loss 0.007039832882583141 mape 5.037226676940918\n"
     ]
    },
    {
     "name": "stderr",
     "output_type": "stream",
     "text": [
      "100%|██████████| 128/128 [00:02<00:00, 49.63it/s]\n",
      "  4%|▍         | 5/128 [00:00<00:02, 49.26it/s]"
     ]
    },
    {
     "name": "stdout",
     "output_type": "stream",
     "text": [
      "epoch 12 train loss 0.010589383149635978\n",
      "val loss 0.007153629790991545 mape 4.658494472503662\n"
     ]
    },
    {
     "name": "stderr",
     "output_type": "stream",
     "text": [
      "100%|██████████| 128/128 [00:02<00:00, 49.31it/s]\n",
      "  4%|▍         | 5/128 [00:00<00:02, 49.48it/s]"
     ]
    },
    {
     "name": "stdout",
     "output_type": "stream",
     "text": [
      "epoch 13 train loss 0.011031146897948929\n",
      "val loss 0.005043155513703823 mape 4.946445465087891\n"
     ]
    },
    {
     "name": "stderr",
     "output_type": "stream",
     "text": [
      "100%|██████████| 128/128 [00:02<00:00, 48.96it/s]\n",
      "  5%|▍         | 6/128 [00:00<00:02, 54.21it/s]"
     ]
    },
    {
     "name": "stdout",
     "output_type": "stream",
     "text": [
      "epoch 14 train loss 0.009860182944976259\n",
      "val loss 0.005587471183389425 mape 4.757388114929199\n"
     ]
    },
    {
     "name": "stderr",
     "output_type": "stream",
     "text": [
      "100%|██████████| 128/128 [00:02<00:00, 55.23it/s]\n",
      "  5%|▍         | 6/128 [00:00<00:02, 56.21it/s]"
     ]
    },
    {
     "name": "stdout",
     "output_type": "stream",
     "text": [
      "epoch 15 train loss 0.012000392947811633\n",
      "val loss 0.0058127338998019695 mape 4.267998695373535\n"
     ]
    },
    {
     "name": "stderr",
     "output_type": "stream",
     "text": [
      "100%|██████████| 128/128 [00:02<00:00, 53.82it/s]\n",
      "  4%|▍         | 5/128 [00:00<00:02, 49.76it/s]"
     ]
    },
    {
     "name": "stdout",
     "output_type": "stream",
     "text": [
      "epoch 16 train loss 0.010650267913661082\n",
      "val loss 0.00826287642121315 mape 4.1656999588012695\n"
     ]
    },
    {
     "name": "stderr",
     "output_type": "stream",
     "text": [
      "100%|██████████| 128/128 [00:02<00:00, 49.59it/s]\n",
      "  4%|▍         | 5/128 [00:00<00:02, 49.49it/s]"
     ]
    },
    {
     "name": "stdout",
     "output_type": "stream",
     "text": [
      "epoch 17 train loss 0.011265075718256412\n",
      "val loss 0.006149358116090298 mape 5.193233013153076\n"
     ]
    },
    {
     "name": "stderr",
     "output_type": "stream",
     "text": [
      "100%|██████████| 128/128 [00:02<00:00, 49.85it/s]\n",
      "  4%|▍         | 5/128 [00:00<00:02, 49.52it/s]"
     ]
    },
    {
     "name": "stdout",
     "output_type": "stream",
     "text": [
      "epoch 18 train loss 0.010627121206198353\n",
      "val loss 0.0056149461306631565 mape 4.466933250427246\n"
     ]
    },
    {
     "name": "stderr",
     "output_type": "stream",
     "text": [
      "100%|██████████| 128/128 [00:02<00:00, 49.63it/s]\n",
      "  5%|▍         | 6/128 [00:00<00:02, 50.83it/s]"
     ]
    },
    {
     "name": "stdout",
     "output_type": "stream",
     "text": [
      "epoch 19 train loss 0.010555586792179383\n",
      "val loss 0.006327349692583084 mape 4.413854598999023\n"
     ]
    },
    {
     "name": "stderr",
     "output_type": "stream",
     "text": [
      "100%|██████████| 128/128 [00:02<00:00, 49.59it/s]\n",
      "  4%|▍         | 5/128 [00:00<00:02, 49.63it/s]"
     ]
    },
    {
     "name": "stdout",
     "output_type": "stream",
     "text": [
      "epoch 20 train loss 0.010219798943580827\n",
      "val loss 0.005171660799533129 mape 5.118776798248291\n"
     ]
    },
    {
     "name": "stderr",
     "output_type": "stream",
     "text": [
      "100%|██████████| 128/128 [00:02<00:00, 49.53it/s]\n",
      "  5%|▍         | 6/128 [00:00<00:02, 51.37it/s]"
     ]
    },
    {
     "name": "stdout",
     "output_type": "stream",
     "text": [
      "epoch 21 train loss 0.01191484511764429\n",
      "val loss 0.005994326435029507 mape 5.113585948944092\n"
     ]
    },
    {
     "name": "stderr",
     "output_type": "stream",
     "text": [
      "100%|██████████| 128/128 [00:02<00:00, 49.47it/s]\n",
      "  4%|▍         | 5/128 [00:00<00:02, 49.51it/s]"
     ]
    },
    {
     "name": "stdout",
     "output_type": "stream",
     "text": [
      "epoch 22 train loss 0.010966369685775135\n",
      "val loss 0.007009940221905708 mape 5.352634429931641\n"
     ]
    },
    {
     "name": "stderr",
     "output_type": "stream",
     "text": [
      "100%|██████████| 128/128 [00:02<00:00, 49.51it/s]\n",
      "  5%|▍         | 6/128 [00:00<00:02, 49.16it/s]"
     ]
    },
    {
     "name": "stdout",
     "output_type": "stream",
     "text": [
      "epoch 23 train loss 0.010021367634180933\n",
      "val loss 0.006575817242264748 mape 5.414079189300537\n"
     ]
    },
    {
     "name": "stderr",
     "output_type": "stream",
     "text": [
      "100%|██████████| 128/128 [00:02<00:00, 49.70it/s]\n",
      "  4%|▍         | 5/128 [00:00<00:02, 49.44it/s]"
     ]
    },
    {
     "name": "stdout",
     "output_type": "stream",
     "text": [
      "epoch 24 train loss 0.010445650712426868\n",
      "val loss 0.005762544926255941 mape 5.0746026039123535\n"
     ]
    },
    {
     "name": "stderr",
     "output_type": "stream",
     "text": [
      "100%|██████████| 128/128 [00:02<00:00, 49.43it/s]\n",
      "  4%|▍         | 5/128 [00:00<00:02, 49.66it/s]"
     ]
    },
    {
     "name": "stdout",
     "output_type": "stream",
     "text": [
      "epoch 25 train loss 0.00928150795516558\n",
      "val loss 0.004737893119454384 mape 4.9003753662109375\n"
     ]
    },
    {
     "name": "stderr",
     "output_type": "stream",
     "text": [
      "100%|██████████| 128/128 [00:02<00:00, 49.25it/s]\n",
      "  5%|▍         | 6/128 [00:00<00:02, 50.09it/s]"
     ]
    },
    {
     "name": "stdout",
     "output_type": "stream",
     "text": [
      "epoch 26 train loss 0.009697544379378087\n",
      "val loss 0.0064581227488815784 mape 5.455648899078369\n"
     ]
    },
    {
     "name": "stderr",
     "output_type": "stream",
     "text": [
      "100%|██████████| 128/128 [00:02<00:00, 49.31it/s]\n",
      "  4%|▍         | 5/128 [00:00<00:02, 48.79it/s]"
     ]
    },
    {
     "name": "stdout",
     "output_type": "stream",
     "text": [
      "epoch 27 train loss 0.010146362090381444\n",
      "val loss 0.0043869526125490665 mape 4.899801731109619\n"
     ]
    },
    {
     "name": "stderr",
     "output_type": "stream",
     "text": [
      "100%|██████████| 128/128 [00:02<00:00, 49.63it/s]\n",
      "  5%|▍         | 6/128 [00:00<00:02, 49.60it/s]"
     ]
    },
    {
     "name": "stdout",
     "output_type": "stream",
     "text": [
      "epoch 28 train loss 0.009286797374443267\n",
      "val loss 0.005490932613611221 mape 5.024382591247559\n"
     ]
    },
    {
     "name": "stderr",
     "output_type": "stream",
     "text": [
      "100%|██████████| 128/128 [00:02<00:00, 49.71it/s]\n",
      "  5%|▍         | 6/128 [00:00<00:02, 50.05it/s]"
     ]
    },
    {
     "name": "stdout",
     "output_type": "stream",
     "text": [
      "epoch 29 train loss 0.00937368392260396\n",
      "val loss 0.005687906872481108 mape 4.983907222747803\n"
     ]
    },
    {
     "name": "stderr",
     "output_type": "stream",
     "text": [
      "100%|██████████| 128/128 [00:02<00:00, 49.62it/s]\n",
      "  4%|▍         | 5/128 [00:00<00:02, 49.55it/s]"
     ]
    },
    {
     "name": "stdout",
     "output_type": "stream",
     "text": [
      "epoch 30 train loss 0.010002247803640785\n",
      "val loss 0.005881078541278839 mape 5.425955772399902\n"
     ]
    },
    {
     "name": "stderr",
     "output_type": "stream",
     "text": [
      "100%|██████████| 128/128 [00:02<00:00, 49.50it/s]\n",
      "  5%|▍         | 6/128 [00:00<00:02, 49.58it/s]"
     ]
    },
    {
     "name": "stdout",
     "output_type": "stream",
     "text": [
      "epoch 31 train loss 0.010158166311157402\n",
      "val loss 0.004332526121288538 mape 4.8582587242126465\n"
     ]
    },
    {
     "name": "stderr",
     "output_type": "stream",
     "text": [
      "100%|██████████| 128/128 [00:02<00:00, 49.51it/s]\n",
      "  5%|▍         | 6/128 [00:00<00:02, 50.16it/s]"
     ]
    },
    {
     "name": "stdout",
     "output_type": "stream",
     "text": [
      "epoch 32 train loss 0.009592694557795767\n",
      "val loss 0.004403977654874325 mape 5.065683364868164\n"
     ]
    },
    {
     "name": "stderr",
     "output_type": "stream",
     "text": [
      "100%|██████████| 128/128 [00:02<00:00, 49.33it/s]\n",
      "  4%|▍         | 5/128 [00:00<00:02, 49.77it/s]"
     ]
    },
    {
     "name": "stdout",
     "output_type": "stream",
     "text": [
      "epoch 33 train loss 0.010248076210700674\n",
      "val loss 0.004201386123895645 mape 4.807467937469482\n"
     ]
    },
    {
     "name": "stderr",
     "output_type": "stream",
     "text": [
      "100%|██████████| 128/128 [00:02<00:00, 49.68it/s]\n",
      "  5%|▍         | 6/128 [00:00<00:02, 50.72it/s]"
     ]
    },
    {
     "name": "stdout",
     "output_type": "stream",
     "text": [
      "epoch 34 train loss 0.008936814259868697\n",
      "val loss 0.006171434186398983 mape 4.711996555328369\n"
     ]
    },
    {
     "name": "stderr",
     "output_type": "stream",
     "text": [
      "100%|██████████| 128/128 [00:02<00:00, 49.57it/s]\n",
      "  4%|▍         | 5/128 [00:00<00:02, 49.58it/s]"
     ]
    },
    {
     "name": "stdout",
     "output_type": "stream",
     "text": [
      "epoch 35 train loss 0.011336287108861143\n",
      "val loss 0.010971466079354286 mape 4.710881233215332\n"
     ]
    },
    {
     "name": "stderr",
     "output_type": "stream",
     "text": [
      "100%|██████████| 128/128 [00:02<00:00, 49.64it/s]\n",
      "  4%|▍         | 5/128 [00:00<00:02, 48.26it/s]"
     ]
    },
    {
     "name": "stdout",
     "output_type": "stream",
     "text": [
      "epoch 36 train loss 0.010599030929370201\n",
      "val loss 0.008239194750785828 mape 5.463886737823486\n"
     ]
    },
    {
     "name": "stderr",
     "output_type": "stream",
     "text": [
      "100%|██████████| 128/128 [00:02<00:00, 49.22it/s]\n",
      "  4%|▍         | 5/128 [00:00<00:02, 49.18it/s]"
     ]
    },
    {
     "name": "stdout",
     "output_type": "stream",
     "text": [
      "epoch 37 train loss 0.007689278232646757\n",
      "val loss 0.005208185408264399 mape 5.006814956665039\n"
     ]
    },
    {
     "name": "stderr",
     "output_type": "stream",
     "text": [
      "100%|██████████| 128/128 [00:02<00:00, 49.52it/s]\n",
      "  4%|▍         | 5/128 [00:00<00:02, 49.73it/s]"
     ]
    },
    {
     "name": "stdout",
     "output_type": "stream",
     "text": [
      "epoch 38 train loss 0.009541433764752583\n",
      "val loss 0.004683228675276041 mape 5.169960975646973\n"
     ]
    },
    {
     "name": "stderr",
     "output_type": "stream",
     "text": [
      "100%|██████████| 128/128 [00:02<00:00, 49.52it/s]\n",
      "  4%|▍         | 5/128 [00:00<00:02, 49.24it/s]"
     ]
    },
    {
     "name": "stdout",
     "output_type": "stream",
     "text": [
      "epoch 39 train loss 0.010807426595420111\n",
      "val loss 0.006099741905927658 mape 5.138073921203613\n"
     ]
    },
    {
     "name": "stderr",
     "output_type": "stream",
     "text": [
      "100%|██████████| 128/128 [00:02<00:00, 49.89it/s]\n",
      "  5%|▍         | 6/128 [00:00<00:02, 50.70it/s]"
     ]
    },
    {
     "name": "stdout",
     "output_type": "stream",
     "text": [
      "epoch 40 train loss 0.008999922762086499\n",
      "val loss 0.005184308160096407 mape 5.221658706665039\n"
     ]
    },
    {
     "name": "stderr",
     "output_type": "stream",
     "text": [
      "100%|██████████| 128/128 [00:02<00:00, 49.51it/s]\n",
      "  5%|▍         | 6/128 [00:00<00:02, 52.66it/s]"
     ]
    },
    {
     "name": "stdout",
     "output_type": "stream",
     "text": [
      "epoch 41 train loss 0.009125825266892207\n",
      "val loss 0.0043397932313382626 mape 4.9923858642578125\n"
     ]
    },
    {
     "name": "stderr",
     "output_type": "stream",
     "text": [
      "100%|██████████| 128/128 [00:02<00:00, 49.57it/s]\n",
      "  4%|▍         | 5/128 [00:00<00:02, 49.19it/s]"
     ]
    },
    {
     "name": "stdout",
     "output_type": "stream",
     "text": [
      "epoch 42 train loss 0.010283176643497427\n",
      "val loss 0.008631889708340168 mape 5.3063859939575195\n"
     ]
    },
    {
     "name": "stderr",
     "output_type": "stream",
     "text": [
      "100%|██████████| 128/128 [00:02<00:00, 49.26it/s]\n",
      "  4%|▍         | 5/128 [00:00<00:02, 49.53it/s]"
     ]
    },
    {
     "name": "stdout",
     "output_type": "stream",
     "text": [
      "epoch 43 train loss 0.00947996025570319\n",
      "val loss 0.0054463790729641914 mape 4.566372871398926\n"
     ]
    },
    {
     "name": "stderr",
     "output_type": "stream",
     "text": [
      "100%|██████████| 128/128 [00:02<00:00, 49.58it/s]\n",
      "  5%|▍         | 6/128 [00:00<00:02, 49.53it/s]"
     ]
    },
    {
     "name": "stdout",
     "output_type": "stream",
     "text": [
      "epoch 44 train loss 0.01042522989337158\n",
      "val loss 0.005246768705546856 mape 4.804112911224365\n"
     ]
    },
    {
     "name": "stderr",
     "output_type": "stream",
     "text": [
      "100%|██████████| 128/128 [00:02<00:00, 49.82it/s]\n",
      "  5%|▍         | 6/128 [00:00<00:02, 51.19it/s]"
     ]
    },
    {
     "name": "stdout",
     "output_type": "stream",
     "text": [
      "epoch 45 train loss 0.008326841776579386\n",
      "val loss 0.005049684550613165 mape 4.747466564178467\n"
     ]
    },
    {
     "name": "stderr",
     "output_type": "stream",
     "text": [
      "100%|██████████| 128/128 [00:02<00:00, 49.78it/s]\n",
      "  5%|▍         | 6/128 [00:00<00:02, 50.19it/s]"
     ]
    },
    {
     "name": "stdout",
     "output_type": "stream",
     "text": [
      "epoch 46 train loss 0.00928499772453506\n",
      "val loss 0.007287554442882538 mape 5.4042792320251465\n"
     ]
    },
    {
     "name": "stderr",
     "output_type": "stream",
     "text": [
      "100%|██████████| 128/128 [00:02<00:00, 49.51it/s]\n",
      "  5%|▍         | 6/128 [00:00<00:02, 49.82it/s]"
     ]
    },
    {
     "name": "stdout",
     "output_type": "stream",
     "text": [
      "epoch 47 train loss 0.011171622736583231\n",
      "val loss 0.003602782730013132 mape 4.813232898712158\n"
     ]
    },
    {
     "name": "stderr",
     "output_type": "stream",
     "text": [
      "100%|██████████| 128/128 [00:02<00:00, 49.47it/s]\n",
      "  4%|▍         | 5/128 [00:00<00:02, 49.43it/s]"
     ]
    },
    {
     "name": "stdout",
     "output_type": "stream",
     "text": [
      "epoch 48 train loss 0.011199552845937433\n",
      "val loss 0.004278054926544428 mape 4.63306999206543\n"
     ]
    },
    {
     "name": "stderr",
     "output_type": "stream",
     "text": [
      "100%|██████████| 128/128 [00:02<00:00, 49.40it/s]\n",
      "  5%|▍         | 6/128 [00:00<00:02, 49.68it/s]"
     ]
    },
    {
     "name": "stdout",
     "output_type": "stream",
     "text": [
      "epoch 49 train loss 0.009975180721085053\n",
      "val loss 0.0046181632205843925 mape 4.656810760498047\n"
     ]
    },
    {
     "name": "stderr",
     "output_type": "stream",
     "text": [
      "100%|██████████| 128/128 [00:02<00:00, 49.50it/s]\n",
      "  4%|▍         | 5/128 [00:00<00:02, 49.73it/s]"
     ]
    },
    {
     "name": "stdout",
     "output_type": "stream",
     "text": [
      "epoch 50 train loss 0.008095405055428273\n",
      "val loss 0.004230717197060585 mape 4.86588716506958\n"
     ]
    },
    {
     "name": "stderr",
     "output_type": "stream",
     "text": [
      "100%|██████████| 128/128 [00:02<00:00, 49.29it/s]\n",
      "  4%|▍         | 5/128 [00:00<00:02, 49.32it/s]"
     ]
    },
    {
     "name": "stdout",
     "output_type": "stream",
     "text": [
      "epoch 51 train loss 0.008845562299029552\n",
      "val loss 0.006150293629616499 mape 5.592247009277344\n"
     ]
    },
    {
     "name": "stderr",
     "output_type": "stream",
     "text": [
      "100%|██████████| 128/128 [00:02<00:00, 49.50it/s]\n",
      "  5%|▍         | 6/128 [00:00<00:02, 49.52it/s]"
     ]
    },
    {
     "name": "stdout",
     "output_type": "stream",
     "text": [
      "epoch 52 train loss 0.009767128218300059\n",
      "val loss 0.0036943925078958273 mape 4.635222434997559\n"
     ]
    },
    {
     "name": "stderr",
     "output_type": "stream",
     "text": [
      "100%|██████████| 128/128 [00:02<00:00, 49.42it/s]\n",
      "  4%|▍         | 5/128 [00:00<00:02, 49.84it/s]"
     ]
    },
    {
     "name": "stdout",
     "output_type": "stream",
     "text": [
      "epoch 53 train loss 0.009589783407136565\n",
      "val loss 0.0048336489126086235 mape 5.445685863494873\n"
     ]
    },
    {
     "name": "stderr",
     "output_type": "stream",
     "text": [
      "100%|██████████| 128/128 [00:02<00:00, 49.50it/s]\n",
      "  5%|▍         | 6/128 [00:00<00:02, 51.25it/s]"
     ]
    },
    {
     "name": "stdout",
     "output_type": "stream",
     "text": [
      "epoch 54 train loss 0.008151387779435026\n",
      "val loss 0.004977753851562738 mape 5.478482246398926\n"
     ]
    },
    {
     "name": "stderr",
     "output_type": "stream",
     "text": [
      "100%|██████████| 128/128 [00:02<00:00, 49.59it/s]\n",
      "  4%|▍         | 5/128 [00:00<00:02, 49.83it/s]"
     ]
    },
    {
     "name": "stdout",
     "output_type": "stream",
     "text": [
      "epoch 55 train loss 0.009534669212371227\n",
      "val loss 0.0035633668303489685 mape 4.626506328582764\n"
     ]
    },
    {
     "name": "stderr",
     "output_type": "stream",
     "text": [
      "100%|██████████| 128/128 [00:02<00:00, 49.60it/s]\n",
      "  4%|▍         | 5/128 [00:00<00:02, 49.38it/s]"
     ]
    },
    {
     "name": "stdout",
     "output_type": "stream",
     "text": [
      "epoch 56 train loss 0.007456095390807604\n",
      "val loss 0.0066184778697788715 mape 4.227992534637451\n"
     ]
    },
    {
     "name": "stderr",
     "output_type": "stream",
     "text": [
      "100%|██████████| 128/128 [00:02<00:00, 49.51it/s]\n",
      "  4%|▍         | 5/128 [00:00<00:02, 49.51it/s]"
     ]
    },
    {
     "name": "stdout",
     "output_type": "stream",
     "text": [
      "epoch 57 train loss 0.008218127844884293\n",
      "val loss 0.006061417516320944 mape 4.524800777435303\n"
     ]
    },
    {
     "name": "stderr",
     "output_type": "stream",
     "text": [
      "100%|██████████| 128/128 [00:02<00:00, 49.06it/s]\n",
      "  5%|▍         | 6/128 [00:00<00:02, 51.64it/s]"
     ]
    },
    {
     "name": "stdout",
     "output_type": "stream",
     "text": [
      "epoch 58 train loss 0.00833297547615075\n",
      "val loss 0.002971628215163946 mape 5.016247272491455\n"
     ]
    },
    {
     "name": "stderr",
     "output_type": "stream",
     "text": [
      "100%|██████████| 128/128 [00:02<00:00, 49.79it/s]\n",
      "  5%|▍         | 6/128 [00:00<00:02, 49.29it/s]"
     ]
    },
    {
     "name": "stdout",
     "output_type": "stream",
     "text": [
      "epoch 59 train loss 0.009831875964664505\n",
      "val loss 0.017539769411087036 mape 6.048661231994629\n"
     ]
    },
    {
     "name": "stderr",
     "output_type": "stream",
     "text": [
      "100%|██████████| 128/128 [00:02<00:00, 49.73it/s]\n",
      "  4%|▍         | 5/128 [00:00<00:02, 49.69it/s]"
     ]
    },
    {
     "name": "stdout",
     "output_type": "stream",
     "text": [
      "epoch 60 train loss 0.008629292953628465\n",
      "val loss 0.0034182672388851643 mape 4.7292160987854\n"
     ]
    },
    {
     "name": "stderr",
     "output_type": "stream",
     "text": [
      "100%|██████████| 128/128 [00:02<00:00, 49.31it/s]\n",
      "  5%|▍         | 6/128 [00:00<00:02, 51.63it/s]"
     ]
    },
    {
     "name": "stdout",
     "output_type": "stream",
     "text": [
      "epoch 61 train loss 0.008696700897417031\n",
      "val loss 0.005682718940079212 mape 5.169699668884277\n"
     ]
    },
    {
     "name": "stderr",
     "output_type": "stream",
     "text": [
      "100%|██████████| 128/128 [00:02<00:00, 49.39it/s]\n",
      "  4%|▍         | 5/128 [00:00<00:02, 47.97it/s]"
     ]
    },
    {
     "name": "stdout",
     "output_type": "stream",
     "text": [
      "epoch 62 train loss 0.009031895069711027\n",
      "val loss 0.0032960318494588137 mape 4.8423171043396\n"
     ]
    },
    {
     "name": "stderr",
     "output_type": "stream",
     "text": [
      "100%|██████████| 128/128 [00:02<00:00, 49.64it/s]\n",
      "  5%|▍         | 6/128 [00:00<00:02, 49.83it/s]"
     ]
    },
    {
     "name": "stdout",
     "output_type": "stream",
     "text": [
      "epoch 63 train loss 0.008903808974537242\n",
      "val loss 0.007416675332933664 mape 5.173717498779297\n"
     ]
    },
    {
     "name": "stderr",
     "output_type": "stream",
     "text": [
      "100%|██████████| 128/128 [00:02<00:00, 49.38it/s]\n",
      "  5%|▍         | 6/128 [00:00<00:02, 50.68it/s]"
     ]
    },
    {
     "name": "stdout",
     "output_type": "stream",
     "text": [
      "epoch 64 train loss 0.008198905306926463\n",
      "val loss 0.003646453144028783 mape 4.993167877197266\n"
     ]
    },
    {
     "name": "stderr",
     "output_type": "stream",
     "text": [
      "100%|██████████| 128/128 [00:02<00:00, 49.22it/s]\n",
      "  4%|▍         | 5/128 [00:00<00:02, 49.32it/s]"
     ]
    },
    {
     "name": "stdout",
     "output_type": "stream",
     "text": [
      "epoch 65 train loss 0.009398055095516611\n",
      "val loss 0.003970996476709843 mape 4.7207231521606445\n"
     ]
    },
    {
     "name": "stderr",
     "output_type": "stream",
     "text": [
      "100%|██████████| 128/128 [00:02<00:00, 49.74it/s]\n",
      "  4%|▍         | 5/128 [00:00<00:02, 49.18it/s]"
     ]
    },
    {
     "name": "stdout",
     "output_type": "stream",
     "text": [
      "epoch 66 train loss 0.009633285916606837\n",
      "val loss 0.004420596174895763 mape 4.876380443572998\n"
     ]
    },
    {
     "name": "stderr",
     "output_type": "stream",
     "text": [
      "100%|██████████| 128/128 [00:02<00:00, 49.77it/s]\n",
      "  5%|▍         | 6/128 [00:00<00:02, 50.29it/s]"
     ]
    },
    {
     "name": "stdout",
     "output_type": "stream",
     "text": [
      "epoch 67 train loss 0.008855673459038371\n",
      "val loss 0.0038785149808973074 mape 4.7387237548828125\n"
     ]
    },
    {
     "name": "stderr",
     "output_type": "stream",
     "text": [
      "100%|██████████| 128/128 [00:02<00:00, 49.59it/s]\n",
      "  4%|▍         | 5/128 [00:00<00:02, 49.86it/s]"
     ]
    },
    {
     "name": "stdout",
     "output_type": "stream",
     "text": [
      "epoch 68 train loss 0.009048630055985996\n",
      "val loss 0.007435838226228952 mape 4.391634464263916\n"
     ]
    },
    {
     "name": "stderr",
     "output_type": "stream",
     "text": [
      "100%|██████████| 128/128 [00:02<00:00, 49.43it/s]\n",
      "  4%|▍         | 5/128 [00:00<00:02, 49.57it/s]"
     ]
    },
    {
     "name": "stdout",
     "output_type": "stream",
     "text": [
      "epoch 69 train loss 0.010221878823358566\n",
      "val loss 0.003403973998501897 mape 5.399103164672852\n"
     ]
    },
    {
     "name": "stderr",
     "output_type": "stream",
     "text": [
      "100%|██████████| 128/128 [00:02<00:00, 49.55it/s]\n",
      "  4%|▍         | 5/128 [00:00<00:02, 49.70it/s]"
     ]
    },
    {
     "name": "stdout",
     "output_type": "stream",
     "text": [
      "epoch 70 train loss 0.008562369215724175\n",
      "val loss 0.0032316010911017656 mape 5.289299011230469\n"
     ]
    },
    {
     "name": "stderr",
     "output_type": "stream",
     "text": [
      "100%|██████████| 128/128 [00:02<00:00, 49.80it/s]\n",
      "  5%|▍         | 6/128 [00:00<00:02, 51.26it/s]"
     ]
    },
    {
     "name": "stdout",
     "output_type": "stream",
     "text": [
      "epoch 71 train loss 0.008297638102703786\n",
      "val loss 0.0032291708048433065 mape 5.027139663696289\n"
     ]
    },
    {
     "name": "stderr",
     "output_type": "stream",
     "text": [
      "100%|██████████| 128/128 [00:02<00:00, 49.43it/s]\n",
      "  4%|▍         | 5/128 [00:00<00:02, 49.64it/s]"
     ]
    },
    {
     "name": "stdout",
     "output_type": "stream",
     "text": [
      "epoch 72 train loss 0.008389682026972878\n",
      "val loss 0.00604998879134655 mape 5.2524638175964355\n"
     ]
    },
    {
     "name": "stderr",
     "output_type": "stream",
     "text": [
      "100%|██████████| 128/128 [00:02<00:00, 49.21it/s]\n",
      "  4%|▍         | 5/128 [00:00<00:02, 49.57it/s]"
     ]
    },
    {
     "name": "stdout",
     "output_type": "stream",
     "text": [
      "epoch 73 train loss 0.008558942306990502\n",
      "val loss 0.003187962109223008 mape 4.846010684967041\n"
     ]
    },
    {
     "name": "stderr",
     "output_type": "stream",
     "text": [
      "100%|██████████| 128/128 [00:02<00:00, 49.73it/s]\n",
      "  5%|▍         | 6/128 [00:00<00:02, 50.61it/s]"
     ]
    },
    {
     "name": "stdout",
     "output_type": "stream",
     "text": [
      "epoch 74 train loss 0.00827524726446427\n",
      "val loss 0.004525281488895416 mape 5.411473751068115\n"
     ]
    },
    {
     "name": "stderr",
     "output_type": "stream",
     "text": [
      "100%|██████████| 128/128 [00:02<00:00, 49.73it/s]\n",
      "  5%|▍         | 6/128 [00:00<00:02, 50.10it/s]"
     ]
    },
    {
     "name": "stdout",
     "output_type": "stream",
     "text": [
      "epoch 75 train loss 0.008693964846315794\n",
      "val loss 0.0037135560996830463 mape 5.391366481781006\n"
     ]
    },
    {
     "name": "stderr",
     "output_type": "stream",
     "text": [
      "100%|██████████| 128/128 [00:02<00:00, 49.65it/s]\n",
      "  5%|▍         | 6/128 [00:00<00:02, 50.47it/s]"
     ]
    },
    {
     "name": "stdout",
     "output_type": "stream",
     "text": [
      "epoch 76 train loss 0.008880079739356006\n",
      "val loss 0.007394399028271437 mape 4.952581405639648\n"
     ]
    },
    {
     "name": "stderr",
     "output_type": "stream",
     "text": [
      "100%|██████████| 128/128 [00:02<00:00, 49.29it/s]\n",
      "  5%|▍         | 6/128 [00:00<00:02, 52.22it/s]"
     ]
    },
    {
     "name": "stdout",
     "output_type": "stream",
     "text": [
      "epoch 77 train loss 0.008447956452073413\n",
      "val loss 0.0040750931948423386 mape 5.0892438888549805\n"
     ]
    },
    {
     "name": "stderr",
     "output_type": "stream",
     "text": [
      "100%|██████████| 128/128 [00:02<00:00, 49.47it/s]\n",
      "  4%|▍         | 5/128 [00:00<00:02, 49.56it/s]"
     ]
    },
    {
     "name": "stdout",
     "output_type": "stream",
     "text": [
      "epoch 78 train loss 0.00796282542796689\n",
      "val loss 0.004613502416759729 mape 5.3320512771606445\n"
     ]
    },
    {
     "name": "stderr",
     "output_type": "stream",
     "text": [
      "100%|██████████| 128/128 [00:02<00:00, 49.17it/s]\n",
      "  5%|▍         | 6/128 [00:00<00:02, 49.70it/s]"
     ]
    },
    {
     "name": "stdout",
     "output_type": "stream",
     "text": [
      "epoch 79 train loss 0.008472091584735608\n",
      "val loss 0.007394003216177225 mape 4.565946102142334\n"
     ]
    },
    {
     "name": "stderr",
     "output_type": "stream",
     "text": [
      "100%|██████████| 128/128 [00:02<00:00, 49.67it/s]\n",
      "  5%|▍         | 6/128 [00:00<00:02, 51.03it/s]"
     ]
    },
    {
     "name": "stdout",
     "output_type": "stream",
     "text": [
      "epoch 80 train loss 0.00839027469555731\n",
      "val loss 0.006776239722967148 mape 5.066330432891846\n"
     ]
    },
    {
     "name": "stderr",
     "output_type": "stream",
     "text": [
      "100%|██████████| 128/128 [00:02<00:00, 49.29it/s]\n",
      "  4%|▍         | 5/128 [00:00<00:02, 49.30it/s]"
     ]
    },
    {
     "name": "stdout",
     "output_type": "stream",
     "text": [
      "epoch 81 train loss 0.008427135066085611\n",
      "val loss 0.0034702185075730085 mape 5.4706501960754395\n"
     ]
    },
    {
     "name": "stderr",
     "output_type": "stream",
     "text": [
      "100%|██████████| 128/128 [00:02<00:00, 49.27it/s]\n",
      "  5%|▍         | 6/128 [00:00<00:02, 51.11it/s]"
     ]
    },
    {
     "name": "stdout",
     "output_type": "stream",
     "text": [
      "epoch 82 train loss 0.008777704080785043\n",
      "val loss 0.005175233352929354 mape 4.710025787353516\n"
     ]
    },
    {
     "name": "stderr",
     "output_type": "stream",
     "text": [
      "100%|██████████| 128/128 [00:02<00:00, 50.03it/s]\n",
      "  4%|▍         | 5/128 [00:00<00:02, 49.53it/s]"
     ]
    },
    {
     "name": "stdout",
     "output_type": "stream",
     "text": [
      "epoch 83 train loss 0.008323075338921626\n",
      "val loss 0.003001298289746046 mape 5.276359558105469\n"
     ]
    },
    {
     "name": "stderr",
     "output_type": "stream",
     "text": [
      "100%|██████████| 128/128 [00:02<00:00, 49.42it/s]\n",
      "  5%|▍         | 6/128 [00:00<00:02, 50.23it/s]"
     ]
    },
    {
     "name": "stdout",
     "output_type": "stream",
     "text": [
      "epoch 84 train loss 0.009437232209165813\n",
      "val loss 0.0036141297314316034 mape 4.832533359527588\n"
     ]
    },
    {
     "name": "stderr",
     "output_type": "stream",
     "text": [
      "100%|██████████| 128/128 [00:02<00:00, 49.55it/s]\n",
      "  4%|▍         | 5/128 [00:00<00:02, 49.68it/s]"
     ]
    },
    {
     "name": "stdout",
     "output_type": "stream",
     "text": [
      "epoch 85 train loss 0.007665749179068371\n",
      "val loss 0.0031838484574109316 mape 5.324508190155029\n"
     ]
    },
    {
     "name": "stderr",
     "output_type": "stream",
     "text": [
      "100%|██████████| 128/128 [00:02<00:00, 49.30it/s]\n",
      "  4%|▍         | 5/128 [00:00<00:02, 49.46it/s]"
     ]
    },
    {
     "name": "stdout",
     "output_type": "stream",
     "text": [
      "epoch 86 train loss 0.00984687325762934\n",
      "val loss 0.0065836613066494465 mape 5.875262260437012\n"
     ]
    },
    {
     "name": "stderr",
     "output_type": "stream",
     "text": [
      "100%|██████████| 128/128 [00:02<00:00, 49.36it/s]\n",
      "  4%|▍         | 5/128 [00:00<00:02, 49.91it/s]"
     ]
    },
    {
     "name": "stdout",
     "output_type": "stream",
     "text": [
      "epoch 87 train loss 0.008466999797747121\n",
      "val loss 0.004377066623419523 mape 5.647795677185059\n"
     ]
    },
    {
     "name": "stderr",
     "output_type": "stream",
     "text": [
      "100%|██████████| 128/128 [00:02<00:00, 49.82it/s]\n",
      "  4%|▍         | 5/128 [00:00<00:02, 49.45it/s]"
     ]
    },
    {
     "name": "stdout",
     "output_type": "stream",
     "text": [
      "epoch 88 train loss 0.009509592946415069\n",
      "val loss 0.0030808879528194666 mape 5.2630391120910645\n"
     ]
    },
    {
     "name": "stderr",
     "output_type": "stream",
     "text": [
      "100%|██████████| 128/128 [00:02<00:00, 49.62it/s]\n",
      "  4%|▍         | 5/128 [00:00<00:02, 49.52it/s]"
     ]
    },
    {
     "name": "stdout",
     "output_type": "stream",
     "text": [
      "epoch 89 train loss 0.009244654436770361\n",
      "val loss 0.010354412719607353 mape 4.3448004722595215\n"
     ]
    },
    {
     "name": "stderr",
     "output_type": "stream",
     "text": [
      "100%|██████████| 128/128 [00:02<00:00, 49.70it/s]\n",
      "  5%|▍         | 6/128 [00:00<00:02, 49.65it/s]"
     ]
    },
    {
     "name": "stdout",
     "output_type": "stream",
     "text": [
      "epoch 90 train loss 0.007527923031375394\n",
      "val loss 0.003200261853635311 mape 5.123495101928711\n"
     ]
    },
    {
     "name": "stderr",
     "output_type": "stream",
     "text": [
      "100%|██████████| 128/128 [00:02<00:00, 49.79it/s]\n",
      "  5%|▍         | 6/128 [00:00<00:02, 50.03it/s]"
     ]
    },
    {
     "name": "stdout",
     "output_type": "stream",
     "text": [
      "epoch 91 train loss 0.009439197482606687\n",
      "val loss 0.00297958729788661 mape 5.029592990875244\n"
     ]
    },
    {
     "name": "stderr",
     "output_type": "stream",
     "text": [
      "100%|██████████| 128/128 [00:02<00:00, 49.87it/s]\n",
      "  5%|▍         | 6/128 [00:00<00:02, 49.73it/s]"
     ]
    },
    {
     "name": "stdout",
     "output_type": "stream",
     "text": [
      "epoch 92 train loss 0.008763987649217597\n",
      "val loss 0.0028441487811505795 mape 5.034337520599365\n"
     ]
    },
    {
     "name": "stderr",
     "output_type": "stream",
     "text": [
      "100%|██████████| 128/128 [00:02<00:00, 49.65it/s]\n",
      "  5%|▍         | 6/128 [00:00<00:02, 50.97it/s]"
     ]
    },
    {
     "name": "stdout",
     "output_type": "stream",
     "text": [
      "epoch 93 train loss 0.007666566636544303\n",
      "val loss 0.007511601317673922 mape 4.46553897857666\n"
     ]
    },
    {
     "name": "stderr",
     "output_type": "stream",
     "text": [
      "100%|██████████| 128/128 [00:02<00:00, 49.73it/s]\n",
      "  4%|▍         | 5/128 [00:00<00:02, 49.54it/s]"
     ]
    },
    {
     "name": "stdout",
     "output_type": "stream",
     "text": [
      "epoch 94 train loss 0.00887440399674233\n",
      "val loss 0.004940425977110863 mape 4.913445949554443\n"
     ]
    },
    {
     "name": "stderr",
     "output_type": "stream",
     "text": [
      "100%|██████████| 128/128 [00:02<00:00, 49.88it/s]\n",
      "  4%|▍         | 5/128 [00:00<00:02, 49.59it/s]"
     ]
    },
    {
     "name": "stdout",
     "output_type": "stream",
     "text": [
      "epoch 95 train loss 0.008278174343104183\n",
      "val loss 0.003855304326862097 mape 4.829201698303223\n"
     ]
    },
    {
     "name": "stderr",
     "output_type": "stream",
     "text": [
      "100%|██████████| 128/128 [00:02<00:00, 49.65it/s]\n",
      "  4%|▍         | 5/128 [00:00<00:02, 49.32it/s]"
     ]
    },
    {
     "name": "stdout",
     "output_type": "stream",
     "text": [
      "epoch 96 train loss 0.0081469519300299\n",
      "val loss 0.0035175615921616554 mape 4.673364162445068\n"
     ]
    },
    {
     "name": "stderr",
     "output_type": "stream",
     "text": [
      "100%|██████████| 128/128 [00:02<00:00, 49.44it/s]\n",
      "  5%|▍         | 6/128 [00:00<00:02, 50.70it/s]"
     ]
    },
    {
     "name": "stdout",
     "output_type": "stream",
     "text": [
      "epoch 97 train loss 0.00817678010025702\n",
      "val loss 0.005000843200832605 mape 4.6868367195129395\n"
     ]
    },
    {
     "name": "stderr",
     "output_type": "stream",
     "text": [
      "100%|██████████| 128/128 [00:02<00:00, 49.82it/s]\n",
      "  4%|▍         | 5/128 [00:00<00:02, 49.56it/s]"
     ]
    },
    {
     "name": "stdout",
     "output_type": "stream",
     "text": [
      "epoch 98 train loss 0.007927576722067897\n",
      "val loss 0.002676894888281822 mape 5.265719890594482\n"
     ]
    },
    {
     "name": "stderr",
     "output_type": "stream",
     "text": [
      "100%|██████████| 128/128 [00:02<00:00, 49.62it/s]\n",
      "  4%|▍         | 5/128 [00:00<00:02, 49.44it/s]"
     ]
    },
    {
     "name": "stdout",
     "output_type": "stream",
     "text": [
      "epoch 99 train loss 0.007483799432520755\n",
      "val loss 0.004397633019834757 mape 4.4993205070495605\n"
     ]
    },
    {
     "name": "stderr",
     "output_type": "stream",
     "text": [
      "100%|██████████| 128/128 [00:02<00:00, 49.56it/s]\n",
      "  5%|▍         | 6/128 [00:00<00:02, 50.42it/s]"
     ]
    },
    {
     "name": "stdout",
     "output_type": "stream",
     "text": [
      "epoch 100 train loss 0.007561303991678869\n",
      "val loss 0.00662958761677146 mape 4.937155723571777\n"
     ]
    },
    {
     "name": "stderr",
     "output_type": "stream",
     "text": [
      "100%|██████████| 128/128 [00:02<00:00, 49.38it/s]\n",
      "  4%|▍         | 5/128 [00:00<00:02, 48.62it/s]"
     ]
    },
    {
     "name": "stdout",
     "output_type": "stream",
     "text": [
      "epoch 101 train loss 0.008279923637928732\n",
      "val loss 0.0026598237454891205 mape 5.104705333709717\n"
     ]
    },
    {
     "name": "stderr",
     "output_type": "stream",
     "text": [
      "100%|██████████| 128/128 [00:02<00:00, 49.32it/s]\n",
      "  5%|▍         | 6/128 [00:00<00:02, 49.73it/s]"
     ]
    },
    {
     "name": "stdout",
     "output_type": "stream",
     "text": [
      "epoch 102 train loss 0.009254731497094326\n",
      "val loss 0.0025938230101019144 mape 5.135298728942871\n"
     ]
    },
    {
     "name": "stderr",
     "output_type": "stream",
     "text": [
      "100%|██████████| 128/128 [00:02<00:00, 49.59it/s]\n",
      "  5%|▍         | 6/128 [00:00<00:02, 50.57it/s]"
     ]
    },
    {
     "name": "stdout",
     "output_type": "stream",
     "text": [
      "epoch 103 train loss 0.007330523852942861\n",
      "val loss 0.002513869432732463 mape 4.998968124389648\n"
     ]
    },
    {
     "name": "stderr",
     "output_type": "stream",
     "text": [
      "100%|██████████| 128/128 [00:02<00:00, 49.32it/s]\n",
      "  5%|▍         | 6/128 [00:00<00:02, 49.52it/s]"
     ]
    },
    {
     "name": "stdout",
     "output_type": "stream",
     "text": [
      "epoch 104 train loss 0.008639519746793667\n",
      "val loss 0.014562689699232578 mape 4.182347297668457\n"
     ]
    },
    {
     "name": "stderr",
     "output_type": "stream",
     "text": [
      "100%|██████████| 128/128 [00:02<00:00, 49.48it/s]\n",
      "  5%|▍         | 6/128 [00:00<00:02, 50.66it/s]"
     ]
    },
    {
     "name": "stdout",
     "output_type": "stream",
     "text": [
      "epoch 105 train loss 0.007650537186236761\n",
      "val loss 0.0071613178588449955 mape 5.795277118682861\n"
     ]
    },
    {
     "name": "stderr",
     "output_type": "stream",
     "text": [
      "100%|██████████| 128/128 [00:02<00:00, 49.60it/s]\n",
      "  4%|▍         | 5/128 [00:00<00:02, 49.38it/s]"
     ]
    },
    {
     "name": "stdout",
     "output_type": "stream",
     "text": [
      "epoch 106 train loss 0.007987689075889648\n",
      "val loss 0.003864206373691559 mape 4.948760986328125\n"
     ]
    },
    {
     "name": "stderr",
     "output_type": "stream",
     "text": [
      "100%|██████████| 128/128 [00:02<00:00, 49.58it/s]\n",
      "  4%|▍         | 5/128 [00:00<00:02, 49.04it/s]"
     ]
    },
    {
     "name": "stdout",
     "output_type": "stream",
     "text": [
      "epoch 107 train loss 0.007342840635828907\n",
      "val loss 0.0033790860325098038 mape 5.265733242034912\n"
     ]
    },
    {
     "name": "stderr",
     "output_type": "stream",
     "text": [
      "100%|██████████| 128/128 [00:02<00:00, 49.59it/s]\n",
      "  4%|▍         | 5/128 [00:00<00:02, 49.40it/s]"
     ]
    },
    {
     "name": "stdout",
     "output_type": "stream",
     "text": [
      "epoch 108 train loss 0.007993517326212896\n",
      "val loss 0.004346214700490236 mape 4.991591930389404\n"
     ]
    },
    {
     "name": "stderr",
     "output_type": "stream",
     "text": [
      "100%|██████████| 128/128 [00:02<00:00, 49.46it/s]\n",
      "  5%|▍         | 6/128 [00:00<00:02, 51.10it/s]"
     ]
    },
    {
     "name": "stdout",
     "output_type": "stream",
     "text": [
      "epoch 109 train loss 0.008721408834389877\n",
      "val loss 0.003080132184550166 mape 5.196932315826416\n"
     ]
    },
    {
     "name": "stderr",
     "output_type": "stream",
     "text": [
      "100%|██████████| 128/128 [00:02<00:00, 49.62it/s]\n",
      "  5%|▍         | 6/128 [00:00<00:02, 50.40it/s]"
     ]
    },
    {
     "name": "stdout",
     "output_type": "stream",
     "text": [
      "epoch 110 train loss 0.008531820980351768\n",
      "val loss 0.00655796704813838 mape 5.433939456939697\n"
     ]
    },
    {
     "name": "stderr",
     "output_type": "stream",
     "text": [
      "100%|██████████| 128/128 [00:02<00:00, 49.65it/s]\n",
      "  5%|▍         | 6/128 [00:00<00:02, 50.72it/s]"
     ]
    },
    {
     "name": "stdout",
     "output_type": "stream",
     "text": [
      "epoch 111 train loss 0.00675392375796946\n",
      "val loss 0.003975886385887861 mape 4.6689982414245605\n"
     ]
    },
    {
     "name": "stderr",
     "output_type": "stream",
     "text": [
      "100%|██████████| 128/128 [00:02<00:00, 49.73it/s]\n",
      "  5%|▍         | 6/128 [00:00<00:02, 50.60it/s]"
     ]
    },
    {
     "name": "stdout",
     "output_type": "stream",
     "text": [
      "epoch 112 train loss 0.00820887740701437\n",
      "val loss 0.0036620739847421646 mape 5.180424690246582\n"
     ]
    },
    {
     "name": "stderr",
     "output_type": "stream",
     "text": [
      "100%|██████████| 128/128 [00:02<00:00, 49.82it/s]\n",
      "  5%|▍         | 6/128 [00:00<00:02, 50.42it/s]"
     ]
    },
    {
     "name": "stdout",
     "output_type": "stream",
     "text": [
      "epoch 113 train loss 0.008605408021139738\n",
      "val loss 0.003887934610247612 mape 5.286113739013672\n"
     ]
    },
    {
     "name": "stderr",
     "output_type": "stream",
     "text": [
      "100%|██████████| 128/128 [00:02<00:00, 49.62it/s]\n",
      "  4%|▍         | 5/128 [00:00<00:02, 49.53it/s]"
     ]
    },
    {
     "name": "stdout",
     "output_type": "stream",
     "text": [
      "epoch 114 train loss 0.007526358081122453\n",
      "val loss 0.00307702599093318 mape 4.931206226348877\n"
     ]
    },
    {
     "name": "stderr",
     "output_type": "stream",
     "text": [
      "100%|██████████| 128/128 [00:02<00:00, 49.41it/s]\n",
      "  5%|▍         | 6/128 [00:00<00:02, 50.07it/s]"
     ]
    },
    {
     "name": "stdout",
     "output_type": "stream",
     "text": [
      "epoch 115 train loss 0.00804877912196389\n",
      "val loss 0.003665193449705839 mape 5.419488906860352\n"
     ]
    },
    {
     "name": "stderr",
     "output_type": "stream",
     "text": [
      "100%|██████████| 128/128 [00:02<00:00, 49.31it/s]\n",
      "  4%|▍         | 5/128 [00:00<00:02, 49.90it/s]"
     ]
    },
    {
     "name": "stdout",
     "output_type": "stream",
     "text": [
      "epoch 116 train loss 0.00786944194624084\n",
      "val loss 0.006397817749530077 mape 5.048938274383545\n"
     ]
    },
    {
     "name": "stderr",
     "output_type": "stream",
     "text": [
      "100%|██████████| 128/128 [00:02<00:00, 49.40it/s]\n",
      "  5%|▍         | 6/128 [00:00<00:02, 49.40it/s]"
     ]
    },
    {
     "name": "stdout",
     "output_type": "stream",
     "text": [
      "epoch 117 train loss 0.00821901750350662\n",
      "val loss 0.002540633548051119 mape 4.9544572830200195\n"
     ]
    },
    {
     "name": "stderr",
     "output_type": "stream",
     "text": [
      "100%|██████████| 128/128 [00:02<00:00, 49.38it/s]\n",
      "  5%|▍         | 6/128 [00:00<00:02, 50.82it/s]"
     ]
    },
    {
     "name": "stdout",
     "output_type": "stream",
     "text": [
      "epoch 118 train loss 0.009090310267310997\n",
      "val loss 0.0028224808629602194 mape 5.191201210021973\n"
     ]
    },
    {
     "name": "stderr",
     "output_type": "stream",
     "text": [
      "100%|██████████| 128/128 [00:02<00:00, 49.89it/s]\n",
      "  5%|▍         | 6/128 [00:00<00:02, 50.75it/s]"
     ]
    },
    {
     "name": "stdout",
     "output_type": "stream",
     "text": [
      "epoch 119 train loss 0.007514728404203197\n",
      "val loss 0.003328004153445363 mape 4.809488773345947\n"
     ]
    },
    {
     "name": "stderr",
     "output_type": "stream",
     "text": [
      "100%|██████████| 128/128 [00:02<00:00, 49.99it/s]\n",
      "  5%|▍         | 6/128 [00:00<00:02, 50.56it/s]"
     ]
    },
    {
     "name": "stdout",
     "output_type": "stream",
     "text": [
      "epoch 120 train loss 0.007958534795761807\n",
      "val loss 0.0034500949550420046 mape 5.4933624267578125\n"
     ]
    },
    {
     "name": "stderr",
     "output_type": "stream",
     "text": [
      "100%|██████████| 128/128 [00:02<00:00, 49.71it/s]\n",
      "  5%|▍         | 6/128 [00:00<00:02, 50.52it/s]"
     ]
    },
    {
     "name": "stdout",
     "output_type": "stream",
     "text": [
      "epoch 121 train loss 0.00948140246418916\n",
      "val loss 0.023412443697452545 mape 3.709798812866211\n"
     ]
    },
    {
     "name": "stderr",
     "output_type": "stream",
     "text": [
      "100%|██████████| 128/128 [00:02<00:00, 49.35it/s]\n",
      "  4%|▍         | 5/128 [00:00<00:02, 49.51it/s]"
     ]
    },
    {
     "name": "stdout",
     "output_type": "stream",
     "text": [
      "epoch 122 train loss 0.008133447215186607\n",
      "val loss 0.0031359996646642685 mape 5.222378253936768\n"
     ]
    },
    {
     "name": "stderr",
     "output_type": "stream",
     "text": [
      "100%|██████████| 128/128 [00:02<00:00, 49.38it/s]\n",
      "  4%|▍         | 5/128 [00:00<00:02, 49.22it/s]"
     ]
    },
    {
     "name": "stdout",
     "output_type": "stream",
     "text": [
      "epoch 123 train loss 0.007569400445390784\n",
      "val loss 0.0033715111203491688 mape 4.677011489868164\n"
     ]
    },
    {
     "name": "stderr",
     "output_type": "stream",
     "text": [
      "100%|██████████| 128/128 [00:02<00:00, 49.25it/s]\n",
      "  4%|▍         | 5/128 [00:00<00:02, 49.38it/s]"
     ]
    },
    {
     "name": "stdout",
     "output_type": "stream",
     "text": [
      "epoch 124 train loss 0.007327448796786484\n",
      "val loss 0.004118229262530804 mape 4.4800333976745605\n"
     ]
    },
    {
     "name": "stderr",
     "output_type": "stream",
     "text": [
      "100%|██████████| 128/128 [00:02<00:00, 48.99it/s]\n",
      "  5%|▍         | 6/128 [00:00<00:02, 49.71it/s]"
     ]
    },
    {
     "name": "stdout",
     "output_type": "stream",
     "text": [
      "epoch 125 train loss 0.008891220457371674\n",
      "val loss 0.004288327414542437 mape 4.681971549987793\n"
     ]
    },
    {
     "name": "stderr",
     "output_type": "stream",
     "text": [
      "100%|██████████| 128/128 [00:02<00:00, 49.27it/s]\n",
      "  4%|▍         | 5/128 [00:00<00:02, 48.90it/s]"
     ]
    },
    {
     "name": "stdout",
     "output_type": "stream",
     "text": [
      "epoch 126 train loss 0.008461603450996336\n",
      "val loss 0.007834450341761112 mape 5.3644537925720215\n"
     ]
    },
    {
     "name": "stderr",
     "output_type": "stream",
     "text": [
      "100%|██████████| 128/128 [00:02<00:00, 49.11it/s]\n",
      "  4%|▍         | 5/128 [00:00<00:02, 49.96it/s]"
     ]
    },
    {
     "name": "stdout",
     "output_type": "stream",
     "text": [
      "epoch 127 train loss 0.00789502069073933\n",
      "val loss 0.004600989166647196 mape 5.72804594039917\n"
     ]
    },
    {
     "name": "stderr",
     "output_type": "stream",
     "text": [
      "100%|██████████| 128/128 [00:02<00:00, 49.74it/s]\n",
      "  4%|▍         | 5/128 [00:00<00:02, 49.88it/s]"
     ]
    },
    {
     "name": "stdout",
     "output_type": "stream",
     "text": [
      "epoch 128 train loss 0.008955782064731466\n",
      "val loss 0.005586655810475349 mape 4.920783042907715\n"
     ]
    },
    {
     "name": "stderr",
     "output_type": "stream",
     "text": [
      "100%|██████████| 128/128 [00:02<00:00, 49.58it/s]\n",
      "  4%|▍         | 5/128 [00:00<00:02, 49.91it/s]"
     ]
    },
    {
     "name": "stdout",
     "output_type": "stream",
     "text": [
      "epoch 129 train loss 0.008488517212754232\n",
      "val loss 0.012371056713163853 mape 4.116918563842773\n"
     ]
    },
    {
     "name": "stderr",
     "output_type": "stream",
     "text": [
      "100%|██████████| 128/128 [00:02<00:00, 49.51it/s]\n",
      "  5%|▍         | 6/128 [00:00<00:02, 51.19it/s]"
     ]
    },
    {
     "name": "stdout",
     "output_type": "stream",
     "text": [
      "epoch 130 train loss 0.008350316805262992\n",
      "val loss 0.005663103424012661 mape 4.876245975494385\n"
     ]
    },
    {
     "name": "stderr",
     "output_type": "stream",
     "text": [
      "100%|██████████| 128/128 [00:02<00:00, 49.48it/s]\n",
      "  5%|▍         | 6/128 [00:00<00:02, 50.48it/s]"
     ]
    },
    {
     "name": "stdout",
     "output_type": "stream",
     "text": [
      "epoch 131 train loss 0.00815505661375937\n",
      "val loss 0.003884623758494854 mape 5.543298244476318\n"
     ]
    },
    {
     "name": "stderr",
     "output_type": "stream",
     "text": [
      "100%|██████████| 128/128 [00:02<00:00, 49.45it/s]\n",
      "  5%|▍         | 6/128 [00:00<00:02, 50.15it/s]"
     ]
    },
    {
     "name": "stdout",
     "output_type": "stream",
     "text": [
      "epoch 132 train loss 0.008429041659837821\n",
      "val loss 0.006135863251984119 mape 4.531233310699463\n"
     ]
    },
    {
     "name": "stderr",
     "output_type": "stream",
     "text": [
      "100%|██████████| 128/128 [00:02<00:00, 49.73it/s]\n",
      "  4%|▍         | 5/128 [00:00<00:02, 49.31it/s]"
     ]
    },
    {
     "name": "stdout",
     "output_type": "stream",
     "text": [
      "epoch 133 train loss 0.007428250423799909\n",
      "val loss 0.0048648943193256855 mape 5.418786525726318\n"
     ]
    },
    {
     "name": "stderr",
     "output_type": "stream",
     "text": [
      "100%|██████████| 128/128 [00:02<00:00, 49.59it/s]\n",
      "  4%|▍         | 5/128 [00:00<00:02, 49.40it/s]"
     ]
    },
    {
     "name": "stdout",
     "output_type": "stream",
     "text": [
      "epoch 134 train loss 0.007609788989611843\n",
      "val loss 0.006116867996752262 mape 5.444559574127197\n"
     ]
    },
    {
     "name": "stderr",
     "output_type": "stream",
     "text": [
      "100%|██████████| 128/128 [00:02<00:00, 49.46it/s]\n",
      "  5%|▍         | 6/128 [00:00<00:02, 49.26it/s]"
     ]
    },
    {
     "name": "stdout",
     "output_type": "stream",
     "text": [
      "epoch 135 train loss 0.008584305479416798\n",
      "val loss 0.0033046144526451826 mape 5.186652660369873\n"
     ]
    },
    {
     "name": "stderr",
     "output_type": "stream",
     "text": [
      "100%|██████████| 128/128 [00:02<00:00, 49.46it/s]\n",
      "  4%|▍         | 5/128 [00:00<00:02, 49.99it/s]"
     ]
    },
    {
     "name": "stdout",
     "output_type": "stream",
     "text": [
      "epoch 136 train loss 0.0081681764258974\n",
      "val loss 0.004525588359683752 mape 5.415032863616943\n"
     ]
    },
    {
     "name": "stderr",
     "output_type": "stream",
     "text": [
      "100%|██████████| 128/128 [00:02<00:00, 49.42it/s]\n",
      "  5%|▍         | 6/128 [00:00<00:02, 49.73it/s]"
     ]
    },
    {
     "name": "stdout",
     "output_type": "stream",
     "text": [
      "epoch 137 train loss 0.007494110772313434\n",
      "val loss 0.005639813840389252 mape 5.14515495300293\n"
     ]
    },
    {
     "name": "stderr",
     "output_type": "stream",
     "text": [
      "100%|██████████| 128/128 [00:02<00:00, 49.31it/s]\n",
      "  5%|▍         | 6/128 [00:00<00:02, 51.29it/s]"
     ]
    },
    {
     "name": "stdout",
     "output_type": "stream",
     "text": [
      "epoch 138 train loss 0.00807083475683612\n",
      "val loss 0.0034532323479652405 mape 4.891148090362549\n"
     ]
    },
    {
     "name": "stderr",
     "output_type": "stream",
     "text": [
      "100%|██████████| 128/128 [00:02<00:00, 49.17it/s]\n",
      "  4%|▍         | 5/128 [00:00<00:02, 49.04it/s]"
     ]
    },
    {
     "name": "stdout",
     "output_type": "stream",
     "text": [
      "epoch 139 train loss 0.007150397334044101\n",
      "val loss 0.004003613721579313 mape 5.173515796661377\n"
     ]
    },
    {
     "name": "stderr",
     "output_type": "stream",
     "text": [
      "100%|██████████| 128/128 [00:02<00:00, 49.17it/s]\n",
      "  4%|▍         | 5/128 [00:00<00:02, 48.31it/s]"
     ]
    },
    {
     "name": "stdout",
     "output_type": "stream",
     "text": [
      "epoch 140 train loss 0.008457916761472006\n",
      "val loss 0.010261018760502338 mape 5.848816394805908\n"
     ]
    },
    {
     "name": "stderr",
     "output_type": "stream",
     "text": [
      "100%|██████████| 128/128 [00:02<00:00, 49.71it/s]\n",
      "  4%|▍         | 5/128 [00:00<00:02, 49.20it/s]"
     ]
    },
    {
     "name": "stdout",
     "output_type": "stream",
     "text": [
      "epoch 141 train loss 0.008414787303081539\n",
      "val loss 0.005066944286227226 mape 5.363221168518066\n"
     ]
    },
    {
     "name": "stderr",
     "output_type": "stream",
     "text": [
      "100%|██████████| 128/128 [00:02<00:00, 49.38it/s]\n",
      "  4%|▍         | 5/128 [00:00<00:02, 49.80it/s]"
     ]
    },
    {
     "name": "stdout",
     "output_type": "stream",
     "text": [
      "epoch 142 train loss 0.0065147186196554685\n",
      "val loss 0.002419418189674616 mape 5.139121055603027\n"
     ]
    },
    {
     "name": "stderr",
     "output_type": "stream",
     "text": [
      "100%|██████████| 128/128 [00:02<00:00, 49.39it/s]\n",
      "  4%|▍         | 5/128 [00:00<00:02, 49.67it/s]"
     ]
    },
    {
     "name": "stdout",
     "output_type": "stream",
     "text": [
      "epoch 143 train loss 0.0076396258891691105\n",
      "val loss 0.0032553733326494694 mape 5.222758769989014\n"
     ]
    },
    {
     "name": "stderr",
     "output_type": "stream",
     "text": [
      "100%|██████████| 128/128 [00:02<00:00, 49.57it/s]\n",
      "  4%|▍         | 5/128 [00:00<00:02, 49.60it/s]"
     ]
    },
    {
     "name": "stdout",
     "output_type": "stream",
     "text": [
      "epoch 144 train loss 0.007565731773865991\n",
      "val loss 0.0029831097926944494 mape 5.313218116760254\n"
     ]
    },
    {
     "name": "stderr",
     "output_type": "stream",
     "text": [
      "100%|██████████| 128/128 [00:02<00:00, 49.20it/s]\n",
      "  4%|▍         | 5/128 [00:00<00:02, 49.33it/s]"
     ]
    },
    {
     "name": "stdout",
     "output_type": "stream",
     "text": [
      "epoch 145 train loss 0.007575002716293966\n",
      "val loss 0.003129491349682212 mape 5.0024800300598145\n"
     ]
    },
    {
     "name": "stderr",
     "output_type": "stream",
     "text": [
      "100%|██████████| 128/128 [00:02<00:00, 49.10it/s]\n",
      "  4%|▍         | 5/128 [00:00<00:02, 49.19it/s]"
     ]
    },
    {
     "name": "stdout",
     "output_type": "stream",
     "text": [
      "epoch 146 train loss 0.010487611419193854\n",
      "val loss 0.0060540372505784035 mape 4.538349151611328\n"
     ]
    },
    {
     "name": "stderr",
     "output_type": "stream",
     "text": [
      "100%|██████████| 128/128 [00:02<00:00, 49.06it/s]\n",
      "  4%|▍         | 5/128 [00:00<00:02, 49.49it/s]"
     ]
    },
    {
     "name": "stdout",
     "output_type": "stream",
     "text": [
      "epoch 147 train loss 0.007554525484920305\n",
      "val loss 0.0028296064119786024 mape 5.176135063171387\n"
     ]
    },
    {
     "name": "stderr",
     "output_type": "stream",
     "text": [
      "100%|██████████| 128/128 [00:02<00:00, 49.34it/s]\n",
      "  4%|▍         | 5/128 [00:00<00:02, 49.35it/s]"
     ]
    },
    {
     "name": "stdout",
     "output_type": "stream",
     "text": [
      "epoch 148 train loss 0.007556632812338648\n",
      "val loss 0.0023635432589799166 mape 5.20652437210083\n"
     ]
    },
    {
     "name": "stderr",
     "output_type": "stream",
     "text": [
      "100%|██████████| 128/128 [00:02<00:00, 49.45it/s]\n",
      "  4%|▍         | 5/128 [00:00<00:02, 49.63it/s]"
     ]
    },
    {
     "name": "stdout",
     "output_type": "stream",
     "text": [
      "epoch 149 train loss 0.0073431774053460686\n",
      "val loss 0.00308379833586514 mape 5.162774562835693\n"
     ]
    },
    {
     "name": "stderr",
     "output_type": "stream",
     "text": [
      "100%|██████████| 128/128 [00:02<00:00, 49.24it/s]\n",
      "  4%|▍         | 5/128 [00:00<00:02, 49.34it/s]"
     ]
    },
    {
     "name": "stdout",
     "output_type": "stream",
     "text": [
      "epoch 150 train loss 0.007165644381530001\n",
      "val loss 0.0027984532061964273 mape 4.914186000823975\n"
     ]
    },
    {
     "name": "stderr",
     "output_type": "stream",
     "text": [
      "100%|██████████| 128/128 [00:02<00:00, 49.19it/s]\n",
      "  5%|▍         | 6/128 [00:00<00:02, 51.02it/s]"
     ]
    },
    {
     "name": "stdout",
     "output_type": "stream",
     "text": [
      "epoch 151 train loss 0.006869497122352186\n",
      "val loss 0.0056560407392680645 mape 4.836675643920898\n"
     ]
    },
    {
     "name": "stderr",
     "output_type": "stream",
     "text": [
      "100%|██████████| 128/128 [00:02<00:00, 49.79it/s]\n",
      "  4%|▍         | 5/128 [00:00<00:02, 49.99it/s]"
     ]
    },
    {
     "name": "stdout",
     "output_type": "stream",
     "text": [
      "epoch 152 train loss 0.0088499090188634\n",
      "val loss 0.005958829075098038 mape 5.490150451660156\n"
     ]
    },
    {
     "name": "stderr",
     "output_type": "stream",
     "text": [
      "100%|██████████| 128/128 [00:02<00:00, 50.10it/s]\n",
      "  5%|▍         | 6/128 [00:00<00:02, 52.63it/s]"
     ]
    },
    {
     "name": "stdout",
     "output_type": "stream",
     "text": [
      "epoch 153 train loss 0.007876249102992006\n",
      "val loss 0.0032048732973635197 mape 5.042507171630859\n"
     ]
    },
    {
     "name": "stderr",
     "output_type": "stream",
     "text": [
      "100%|██████████| 128/128 [00:02<00:00, 50.25it/s]\n",
      "  4%|▍         | 5/128 [00:00<00:02, 48.34it/s]"
     ]
    },
    {
     "name": "stdout",
     "output_type": "stream",
     "text": [
      "epoch 154 train loss 0.007808389505953528\n",
      "val loss 0.005658064503222704 mape 5.663727760314941\n"
     ]
    },
    {
     "name": "stderr",
     "output_type": "stream",
     "text": [
      "100%|██████████| 128/128 [00:02<00:00, 49.14it/s]\n",
      "  4%|▍         | 5/128 [00:00<00:02, 49.85it/s]"
     ]
    },
    {
     "name": "stdout",
     "output_type": "stream",
     "text": [
      "epoch 155 train loss 0.007435006259584043\n",
      "val loss 0.0027749573346227407 mape 4.922284126281738\n"
     ]
    },
    {
     "name": "stderr",
     "output_type": "stream",
     "text": [
      "100%|██████████| 128/128 [00:02<00:00, 49.57it/s]\n",
      "  5%|▍         | 6/128 [00:00<00:02, 50.87it/s]"
     ]
    },
    {
     "name": "stdout",
     "output_type": "stream",
     "text": [
      "epoch 156 train loss 0.007029356475868553\n",
      "val loss 0.0031833213288336992 mape 5.189986228942871\n"
     ]
    },
    {
     "name": "stderr",
     "output_type": "stream",
     "text": [
      "100%|██████████| 128/128 [00:02<00:00, 49.37it/s]\n",
      "  5%|▍         | 6/128 [00:00<00:02, 49.78it/s]"
     ]
    },
    {
     "name": "stdout",
     "output_type": "stream",
     "text": [
      "epoch 157 train loss 0.006345699767734914\n",
      "val loss 0.005498271901160479 mape 4.823715686798096\n"
     ]
    },
    {
     "name": "stderr",
     "output_type": "stream",
     "text": [
      "100%|██████████| 128/128 [00:02<00:00, 49.49it/s]\n",
      "  4%|▍         | 5/128 [00:00<00:02, 49.95it/s]"
     ]
    },
    {
     "name": "stdout",
     "output_type": "stream",
     "text": [
      "epoch 158 train loss 0.008444064646027982\n",
      "val loss 0.004523613955825567 mape 4.856659412384033\n"
     ]
    },
    {
     "name": "stderr",
     "output_type": "stream",
     "text": [
      "100%|██████████| 128/128 [00:02<00:00, 49.48it/s]\n",
      "  4%|▍         | 5/128 [00:00<00:02, 49.17it/s]"
     ]
    },
    {
     "name": "stdout",
     "output_type": "stream",
     "text": [
      "epoch 159 train loss 0.007898740665950754\n",
      "val loss 0.004578217398375273 mape 5.386312961578369\n"
     ]
    },
    {
     "name": "stderr",
     "output_type": "stream",
     "text": [
      "100%|██████████| 128/128 [00:02<00:00, 49.40it/s]\n",
      "  4%|▍         | 5/128 [00:00<00:02, 49.34it/s]"
     ]
    },
    {
     "name": "stdout",
     "output_type": "stream",
     "text": [
      "epoch 160 train loss 0.00807182934568118\n",
      "val loss 0.004003807436674833 mape 4.8790411949157715\n"
     ]
    },
    {
     "name": "stderr",
     "output_type": "stream",
     "text": [
      "100%|██████████| 128/128 [00:02<00:00, 49.29it/s]\n",
      "  5%|▍         | 6/128 [00:00<00:02, 49.39it/s]"
     ]
    },
    {
     "name": "stdout",
     "output_type": "stream",
     "text": [
      "epoch 161 train loss 0.009354560488645802\n",
      "val loss 0.006650393828749657 mape 4.436272621154785\n"
     ]
    },
    {
     "name": "stderr",
     "output_type": "stream",
     "text": [
      "100%|██████████| 128/128 [00:02<00:00, 48.91it/s]\n",
      "  4%|▍         | 5/128 [00:00<00:02, 49.41it/s]"
     ]
    },
    {
     "name": "stdout",
     "output_type": "stream",
     "text": [
      "epoch 162 train loss 0.007838010808882245\n",
      "val loss 0.0038905481342226267 mape 5.4722900390625\n"
     ]
    },
    {
     "name": "stderr",
     "output_type": "stream",
     "text": [
      "100%|██████████| 128/128 [00:02<00:00, 49.61it/s]\n",
      "  4%|▍         | 5/128 [00:00<00:02, 49.92it/s]"
     ]
    },
    {
     "name": "stdout",
     "output_type": "stream",
     "text": [
      "epoch 163 train loss 0.007897835132098407\n",
      "val loss 0.004342849366366863 mape 5.071438789367676\n"
     ]
    },
    {
     "name": "stderr",
     "output_type": "stream",
     "text": [
      "100%|██████████| 128/128 [00:02<00:00, 49.67it/s]\n",
      "  4%|▍         | 5/128 [00:00<00:02, 49.88it/s]"
     ]
    },
    {
     "name": "stdout",
     "output_type": "stream",
     "text": [
      "epoch 164 train loss 0.00736299532763951\n",
      "val loss 0.002411678433418274 mape 5.155754566192627\n"
     ]
    },
    {
     "name": "stderr",
     "output_type": "stream",
     "text": [
      "100%|██████████| 128/128 [00:02<00:00, 49.80it/s]\n",
      "  5%|▍         | 6/128 [00:00<00:02, 50.08it/s]"
     ]
    },
    {
     "name": "stdout",
     "output_type": "stream",
     "text": [
      "epoch 165 train loss 0.007706383599725086\n",
      "val loss 0.003174438141286373 mape 5.361912250518799\n"
     ]
    },
    {
     "name": "stderr",
     "output_type": "stream",
     "text": [
      "100%|██████████| 128/128 [00:02<00:00, 49.59it/s]\n",
      "  4%|▍         | 5/128 [00:00<00:02, 48.98it/s]"
     ]
    },
    {
     "name": "stdout",
     "output_type": "stream",
     "text": [
      "epoch 166 train loss 0.007695627906286973\n",
      "val loss 0.0031696432270109653 mape 5.150698184967041\n"
     ]
    },
    {
     "name": "stderr",
     "output_type": "stream",
     "text": [
      "100%|██████████| 128/128 [00:02<00:00, 49.82it/s]\n",
      "  4%|▍         | 5/128 [00:00<00:02, 48.45it/s]"
     ]
    },
    {
     "name": "stdout",
     "output_type": "stream",
     "text": [
      "epoch 167 train loss 0.008558867548345006\n",
      "val loss 0.003885709447786212 mape 5.611574172973633\n"
     ]
    },
    {
     "name": "stderr",
     "output_type": "stream",
     "text": [
      "100%|██████████| 128/128 [00:02<00:00, 49.29it/s]\n",
      "  4%|▍         | 5/128 [00:00<00:02, 49.39it/s]"
     ]
    },
    {
     "name": "stdout",
     "output_type": "stream",
     "text": [
      "epoch 168 train loss 0.007898836853200919\n",
      "val loss 0.0030393931083381176 mape 5.480088710784912\n"
     ]
    },
    {
     "name": "stderr",
     "output_type": "stream",
     "text": [
      "100%|██████████| 128/128 [00:02<00:00, 49.51it/s]\n",
      "  5%|▍         | 6/128 [00:00<00:02, 49.79it/s]"
     ]
    },
    {
     "name": "stdout",
     "output_type": "stream",
     "text": [
      "epoch 169 train loss 0.007318290637158498\n",
      "val loss 0.0037989127449691296 mape 5.560980319976807\n"
     ]
    },
    {
     "name": "stderr",
     "output_type": "stream",
     "text": [
      "100%|██████████| 128/128 [00:02<00:00, 49.56it/s]\n",
      "  5%|▍         | 6/128 [00:00<00:02, 50.15it/s]"
     ]
    },
    {
     "name": "stdout",
     "output_type": "stream",
     "text": [
      "epoch 170 train loss 0.007560695961728925\n",
      "val loss 0.0028043577913194895 mape 5.344306468963623\n"
     ]
    },
    {
     "name": "stderr",
     "output_type": "stream",
     "text": [
      "100%|██████████| 128/128 [00:02<00:00, 49.37it/s]\n",
      "  4%|▍         | 5/128 [00:00<00:02, 49.06it/s]"
     ]
    },
    {
     "name": "stdout",
     "output_type": "stream",
     "text": [
      "epoch 171 train loss 0.008488839558594918\n",
      "val loss 0.004235200118273497 mape 4.758254051208496\n"
     ]
    },
    {
     "name": "stderr",
     "output_type": "stream",
     "text": [
      "100%|██████████| 128/128 [00:02<00:00, 49.10it/s]\n",
      "  5%|▍         | 6/128 [00:00<00:02, 50.13it/s]"
     ]
    },
    {
     "name": "stdout",
     "output_type": "stream",
     "text": [
      "epoch 172 train loss 0.007876387098804116\n",
      "val loss 0.0026257410645484924 mape 5.396083354949951\n"
     ]
    },
    {
     "name": "stderr",
     "output_type": "stream",
     "text": [
      "100%|██████████| 128/128 [00:02<00:00, 49.49it/s]\n",
      "  5%|▍         | 6/128 [00:00<00:02, 50.19it/s]"
     ]
    },
    {
     "name": "stdout",
     "output_type": "stream",
     "text": [
      "epoch 173 train loss 0.006925136753125116\n",
      "val loss 0.007578627206385136 mape 5.978611946105957\n"
     ]
    },
    {
     "name": "stderr",
     "output_type": "stream",
     "text": [
      "100%|██████████| 128/128 [00:02<00:00, 49.82it/s]\n",
      "  5%|▍         | 6/128 [00:00<00:02, 49.93it/s]"
     ]
    },
    {
     "name": "stdout",
     "output_type": "stream",
     "text": [
      "epoch 174 train loss 0.008144116250150546\n",
      "val loss 0.0031056897714734077 mape 4.832462310791016\n"
     ]
    },
    {
     "name": "stderr",
     "output_type": "stream",
     "text": [
      "100%|██████████| 128/128 [00:02<00:00, 49.91it/s]\n",
      "  4%|▍         | 5/128 [00:00<00:02, 49.89it/s]"
     ]
    },
    {
     "name": "stdout",
     "output_type": "stream",
     "text": [
      "epoch 175 train loss 0.007005884212958335\n",
      "val loss 0.003124949987977743 mape 4.8603434562683105\n"
     ]
    },
    {
     "name": "stderr",
     "output_type": "stream",
     "text": [
      "100%|██████████| 128/128 [00:02<00:00, 49.82it/s]\n",
      "  5%|▍         | 6/128 [00:00<00:02, 51.52it/s]"
     ]
    },
    {
     "name": "stdout",
     "output_type": "stream",
     "text": [
      "epoch 176 train loss 0.007604213787089975\n",
      "val loss 0.005309253931045532 mape 5.603307247161865\n"
     ]
    },
    {
     "name": "stderr",
     "output_type": "stream",
     "text": [
      "100%|██████████| 128/128 [00:02<00:00, 49.78it/s]\n",
      "  4%|▍         | 5/128 [00:00<00:02, 49.32it/s]"
     ]
    },
    {
     "name": "stdout",
     "output_type": "stream",
     "text": [
      "epoch 177 train loss 0.006987003323047247\n",
      "val loss 0.004048445727676153 mape 5.532871723175049\n"
     ]
    },
    {
     "name": "stderr",
     "output_type": "stream",
     "text": [
      "100%|██████████| 128/128 [00:02<00:00, 49.46it/s]\n",
      "  4%|▍         | 5/128 [00:00<00:02, 49.33it/s]"
     ]
    },
    {
     "name": "stdout",
     "output_type": "stream",
     "text": [
      "epoch 178 train loss 0.007660316302462888\n",
      "val loss 0.0035643086303025484 mape 5.086963653564453\n"
     ]
    },
    {
     "name": "stderr",
     "output_type": "stream",
     "text": [
      "100%|██████████| 128/128 [00:02<00:00, 49.24it/s]\n",
      "  5%|▍         | 6/128 [00:00<00:02, 51.53it/s]"
     ]
    },
    {
     "name": "stdout",
     "output_type": "stream",
     "text": [
      "epoch 179 train loss 0.008108638570774929\n",
      "val loss 0.0052696941420435905 mape 4.625218868255615\n"
     ]
    },
    {
     "name": "stderr",
     "output_type": "stream",
     "text": [
      "100%|██████████| 128/128 [00:02<00:00, 49.93it/s]\n",
      "  5%|▍         | 6/128 [00:00<00:02, 50.95it/s]"
     ]
    },
    {
     "name": "stdout",
     "output_type": "stream",
     "text": [
      "epoch 180 train loss 0.00843111197991675\n",
      "val loss 0.005701446905732155 mape 4.651279926300049\n"
     ]
    },
    {
     "name": "stderr",
     "output_type": "stream",
     "text": [
      "100%|██████████| 128/128 [00:02<00:00, 49.53it/s]\n",
      "  5%|▍         | 6/128 [00:00<00:02, 49.97it/s]"
     ]
    },
    {
     "name": "stdout",
     "output_type": "stream",
     "text": [
      "epoch 181 train loss 0.009276836428398383\n",
      "val loss 0.005102032795548439 mape 4.554342269897461\n"
     ]
    },
    {
     "name": "stderr",
     "output_type": "stream",
     "text": [
      "100%|██████████| 128/128 [00:02<00:00, 49.75it/s]\n",
      "  4%|▍         | 5/128 [00:00<00:02, 49.28it/s]"
     ]
    },
    {
     "name": "stdout",
     "output_type": "stream",
     "text": [
      "epoch 182 train loss 0.007433753106852237\n",
      "val loss 0.008333536796271801 mape 5.76947546005249\n"
     ]
    },
    {
     "name": "stderr",
     "output_type": "stream",
     "text": [
      "100%|██████████| 128/128 [00:02<00:00, 49.52it/s]\n",
      "  4%|▍         | 5/128 [00:00<00:02, 49.65it/s]"
     ]
    },
    {
     "name": "stdout",
     "output_type": "stream",
     "text": [
      "epoch 183 train loss 0.00785794029252429\n",
      "val loss 0.003507413435727358 mape 5.634936809539795\n"
     ]
    },
    {
     "name": "stderr",
     "output_type": "stream",
     "text": [
      "100%|██████████| 128/128 [00:02<00:00, 49.67it/s]\n",
      "  4%|▍         | 5/128 [00:00<00:02, 49.31it/s]"
     ]
    },
    {
     "name": "stdout",
     "output_type": "stream",
     "text": [
      "epoch 184 train loss 0.008144545179675333\n",
      "val loss 0.003484875662252307 mape 5.553699493408203\n"
     ]
    },
    {
     "name": "stderr",
     "output_type": "stream",
     "text": [
      "100%|██████████| 128/128 [00:02<00:00, 49.62it/s]\n",
      "  4%|▍         | 5/128 [00:00<00:02, 49.10it/s]"
     ]
    },
    {
     "name": "stdout",
     "output_type": "stream",
     "text": [
      "epoch 185 train loss 0.007074433011439396\n",
      "val loss 0.0026063036639243364 mape 4.9902472496032715\n"
     ]
    },
    {
     "name": "stderr",
     "output_type": "stream",
     "text": [
      "100%|██████████| 128/128 [00:02<00:00, 49.33it/s]\n",
      "  5%|▍         | 6/128 [00:00<00:02, 50.34it/s]"
     ]
    },
    {
     "name": "stdout",
     "output_type": "stream",
     "text": [
      "epoch 186 train loss 0.007803182812494924\n",
      "val loss 0.004227039869874716 mape 5.111867904663086\n"
     ]
    },
    {
     "name": "stderr",
     "output_type": "stream",
     "text": [
      "100%|██████████| 128/128 [00:02<00:00, 49.72it/s]\n",
      "  4%|▍         | 5/128 [00:00<00:02, 49.18it/s]"
     ]
    },
    {
     "name": "stdout",
     "output_type": "stream",
     "text": [
      "epoch 187 train loss 0.007210412965832802\n",
      "val loss 0.0030833028722554445 mape 4.945494651794434\n"
     ]
    },
    {
     "name": "stderr",
     "output_type": "stream",
     "text": [
      "100%|██████████| 128/128 [00:02<00:00, 49.65it/s]\n",
      "  5%|▍         | 6/128 [00:00<00:02, 49.97it/s]"
     ]
    },
    {
     "name": "stdout",
     "output_type": "stream",
     "text": [
      "epoch 188 train loss 0.006992164506300469\n",
      "val loss 0.0036138147115707397 mape 5.393770217895508\n"
     ]
    },
    {
     "name": "stderr",
     "output_type": "stream",
     "text": [
      "100%|██████████| 128/128 [00:02<00:00, 49.42it/s]\n",
      "  4%|▍         | 5/128 [00:00<00:02, 48.99it/s]"
     ]
    },
    {
     "name": "stdout",
     "output_type": "stream",
     "text": [
      "epoch 189 train loss 0.007336362639762228\n",
      "val loss 0.002663711551576853 mape 5.0752363204956055\n"
     ]
    },
    {
     "name": "stderr",
     "output_type": "stream",
     "text": [
      "100%|██████████| 128/128 [00:02<00:00, 49.76it/s]\n",
      "  4%|▍         | 5/128 [00:00<00:02, 49.90it/s]"
     ]
    },
    {
     "name": "stdout",
     "output_type": "stream",
     "text": [
      "epoch 190 train loss 0.009035370782839891\n",
      "val loss 0.002455967478454113 mape 5.111441612243652\n"
     ]
    },
    {
     "name": "stderr",
     "output_type": "stream",
     "text": [
      "100%|██████████| 128/128 [00:02<00:00, 49.57it/s]\n",
      "  5%|▍         | 6/128 [00:00<00:02, 50.22it/s]"
     ]
    },
    {
     "name": "stdout",
     "output_type": "stream",
     "text": [
      "epoch 191 train loss 0.00868169845216471\n",
      "val loss 0.00904212798923254 mape 4.608417987823486\n"
     ]
    },
    {
     "name": "stderr",
     "output_type": "stream",
     "text": [
      "100%|██████████| 128/128 [00:02<00:00, 49.85it/s]\n",
      "  5%|▍         | 6/128 [00:00<00:02, 50.66it/s]"
     ]
    },
    {
     "name": "stdout",
     "output_type": "stream",
     "text": [
      "epoch 192 train loss 0.008331142101269506\n",
      "val loss 0.004594523925334215 mape 5.627847671508789\n"
     ]
    },
    {
     "name": "stderr",
     "output_type": "stream",
     "text": [
      "100%|██████████| 128/128 [00:02<00:00, 49.94it/s]\n",
      "  4%|▍         | 5/128 [00:00<00:02, 49.76it/s]"
     ]
    },
    {
     "name": "stdout",
     "output_type": "stream",
     "text": [
      "epoch 193 train loss 0.007124850439140573\n",
      "val loss 0.005577091593295336 mape 4.55222225189209\n"
     ]
    },
    {
     "name": "stderr",
     "output_type": "stream",
     "text": [
      "100%|██████████| 128/128 [00:02<00:00, 49.34it/s]\n",
      "  5%|▍         | 6/128 [00:00<00:02, 51.02it/s]"
     ]
    },
    {
     "name": "stdout",
     "output_type": "stream",
     "text": [
      "epoch 194 train loss 0.0068060675030210405\n",
      "val loss 0.003152604680508375 mape 5.077940940856934\n"
     ]
    },
    {
     "name": "stderr",
     "output_type": "stream",
     "text": [
      "100%|██████████| 128/128 [00:02<00:00, 49.39it/s]\n",
      "  5%|▍         | 6/128 [00:00<00:02, 50.80it/s]"
     ]
    },
    {
     "name": "stdout",
     "output_type": "stream",
     "text": [
      "epoch 195 train loss 0.006316855483419204\n",
      "val loss 0.0053871129639446735 mape 4.6904683113098145\n"
     ]
    },
    {
     "name": "stderr",
     "output_type": "stream",
     "text": [
      "100%|██████████| 128/128 [00:02<00:00, 49.32it/s]\n",
      "  4%|▍         | 5/128 [00:00<00:02, 49.93it/s]"
     ]
    },
    {
     "name": "stdout",
     "output_type": "stream",
     "text": [
      "epoch 196 train loss 0.0074425664242880885\n",
      "val loss 0.00355843105353415 mape 5.497766017913818\n"
     ]
    },
    {
     "name": "stderr",
     "output_type": "stream",
     "text": [
      "100%|██████████| 128/128 [00:02<00:00, 49.71it/s]\n",
      "  5%|▍         | 6/128 [00:00<00:02, 49.79it/s]"
     ]
    },
    {
     "name": "stdout",
     "output_type": "stream",
     "text": [
      "epoch 197 train loss 0.007145122052861552\n",
      "val loss 0.005161924287676811 mape 5.687292098999023\n"
     ]
    },
    {
     "name": "stderr",
     "output_type": "stream",
     "text": [
      "100%|██████████| 128/128 [00:02<00:00, 49.30it/s]\n",
      "  4%|▍         | 5/128 [00:00<00:02, 49.14it/s]"
     ]
    },
    {
     "name": "stdout",
     "output_type": "stream",
     "text": [
      "epoch 198 train loss 0.00736642777974339\n",
      "val loss 0.002398163080215454 mape 5.213738918304443\n"
     ]
    },
    {
     "name": "stderr",
     "output_type": "stream",
     "text": [
      "100%|██████████| 128/128 [00:02<00:00, 49.18it/s]\n",
      "  4%|▍         | 5/128 [00:00<00:02, 48.89it/s]"
     ]
    },
    {
     "name": "stdout",
     "output_type": "stream",
     "text": [
      "epoch 199 train loss 0.007962900826896657\n",
      "val loss 0.007543133571743965 mape 4.727661609649658\n"
     ]
    },
    {
     "name": "stderr",
     "output_type": "stream",
     "text": [
      "100%|██████████| 128/128 [00:02<00:00, 49.15it/s]\n",
      "  5%|▍         | 6/128 [00:00<00:02, 50.49it/s]"
     ]
    },
    {
     "name": "stdout",
     "output_type": "stream",
     "text": [
      "epoch 200 train loss 0.00762799485346477\n",
      "val loss 0.004424050450325012 mape 5.243913173675537\n"
     ]
    },
    {
     "name": "stderr",
     "output_type": "stream",
     "text": [
      "100%|██████████| 128/128 [00:02<00:00, 49.09it/s]\n",
      "  5%|▍         | 6/128 [00:00<00:02, 50.26it/s]"
     ]
    },
    {
     "name": "stdout",
     "output_type": "stream",
     "text": [
      "epoch 201 train loss 0.007671852418752678\n",
      "val loss 0.0028780640568584204 mape 5.193702697753906\n"
     ]
    },
    {
     "name": "stderr",
     "output_type": "stream",
     "text": [
      "100%|██████████| 128/128 [00:02<00:00, 49.70it/s]\n",
      "  4%|▍         | 5/128 [00:00<00:02, 48.99it/s]"
     ]
    },
    {
     "name": "stdout",
     "output_type": "stream",
     "text": [
      "epoch 202 train loss 0.007323726293179789\n",
      "val loss 0.008461982011795044 mape 5.749234199523926\n"
     ]
    },
    {
     "name": "stderr",
     "output_type": "stream",
     "text": [
      "100%|██████████| 128/128 [00:02<00:00, 49.50it/s]\n",
      "  4%|▍         | 5/128 [00:00<00:02, 49.66it/s]"
     ]
    },
    {
     "name": "stdout",
     "output_type": "stream",
     "text": [
      "epoch 203 train loss 0.008426391301327385\n",
      "val loss 0.007613228168338537 mape 5.316593647003174\n"
     ]
    },
    {
     "name": "stderr",
     "output_type": "stream",
     "text": [
      "100%|██████████| 128/128 [00:02<00:00, 49.45it/s]\n",
      "  5%|▍         | 6/128 [00:00<00:02, 50.55it/s]"
     ]
    },
    {
     "name": "stdout",
     "output_type": "stream",
     "text": [
      "epoch 204 train loss 0.0066714890399453\n",
      "val loss 0.003618419636040926 mape 5.590382099151611\n"
     ]
    },
    {
     "name": "stderr",
     "output_type": "stream",
     "text": [
      "100%|██████████| 128/128 [00:02<00:00, 49.62it/s]\n",
      "  5%|▍         | 6/128 [00:00<00:02, 49.83it/s]"
     ]
    },
    {
     "name": "stdout",
     "output_type": "stream",
     "text": [
      "epoch 205 train loss 0.008200837489312107\n",
      "val loss 0.002963901963084936 mape 4.906163692474365\n"
     ]
    },
    {
     "name": "stderr",
     "output_type": "stream",
     "text": [
      "100%|██████████| 128/128 [00:02<00:00, 49.64it/s]\n",
      "  5%|▍         | 6/128 [00:00<00:02, 49.73it/s]"
     ]
    },
    {
     "name": "stdout",
     "output_type": "stream",
     "text": [
      "epoch 206 train loss 0.007641987860552035\n",
      "val loss 0.003181720618158579 mape 5.222653865814209\n"
     ]
    },
    {
     "name": "stderr",
     "output_type": "stream",
     "text": [
      "100%|██████████| 128/128 [00:02<00:00, 49.45it/s]\n",
      "  5%|▍         | 6/128 [00:00<00:02, 50.01it/s]"
     ]
    },
    {
     "name": "stdout",
     "output_type": "stream",
     "text": [
      "epoch 207 train loss 0.008869643372236169\n",
      "val loss 0.0028604648541659117 mape 5.401157855987549\n"
     ]
    },
    {
     "name": "stderr",
     "output_type": "stream",
     "text": [
      "100%|██████████| 128/128 [00:02<00:00, 49.21it/s]\n",
      "  5%|▍         | 6/128 [00:00<00:02, 49.43it/s]"
     ]
    },
    {
     "name": "stdout",
     "output_type": "stream",
     "text": [
      "epoch 208 train loss 0.007013469843514031\n",
      "val loss 0.00842900201678276 mape 6.0791521072387695\n"
     ]
    },
    {
     "name": "stderr",
     "output_type": "stream",
     "text": [
      "100%|██████████| 128/128 [00:02<00:00, 49.48it/s]\n",
      "  5%|▍         | 6/128 [00:00<00:02, 53.37it/s]"
     ]
    },
    {
     "name": "stdout",
     "output_type": "stream",
     "text": [
      "epoch 209 train loss 0.008177880764378642\n",
      "val loss 0.003980634268373251 mape 5.12786340713501\n"
     ]
    },
    {
     "name": "stderr",
     "output_type": "stream",
     "text": [
      "100%|██████████| 128/128 [00:02<00:00, 49.69it/s]\n",
      "  4%|▍         | 5/128 [00:00<00:02, 49.83it/s]"
     ]
    },
    {
     "name": "stdout",
     "output_type": "stream",
     "text": [
      "epoch 210 train loss 0.007473395648958103\n",
      "val loss 0.0035098090302199125 mape 5.56890344619751\n"
     ]
    },
    {
     "name": "stderr",
     "output_type": "stream",
     "text": [
      "100%|██████████| 128/128 [00:02<00:00, 49.52it/s]\n",
      "  4%|▍         | 5/128 [00:00<00:02, 49.44it/s]"
     ]
    },
    {
     "name": "stdout",
     "output_type": "stream",
     "text": [
      "epoch 211 train loss 0.00661506425603875\n",
      "val loss 0.0030926745384931564 mape 5.236255168914795\n"
     ]
    },
    {
     "name": "stderr",
     "output_type": "stream",
     "text": [
      "100%|██████████| 128/128 [00:02<00:00, 49.74it/s]\n",
      "  5%|▍         | 6/128 [00:00<00:02, 50.75it/s]"
     ]
    },
    {
     "name": "stdout",
     "output_type": "stream",
     "text": [
      "epoch 212 train loss 0.007906371160970593\n",
      "val loss 0.003782148938626051 mape 5.386068344116211\n"
     ]
    },
    {
     "name": "stderr",
     "output_type": "stream",
     "text": [
      "100%|██████████| 128/128 [00:02<00:00, 49.56it/s]\n",
      "  4%|▍         | 5/128 [00:00<00:02, 49.55it/s]"
     ]
    },
    {
     "name": "stdout",
     "output_type": "stream",
     "text": [
      "epoch 213 train loss 0.007363877993157075\n",
      "val loss 0.00349611509591341 mape 4.99176025390625\n"
     ]
    },
    {
     "name": "stderr",
     "output_type": "stream",
     "text": [
      "100%|██████████| 128/128 [00:02<00:00, 49.55it/s]\n",
      "  5%|▍         | 6/128 [00:00<00:02, 50.49it/s]"
     ]
    },
    {
     "name": "stdout",
     "output_type": "stream",
     "text": [
      "epoch 214 train loss 0.006907081065037346\n",
      "val loss 0.0052429200150072575 mape 5.585988998413086\n"
     ]
    },
    {
     "name": "stderr",
     "output_type": "stream",
     "text": [
      "100%|██████████| 128/128 [00:02<00:00, 49.41it/s]\n",
      "  4%|▍         | 5/128 [00:00<00:02, 49.59it/s]"
     ]
    },
    {
     "name": "stdout",
     "output_type": "stream",
     "text": [
      "epoch 215 train loss 0.0066447854887883295\n",
      "val loss 0.0029269119258970022 mape 4.9682698249816895\n"
     ]
    },
    {
     "name": "stderr",
     "output_type": "stream",
     "text": [
      "100%|██████████| 128/128 [00:02<00:00, 49.62it/s]\n",
      "  5%|▍         | 6/128 [00:00<00:02, 49.67it/s]"
     ]
    },
    {
     "name": "stdout",
     "output_type": "stream",
     "text": [
      "epoch 216 train loss 0.007943049571622396\n",
      "val loss 0.005486028268933296 mape 5.661890506744385\n"
     ]
    },
    {
     "name": "stderr",
     "output_type": "stream",
     "text": [
      "100%|██████████| 128/128 [00:02<00:00, 49.55it/s]\n",
      "  5%|▍         | 6/128 [00:00<00:02, 54.31it/s]"
     ]
    },
    {
     "name": "stdout",
     "output_type": "stream",
     "text": [
      "epoch 217 train loss 0.007331918650379521\n",
      "val loss 0.008151711896061897 mape 4.5407938957214355\n"
     ]
    },
    {
     "name": "stderr",
     "output_type": "stream",
     "text": [
      "100%|██████████| 128/128 [00:02<00:00, 49.67it/s]\n",
      "  5%|▍         | 6/128 [00:00<00:02, 49.41it/s]"
     ]
    },
    {
     "name": "stdout",
     "output_type": "stream",
     "text": [
      "epoch 218 train loss 0.007401187099276285\n",
      "val loss 0.0037002458702772856 mape 5.560009002685547\n"
     ]
    },
    {
     "name": "stderr",
     "output_type": "stream",
     "text": [
      "100%|██████████| 128/128 [00:02<00:00, 49.70it/s]\n",
      "  4%|▍         | 5/128 [00:00<00:02, 48.94it/s]"
     ]
    },
    {
     "name": "stdout",
     "output_type": "stream",
     "text": [
      "epoch 219 train loss 0.008586826023929461\n",
      "val loss 0.003951969090849161 mape 5.254896640777588\n"
     ]
    },
    {
     "name": "stderr",
     "output_type": "stream",
     "text": [
      "100%|██████████| 128/128 [00:02<00:00, 49.38it/s]\n",
      "  4%|▍         | 5/128 [00:00<00:02, 49.83it/s]"
     ]
    },
    {
     "name": "stdout",
     "output_type": "stream",
     "text": [
      "epoch 220 train loss 0.006972156411393371\n",
      "val loss 0.0025589007418602705 mape 4.936558246612549\n"
     ]
    },
    {
     "name": "stderr",
     "output_type": "stream",
     "text": [
      "100%|██████████| 128/128 [00:02<00:00, 49.21it/s]\n",
      "  4%|▍         | 5/128 [00:00<00:02, 49.40it/s]"
     ]
    },
    {
     "name": "stdout",
     "output_type": "stream",
     "text": [
      "epoch 221 train loss 0.0076595490445470205\n",
      "val loss 0.003127009840682149 mape 5.286892414093018\n"
     ]
    },
    {
     "name": "stderr",
     "output_type": "stream",
     "text": [
      "100%|██████████| 128/128 [00:02<00:00, 49.48it/s]\n",
      "  4%|▍         | 5/128 [00:00<00:02, 49.80it/s]"
     ]
    },
    {
     "name": "stdout",
     "output_type": "stream",
     "text": [
      "epoch 222 train loss 0.006182137011819577\n",
      "val loss 0.006152668967843056 mape 4.584705352783203\n"
     ]
    },
    {
     "name": "stderr",
     "output_type": "stream",
     "text": [
      "100%|██████████| 128/128 [00:02<00:00, 49.86it/s]\n",
      "  4%|▍         | 5/128 [00:00<00:02, 49.46it/s]"
     ]
    },
    {
     "name": "stdout",
     "output_type": "stream",
     "text": [
      "epoch 223 train loss 0.007003993868238467\n",
      "val loss 0.006416091695427895 mape 4.8011274337768555\n"
     ]
    },
    {
     "name": "stderr",
     "output_type": "stream",
     "text": [
      "100%|██████████| 128/128 [00:02<00:00, 49.50it/s]\n",
      "  4%|▍         | 5/128 [00:00<00:02, 49.95it/s]"
     ]
    },
    {
     "name": "stdout",
     "output_type": "stream",
     "text": [
      "epoch 224 train loss 0.007857912707549985\n",
      "val loss 0.006090471055358648 mape 5.7039923667907715\n"
     ]
    },
    {
     "name": "stderr",
     "output_type": "stream",
     "text": [
      "100%|██████████| 128/128 [00:02<00:00, 49.71it/s]\n",
      "  5%|▍         | 6/128 [00:00<00:02, 49.39it/s]"
     ]
    },
    {
     "name": "stdout",
     "output_type": "stream",
     "text": [
      "epoch 225 train loss 0.00691659773565334\n",
      "val loss 0.0051490748301148415 mape 4.747047424316406\n"
     ]
    },
    {
     "name": "stderr",
     "output_type": "stream",
     "text": [
      "100%|██████████| 128/128 [00:02<00:00, 49.34it/s]\n",
      "  4%|▍         | 5/128 [00:00<00:02, 49.13it/s]"
     ]
    },
    {
     "name": "stdout",
     "output_type": "stream",
     "text": [
      "epoch 226 train loss 0.006191201091496623\n",
      "val loss 0.002257825341075659 mape 5.285431385040283\n"
     ]
    },
    {
     "name": "stderr",
     "output_type": "stream",
     "text": [
      "100%|██████████| 128/128 [00:02<00:00, 49.44it/s]\n",
      "  4%|▍         | 5/128 [00:00<00:02, 49.60it/s]"
     ]
    },
    {
     "name": "stdout",
     "output_type": "stream",
     "text": [
      "epoch 227 train loss 0.006581768718206149\n",
      "val loss 0.004802734591066837 mape 5.071598529815674\n"
     ]
    },
    {
     "name": "stderr",
     "output_type": "stream",
     "text": [
      "100%|██████████| 128/128 [00:02<00:00, 49.66it/s]\n",
      "  4%|▍         | 5/128 [00:00<00:02, 49.89it/s]"
     ]
    },
    {
     "name": "stdout",
     "output_type": "stream",
     "text": [
      "epoch 228 train loss 0.007924829003968625\n",
      "val loss 0.003937681671231985 mape 5.443246364593506\n"
     ]
    },
    {
     "name": "stderr",
     "output_type": "stream",
     "text": [
      "100%|██████████| 128/128 [00:02<00:00, 49.64it/s]\n",
      "  5%|▍         | 6/128 [00:00<00:02, 49.98it/s]"
     ]
    },
    {
     "name": "stdout",
     "output_type": "stream",
     "text": [
      "epoch 229 train loss 0.0076714088063454255\n",
      "val loss 0.002608612645417452 mape 5.135127544403076\n"
     ]
    },
    {
     "name": "stderr",
     "output_type": "stream",
     "text": [
      "100%|██████████| 128/128 [00:02<00:00, 49.53it/s]\n",
      "  5%|▍         | 6/128 [00:00<00:02, 50.52it/s]"
     ]
    },
    {
     "name": "stdout",
     "output_type": "stream",
     "text": [
      "epoch 230 train loss 0.007040564611997979\n",
      "val loss 0.0029529090970754623 mape 5.163510322570801\n"
     ]
    },
    {
     "name": "stderr",
     "output_type": "stream",
     "text": [
      "100%|██████████| 128/128 [00:02<00:00, 49.77it/s]\n",
      "  5%|▍         | 6/128 [00:00<00:02, 50.44it/s]"
     ]
    },
    {
     "name": "stdout",
     "output_type": "stream",
     "text": [
      "epoch 231 train loss 0.007052908528748958\n",
      "val loss 0.0026571769267320633 mape 5.272284984588623\n"
     ]
    },
    {
     "name": "stderr",
     "output_type": "stream",
     "text": [
      "100%|██████████| 128/128 [00:02<00:00, 49.80it/s]\n",
      "  5%|▍         | 6/128 [00:00<00:02, 49.90it/s]"
     ]
    },
    {
     "name": "stdout",
     "output_type": "stream",
     "text": [
      "epoch 232 train loss 0.008678664540639147\n",
      "val loss 0.0065643880516290665 mape 4.73652982711792\n"
     ]
    },
    {
     "name": "stderr",
     "output_type": "stream",
     "text": [
      "100%|██████████| 128/128 [00:02<00:00, 49.54it/s]\n",
      "  5%|▍         | 6/128 [00:00<00:02, 49.98it/s]"
     ]
    },
    {
     "name": "stdout",
     "output_type": "stream",
     "text": [
      "epoch 233 train loss 0.007215333831481985\n",
      "val loss 0.007765760645270348 mape 5.905754566192627\n"
     ]
    },
    {
     "name": "stderr",
     "output_type": "stream",
     "text": [
      "100%|██████████| 128/128 [00:02<00:00, 49.32it/s]\n",
      "  5%|▍         | 6/128 [00:00<00:02, 50.87it/s]"
     ]
    },
    {
     "name": "stdout",
     "output_type": "stream",
     "text": [
      "epoch 234 train loss 0.007219332892418606\n",
      "val loss 0.006374041549861431 mape 5.470494747161865\n"
     ]
    },
    {
     "name": "stderr",
     "output_type": "stream",
     "text": [
      "100%|██████████| 128/128 [00:02<00:00, 49.19it/s]\n",
      "  5%|▍         | 6/128 [00:00<00:02, 50.45it/s]"
     ]
    },
    {
     "name": "stdout",
     "output_type": "stream",
     "text": [
      "epoch 235 train loss 0.0075680626923713135\n",
      "val loss 0.005766234826296568 mape 4.866605281829834\n"
     ]
    },
    {
     "name": "stderr",
     "output_type": "stream",
     "text": [
      "100%|██████████| 128/128 [00:02<00:00, 49.15it/s]\n",
      "  4%|▍         | 5/128 [00:00<00:02, 49.72it/s]"
     ]
    },
    {
     "name": "stdout",
     "output_type": "stream",
     "text": [
      "epoch 236 train loss 0.00863331999789807\n",
      "val loss 0.002235202584415674 mape 5.075533866882324\n"
     ]
    },
    {
     "name": "stderr",
     "output_type": "stream",
     "text": [
      "100%|██████████| 128/128 [00:02<00:00, 49.40it/s]\n",
      "  4%|▍         | 5/128 [00:00<00:02, 49.08it/s]"
     ]
    },
    {
     "name": "stdout",
     "output_type": "stream",
     "text": [
      "epoch 237 train loss 0.009171670083560457\n",
      "val loss 0.0028456291183829308 mape 4.938780784606934\n"
     ]
    },
    {
     "name": "stderr",
     "output_type": "stream",
     "text": [
      "100%|██████████| 128/128 [00:02<00:00, 49.04it/s]\n",
      "  5%|▍         | 6/128 [00:00<00:02, 54.00it/s]"
     ]
    },
    {
     "name": "stdout",
     "output_type": "stream",
     "text": [
      "epoch 238 train loss 0.007040495203909813\n",
      "val loss 0.0031203869730234146 mape 5.333256721496582\n"
     ]
    },
    {
     "name": "stderr",
     "output_type": "stream",
     "text": [
      "100%|██████████| 128/128 [00:02<00:00, 49.68it/s]\n",
      "  5%|▍         | 6/128 [00:00<00:02, 50.65it/s]"
     ]
    },
    {
     "name": "stdout",
     "output_type": "stream",
     "text": [
      "epoch 239 train loss 0.007418308374326443\n",
      "val loss 0.002908431924879551 mape 5.343400478363037\n"
     ]
    },
    {
     "name": "stderr",
     "output_type": "stream",
     "text": [
      "100%|██████████| 128/128 [00:02<00:00, 49.41it/s]\n",
      "  4%|▍         | 5/128 [00:00<00:02, 49.83it/s]"
     ]
    },
    {
     "name": "stdout",
     "output_type": "stream",
     "text": [
      "epoch 240 train loss 0.007135266376280924\n",
      "val loss 0.005149625241756439 mape 5.538410663604736\n"
     ]
    },
    {
     "name": "stderr",
     "output_type": "stream",
     "text": [
      "100%|██████████| 128/128 [00:02<00:00, 49.30it/s]\n",
      "  5%|▍         | 6/128 [00:00<00:02, 50.70it/s]"
     ]
    },
    {
     "name": "stdout",
     "output_type": "stream",
     "text": [
      "epoch 241 train loss 0.00692717898527917\n",
      "val loss 0.003011220134794712 mape 4.871591567993164\n"
     ]
    },
    {
     "name": "stderr",
     "output_type": "stream",
     "text": [
      "100%|██████████| 128/128 [00:02<00:00, 49.41it/s]\n",
      "  5%|▍         | 6/128 [00:00<00:02, 51.08it/s]"
     ]
    },
    {
     "name": "stdout",
     "output_type": "stream",
     "text": [
      "epoch 242 train loss 0.0076888948960913694\n",
      "val loss 0.002904207445681095 mape 5.2922186851501465\n"
     ]
    },
    {
     "name": "stderr",
     "output_type": "stream",
     "text": [
      "100%|██████████| 128/128 [00:02<00:00, 49.48it/s]\n",
      "  4%|▍         | 5/128 [00:00<00:02, 48.49it/s]"
     ]
    },
    {
     "name": "stdout",
     "output_type": "stream",
     "text": [
      "epoch 243 train loss 0.007375102040896309\n",
      "val loss 0.004753869958221912 mape 5.424591064453125\n"
     ]
    },
    {
     "name": "stderr",
     "output_type": "stream",
     "text": [
      "100%|██████████| 128/128 [00:02<00:00, 49.63it/s]\n",
      "  5%|▍         | 6/128 [00:00<00:02, 50.44it/s]"
     ]
    },
    {
     "name": "stdout",
     "output_type": "stream",
     "text": [
      "epoch 244 train loss 0.007946093260216003\n",
      "val loss 0.002682615304365754 mape 5.004928112030029\n"
     ]
    },
    {
     "name": "stderr",
     "output_type": "stream",
     "text": [
      "100%|██████████| 128/128 [00:02<00:00, 49.38it/s]\n",
      "  4%|▍         | 5/128 [00:00<00:02, 49.26it/s]"
     ]
    },
    {
     "name": "stdout",
     "output_type": "stream",
     "text": [
      "epoch 245 train loss 0.00811844088457292\n",
      "val loss 0.005492274649441242 mape 5.629370212554932\n"
     ]
    },
    {
     "name": "stderr",
     "output_type": "stream",
     "text": [
      "100%|██████████| 128/128 [00:02<00:00, 49.59it/s]\n",
      "  5%|▍         | 6/128 [00:00<00:02, 49.75it/s]"
     ]
    },
    {
     "name": "stdout",
     "output_type": "stream",
     "text": [
      "epoch 246 train loss 0.006896261383189994\n",
      "val loss 0.003487723646685481 mape 5.037786483764648\n"
     ]
    },
    {
     "name": "stderr",
     "output_type": "stream",
     "text": [
      "100%|██████████| 128/128 [00:02<00:00, 49.32it/s]\n",
      "  5%|▍         | 6/128 [00:00<00:02, 49.50it/s]"
     ]
    },
    {
     "name": "stdout",
     "output_type": "stream",
     "text": [
      "epoch 247 train loss 0.00768758135563985\n",
      "val loss 0.0028537206817418337 mape 5.170507907867432\n"
     ]
    },
    {
     "name": "stderr",
     "output_type": "stream",
     "text": [
      "100%|██████████| 128/128 [00:02<00:00, 49.51it/s]\n",
      "  5%|▍         | 6/128 [00:00<00:02, 50.38it/s]"
     ]
    },
    {
     "name": "stdout",
     "output_type": "stream",
     "text": [
      "epoch 248 train loss 0.007653873509298137\n",
      "val loss 0.00443156436085701 mape 5.543127536773682\n"
     ]
    },
    {
     "name": "stderr",
     "output_type": "stream",
     "text": [
      "100%|██████████| 128/128 [00:02<00:00, 49.27it/s]\n",
      "  5%|▍         | 6/128 [00:00<00:02, 49.55it/s]"
     ]
    },
    {
     "name": "stdout",
     "output_type": "stream",
     "text": [
      "epoch 249 train loss 0.007824617774531362\n",
      "val loss 0.002832143334671855 mape 4.804109573364258\n"
     ]
    },
    {
     "name": "stderr",
     "output_type": "stream",
     "text": [
      "100%|██████████| 128/128 [00:02<00:00, 49.44it/s]\n",
      "  5%|▍         | 6/128 [00:00<00:02, 50.76it/s]"
     ]
    },
    {
     "name": "stdout",
     "output_type": "stream",
     "text": [
      "epoch 250 train loss 0.007906861615992966\n",
      "val loss 0.008450310677289963 mape 5.026589393615723\n"
     ]
    },
    {
     "name": "stderr",
     "output_type": "stream",
     "text": [
      "100%|██████████| 128/128 [00:02<00:00, 49.86it/s]\n",
      "  4%|▍         | 5/128 [00:00<00:02, 49.66it/s]"
     ]
    },
    {
     "name": "stdout",
     "output_type": "stream",
     "text": [
      "epoch 251 train loss 0.006263528009185393\n",
      "val loss 0.002734666457399726 mape 4.992059230804443\n"
     ]
    },
    {
     "name": "stderr",
     "output_type": "stream",
     "text": [
      "100%|██████████| 128/128 [00:02<00:00, 49.78it/s]\n",
      "  5%|▍         | 6/128 [00:00<00:02, 50.74it/s]"
     ]
    },
    {
     "name": "stdout",
     "output_type": "stream",
     "text": [
      "epoch 252 train loss 0.006725999071932165\n",
      "val loss 0.0036125807091593742 mape 4.924157619476318\n"
     ]
    },
    {
     "name": "stderr",
     "output_type": "stream",
     "text": [
      "100%|██████████| 128/128 [00:02<00:00, 49.36it/s]\n",
      "  5%|▍         | 6/128 [00:00<00:02, 50.46it/s]"
     ]
    },
    {
     "name": "stdout",
     "output_type": "stream",
     "text": [
      "epoch 253 train loss 0.007638110443622281\n",
      "val loss 0.004620404448360205 mape 5.597921848297119\n"
     ]
    },
    {
     "name": "stderr",
     "output_type": "stream",
     "text": [
      "100%|██████████| 128/128 [00:02<00:00, 48.99it/s]\n",
      "  5%|▍         | 6/128 [00:00<00:02, 49.47it/s]"
     ]
    },
    {
     "name": "stdout",
     "output_type": "stream",
     "text": [
      "epoch 254 train loss 0.006846263369880035\n",
      "val loss 0.0035308366641402245 mape 5.13234806060791\n"
     ]
    },
    {
     "name": "stderr",
     "output_type": "stream",
     "text": [
      "100%|██████████| 128/128 [00:02<00:00, 49.43it/s]\n",
      "  5%|▍         | 6/128 [00:00<00:02, 50.18it/s]"
     ]
    },
    {
     "name": "stdout",
     "output_type": "stream",
     "text": [
      "epoch 255 train loss 0.008449103829661908\n",
      "val loss 0.0039038110990077257 mape 4.951623916625977\n"
     ]
    },
    {
     "name": "stderr",
     "output_type": "stream",
     "text": [
      "100%|██████████| 128/128 [00:02<00:00, 49.52it/s]\n",
      "  5%|▍         | 6/128 [00:00<00:02, 49.33it/s]"
     ]
    },
    {
     "name": "stdout",
     "output_type": "stream",
     "text": [
      "epoch 256 train loss 0.007167798737100384\n",
      "val loss 0.0038490353617817163 mape 5.4158101081848145\n"
     ]
    },
    {
     "name": "stderr",
     "output_type": "stream",
     "text": [
      "100%|██████████| 128/128 [00:02<00:00, 49.40it/s]\n",
      "  5%|▍         | 6/128 [00:00<00:02, 49.60it/s]"
     ]
    },
    {
     "name": "stdout",
     "output_type": "stream",
     "text": [
      "epoch 257 train loss 0.007088000044859655\n",
      "val loss 0.002342302119359374 mape 5.095601558685303\n"
     ]
    },
    {
     "name": "stderr",
     "output_type": "stream",
     "text": [
      "100%|██████████| 128/128 [00:02<00:00, 49.69it/s]\n",
      "  5%|▍         | 6/128 [00:00<00:02, 50.58it/s]"
     ]
    },
    {
     "name": "stdout",
     "output_type": "stream",
     "text": [
      "epoch 258 train loss 0.0074692270018204\n",
      "val loss 0.007480536587536335 mape 5.957901477813721\n"
     ]
    },
    {
     "name": "stderr",
     "output_type": "stream",
     "text": [
      "100%|██████████| 128/128 [00:02<00:00, 49.61it/s]\n",
      "  4%|▍         | 5/128 [00:00<00:02, 49.83it/s]"
     ]
    },
    {
     "name": "stdout",
     "output_type": "stream",
     "text": [
      "epoch 259 train loss 0.008185834171854367\n",
      "val loss 0.0056350622326135635 mape 5.632904052734375\n"
     ]
    },
    {
     "name": "stderr",
     "output_type": "stream",
     "text": [
      "100%|██████████| 128/128 [00:02<00:00, 49.55it/s]\n",
      "  4%|▍         | 5/128 [00:00<00:02, 49.52it/s]"
     ]
    },
    {
     "name": "stdout",
     "output_type": "stream",
     "text": [
      "epoch 260 train loss 0.0071391951914847596\n",
      "val loss 0.007126742973923683 mape 5.805382251739502\n"
     ]
    },
    {
     "name": "stderr",
     "output_type": "stream",
     "text": [
      "100%|██████████| 128/128 [00:02<00:00, 49.65it/s]\n",
      "  5%|▍         | 6/128 [00:00<00:02, 50.99it/s]"
     ]
    },
    {
     "name": "stdout",
     "output_type": "stream",
     "text": [
      "epoch 261 train loss 0.0071585968744329875\n",
      "val loss 0.004462019540369511 mape 4.610573768615723\n"
     ]
    },
    {
     "name": "stderr",
     "output_type": "stream",
     "text": [
      "100%|██████████| 128/128 [00:02<00:00, 49.72it/s]\n",
      "  4%|▍         | 5/128 [00:00<00:02, 49.68it/s]"
     ]
    },
    {
     "name": "stdout",
     "output_type": "stream",
     "text": [
      "epoch 262 train loss 0.007320196747059526\n",
      "val loss 0.005450855940580368 mape 5.68978214263916\n"
     ]
    },
    {
     "name": "stderr",
     "output_type": "stream",
     "text": [
      "100%|██████████| 128/128 [00:02<00:00, 49.04it/s]\n",
      "  4%|▍         | 5/128 [00:00<00:02, 49.92it/s]"
     ]
    },
    {
     "name": "stdout",
     "output_type": "stream",
     "text": [
      "epoch 263 train loss 0.007967310330059263\n",
      "val loss 0.0028715766966342926 mape 5.4081711769104\n"
     ]
    },
    {
     "name": "stderr",
     "output_type": "stream",
     "text": [
      "100%|██████████| 128/128 [00:02<00:00, 49.33it/s]\n",
      "  4%|▍         | 5/128 [00:00<00:02, 49.11it/s]"
     ]
    },
    {
     "name": "stdout",
     "output_type": "stream",
     "text": [
      "epoch 264 train loss 0.007094005624821875\n",
      "val loss 0.004236485343426466 mape 5.574438095092773\n"
     ]
    },
    {
     "name": "stderr",
     "output_type": "stream",
     "text": [
      "100%|██████████| 128/128 [00:02<00:00, 49.23it/s]\n",
      "  4%|▍         | 5/128 [00:00<00:02, 49.78it/s]"
     ]
    },
    {
     "name": "stdout",
     "output_type": "stream",
     "text": [
      "epoch 265 train loss 0.007433261157530069\n",
      "val loss 0.00303983548656106 mape 4.717027187347412\n"
     ]
    },
    {
     "name": "stderr",
     "output_type": "stream",
     "text": [
      "100%|██████████| 128/128 [00:02<00:00, 49.25it/s]\n",
      "  4%|▍         | 5/128 [00:00<00:02, 49.29it/s]"
     ]
    },
    {
     "name": "stdout",
     "output_type": "stream",
     "text": [
      "epoch 266 train loss 0.0068658486461572465\n",
      "val loss 0.005000830162316561 mape 5.821168899536133\n"
     ]
    },
    {
     "name": "stderr",
     "output_type": "stream",
     "text": [
      "100%|██████████| 128/128 [00:02<00:00, 49.67it/s]\n",
      "  5%|▍         | 6/128 [00:00<00:02, 53.47it/s]"
     ]
    },
    {
     "name": "stdout",
     "output_type": "stream",
     "text": [
      "epoch 267 train loss 0.0068779565235672635\n",
      "val loss 0.0036704286467283964 mape 4.961662292480469\n"
     ]
    },
    {
     "name": "stderr",
     "output_type": "stream",
     "text": [
      "100%|██████████| 128/128 [00:02<00:00, 49.31it/s]\n",
      "  4%|▍         | 5/128 [00:00<00:02, 49.43it/s]"
     ]
    },
    {
     "name": "stdout",
     "output_type": "stream",
     "text": [
      "epoch 268 train loss 0.007759654228721047\n",
      "val loss 0.003518471261486411 mape 5.273388385772705\n"
     ]
    },
    {
     "name": "stderr",
     "output_type": "stream",
     "text": [
      "100%|██████████| 128/128 [00:02<00:00, 49.62it/s]\n",
      "  5%|▍         | 6/128 [00:00<00:02, 49.97it/s]"
     ]
    },
    {
     "name": "stdout",
     "output_type": "stream",
     "text": [
      "epoch 269 train loss 0.007010390017967438\n",
      "val loss 0.005952269770205021 mape 5.526163578033447\n"
     ]
    },
    {
     "name": "stderr",
     "output_type": "stream",
     "text": [
      "100%|██████████| 128/128 [00:02<00:00, 49.72it/s]\n",
      "  4%|▍         | 5/128 [00:00<00:02, 49.65it/s]"
     ]
    },
    {
     "name": "stdout",
     "output_type": "stream",
     "text": [
      "epoch 270 train loss 0.006344208713016997\n",
      "val loss 0.005203522741794586 mape 5.624640464782715\n"
     ]
    },
    {
     "name": "stderr",
     "output_type": "stream",
     "text": [
      "100%|██████████| 128/128 [00:02<00:00, 49.76it/s]\n",
      "  4%|▍         | 5/128 [00:00<00:02, 49.91it/s]"
     ]
    },
    {
     "name": "stdout",
     "output_type": "stream",
     "text": [
      "epoch 271 train loss 0.0077694439660263015\n",
      "val loss 0.0027349533047527075 mape 5.390540599822998\n"
     ]
    },
    {
     "name": "stderr",
     "output_type": "stream",
     "text": [
      "100%|██████████| 128/128 [00:02<00:00, 49.79it/s]\n",
      "  4%|▍         | 5/128 [00:00<00:02, 49.53it/s]"
     ]
    },
    {
     "name": "stdout",
     "output_type": "stream",
     "text": [
      "epoch 272 train loss 0.007820201513823122\n",
      "val loss 0.002731829648837447 mape 5.383644104003906\n"
     ]
    },
    {
     "name": "stderr",
     "output_type": "stream",
     "text": [
      "100%|██████████| 128/128 [00:02<00:00, 50.66it/s]\n",
      "  4%|▍         | 5/128 [00:00<00:02, 49.87it/s]"
     ]
    },
    {
     "name": "stdout",
     "output_type": "stream",
     "text": [
      "epoch 273 train loss 0.007228116736769152\n",
      "val loss 0.006359668914228678 mape 5.882044315338135\n"
     ]
    },
    {
     "name": "stderr",
     "output_type": "stream",
     "text": [
      "100%|██████████| 128/128 [00:02<00:00, 49.53it/s]\n",
      "  4%|▍         | 5/128 [00:00<00:02, 49.64it/s]"
     ]
    },
    {
     "name": "stdout",
     "output_type": "stream",
     "text": [
      "epoch 274 train loss 0.007925645929390157\n",
      "val loss 0.015925679355859756 mape 6.245484828948975\n"
     ]
    },
    {
     "name": "stderr",
     "output_type": "stream",
     "text": [
      "100%|██████████| 128/128 [00:02<00:00, 49.60it/s]\n",
      "  5%|▍         | 6/128 [00:00<00:02, 49.94it/s]"
     ]
    },
    {
     "name": "stdout",
     "output_type": "stream",
     "text": [
      "epoch 275 train loss 0.007113719375411165\n",
      "val loss 0.0036608537193387747 mape 4.7038469314575195\n"
     ]
    },
    {
     "name": "stderr",
     "output_type": "stream",
     "text": [
      "100%|██████████| 128/128 [00:02<00:00, 49.53it/s]\n",
      "  5%|▍         | 6/128 [00:00<00:02, 49.79it/s]"
     ]
    },
    {
     "name": "stdout",
     "output_type": "stream",
     "text": [
      "epoch 276 train loss 0.006740002003425616\n",
      "val loss 0.003928882535547018 mape 5.6782097816467285\n"
     ]
    },
    {
     "name": "stderr",
     "output_type": "stream",
     "text": [
      "100%|██████████| 128/128 [00:02<00:00, 49.25it/s]\n",
      "  4%|▍         | 5/128 [00:00<00:02, 49.20it/s]"
     ]
    },
    {
     "name": "stdout",
     "output_type": "stream",
     "text": [
      "epoch 277 train loss 0.006534949015076563\n",
      "val loss 0.0021703671663999557 mape 5.144183158874512\n"
     ]
    },
    {
     "name": "stderr",
     "output_type": "stream",
     "text": [
      "100%|██████████| 128/128 [00:02<00:00, 49.56it/s]\n",
      "  5%|▍         | 6/128 [00:00<00:02, 50.10it/s]"
     ]
    },
    {
     "name": "stdout",
     "output_type": "stream",
     "text": [
      "epoch 278 train loss 0.006694857710499491\n",
      "val loss 0.0031455669086426497 mape 4.817716598510742\n"
     ]
    },
    {
     "name": "stderr",
     "output_type": "stream",
     "text": [
      "100%|██████████| 128/128 [00:02<00:00, 49.81it/s]\n",
      "  5%|▍         | 6/128 [00:00<00:02, 50.77it/s]"
     ]
    },
    {
     "name": "stdout",
     "output_type": "stream",
     "text": [
      "epoch 279 train loss 0.007502631117858982\n",
      "val loss 0.005016762763261795 mape 5.704472541809082\n"
     ]
    },
    {
     "name": "stderr",
     "output_type": "stream",
     "text": [
      "100%|██████████| 128/128 [00:02<00:00, 49.90it/s]\n",
      "  5%|▍         | 6/128 [00:00<00:02, 51.74it/s]"
     ]
    },
    {
     "name": "stdout",
     "output_type": "stream",
     "text": [
      "epoch 280 train loss 0.007227987805890734\n",
      "val loss 0.0032643757294863462 mape 5.469544887542725\n"
     ]
    },
    {
     "name": "stderr",
     "output_type": "stream",
     "text": [
      "100%|██████████| 128/128 [00:02<00:00, 49.57it/s]\n",
      "  5%|▍         | 6/128 [00:00<00:02, 50.68it/s]"
     ]
    },
    {
     "name": "stdout",
     "output_type": "stream",
     "text": [
      "epoch 281 train loss 0.006488316148534068\n",
      "val loss 0.0023925250861793756 mape 5.169502258300781\n"
     ]
    },
    {
     "name": "stderr",
     "output_type": "stream",
     "text": [
      "100%|██████████| 128/128 [00:02<00:00, 49.24it/s]\n",
      "  5%|▍         | 6/128 [00:00<00:02, 50.76it/s]"
     ]
    },
    {
     "name": "stdout",
     "output_type": "stream",
     "text": [
      "epoch 282 train loss 0.0071251943527386175\n",
      "val loss 0.004500723443925381 mape 4.737787246704102\n"
     ]
    },
    {
     "name": "stderr",
     "output_type": "stream",
     "text": [
      "100%|██████████| 128/128 [00:02<00:00, 49.72it/s]\n",
      "  5%|▍         | 6/128 [00:00<00:02, 50.81it/s]"
     ]
    },
    {
     "name": "stdout",
     "output_type": "stream",
     "text": [
      "epoch 283 train loss 0.007147862273995997\n",
      "val loss 0.008041479624807835 mape 5.654147624969482\n"
     ]
    },
    {
     "name": "stderr",
     "output_type": "stream",
     "text": [
      "100%|██████████| 128/128 [00:02<00:00, 49.51it/s]\n",
      "  5%|▍         | 6/128 [00:00<00:02, 51.27it/s]"
     ]
    },
    {
     "name": "stdout",
     "output_type": "stream",
     "text": [
      "epoch 284 train loss 0.007264637241860328\n",
      "val loss 0.004472797736525536 mape 4.9775896072387695\n"
     ]
    },
    {
     "name": "stderr",
     "output_type": "stream",
     "text": [
      "100%|██████████| 128/128 [00:02<00:00, 49.85it/s]\n",
      "  5%|▍         | 6/128 [00:00<00:02, 50.21it/s]"
     ]
    },
    {
     "name": "stdout",
     "output_type": "stream",
     "text": [
      "epoch 285 train loss 0.007956882067446713\n",
      "val loss 0.004560614936053753 mape 4.598925590515137\n"
     ]
    },
    {
     "name": "stderr",
     "output_type": "stream",
     "text": [
      "100%|██████████| 128/128 [00:02<00:00, 49.60it/s]\n",
      "  5%|▍         | 6/128 [00:00<00:02, 51.00it/s]"
     ]
    },
    {
     "name": "stdout",
     "output_type": "stream",
     "text": [
      "epoch 286 train loss 0.007727815089310752\n",
      "val loss 0.003656602231785655 mape 5.182647705078125\n"
     ]
    },
    {
     "name": "stderr",
     "output_type": "stream",
     "text": [
      "100%|██████████| 128/128 [00:02<00:00, 49.63it/s]\n",
      "  4%|▍         | 5/128 [00:00<00:02, 49.27it/s]"
     ]
    },
    {
     "name": "stdout",
     "output_type": "stream",
     "text": [
      "epoch 287 train loss 0.006564991593222658\n",
      "val loss 0.0031447531655430794 mape 5.534865856170654\n"
     ]
    },
    {
     "name": "stderr",
     "output_type": "stream",
     "text": [
      "100%|██████████| 128/128 [00:02<00:00, 49.47it/s]\n",
      "  4%|▍         | 5/128 [00:00<00:02, 49.51it/s]"
     ]
    },
    {
     "name": "stdout",
     "output_type": "stream",
     "text": [
      "epoch 288 train loss 0.007321824822611234\n",
      "val loss 0.005927619058638811 mape 4.679961681365967\n"
     ]
    },
    {
     "name": "stderr",
     "output_type": "stream",
     "text": [
      "100%|██████████| 128/128 [00:02<00:00, 49.41it/s]\n",
      "  4%|▍         | 5/128 [00:00<00:02, 49.61it/s]"
     ]
    },
    {
     "name": "stdout",
     "output_type": "stream",
     "text": [
      "epoch 289 train loss 0.0071013230708558694\n",
      "val loss 0.006069584749639034 mape 4.681137561798096\n"
     ]
    },
    {
     "name": "stderr",
     "output_type": "stream",
     "text": [
      "100%|██████████| 128/128 [00:02<00:00, 49.58it/s]\n",
      "  4%|▍         | 5/128 [00:00<00:02, 49.47it/s]"
     ]
    },
    {
     "name": "stdout",
     "output_type": "stream",
     "text": [
      "epoch 290 train loss 0.006692327613563975\n",
      "val loss 0.004847532603889704 mape 5.589395999908447\n"
     ]
    },
    {
     "name": "stderr",
     "output_type": "stream",
     "text": [
      "100%|██████████| 128/128 [00:02<00:00, 49.21it/s]\n",
      "  5%|▍         | 6/128 [00:00<00:02, 50.34it/s]"
     ]
    },
    {
     "name": "stdout",
     "output_type": "stream",
     "text": [
      "epoch 291 train loss 0.0070075390194688225\n",
      "val loss 0.003657714929431677 mape 5.412261486053467\n"
     ]
    },
    {
     "name": "stderr",
     "output_type": "stream",
     "text": [
      "100%|██████████| 128/128 [00:02<00:00, 49.65it/s]\n",
      "  5%|▍         | 6/128 [00:00<00:02, 49.86it/s]"
     ]
    },
    {
     "name": "stdout",
     "output_type": "stream",
     "text": [
      "epoch 292 train loss 0.007534337342804065\n",
      "val loss 0.004109861329197884 mape 4.638633728027344\n"
     ]
    },
    {
     "name": "stderr",
     "output_type": "stream",
     "text": [
      "100%|██████████| 128/128 [00:02<00:00, 49.41it/s]\n",
      "  5%|▍         | 6/128 [00:00<00:02, 50.73it/s]"
     ]
    },
    {
     "name": "stdout",
     "output_type": "stream",
     "text": [
      "epoch 293 train loss 0.008294854150335595\n",
      "val loss 0.0037463121116161346 mape 4.729885578155518\n"
     ]
    },
    {
     "name": "stderr",
     "output_type": "stream",
     "text": [
      "100%|██████████| 128/128 [00:02<00:00, 49.46it/s]\n",
      "  4%|▍         | 5/128 [00:00<00:02, 49.90it/s]"
     ]
    },
    {
     "name": "stdout",
     "output_type": "stream",
     "text": [
      "epoch 294 train loss 0.007187533217802411\n",
      "val loss 0.004073092248290777 mape 5.14829683303833\n"
     ]
    },
    {
     "name": "stderr",
     "output_type": "stream",
     "text": [
      "100%|██████████| 128/128 [00:02<00:00, 49.22it/s]\n",
      "  4%|▍         | 5/128 [00:00<00:02, 49.60it/s]"
     ]
    },
    {
     "name": "stdout",
     "output_type": "stream",
     "text": [
      "epoch 295 train loss 0.006173333202241338\n",
      "val loss 0.0024608010426163673 mape 5.351625442504883\n"
     ]
    },
    {
     "name": "stderr",
     "output_type": "stream",
     "text": [
      "100%|██████████| 128/128 [00:02<00:00, 49.46it/s]\n",
      "  4%|▍         | 5/128 [00:00<00:02, 49.75it/s]"
     ]
    },
    {
     "name": "stdout",
     "output_type": "stream",
     "text": [
      "epoch 296 train loss 0.006987414985815121\n",
      "val loss 0.00268443301320076 mape 5.043182373046875\n"
     ]
    },
    {
     "name": "stderr",
     "output_type": "stream",
     "text": [
      "100%|██████████| 128/128 [00:02<00:00, 49.25it/s]\n",
      "  4%|▍         | 5/128 [00:00<00:02, 49.29it/s]"
     ]
    },
    {
     "name": "stdout",
     "output_type": "stream",
     "text": [
      "epoch 297 train loss 0.00700414654056658\n",
      "val loss 0.009083976969122887 mape 5.844738006591797\n"
     ]
    },
    {
     "name": "stderr",
     "output_type": "stream",
     "text": [
      "100%|██████████| 128/128 [00:02<00:00, 49.93it/s]\n",
      "  5%|▍         | 6/128 [00:00<00:02, 49.57it/s]"
     ]
    },
    {
     "name": "stdout",
     "output_type": "stream",
     "text": [
      "epoch 298 train loss 0.007581952760119748\n",
      "val loss 0.003320160321891308 mape 4.809457302093506\n"
     ]
    },
    {
     "name": "stderr",
     "output_type": "stream",
     "text": [
      "100%|██████████| 128/128 [00:02<00:00, 49.63it/s]\n",
      "  5%|▍         | 6/128 [00:00<00:02, 50.52it/s]"
     ]
    },
    {
     "name": "stdout",
     "output_type": "stream",
     "text": [
      "epoch 299 train loss 0.006327014556518407\n",
      "val loss 0.0027391519397497177 mape 5.206694602966309\n"
     ]
    },
    {
     "name": "stderr",
     "output_type": "stream",
     "text": [
      "100%|██████████| 128/128 [00:02<00:00, 49.51it/s]\n",
      "  4%|▍         | 5/128 [00:00<00:02, 49.87it/s]"
     ]
    },
    {
     "name": "stdout",
     "output_type": "stream",
     "text": [
      "epoch 300 train loss 0.006688133113129879\n",
      "val loss 0.0075783333741128445 mape 4.99574089050293\n"
     ]
    },
    {
     "name": "stderr",
     "output_type": "stream",
     "text": [
      "100%|██████████| 128/128 [00:02<00:00, 49.59it/s]\n",
      "  4%|▍         | 5/128 [00:00<00:02, 48.62it/s]"
     ]
    },
    {
     "name": "stdout",
     "output_type": "stream",
     "text": [
      "epoch 301 train loss 0.007455528419086477\n",
      "val loss 0.012131611816585064 mape 5.16802453994751\n"
     ]
    },
    {
     "name": "stderr",
     "output_type": "stream",
     "text": [
      "100%|██████████| 128/128 [00:02<00:00, 49.62it/s]\n",
      "  5%|▍         | 6/128 [00:00<00:02, 51.48it/s]"
     ]
    },
    {
     "name": "stdout",
     "output_type": "stream",
     "text": [
      "epoch 302 train loss 0.00646587867049675\n",
      "val loss 0.003563906764611602 mape 4.792411804199219\n"
     ]
    },
    {
     "name": "stderr",
     "output_type": "stream",
     "text": [
      "100%|██████████| 128/128 [00:02<00:00, 49.70it/s]\n",
      "  5%|▍         | 6/128 [00:00<00:02, 53.39it/s]"
     ]
    },
    {
     "name": "stdout",
     "output_type": "stream",
     "text": [
      "epoch 303 train loss 0.007511551988500287\n",
      "val loss 0.004205094650387764 mape 4.661380290985107\n"
     ]
    },
    {
     "name": "stderr",
     "output_type": "stream",
     "text": [
      "100%|██████████| 128/128 [00:02<00:00, 49.46it/s]\n",
      "  4%|▍         | 5/128 [00:00<00:02, 49.38it/s]"
     ]
    },
    {
     "name": "stdout",
     "output_type": "stream",
     "text": [
      "epoch 304 train loss 0.0068684065736306366\n",
      "val loss 0.0022692950442433357 mape 5.155575752258301\n"
     ]
    },
    {
     "name": "stderr",
     "output_type": "stream",
     "text": [
      "100%|██████████| 128/128 [00:02<00:00, 49.58it/s]\n",
      "  5%|▍         | 6/128 [00:00<00:02, 50.56it/s]"
     ]
    },
    {
     "name": "stdout",
     "output_type": "stream",
     "text": [
      "epoch 305 train loss 0.006821630737249507\n",
      "val loss 0.009101816453039646 mape 4.7619805335998535\n"
     ]
    },
    {
     "name": "stderr",
     "output_type": "stream",
     "text": [
      "100%|██████████| 128/128 [00:02<00:00, 49.57it/s]\n",
      "  5%|▍         | 6/128 [00:00<00:02, 49.92it/s]"
     ]
    },
    {
     "name": "stdout",
     "output_type": "stream",
     "text": [
      "epoch 306 train loss 0.0067662708470379584\n",
      "val loss 0.0029364689253270626 mape 4.73272180557251\n"
     ]
    },
    {
     "name": "stderr",
     "output_type": "stream",
     "text": [
      "100%|██████████| 128/128 [00:02<00:00, 49.27it/s]\n",
      "  5%|▍         | 6/128 [00:00<00:02, 50.45it/s]"
     ]
    },
    {
     "name": "stdout",
     "output_type": "stream",
     "text": [
      "epoch 307 train loss 0.007191201139903569\n",
      "val loss 0.006132090929895639 mape 5.355285167694092\n"
     ]
    },
    {
     "name": "stderr",
     "output_type": "stream",
     "text": [
      "100%|██████████| 128/128 [00:02<00:00, 49.39it/s]\n",
      "  4%|▍         | 5/128 [00:00<00:02, 49.88it/s]"
     ]
    },
    {
     "name": "stdout",
     "output_type": "stream",
     "text": [
      "epoch 308 train loss 0.007103070989614935\n",
      "val loss 0.008209546096622944 mape 4.725890159606934\n"
     ]
    },
    {
     "name": "stderr",
     "output_type": "stream",
     "text": [
      "100%|██████████| 128/128 [00:02<00:00, 49.71it/s]\n",
      "  5%|▍         | 6/128 [00:00<00:02, 51.10it/s]"
     ]
    },
    {
     "name": "stdout",
     "output_type": "stream",
     "text": [
      "epoch 309 train loss 0.0075767369653476635\n",
      "val loss 0.0025944060180336237 mape 5.160534858703613\n"
     ]
    },
    {
     "name": "stderr",
     "output_type": "stream",
     "text": [
      "100%|██████████| 128/128 [00:02<00:00, 49.50it/s]\n",
      "  5%|▍         | 6/128 [00:00<00:02, 50.57it/s]"
     ]
    },
    {
     "name": "stdout",
     "output_type": "stream",
     "text": [
      "epoch 310 train loss 0.007469442796718795\n",
      "val loss 0.004294372629374266 mape 4.723168849945068\n"
     ]
    },
    {
     "name": "stderr",
     "output_type": "stream",
     "text": [
      "100%|██████████| 128/128 [00:02<00:00, 49.32it/s]\n",
      "  4%|▍         | 5/128 [00:00<00:02, 49.69it/s]"
     ]
    },
    {
     "name": "stdout",
     "output_type": "stream",
     "text": [
      "epoch 311 train loss 0.006101431733441132\n",
      "val loss 0.00561953941360116 mape 4.821913719177246\n"
     ]
    },
    {
     "name": "stderr",
     "output_type": "stream",
     "text": [
      "100%|██████████| 128/128 [00:02<00:00, 49.10it/s]\n",
      "  4%|▍         | 5/128 [00:00<00:02, 49.74it/s]"
     ]
    },
    {
     "name": "stdout",
     "output_type": "stream",
     "text": [
      "epoch 312 train loss 0.00692626679847308\n",
      "val loss 0.002954518422484398 mape 4.9404473304748535\n"
     ]
    },
    {
     "name": "stderr",
     "output_type": "stream",
     "text": [
      "100%|██████████| 128/128 [00:02<00:00, 49.36it/s]\n",
      "  4%|▍         | 5/128 [00:00<00:02, 49.81it/s]"
     ]
    },
    {
     "name": "stdout",
     "output_type": "stream",
     "text": [
      "epoch 313 train loss 0.008877507550096198\n",
      "val loss 0.0028154284227639437 mape 5.231948375701904\n"
     ]
    },
    {
     "name": "stderr",
     "output_type": "stream",
     "text": [
      "100%|██████████| 128/128 [00:02<00:00, 49.87it/s]\n",
      "  4%|▍         | 5/128 [00:00<00:02, 49.19it/s]"
     ]
    },
    {
     "name": "stdout",
     "output_type": "stream",
     "text": [
      "epoch 314 train loss 0.007785110889926727\n",
      "val loss 0.0028347275219857693 mape 5.065811634063721\n"
     ]
    },
    {
     "name": "stderr",
     "output_type": "stream",
     "text": [
      "100%|██████████| 128/128 [00:02<00:00, 49.54it/s]\n",
      "  4%|▍         | 5/128 [00:00<00:02, 49.85it/s]"
     ]
    },
    {
     "name": "stdout",
     "output_type": "stream",
     "text": [
      "epoch 315 train loss 0.006760845921235159\n",
      "val loss 0.0021429976914077997 mape 5.242245674133301\n"
     ]
    },
    {
     "name": "stderr",
     "output_type": "stream",
     "text": [
      "100%|██████████| 128/128 [00:02<00:00, 49.37it/s]\n",
      "  5%|▍         | 6/128 [00:00<00:02, 50.49it/s]"
     ]
    },
    {
     "name": "stdout",
     "output_type": "stream",
     "text": [
      "epoch 316 train loss 0.006848935409834667\n",
      "val loss 0.0023249846417456865 mape 5.147109031677246\n"
     ]
    },
    {
     "name": "stderr",
     "output_type": "stream",
     "text": [
      "100%|██████████| 128/128 [00:02<00:00, 49.53it/s]\n",
      "  5%|▍         | 6/128 [00:00<00:02, 50.51it/s]"
     ]
    },
    {
     "name": "stdout",
     "output_type": "stream",
     "text": [
      "epoch 317 train loss 0.007793211557327595\n",
      "val loss 0.003941572271287441 mape 4.7745232582092285\n"
     ]
    },
    {
     "name": "stderr",
     "output_type": "stream",
     "text": [
      "100%|██████████| 128/128 [00:02<00:00, 49.52it/s]\n",
      "  4%|▍         | 5/128 [00:00<00:02, 49.83it/s]"
     ]
    },
    {
     "name": "stdout",
     "output_type": "stream",
     "text": [
      "epoch 318 train loss 0.007355253310379339\n",
      "val loss 0.006128257606178522 mape 5.0692524909973145\n"
     ]
    },
    {
     "name": "stderr",
     "output_type": "stream",
     "text": [
      "100%|██████████| 128/128 [00:02<00:00, 49.28it/s]\n",
      "  4%|▍         | 5/128 [00:00<00:02, 49.21it/s]"
     ]
    },
    {
     "name": "stdout",
     "output_type": "stream",
     "text": [
      "epoch 319 train loss 0.007898089254922525\n",
      "val loss 0.011254418641328812 mape 6.045541286468506\n"
     ]
    },
    {
     "name": "stderr",
     "output_type": "stream",
     "text": [
      "100%|██████████| 128/128 [00:02<00:00, 49.46it/s]\n",
      "  4%|▍         | 5/128 [00:00<00:02, 49.39it/s]"
     ]
    },
    {
     "name": "stdout",
     "output_type": "stream",
     "text": [
      "epoch 320 train loss 0.007390054824099934\n",
      "val loss 0.0028524831868708134 mape 5.2563796043396\n"
     ]
    },
    {
     "name": "stderr",
     "output_type": "stream",
     "text": [
      "100%|██████████| 128/128 [00:02<00:00, 49.56it/s]\n",
      "  4%|▍         | 5/128 [00:00<00:02, 48.15it/s]"
     ]
    },
    {
     "name": "stdout",
     "output_type": "stream",
     "text": [
      "epoch 321 train loss 0.006412216274839011\n",
      "val loss 0.005665633827447891 mape 5.40259313583374\n"
     ]
    },
    {
     "name": "stderr",
     "output_type": "stream",
     "text": [
      "100%|██████████| 128/128 [00:02<00:00, 49.44it/s]\n",
      "  4%|▍         | 5/128 [00:00<00:02, 49.08it/s]"
     ]
    },
    {
     "name": "stdout",
     "output_type": "stream",
     "text": [
      "epoch 322 train loss 0.006925214289367432\n",
      "val loss 0.0030280407518148422 mape 5.063776969909668\n"
     ]
    },
    {
     "name": "stderr",
     "output_type": "stream",
     "text": [
      "100%|██████████| 128/128 [00:02<00:00, 49.20it/s]\n",
      "  5%|▍         | 6/128 [00:00<00:02, 49.62it/s]"
     ]
    },
    {
     "name": "stdout",
     "output_type": "stream",
     "text": [
      "epoch 323 train loss 0.007006599889791687\n",
      "val loss 0.0033067231997847557 mape 5.055315971374512\n"
     ]
    },
    {
     "name": "stderr",
     "output_type": "stream",
     "text": [
      "100%|██████████| 128/128 [00:02<00:00, 49.44it/s]\n",
      "  5%|▍         | 6/128 [00:00<00:02, 50.13it/s]"
     ]
    },
    {
     "name": "stdout",
     "output_type": "stream",
     "text": [
      "epoch 324 train loss 0.007692084153859469\n",
      "val loss 0.003343658521771431 mape 5.4083147048950195\n"
     ]
    },
    {
     "name": "stderr",
     "output_type": "stream",
     "text": [
      "100%|██████████| 128/128 [00:02<00:00, 49.44it/s]\n",
      "  5%|▍         | 6/128 [00:00<00:02, 49.70it/s]"
     ]
    },
    {
     "name": "stdout",
     "output_type": "stream",
     "text": [
      "epoch 325 train loss 0.007228123228742334\n",
      "val loss 0.006312510930001736 mape 5.8426833152771\n"
     ]
    },
    {
     "name": "stderr",
     "output_type": "stream",
     "text": [
      "100%|██████████| 128/128 [00:02<00:00, 49.51it/s]\n",
      "  5%|▍         | 6/128 [00:00<00:02, 49.69it/s]"
     ]
    },
    {
     "name": "stdout",
     "output_type": "stream",
     "text": [
      "epoch 326 train loss 0.007460898159479257\n",
      "val loss 0.0026220306754112244 mape 5.214728355407715\n"
     ]
    },
    {
     "name": "stderr",
     "output_type": "stream",
     "text": [
      "100%|██████████| 128/128 [00:02<00:00, 49.59it/s]\n",
      "  5%|▍         | 6/128 [00:00<00:02, 50.69it/s]"
     ]
    },
    {
     "name": "stdout",
     "output_type": "stream",
     "text": [
      "epoch 327 train loss 0.00676796917377942\n",
      "val loss 0.002776365028694272 mape 5.031057834625244\n"
     ]
    },
    {
     "name": "stderr",
     "output_type": "stream",
     "text": [
      "100%|██████████| 128/128 [00:02<00:00, 49.84it/s]\n",
      "  5%|▍         | 6/128 [00:00<00:02, 49.61it/s]"
     ]
    },
    {
     "name": "stdout",
     "output_type": "stream",
     "text": [
      "epoch 328 train loss 0.00837964031870797\n",
      "val loss 0.003022929187864065 mape 5.158441543579102\n"
     ]
    },
    {
     "name": "stderr",
     "output_type": "stream",
     "text": [
      "100%|██████████| 128/128 [00:02<00:00, 49.55it/s]\n",
      "  4%|▍         | 5/128 [00:00<00:02, 49.95it/s]"
     ]
    },
    {
     "name": "stdout",
     "output_type": "stream",
     "text": [
      "epoch 329 train loss 0.00769321501502418\n",
      "val loss 0.005211217328906059 mape 5.755519390106201\n"
     ]
    },
    {
     "name": "stderr",
     "output_type": "stream",
     "text": [
      "100%|██████████| 128/128 [00:02<00:00, 49.42it/s]\n",
      "  4%|▍         | 5/128 [00:00<00:02, 49.70it/s]"
     ]
    },
    {
     "name": "stdout",
     "output_type": "stream",
     "text": [
      "epoch 330 train loss 0.007821738183338312\n",
      "val loss 0.004698536824434996 mape 4.663845539093018\n"
     ]
    },
    {
     "name": "stderr",
     "output_type": "stream",
     "text": [
      "100%|██████████| 128/128 [00:02<00:00, 49.77it/s]\n",
      "  5%|▍         | 6/128 [00:00<00:02, 51.04it/s]"
     ]
    },
    {
     "name": "stdout",
     "output_type": "stream",
     "text": [
      "epoch 331 train loss 0.0076278058277239325\n",
      "val loss 0.007845491170883179 mape 5.803717136383057\n"
     ]
    },
    {
     "name": "stderr",
     "output_type": "stream",
     "text": [
      "100%|██████████| 128/128 [00:02<00:00, 49.85it/s]\n",
      "  4%|▍         | 5/128 [00:00<00:02, 49.47it/s]"
     ]
    },
    {
     "name": "stdout",
     "output_type": "stream",
     "text": [
      "epoch 332 train loss 0.006824392328780959\n",
      "val loss 0.002944139065220952 mape 5.496264934539795\n"
     ]
    },
    {
     "name": "stderr",
     "output_type": "stream",
     "text": [
      "100%|██████████| 128/128 [00:02<00:00, 49.71it/s]\n",
      "  5%|▍         | 6/128 [00:00<00:02, 50.22it/s]"
     ]
    },
    {
     "name": "stdout",
     "output_type": "stream",
     "text": [
      "epoch 333 train loss 0.007191688145212538\n",
      "val loss 0.0047272988595068455 mape 5.49951171875\n"
     ]
    },
    {
     "name": "stderr",
     "output_type": "stream",
     "text": [
      "100%|██████████| 128/128 [00:02<00:00, 49.76it/s]\n",
      "  5%|▍         | 6/128 [00:00<00:02, 49.95it/s]"
     ]
    },
    {
     "name": "stdout",
     "output_type": "stream",
     "text": [
      "epoch 334 train loss 0.006844232553703478\n",
      "val loss 0.0024995857384055853 mape 5.076406002044678\n"
     ]
    },
    {
     "name": "stderr",
     "output_type": "stream",
     "text": [
      "100%|██████████| 128/128 [00:02<00:00, 49.49it/s]\n",
      "  5%|▍         | 6/128 [00:00<00:02, 50.09it/s]"
     ]
    },
    {
     "name": "stdout",
     "output_type": "stream",
     "text": [
      "epoch 335 train loss 0.006690329160846886\n",
      "val loss 0.003381841816008091 mape 5.1156792640686035\n"
     ]
    },
    {
     "name": "stderr",
     "output_type": "stream",
     "text": [
      "100%|██████████| 128/128 [00:02<00:00, 49.49it/s]\n",
      "  5%|▍         | 6/128 [00:00<00:02, 50.46it/s]"
     ]
    },
    {
     "name": "stdout",
     "output_type": "stream",
     "text": [
      "epoch 336 train loss 0.007497778784454567\n",
      "val loss 0.002639228943735361 mape 5.170609474182129\n"
     ]
    },
    {
     "name": "stderr",
     "output_type": "stream",
     "text": [
      "100%|██████████| 128/128 [00:02<00:00, 49.56it/s]\n",
      "  5%|▍         | 6/128 [00:00<00:02, 50.79it/s]"
     ]
    },
    {
     "name": "stdout",
     "output_type": "stream",
     "text": [
      "epoch 337 train loss 0.0062025773177083465\n",
      "val loss 0.003706060815602541 mape 5.6183271408081055\n"
     ]
    },
    {
     "name": "stderr",
     "output_type": "stream",
     "text": [
      "100%|██████████| 128/128 [00:02<00:00, 49.72it/s]\n",
      "  4%|▍         | 5/128 [00:00<00:02, 49.26it/s]"
     ]
    },
    {
     "name": "stdout",
     "output_type": "stream",
     "text": [
      "epoch 338 train loss 0.00743482976940868\n",
      "val loss 0.002593875164166093 mape 5.383759021759033\n"
     ]
    },
    {
     "name": "stderr",
     "output_type": "stream",
     "text": [
      "100%|██████████| 128/128 [00:02<00:00, 49.51it/s]\n",
      "  4%|▍         | 5/128 [00:00<00:02, 49.91it/s]"
     ]
    },
    {
     "name": "stdout",
     "output_type": "stream",
     "text": [
      "epoch 339 train loss 0.0058196618483634666\n",
      "val loss 0.0029886229895055294 mape 5.055717468261719\n"
     ]
    },
    {
     "name": "stderr",
     "output_type": "stream",
     "text": [
      "100%|██████████| 128/128 [00:02<00:00, 49.57it/s]\n",
      "  5%|▍         | 6/128 [00:00<00:02, 50.73it/s]"
     ]
    },
    {
     "name": "stdout",
     "output_type": "stream",
     "text": [
      "epoch 340 train loss 0.006646915232522588\n",
      "val loss 0.0029753237031400204 mape 5.174117088317871\n"
     ]
    },
    {
     "name": "stderr",
     "output_type": "stream",
     "text": [
      "100%|██████████| 128/128 [00:02<00:00, 49.60it/s]\n",
      "  5%|▍         | 6/128 [00:00<00:02, 50.48it/s]"
     ]
    },
    {
     "name": "stdout",
     "output_type": "stream",
     "text": [
      "epoch 341 train loss 0.007366214937974291\n",
      "val loss 0.002775871194899082 mape 5.096688747406006\n"
     ]
    },
    {
     "name": "stderr",
     "output_type": "stream",
     "text": [
      "100%|██████████| 128/128 [00:02<00:00, 49.55it/s]\n",
      "  4%|▍         | 5/128 [00:00<00:02, 48.71it/s]"
     ]
    },
    {
     "name": "stdout",
     "output_type": "stream",
     "text": [
      "epoch 342 train loss 0.007353761258855229\n",
      "val loss 0.005785220768302679 mape 4.5390729904174805\n"
     ]
    },
    {
     "name": "stderr",
     "output_type": "stream",
     "text": [
      "100%|██████████| 128/128 [00:02<00:00, 49.58it/s]\n",
      "  5%|▍         | 6/128 [00:00<00:02, 50.39it/s]"
     ]
    },
    {
     "name": "stdout",
     "output_type": "stream",
     "text": [
      "epoch 343 train loss 0.008007838370758691\n",
      "val loss 0.002785793272778392 mape 5.364035129547119\n"
     ]
    },
    {
     "name": "stderr",
     "output_type": "stream",
     "text": [
      "100%|██████████| 128/128 [00:02<00:00, 49.71it/s]\n",
      "  5%|▍         | 6/128 [00:00<00:02, 51.03it/s]"
     ]
    },
    {
     "name": "stdout",
     "output_type": "stream",
     "text": [
      "epoch 344 train loss 0.0069649998913519084\n",
      "val loss 0.0036958546843379736 mape 4.803892612457275\n"
     ]
    },
    {
     "name": "stderr",
     "output_type": "stream",
     "text": [
      "100%|██████████| 128/128 [00:02<00:00, 49.66it/s]\n",
      "  5%|▍         | 6/128 [00:00<00:02, 50.90it/s]"
     ]
    },
    {
     "name": "stdout",
     "output_type": "stream",
     "text": [
      "epoch 345 train loss 0.007190346090283128\n",
      "val loss 0.0023487587459385395 mape 4.93602991104126\n"
     ]
    },
    {
     "name": "stderr",
     "output_type": "stream",
     "text": [
      "100%|██████████| 128/128 [00:02<00:00, 49.63it/s]\n",
      "  4%|▍         | 5/128 [00:00<00:02, 48.43it/s]"
     ]
    },
    {
     "name": "stdout",
     "output_type": "stream",
     "text": [
      "epoch 346 train loss 0.007027206281236431\n",
      "val loss 0.003294551745057106 mape 5.043300151824951\n"
     ]
    },
    {
     "name": "stderr",
     "output_type": "stream",
     "text": [
      "100%|██████████| 128/128 [00:02<00:00, 49.57it/s]\n",
      "  5%|▍         | 6/128 [00:00<00:02, 49.88it/s]"
     ]
    },
    {
     "name": "stdout",
     "output_type": "stream",
     "text": [
      "epoch 347 train loss 0.006553554240781523\n",
      "val loss 0.00273607368580997 mape 5.061954975128174\n"
     ]
    },
    {
     "name": "stderr",
     "output_type": "stream",
     "text": [
      "100%|██████████| 128/128 [00:02<00:00, 49.82it/s]\n",
      "  5%|▍         | 6/128 [00:00<00:02, 50.48it/s]"
     ]
    },
    {
     "name": "stdout",
     "output_type": "stream",
     "text": [
      "epoch 348 train loss 0.008142508578202978\n",
      "val loss 0.005582961719483137 mape 5.483890533447266\n"
     ]
    },
    {
     "name": "stderr",
     "output_type": "stream",
     "text": [
      "100%|██████████| 128/128 [00:02<00:00, 49.44it/s]\n",
      "  5%|▍         | 6/128 [00:00<00:02, 49.82it/s]"
     ]
    },
    {
     "name": "stdout",
     "output_type": "stream",
     "text": [
      "epoch 349 train loss 0.007574467636914051\n",
      "val loss 0.003346587996929884 mape 4.717520713806152\n"
     ]
    },
    {
     "name": "stderr",
     "output_type": "stream",
     "text": [
      "100%|██████████| 128/128 [00:02<00:00, 49.49it/s]\n",
      "  5%|▍         | 6/128 [00:00<00:02, 49.58it/s]"
     ]
    },
    {
     "name": "stdout",
     "output_type": "stream",
     "text": [
      "epoch 350 train loss 0.006851173765426211\n",
      "val loss 0.0026251196395605803 mape 5.150999069213867\n"
     ]
    },
    {
     "name": "stderr",
     "output_type": "stream",
     "text": [
      "100%|██████████| 128/128 [00:02<00:00, 49.37it/s]\n",
      "  4%|▍         | 5/128 [00:00<00:02, 48.95it/s]"
     ]
    },
    {
     "name": "stdout",
     "output_type": "stream",
     "text": [
      "epoch 351 train loss 0.008152390296345402\n",
      "val loss 0.004307854454964399 mape 5.517364501953125\n"
     ]
    },
    {
     "name": "stderr",
     "output_type": "stream",
     "text": [
      "100%|██████████| 128/128 [00:02<00:00, 49.37it/s]\n",
      "  5%|▍         | 6/128 [00:00<00:02, 50.40it/s]"
     ]
    },
    {
     "name": "stdout",
     "output_type": "stream",
     "text": [
      "epoch 352 train loss 0.007930809870231315\n",
      "val loss 0.005280560348182917 mape 5.227939128875732\n"
     ]
    },
    {
     "name": "stderr",
     "output_type": "stream",
     "text": [
      "100%|██████████| 128/128 [00:02<00:00, 49.35it/s]\n",
      "  5%|▍         | 6/128 [00:00<00:02, 50.78it/s]"
     ]
    },
    {
     "name": "stdout",
     "output_type": "stream",
     "text": [
      "epoch 353 train loss 0.0074940930971933994\n",
      "val loss 0.0041787330992519855 mape 5.667759895324707\n"
     ]
    },
    {
     "name": "stderr",
     "output_type": "stream",
     "text": [
      "100%|██████████| 128/128 [00:02<00:00, 49.46it/s]\n",
      "  5%|▍         | 6/128 [00:00<00:02, 49.37it/s]"
     ]
    },
    {
     "name": "stdout",
     "output_type": "stream",
     "text": [
      "epoch 354 train loss 0.006397535251380759\n",
      "val loss 0.002657391130924225 mape 4.987117290496826\n"
     ]
    },
    {
     "name": "stderr",
     "output_type": "stream",
     "text": [
      "100%|██████████| 128/128 [00:02<00:00, 49.57it/s]\n",
      "  4%|▍         | 5/128 [00:00<00:02, 49.86it/s]"
     ]
    },
    {
     "name": "stdout",
     "output_type": "stream",
     "text": [
      "epoch 355 train loss 0.007213258130832401\n",
      "val loss 0.002604678738862276 mape 5.095235824584961\n"
     ]
    },
    {
     "name": "stderr",
     "output_type": "stream",
     "text": [
      "100%|██████████| 128/128 [00:02<00:00, 49.31it/s]\n",
      "  5%|▍         | 6/128 [00:00<00:02, 52.58it/s]"
     ]
    },
    {
     "name": "stdout",
     "output_type": "stream",
     "text": [
      "epoch 356 train loss 0.006051733515960223\n",
      "val loss 0.002898747567087412 mape 4.846588611602783\n"
     ]
    },
    {
     "name": "stderr",
     "output_type": "stream",
     "text": [
      "100%|██████████| 128/128 [00:02<00:00, 49.71it/s]\n",
      "  4%|▍         | 5/128 [00:00<00:02, 49.87it/s]"
     ]
    },
    {
     "name": "stdout",
     "output_type": "stream",
     "text": [
      "epoch 357 train loss 0.006868317258522438\n",
      "val loss 0.002606592606753111 mape 5.018161773681641\n"
     ]
    },
    {
     "name": "stderr",
     "output_type": "stream",
     "text": [
      "100%|██████████| 128/128 [00:02<00:00, 49.32it/s]\n",
      "  4%|▍         | 5/128 [00:00<00:02, 49.34it/s]"
     ]
    },
    {
     "name": "stdout",
     "output_type": "stream",
     "text": [
      "epoch 358 train loss 0.007347890187702433\n",
      "val loss 0.002563388552516699 mape 5.409466743469238\n"
     ]
    },
    {
     "name": "stderr",
     "output_type": "stream",
     "text": [
      "100%|██████████| 128/128 [00:02<00:00, 49.41it/s]\n",
      "  5%|▍         | 6/128 [00:00<00:02, 49.82it/s]"
     ]
    },
    {
     "name": "stdout",
     "output_type": "stream",
     "text": [
      "epoch 359 train loss 0.006370385968693881\n",
      "val loss 0.007612062152475119 mape 5.9907379150390625\n"
     ]
    },
    {
     "name": "stderr",
     "output_type": "stream",
     "text": [
      "100%|██████████| 128/128 [00:02<00:00, 49.27it/s]\n",
      "  4%|▍         | 5/128 [00:00<00:02, 49.63it/s]"
     ]
    },
    {
     "name": "stdout",
     "output_type": "stream",
     "text": [
      "epoch 360 train loss 0.00770436182301637\n",
      "val loss 0.0023932980839163065 mape 5.160053730010986\n"
     ]
    },
    {
     "name": "stderr",
     "output_type": "stream",
     "text": [
      "100%|██████████| 128/128 [00:02<00:00, 49.34it/s]\n",
      "  4%|▍         | 5/128 [00:00<00:02, 48.83it/s]"
     ]
    },
    {
     "name": "stdout",
     "output_type": "stream",
     "text": [
      "epoch 361 train loss 0.007602712885272922\n",
      "val loss 0.006563088856637478 mape 4.566845893859863\n"
     ]
    },
    {
     "name": "stderr",
     "output_type": "stream",
     "text": [
      "100%|██████████| 128/128 [00:02<00:00, 49.34it/s]\n",
      "  5%|▍         | 6/128 [00:00<00:02, 52.82it/s]"
     ]
    },
    {
     "name": "stdout",
     "output_type": "stream",
     "text": [
      "epoch 362 train loss 0.006573435690370388\n",
      "val loss 0.002231612568721175 mape 5.177947998046875\n"
     ]
    },
    {
     "name": "stderr",
     "output_type": "stream",
     "text": [
      "100%|██████████| 128/128 [00:02<00:00, 49.37it/s]\n",
      "  5%|▍         | 6/128 [00:00<00:02, 50.99it/s]"
     ]
    },
    {
     "name": "stdout",
     "output_type": "stream",
     "text": [
      "epoch 363 train loss 0.006065076552658866\n",
      "val loss 0.0029976158402860165 mape 5.1754350662231445\n"
     ]
    },
    {
     "name": "stderr",
     "output_type": "stream",
     "text": [
      "100%|██████████| 128/128 [00:02<00:00, 49.27it/s]\n",
      "  4%|▍         | 5/128 [00:00<00:02, 48.39it/s]"
     ]
    },
    {
     "name": "stdout",
     "output_type": "stream",
     "text": [
      "epoch 364 train loss 0.006431629287362739\n",
      "val loss 0.004282810725271702 mape 5.2814412117004395\n"
     ]
    },
    {
     "name": "stderr",
     "output_type": "stream",
     "text": [
      "100%|██████████| 128/128 [00:02<00:00, 49.01it/s]\n",
      "  4%|▍         | 5/128 [00:00<00:02, 48.93it/s]"
     ]
    },
    {
     "name": "stdout",
     "output_type": "stream",
     "text": [
      "epoch 365 train loss 0.007570222717731667\n",
      "val loss 0.0031259022653102875 mape 5.088061332702637\n"
     ]
    },
    {
     "name": "stderr",
     "output_type": "stream",
     "text": [
      "100%|██████████| 128/128 [00:02<00:00, 49.16it/s]\n",
      "  4%|▍         | 5/128 [00:00<00:02, 49.79it/s]"
     ]
    },
    {
     "name": "stdout",
     "output_type": "stream",
     "text": [
      "epoch 366 train loss 0.007780621054735093\n",
      "val loss 0.0027385735884308815 mape 5.124459743499756\n"
     ]
    },
    {
     "name": "stderr",
     "output_type": "stream",
     "text": [
      "100%|██████████| 128/128 [00:02<00:00, 49.11it/s]\n",
      "  4%|▍         | 5/128 [00:00<00:02, 49.34it/s]"
     ]
    },
    {
     "name": "stdout",
     "output_type": "stream",
     "text": [
      "epoch 367 train loss 0.0070305603549059015\n",
      "val loss 0.0027936750557273626 mape 4.852717876434326\n"
     ]
    },
    {
     "name": "stderr",
     "output_type": "stream",
     "text": [
      "100%|██████████| 128/128 [00:02<00:00, 49.14it/s]\n",
      "  5%|▍         | 6/128 [00:00<00:02, 49.55it/s]"
     ]
    },
    {
     "name": "stdout",
     "output_type": "stream",
     "text": [
      "epoch 368 train loss 0.006484761940555472\n",
      "val loss 0.0030472539365291595 mape 4.709170341491699\n"
     ]
    },
    {
     "name": "stderr",
     "output_type": "stream",
     "text": [
      "100%|██████████| 128/128 [00:02<00:00, 49.06it/s]\n",
      "  5%|▍         | 6/128 [00:00<00:02, 49.48it/s]"
     ]
    },
    {
     "name": "stdout",
     "output_type": "stream",
     "text": [
      "epoch 369 train loss 0.007419808688609919\n",
      "val loss 0.003284299513325095 mape 5.183808326721191\n"
     ]
    },
    {
     "name": "stderr",
     "output_type": "stream",
     "text": [
      "100%|██████████| 128/128 [00:02<00:00, 49.49it/s]\n",
      "  5%|▍         | 6/128 [00:00<00:02, 49.55it/s]"
     ]
    },
    {
     "name": "stdout",
     "output_type": "stream",
     "text": [
      "epoch 370 train loss 0.005674579987498873\n",
      "val loss 0.0023862309753894806 mape 4.986752033233643\n"
     ]
    },
    {
     "name": "stderr",
     "output_type": "stream",
     "text": [
      "100%|██████████| 128/128 [00:02<00:00, 49.49it/s]\n",
      "  4%|▍         | 5/128 [00:00<00:02, 49.87it/s]"
     ]
    },
    {
     "name": "stdout",
     "output_type": "stream",
     "text": [
      "epoch 371 train loss 0.007161204064686899\n",
      "val loss 0.002545031486079097 mape 4.765930652618408\n"
     ]
    },
    {
     "name": "stderr",
     "output_type": "stream",
     "text": [
      "100%|██████████| 128/128 [00:02<00:00, 49.51it/s]\n",
      "  5%|▍         | 6/128 [00:00<00:02, 50.62it/s]"
     ]
    },
    {
     "name": "stdout",
     "output_type": "stream",
     "text": [
      "epoch 372 train loss 0.0071833799993328284\n",
      "val loss 0.00314889894798398 mape 5.303820610046387\n"
     ]
    },
    {
     "name": "stderr",
     "output_type": "stream",
     "text": [
      "100%|██████████| 128/128 [00:02<00:00, 49.48it/s]\n",
      "  5%|▍         | 6/128 [00:00<00:02, 50.53it/s]"
     ]
    },
    {
     "name": "stdout",
     "output_type": "stream",
     "text": [
      "epoch 373 train loss 0.007238615473397658\n",
      "val loss 0.003300550626590848 mape 4.818629741668701\n"
     ]
    },
    {
     "name": "stderr",
     "output_type": "stream",
     "text": [
      "100%|██████████| 128/128 [00:02<00:00, 49.73it/s]\n",
      "  4%|▍         | 5/128 [00:00<00:02, 49.67it/s]"
     ]
    },
    {
     "name": "stdout",
     "output_type": "stream",
     "text": [
      "epoch 374 train loss 0.006833477103100449\n",
      "val loss 0.0029168720357120037 mape 5.219273090362549\n"
     ]
    },
    {
     "name": "stderr",
     "output_type": "stream",
     "text": [
      "100%|██████████| 128/128 [00:02<00:00, 49.30it/s]\n",
      "  4%|▍         | 5/128 [00:00<00:02, 49.45it/s]"
     ]
    },
    {
     "name": "stdout",
     "output_type": "stream",
     "text": [
      "epoch 375 train loss 0.008217570812121266\n",
      "val loss 0.0025635038036853075 mape 5.2260823249816895\n"
     ]
    },
    {
     "name": "stderr",
     "output_type": "stream",
     "text": [
      "100%|██████████| 128/128 [00:02<00:00, 49.25it/s]\n",
      "  5%|▍         | 6/128 [00:00<00:02, 50.35it/s]"
     ]
    },
    {
     "name": "stdout",
     "output_type": "stream",
     "text": [
      "epoch 376 train loss 0.006876206330161949\n",
      "val loss 0.0053687249310314655 mape 4.742860794067383\n"
     ]
    },
    {
     "name": "stderr",
     "output_type": "stream",
     "text": [
      "100%|██████████| 128/128 [00:02<00:00, 49.26it/s]\n",
      "  4%|▍         | 5/128 [00:00<00:02, 49.72it/s]"
     ]
    },
    {
     "name": "stdout",
     "output_type": "stream",
     "text": [
      "epoch 377 train loss 0.006399371515726671\n",
      "val loss 0.0031235916540026665 mape 5.3879008293151855\n"
     ]
    },
    {
     "name": "stderr",
     "output_type": "stream",
     "text": [
      "100%|██████████| 128/128 [00:02<00:00, 49.19it/s]\n",
      "  4%|▍         | 5/128 [00:00<00:02, 49.98it/s]"
     ]
    },
    {
     "name": "stdout",
     "output_type": "stream",
     "text": [
      "epoch 378 train loss 0.006869914831440838\n",
      "val loss 0.0028690083418041468 mape 5.0487589836120605\n"
     ]
    },
    {
     "name": "stderr",
     "output_type": "stream",
     "text": [
      "100%|██████████| 128/128 [00:02<00:00, 49.42it/s]\n",
      "  5%|▍         | 6/128 [00:00<00:02, 51.47it/s]"
     ]
    },
    {
     "name": "stdout",
     "output_type": "stream",
     "text": [
      "epoch 379 train loss 0.0062498239622073015\n",
      "val loss 0.0026046927087008953 mape 5.303515434265137\n"
     ]
    },
    {
     "name": "stderr",
     "output_type": "stream",
     "text": [
      "100%|██████████| 128/128 [00:02<00:00, 49.73it/s]\n",
      "  4%|▍         | 5/128 [00:00<00:02, 49.28it/s]"
     ]
    },
    {
     "name": "stdout",
     "output_type": "stream",
     "text": [
      "epoch 380 train loss 0.007752845758659532\n",
      "val loss 0.003059918060898781 mape 5.326798915863037\n"
     ]
    },
    {
     "name": "stderr",
     "output_type": "stream",
     "text": [
      "100%|██████████| 128/128 [00:02<00:00, 49.50it/s]\n",
      "  5%|▍         | 6/128 [00:00<00:02, 50.73it/s]"
     ]
    },
    {
     "name": "stdout",
     "output_type": "stream",
     "text": [
      "epoch 381 train loss 0.006316786870229407\n",
      "val loss 0.0033428289461880922 mape 5.225015163421631\n"
     ]
    },
    {
     "name": "stderr",
     "output_type": "stream",
     "text": [
      "100%|██████████| 128/128 [00:02<00:00, 49.18it/s]\n",
      "  4%|▍         | 5/128 [00:00<00:02, 48.56it/s]"
     ]
    },
    {
     "name": "stdout",
     "output_type": "stream",
     "text": [
      "epoch 382 train loss 0.007019550964287191\n",
      "val loss 0.002780086128041148 mape 4.895188808441162\n"
     ]
    },
    {
     "name": "stderr",
     "output_type": "stream",
     "text": [
      "100%|██████████| 128/128 [00:02<00:00, 49.33it/s]\n",
      "  5%|▍         | 6/128 [00:00<00:02, 50.70it/s]"
     ]
    },
    {
     "name": "stdout",
     "output_type": "stream",
     "text": [
      "epoch 383 train loss 0.006197481233357394\n",
      "val loss 0.003831748152151704 mape 5.380716323852539\n"
     ]
    },
    {
     "name": "stderr",
     "output_type": "stream",
     "text": [
      "100%|██████████| 128/128 [00:02<00:00, 49.63it/s]\n",
      "  5%|▍         | 6/128 [00:00<00:02, 52.72it/s]"
     ]
    },
    {
     "name": "stdout",
     "output_type": "stream",
     "text": [
      "epoch 384 train loss 0.0072017214970401255\n",
      "val loss 0.002384485676884651 mape 5.247293949127197\n"
     ]
    },
    {
     "name": "stderr",
     "output_type": "stream",
     "text": [
      "100%|██████████| 128/128 [00:02<00:00, 55.34it/s]\n",
      "  5%|▍         | 6/128 [00:00<00:02, 56.42it/s]"
     ]
    },
    {
     "name": "stdout",
     "output_type": "stream",
     "text": [
      "epoch 385 train loss 0.006642066373387934\n",
      "val loss 0.002518652705475688 mape 5.040652275085449\n"
     ]
    },
    {
     "name": "stderr",
     "output_type": "stream",
     "text": [
      "100%|██████████| 128/128 [00:02<00:00, 53.00it/s]\n",
      "  5%|▍         | 6/128 [00:00<00:02, 51.06it/s]"
     ]
    },
    {
     "name": "stdout",
     "output_type": "stream",
     "text": [
      "epoch 386 train loss 0.006842339157628885\n",
      "val loss 0.0028287735767662525 mape 5.371635913848877\n"
     ]
    },
    {
     "name": "stderr",
     "output_type": "stream",
     "text": [
      "100%|██████████| 128/128 [00:02<00:00, 49.60it/s]\n",
      "  5%|▍         | 6/128 [00:00<00:02, 50.24it/s]"
     ]
    },
    {
     "name": "stdout",
     "output_type": "stream",
     "text": [
      "epoch 387 train loss 0.006785936724554631\n",
      "val loss 0.004289497621357441 mape 4.692351341247559\n"
     ]
    },
    {
     "name": "stderr",
     "output_type": "stream",
     "text": [
      "100%|██████████| 128/128 [00:02<00:00, 49.74it/s]\n",
      "  5%|▍         | 6/128 [00:00<00:02, 50.45it/s]"
     ]
    },
    {
     "name": "stdout",
     "output_type": "stream",
     "text": [
      "epoch 388 train loss 0.006100474366576236\n",
      "val loss 0.0032206159085035324 mape 5.597513675689697\n"
     ]
    },
    {
     "name": "stderr",
     "output_type": "stream",
     "text": [
      "100%|██████████| 128/128 [00:02<00:00, 49.93it/s]\n",
      "  5%|▍         | 6/128 [00:00<00:02, 50.48it/s]"
     ]
    },
    {
     "name": "stdout",
     "output_type": "stream",
     "text": [
      "epoch 389 train loss 0.007411259333821363\n",
      "val loss 0.00250871479511261 mape 5.0788445472717285\n"
     ]
    },
    {
     "name": "stderr",
     "output_type": "stream",
     "text": [
      "100%|██████████| 128/128 [00:02<00:00, 49.44it/s]\n",
      "  4%|▍         | 5/128 [00:00<00:02, 49.59it/s]"
     ]
    },
    {
     "name": "stdout",
     "output_type": "stream",
     "text": [
      "epoch 390 train loss 0.006028833940945333\n",
      "val loss 0.005541229620575905 mape 4.63995885848999\n"
     ]
    },
    {
     "name": "stderr",
     "output_type": "stream",
     "text": [
      "100%|██████████| 128/128 [00:02<00:00, 49.55it/s]\n",
      "  4%|▍         | 5/128 [00:00<00:02, 49.19it/s]"
     ]
    },
    {
     "name": "stdout",
     "output_type": "stream",
     "text": [
      "epoch 391 train loss 0.006539678331137111\n",
      "val loss 0.0034355740062892437 mape 5.286834716796875\n"
     ]
    },
    {
     "name": "stderr",
     "output_type": "stream",
     "text": [
      "100%|██████████| 128/128 [00:02<00:00, 50.24it/s]\n",
      "  5%|▍         | 6/128 [00:00<00:02, 56.66it/s]"
     ]
    },
    {
     "name": "stdout",
     "output_type": "stream",
     "text": [
      "epoch 392 train loss 0.006963707979593892\n",
      "val loss 0.003682777751237154 mape 5.386894702911377\n"
     ]
    },
    {
     "name": "stderr",
     "output_type": "stream",
     "text": [
      "100%|██████████| 128/128 [00:02<00:00, 50.32it/s]\n",
      "  5%|▍         | 6/128 [00:00<00:02, 51.03it/s]"
     ]
    },
    {
     "name": "stdout",
     "output_type": "stream",
     "text": [
      "epoch 393 train loss 0.006684097795186972\n",
      "val loss 0.002913418225944042 mape 4.903764247894287\n"
     ]
    },
    {
     "name": "stderr",
     "output_type": "stream",
     "text": [
      "100%|██████████| 128/128 [00:02<00:00, 49.58it/s]\n",
      "  4%|▍         | 5/128 [00:00<00:02, 49.00it/s]"
     ]
    },
    {
     "name": "stdout",
     "output_type": "stream",
     "text": [
      "epoch 394 train loss 0.00753813203300524\n",
      "val loss 0.004193231929093599 mape 5.12445592880249\n"
     ]
    },
    {
     "name": "stderr",
     "output_type": "stream",
     "text": [
      "100%|██████████| 128/128 [00:02<00:00, 49.54it/s]\n",
      "  4%|▍         | 5/128 [00:00<00:02, 49.61it/s]"
     ]
    },
    {
     "name": "stdout",
     "output_type": "stream",
     "text": [
      "epoch 395 train loss 0.006999945993811707\n",
      "val loss 0.003757293801754713 mape 4.757018566131592\n"
     ]
    },
    {
     "name": "stderr",
     "output_type": "stream",
     "text": [
      "100%|██████████| 128/128 [00:02<00:00, 49.72it/s]\n",
      "  4%|▍         | 5/128 [00:00<00:02, 49.70it/s]"
     ]
    },
    {
     "name": "stdout",
     "output_type": "stream",
     "text": [
      "epoch 396 train loss 0.006475405204582785\n",
      "val loss 0.0032246431801468134 mape 5.357542037963867\n"
     ]
    },
    {
     "name": "stderr",
     "output_type": "stream",
     "text": [
      "100%|██████████| 128/128 [00:02<00:00, 49.36it/s]\n",
      "  4%|▍         | 5/128 [00:00<00:02, 49.50it/s]"
     ]
    },
    {
     "name": "stdout",
     "output_type": "stream",
     "text": [
      "epoch 397 train loss 0.0072436275959262275\n",
      "val loss 0.006005707196891308 mape 5.700870513916016\n"
     ]
    },
    {
     "name": "stderr",
     "output_type": "stream",
     "text": [
      "100%|██████████| 128/128 [00:02<00:00, 49.33it/s]\n",
      "  5%|▍         | 6/128 [00:00<00:02, 49.91it/s]"
     ]
    },
    {
     "name": "stdout",
     "output_type": "stream",
     "text": [
      "epoch 398 train loss 0.006598263169507845\n",
      "val loss 0.0025732333306223154 mape 5.290048122406006\n"
     ]
    },
    {
     "name": "stderr",
     "output_type": "stream",
     "text": [
      "100%|██████████| 128/128 [00:02<00:00, 49.06it/s]\n",
      "  4%|▍         | 5/128 [00:00<00:02, 49.66it/s]"
     ]
    },
    {
     "name": "stdout",
     "output_type": "stream",
     "text": [
      "epoch 399 train loss 0.006679027215795941\n",
      "val loss 0.003543386934325099 mape 5.547934055328369\n"
     ]
    },
    {
     "name": "stderr",
     "output_type": "stream",
     "text": [
      "100%|██████████| 128/128 [00:02<00:00, 49.55it/s]\n",
      "  4%|▍         | 5/128 [00:00<00:02, 49.44it/s]"
     ]
    },
    {
     "name": "stdout",
     "output_type": "stream",
     "text": [
      "epoch 400 train loss 0.006542371551404358\n",
      "val loss 0.00810317788273096 mape 5.15575647354126\n"
     ]
    },
    {
     "name": "stderr",
     "output_type": "stream",
     "text": [
      "100%|██████████| 128/128 [00:02<00:00, 49.63it/s]\n",
      "  5%|▍         | 6/128 [00:00<00:02, 49.37it/s]"
     ]
    },
    {
     "name": "stdout",
     "output_type": "stream",
     "text": [
      "epoch 401 train loss 0.006304397817075369\n",
      "val loss 0.004434917122125626 mape 5.463502407073975\n"
     ]
    },
    {
     "name": "stderr",
     "output_type": "stream",
     "text": [
      "100%|██████████| 128/128 [00:02<00:00, 49.46it/s]\n",
      "  4%|▍         | 5/128 [00:00<00:02, 49.53it/s]"
     ]
    },
    {
     "name": "stdout",
     "output_type": "stream",
     "text": [
      "epoch 402 train loss 0.006342301944641804\n",
      "val loss 0.002585167996585369 mape 4.902937412261963\n"
     ]
    },
    {
     "name": "stderr",
     "output_type": "stream",
     "text": [
      "100%|██████████| 128/128 [00:02<00:00, 49.72it/s]\n",
      "  4%|▍         | 5/128 [00:00<00:02, 49.64it/s]"
     ]
    },
    {
     "name": "stdout",
     "output_type": "stream",
     "text": [
      "epoch 403 train loss 0.006046298516594106\n",
      "val loss 0.003436741419136524 mape 4.9016218185424805\n"
     ]
    },
    {
     "name": "stderr",
     "output_type": "stream",
     "text": [
      "100%|██████████| 128/128 [00:02<00:00, 49.62it/s]\n",
      "  4%|▍         | 5/128 [00:00<00:02, 49.74it/s]"
     ]
    },
    {
     "name": "stdout",
     "output_type": "stream",
     "text": [
      "epoch 404 train loss 0.006297885769527056\n",
      "val loss 0.004805015865713358 mape 4.544710636138916\n"
     ]
    },
    {
     "name": "stderr",
     "output_type": "stream",
     "text": [
      "100%|██████████| 128/128 [00:02<00:00, 49.40it/s]\n",
      "  4%|▍         | 5/128 [00:00<00:02, 49.82it/s]"
     ]
    },
    {
     "name": "stdout",
     "output_type": "stream",
     "text": [
      "epoch 405 train loss 0.006446207206863619\n",
      "val loss 0.0031695817597210407 mape 4.7260518074035645\n"
     ]
    },
    {
     "name": "stderr",
     "output_type": "stream",
     "text": [
      "100%|██████████| 128/128 [00:02<00:00, 49.17it/s]\n",
      "  4%|▍         | 5/128 [00:00<00:02, 49.35it/s]"
     ]
    },
    {
     "name": "stdout",
     "output_type": "stream",
     "text": [
      "epoch 406 train loss 0.006832870424659632\n",
      "val loss 0.0031830586958676577 mape 4.986842632293701\n"
     ]
    },
    {
     "name": "stderr",
     "output_type": "stream",
     "text": [
      "100%|██████████| 128/128 [00:02<00:00, 49.47it/s]\n",
      "  4%|▍         | 5/128 [00:00<00:02, 48.74it/s]"
     ]
    },
    {
     "name": "stdout",
     "output_type": "stream",
     "text": [
      "epoch 407 train loss 0.006555462856340455\n",
      "val loss 0.0030709360726177692 mape 5.477324485778809\n"
     ]
    },
    {
     "name": "stderr",
     "output_type": "stream",
     "text": [
      "100%|██████████| 128/128 [00:02<00:00, 49.39it/s]\n",
      "  4%|▍         | 5/128 [00:00<00:02, 49.04it/s]"
     ]
    },
    {
     "name": "stdout",
     "output_type": "stream",
     "text": [
      "epoch 408 train loss 0.007230841770251573\n",
      "val loss 0.003269093343988061 mape 5.5186920166015625\n"
     ]
    },
    {
     "name": "stderr",
     "output_type": "stream",
     "text": [
      "100%|██████████| 128/128 [00:02<00:00, 49.44it/s]\n",
      "  4%|▍         | 5/128 [00:00<00:02, 49.87it/s]"
     ]
    },
    {
     "name": "stdout",
     "output_type": "stream",
     "text": [
      "epoch 409 train loss 0.006506410421025066\n",
      "val loss 0.0028987405821681023 mape 4.98606014251709\n"
     ]
    },
    {
     "name": "stderr",
     "output_type": "stream",
     "text": [
      "100%|██████████| 128/128 [00:02<00:00, 49.32it/s]\n",
      "  5%|▍         | 6/128 [00:00<00:02, 50.71it/s]"
     ]
    },
    {
     "name": "stdout",
     "output_type": "stream",
     "text": [
      "epoch 410 train loss 0.006420979879294464\n",
      "val loss 0.0043053277768194675 mape 5.371629238128662\n"
     ]
    },
    {
     "name": "stderr",
     "output_type": "stream",
     "text": [
      "100%|██████████| 128/128 [00:02<00:00, 49.34it/s]\n",
      "  4%|▍         | 5/128 [00:00<00:02, 49.84it/s]"
     ]
    },
    {
     "name": "stdout",
     "output_type": "stream",
     "text": [
      "epoch 411 train loss 0.007224024066090351\n",
      "val loss 0.0022139097563922405 mape 5.15194034576416\n"
     ]
    },
    {
     "name": "stderr",
     "output_type": "stream",
     "text": [
      "100%|██████████| 128/128 [00:02<00:00, 49.60it/s]\n",
      "  5%|▍         | 6/128 [00:00<00:02, 50.09it/s]"
     ]
    },
    {
     "name": "stdout",
     "output_type": "stream",
     "text": [
      "epoch 412 train loss 0.006474285293734283\n",
      "val loss 0.0024636462330818176 mape 5.199455738067627\n"
     ]
    },
    {
     "name": "stderr",
     "output_type": "stream",
     "text": [
      "100%|██████████| 128/128 [00:02<00:00, 49.77it/s]\n",
      "  5%|▍         | 6/128 [00:00<00:02, 50.51it/s]"
     ]
    },
    {
     "name": "stdout",
     "output_type": "stream",
     "text": [
      "epoch 413 train loss 0.006711121229272976\n",
      "val loss 0.00356253026984632 mape 5.017780780792236\n"
     ]
    },
    {
     "name": "stderr",
     "output_type": "stream",
     "text": [
      "100%|██████████| 128/128 [00:02<00:00, 49.52it/s]\n",
      "  5%|▍         | 6/128 [00:00<00:02, 50.37it/s]"
     ]
    },
    {
     "name": "stdout",
     "output_type": "stream",
     "text": [
      "epoch 414 train loss 0.006556880942298449\n",
      "val loss 0.003415559185668826 mape 4.856579780578613\n"
     ]
    },
    {
     "name": "stderr",
     "output_type": "stream",
     "text": [
      "100%|██████████| 128/128 [00:02<00:00, 49.72it/s]\n",
      "  5%|▍         | 6/128 [00:00<00:02, 50.22it/s]"
     ]
    },
    {
     "name": "stdout",
     "output_type": "stream",
     "text": [
      "epoch 415 train loss 0.007029838578091585\n",
      "val loss 0.007097219116985798 mape 5.575989723205566\n"
     ]
    },
    {
     "name": "stderr",
     "output_type": "stream",
     "text": [
      "100%|██████████| 128/128 [00:02<00:00, 49.95it/s]\n",
      "  4%|▍         | 5/128 [00:00<00:02, 48.96it/s]"
     ]
    },
    {
     "name": "stdout",
     "output_type": "stream",
     "text": [
      "epoch 416 train loss 0.006396639176273311\n",
      "val loss 0.0027177680749446154 mape 5.243916034698486\n"
     ]
    },
    {
     "name": "stderr",
     "output_type": "stream",
     "text": [
      "100%|██████████| 128/128 [00:02<00:00, 49.49it/s]\n",
      "  5%|▍         | 6/128 [00:00<00:02, 50.80it/s]"
     ]
    },
    {
     "name": "stdout",
     "output_type": "stream",
     "text": [
      "epoch 417 train loss 0.0073857007701008115\n",
      "val loss 0.0032240059226751328 mape 5.282063007354736\n"
     ]
    },
    {
     "name": "stderr",
     "output_type": "stream",
     "text": [
      "100%|██████████| 128/128 [00:02<00:00, 49.50it/s]\n",
      "  5%|▍         | 6/128 [00:00<00:02, 50.76it/s]"
     ]
    },
    {
     "name": "stdout",
     "output_type": "stream",
     "text": [
      "epoch 418 train loss 0.007262326958880294\n",
      "val loss 0.0026209319476038218 mape 4.858410835266113\n"
     ]
    },
    {
     "name": "stderr",
     "output_type": "stream",
     "text": [
      "100%|██████████| 128/128 [00:02<00:00, 49.62it/s]\n",
      "  5%|▍         | 6/128 [00:00<00:02, 51.27it/s]"
     ]
    },
    {
     "name": "stdout",
     "output_type": "stream",
     "text": [
      "epoch 419 train loss 0.007418643292112392\n",
      "val loss 0.004126846790313721 mape 5.410504341125488\n"
     ]
    },
    {
     "name": "stderr",
     "output_type": "stream",
     "text": [
      "100%|██████████| 128/128 [00:02<00:00, 49.46it/s]\n",
      "  4%|▍         | 5/128 [00:00<00:02, 49.81it/s]"
     ]
    },
    {
     "name": "stdout",
     "output_type": "stream",
     "text": [
      "epoch 420 train loss 0.007833684478100622\n",
      "val loss 0.003158817533403635 mape 4.896675109863281\n"
     ]
    },
    {
     "name": "stderr",
     "output_type": "stream",
     "text": [
      "100%|██████████| 128/128 [00:02<00:00, 49.54it/s]\n",
      "  4%|▍         | 5/128 [00:00<00:02, 48.96it/s]"
     ]
    },
    {
     "name": "stdout",
     "output_type": "stream",
     "text": [
      "epoch 421 train loss 0.0065883351480806596\n",
      "val loss 0.0055513218976557255 mape 4.479791641235352\n"
     ]
    },
    {
     "name": "stderr",
     "output_type": "stream",
     "text": [
      "100%|██████████| 128/128 [00:02<00:00, 49.48it/s]\n",
      "  4%|▍         | 5/128 [00:00<00:02, 49.79it/s]"
     ]
    },
    {
     "name": "stdout",
     "output_type": "stream",
     "text": [
      "epoch 422 train loss 0.006989780288677139\n",
      "val loss 0.004514936823397875 mape 5.039261817932129\n"
     ]
    },
    {
     "name": "stderr",
     "output_type": "stream",
     "text": [
      "100%|██████████| 128/128 [00:02<00:00, 49.40it/s]\n",
      "  5%|▍         | 6/128 [00:00<00:02, 49.64it/s]"
     ]
    },
    {
     "name": "stdout",
     "output_type": "stream",
     "text": [
      "epoch 423 train loss 0.0070213289218372665\n",
      "val loss 0.004527134820818901 mape 5.246234893798828\n"
     ]
    },
    {
     "name": "stderr",
     "output_type": "stream",
     "text": [
      "100%|██████████| 128/128 [00:02<00:00, 49.70it/s]\n",
      "  5%|▍         | 6/128 [00:00<00:02, 50.28it/s]"
     ]
    },
    {
     "name": "stdout",
     "output_type": "stream",
     "text": [
      "epoch 424 train loss 0.005909676355258853\n",
      "val loss 0.003851932007819414 mape 5.010746955871582\n"
     ]
    },
    {
     "name": "stderr",
     "output_type": "stream",
     "text": [
      "100%|██████████| 128/128 [00:02<00:00, 49.56it/s]\n",
      "  4%|▍         | 5/128 [00:00<00:02, 49.91it/s]"
     ]
    },
    {
     "name": "stdout",
     "output_type": "stream",
     "text": [
      "epoch 425 train loss 0.006014642009176896\n",
      "val loss 0.0026582235004752874 mape 5.3862080574035645\n"
     ]
    },
    {
     "name": "stderr",
     "output_type": "stream",
     "text": [
      "100%|██████████| 128/128 [00:02<00:00, 49.69it/s]\n",
      "  5%|▍         | 6/128 [00:00<00:02, 50.15it/s]"
     ]
    },
    {
     "name": "stdout",
     "output_type": "stream",
     "text": [
      "epoch 426 train loss 0.007356427765444096\n",
      "val loss 0.010432228446006775 mape 5.551819801330566\n"
     ]
    },
    {
     "name": "stderr",
     "output_type": "stream",
     "text": [
      "100%|██████████| 128/128 [00:02<00:00, 49.73it/s]\n",
      "  4%|▍         | 5/128 [00:00<00:02, 49.99it/s]"
     ]
    },
    {
     "name": "stdout",
     "output_type": "stream",
     "text": [
      "epoch 427 train loss 0.006678320223727496\n",
      "val loss 0.0027756872586905956 mape 4.903798580169678\n"
     ]
    },
    {
     "name": "stderr",
     "output_type": "stream",
     "text": [
      "100%|██████████| 128/128 [00:02<00:00, 49.51it/s]\n",
      "  5%|▍         | 6/128 [00:00<00:02, 49.87it/s]"
     ]
    },
    {
     "name": "stdout",
     "output_type": "stream",
     "text": [
      "epoch 428 train loss 0.007684011305173044\n",
      "val loss 0.0032554499339312315 mape 5.062122821807861\n"
     ]
    },
    {
     "name": "stderr",
     "output_type": "stream",
     "text": [
      "100%|██████████| 128/128 [00:02<00:00, 49.62it/s]\n",
      "  4%|▍         | 5/128 [00:00<00:02, 49.29it/s]"
     ]
    },
    {
     "name": "stdout",
     "output_type": "stream",
     "text": [
      "epoch 429 train loss 0.006972835612941708\n",
      "val loss 0.0029792161658406258 mape 5.333517551422119\n"
     ]
    },
    {
     "name": "stderr",
     "output_type": "stream",
     "text": [
      "100%|██████████| 128/128 [00:02<00:00, 49.58it/s]\n",
      "  4%|▍         | 5/128 [00:00<00:02, 49.72it/s]"
     ]
    },
    {
     "name": "stdout",
     "output_type": "stream",
     "text": [
      "epoch 430 train loss 0.006692195377581811\n",
      "val loss 0.002709463005885482 mape 5.3184814453125\n"
     ]
    },
    {
     "name": "stderr",
     "output_type": "stream",
     "text": [
      "100%|██████████| 128/128 [00:02<00:00, 49.39it/s]\n",
      "  4%|▍         | 5/128 [00:00<00:02, 49.72it/s]"
     ]
    },
    {
     "name": "stdout",
     "output_type": "stream",
     "text": [
      "epoch 431 train loss 0.007279965995621751\n",
      "val loss 0.002666900400072336 mape 5.202195644378662\n"
     ]
    },
    {
     "name": "stderr",
     "output_type": "stream",
     "text": [
      "100%|██████████| 128/128 [00:02<00:00, 49.61it/s]\n",
      "  4%|▍         | 5/128 [00:00<00:02, 49.39it/s]"
     ]
    },
    {
     "name": "stdout",
     "output_type": "stream",
     "text": [
      "epoch 432 train loss 0.00738863754668273\n",
      "val loss 0.004645179957151413 mape 5.4586100578308105\n"
     ]
    },
    {
     "name": "stderr",
     "output_type": "stream",
     "text": [
      "100%|██████████| 128/128 [00:02<00:00, 49.57it/s]\n",
      "  4%|▍         | 5/128 [00:00<00:02, 48.77it/s]"
     ]
    },
    {
     "name": "stdout",
     "output_type": "stream",
     "text": [
      "epoch 433 train loss 0.006362508859638183\n",
      "val loss 0.004944234155118465 mape 5.335650444030762\n"
     ]
    },
    {
     "name": "stderr",
     "output_type": "stream",
     "text": [
      "100%|██████████| 128/128 [00:02<00:00, 49.67it/s]\n",
      "  5%|▍         | 6/128 [00:00<00:02, 49.79it/s]"
     ]
    },
    {
     "name": "stdout",
     "output_type": "stream",
     "text": [
      "epoch 434 train loss 0.0071441506188421044\n",
      "val loss 0.002377660945057869 mape 5.269863128662109\n"
     ]
    },
    {
     "name": "stderr",
     "output_type": "stream",
     "text": [
      "100%|██████████| 128/128 [00:02<00:00, 49.72it/s]\n",
      "  4%|▍         | 5/128 [00:00<00:02, 49.91it/s]"
     ]
    },
    {
     "name": "stdout",
     "output_type": "stream",
     "text": [
      "epoch 435 train loss 0.006409897292542155\n",
      "val loss 0.0033904120791703463 mape 5.105498313903809\n"
     ]
    },
    {
     "name": "stderr",
     "output_type": "stream",
     "text": [
      "100%|██████████| 128/128 [00:02<00:00, 49.53it/s]\n",
      "  4%|▍         | 5/128 [00:00<00:02, 49.58it/s]"
     ]
    },
    {
     "name": "stdout",
     "output_type": "stream",
     "text": [
      "epoch 436 train loss 0.006570978906893288\n",
      "val loss 0.005222613923251629 mape 4.863081455230713\n"
     ]
    },
    {
     "name": "stderr",
     "output_type": "stream",
     "text": [
      "100%|██████████| 128/128 [00:02<00:00, 49.42it/s]\n",
      "  5%|▍         | 6/128 [00:00<00:02, 51.08it/s]"
     ]
    },
    {
     "name": "stdout",
     "output_type": "stream",
     "text": [
      "epoch 437 train loss 0.006707713642754243\n",
      "val loss 0.005530712194740772 mape 4.664790153503418\n"
     ]
    },
    {
     "name": "stderr",
     "output_type": "stream",
     "text": [
      "100%|██████████| 128/128 [00:02<00:00, 49.24it/s]\n",
      "  4%|▍         | 5/128 [00:00<00:02, 49.57it/s]"
     ]
    },
    {
     "name": "stdout",
     "output_type": "stream",
     "text": [
      "epoch 438 train loss 0.006806830728237401\n",
      "val loss 0.0026504569686949253 mape 5.154371738433838\n"
     ]
    },
    {
     "name": "stderr",
     "output_type": "stream",
     "text": [
      "100%|██████████| 128/128 [00:02<00:00, 49.08it/s]\n",
      "  4%|▍         | 5/128 [00:00<00:02, 49.58it/s]"
     ]
    },
    {
     "name": "stdout",
     "output_type": "stream",
     "text": [
      "epoch 439 train loss 0.0073222807004640345\n",
      "val loss 0.0030972801614552736 mape 5.3698320388793945\n"
     ]
    },
    {
     "name": "stderr",
     "output_type": "stream",
     "text": [
      "100%|██████████| 128/128 [00:02<00:00, 49.21it/s]\n",
      "  4%|▍         | 5/128 [00:00<00:02, 49.58it/s]"
     ]
    },
    {
     "name": "stdout",
     "output_type": "stream",
     "text": [
      "epoch 440 train loss 0.0057016528298845515\n",
      "val loss 0.0042615667916834354 mape 4.900487422943115\n"
     ]
    },
    {
     "name": "stderr",
     "output_type": "stream",
     "text": [
      "100%|██████████| 128/128 [00:02<00:00, 49.53it/s]\n",
      "  4%|▍         | 5/128 [00:00<00:02, 49.89it/s]"
     ]
    },
    {
     "name": "stdout",
     "output_type": "stream",
     "text": [
      "epoch 441 train loss 0.006185405970427382\n",
      "val loss 0.0035660802386701107 mape 5.279844760894775\n"
     ]
    },
    {
     "name": "stderr",
     "output_type": "stream",
     "text": [
      "100%|██████████| 128/128 [00:02<00:00, 49.64it/s]\n",
      "  5%|▍         | 6/128 [00:00<00:02, 53.59it/s]"
     ]
    },
    {
     "name": "stdout",
     "output_type": "stream",
     "text": [
      "epoch 442 train loss 0.00770827539236052\n",
      "val loss 0.00330117205157876 mape 4.930596351623535\n"
     ]
    },
    {
     "name": "stderr",
     "output_type": "stream",
     "text": [
      "100%|██████████| 128/128 [00:02<00:00, 50.28it/s]\n",
      "  5%|▍         | 6/128 [00:00<00:02, 50.70it/s]"
     ]
    },
    {
     "name": "stdout",
     "output_type": "stream",
     "text": [
      "epoch 443 train loss 0.006594041446987831\n",
      "val loss 0.0063123214058578014 mape 5.100287437438965\n"
     ]
    },
    {
     "name": "stderr",
     "output_type": "stream",
     "text": [
      "100%|██████████| 128/128 [00:02<00:00, 49.65it/s]\n",
      "  5%|▍         | 6/128 [00:00<00:02, 50.78it/s]"
     ]
    },
    {
     "name": "stdout",
     "output_type": "stream",
     "text": [
      "epoch 444 train loss 0.006396800467882713\n",
      "val loss 0.00801109243184328 mape 5.394381046295166\n"
     ]
    },
    {
     "name": "stderr",
     "output_type": "stream",
     "text": [
      "100%|██████████| 128/128 [00:02<00:00, 49.55it/s]\n",
      "  5%|▍         | 6/128 [00:00<00:02, 49.86it/s]"
     ]
    },
    {
     "name": "stdout",
     "output_type": "stream",
     "text": [
      "epoch 445 train loss 0.006637823656092223\n",
      "val loss 0.002810416277498007 mape 5.2518205642700195\n"
     ]
    },
    {
     "name": "stderr",
     "output_type": "stream",
     "text": [
      "100%|██████████| 128/128 [00:02<00:00, 49.35it/s]\n",
      "  5%|▍         | 6/128 [00:00<00:02, 49.31it/s]"
     ]
    },
    {
     "name": "stdout",
     "output_type": "stream",
     "text": [
      "epoch 446 train loss 0.0068838075112580555\n",
      "val loss 0.002251730766147375 mape 5.072986602783203\n"
     ]
    },
    {
     "name": "stderr",
     "output_type": "stream",
     "text": [
      "100%|██████████| 128/128 [00:02<00:00, 49.15it/s]\n",
      "  5%|▍         | 6/128 [00:00<00:02, 52.10it/s]"
     ]
    },
    {
     "name": "stdout",
     "output_type": "stream",
     "text": [
      "epoch 447 train loss 0.007033246396531467\n",
      "val loss 0.003931734710931778 mape 4.559999942779541\n"
     ]
    },
    {
     "name": "stderr",
     "output_type": "stream",
     "text": [
      "100%|██████████| 128/128 [00:02<00:00, 49.58it/s]\n",
      "  4%|▍         | 5/128 [00:00<00:02, 49.46it/s]"
     ]
    },
    {
     "name": "stdout",
     "output_type": "stream",
     "text": [
      "epoch 448 train loss 0.007907396933660493\n",
      "val loss 0.006474602967500687 mape 4.3441057205200195\n"
     ]
    },
    {
     "name": "stderr",
     "output_type": "stream",
     "text": [
      "100%|██████████| 128/128 [00:02<00:00, 49.68it/s]\n",
      "  4%|▍         | 5/128 [00:00<00:02, 49.66it/s]"
     ]
    },
    {
     "name": "stdout",
     "output_type": "stream",
     "text": [
      "epoch 449 train loss 0.006475590581430879\n",
      "val loss 0.002409361768513918 mape 5.104428768157959\n"
     ]
    },
    {
     "name": "stderr",
     "output_type": "stream",
     "text": [
      "100%|██████████| 128/128 [00:02<00:00, 49.75it/s]\n",
      "  4%|▍         | 5/128 [00:00<00:02, 49.90it/s]"
     ]
    },
    {
     "name": "stdout",
     "output_type": "stream",
     "text": [
      "epoch 450 train loss 0.007114080652172561\n",
      "val loss 0.002929417183622718 mape 4.762178897857666\n"
     ]
    },
    {
     "name": "stderr",
     "output_type": "stream",
     "text": [
      "100%|██████████| 128/128 [00:02<00:00, 49.63it/s]\n",
      "  5%|▍         | 6/128 [00:00<00:02, 49.66it/s]"
     ]
    },
    {
     "name": "stdout",
     "output_type": "stream",
     "text": [
      "epoch 451 train loss 0.006213699482032098\n",
      "val loss 0.0032871535513550043 mape 5.530337333679199\n"
     ]
    },
    {
     "name": "stderr",
     "output_type": "stream",
     "text": [
      "100%|██████████| 128/128 [00:02<00:00, 49.43it/s]\n",
      "  5%|▍         | 6/128 [00:00<00:02, 50.55it/s]"
     ]
    },
    {
     "name": "stdout",
     "output_type": "stream",
     "text": [
      "epoch 452 train loss 0.007236714448481507\n",
      "val loss 0.0033978279680013657 mape 4.9438557624816895\n"
     ]
    },
    {
     "name": "stderr",
     "output_type": "stream",
     "text": [
      "100%|██████████| 128/128 [00:02<00:00, 49.61it/s]\n",
      "  5%|▍         | 6/128 [00:00<00:02, 49.23it/s]"
     ]
    },
    {
     "name": "stdout",
     "output_type": "stream",
     "text": [
      "epoch 453 train loss 0.00675899583438877\n",
      "val loss 0.003068963997066021 mape 5.127652645111084\n"
     ]
    },
    {
     "name": "stderr",
     "output_type": "stream",
     "text": [
      "100%|██████████| 128/128 [00:02<00:00, 49.24it/s]\n",
      "  4%|▍         | 5/128 [00:00<00:02, 49.21it/s]"
     ]
    },
    {
     "name": "stdout",
     "output_type": "stream",
     "text": [
      "epoch 454 train loss 0.006453491182128346\n",
      "val loss 0.0034461342729628086 mape 4.615833282470703\n"
     ]
    },
    {
     "name": "stderr",
     "output_type": "stream",
     "text": [
      "100%|██████████| 128/128 [00:02<00:00, 49.68it/s]\n",
      "  4%|▍         | 5/128 [00:00<00:02, 48.91it/s]"
     ]
    },
    {
     "name": "stdout",
     "output_type": "stream",
     "text": [
      "epoch 455 train loss 0.006083041923375276\n",
      "val loss 0.0049536339938640594 mape 4.829841613769531\n"
     ]
    },
    {
     "name": "stderr",
     "output_type": "stream",
     "text": [
      "100%|██████████| 128/128 [00:02<00:00, 49.56it/s]\n",
      "  0%|          | 0/128 [00:00<?, ?it/s]"
     ]
    },
    {
     "name": "stdout",
     "output_type": "stream",
     "text": [
      "epoch 456 train loss 0.006094612181186676\n",
      "val loss 0.002073064213618636 mape 5.213279724121094\n"
     ]
    },
    {
     "name": "stderr",
     "output_type": "stream",
     "text": [
      "100%|██████████| 128/128 [00:02<00:00, 48.94it/s]\n",
      "  4%|▍         | 5/128 [00:00<00:02, 49.10it/s]"
     ]
    },
    {
     "name": "stdout",
     "output_type": "stream",
     "text": [
      "epoch 457 train loss 0.006928232039172144\n",
      "val loss 0.002184181706979871 mape 5.216763496398926\n"
     ]
    },
    {
     "name": "stderr",
     "output_type": "stream",
     "text": [
      "100%|██████████| 128/128 [00:02<00:00, 48.63it/s]\n",
      "  4%|▍         | 5/128 [00:00<00:02, 49.25it/s]"
     ]
    },
    {
     "name": "stdout",
     "output_type": "stream",
     "text": [
      "epoch 458 train loss 0.005872418361832388\n",
      "val loss 0.003814640222117305 mape 4.829367160797119\n"
     ]
    },
    {
     "name": "stderr",
     "output_type": "stream",
     "text": [
      "100%|██████████| 128/128 [00:02<00:00, 49.04it/s]\n",
      "  4%|▍         | 5/128 [00:00<00:02, 49.82it/s]"
     ]
    },
    {
     "name": "stdout",
     "output_type": "stream",
     "text": [
      "epoch 459 train loss 0.0064556983570582815\n",
      "val loss 0.0027385512366890907 mape 5.015547752380371\n"
     ]
    },
    {
     "name": "stderr",
     "output_type": "stream",
     "text": [
      "100%|██████████| 128/128 [00:02<00:00, 49.06it/s]\n",
      "  4%|▍         | 5/128 [00:00<00:02, 48.73it/s]"
     ]
    },
    {
     "name": "stdout",
     "output_type": "stream",
     "text": [
      "epoch 460 train loss 0.00823601645333838\n",
      "val loss 0.0026290479581803083 mape 5.117959499359131\n"
     ]
    },
    {
     "name": "stderr",
     "output_type": "stream",
     "text": [
      "100%|██████████| 128/128 [00:02<00:00, 48.75it/s]\n",
      "  4%|▍         | 5/128 [00:00<00:02, 49.50it/s]"
     ]
    },
    {
     "name": "stdout",
     "output_type": "stream",
     "text": [
      "epoch 461 train loss 0.007831465659364767\n",
      "val loss 0.003266102634370327 mape 5.353946208953857\n"
     ]
    },
    {
     "name": "stderr",
     "output_type": "stream",
     "text": [
      "100%|██████████| 128/128 [00:02<00:00, 48.99it/s]\n",
      "  5%|▍         | 6/128 [00:00<00:02, 51.72it/s]"
     ]
    },
    {
     "name": "stdout",
     "output_type": "stream",
     "text": [
      "epoch 462 train loss 0.006196792935952544\n",
      "val loss 0.003950205165892839 mape 4.763873100280762\n"
     ]
    },
    {
     "name": "stderr",
     "output_type": "stream",
     "text": [
      "100%|██████████| 128/128 [00:02<00:00, 48.80it/s]\n",
      "  4%|▍         | 5/128 [00:00<00:02, 48.47it/s]"
     ]
    },
    {
     "name": "stdout",
     "output_type": "stream",
     "text": [
      "epoch 463 train loss 0.006122321158727573\n",
      "val loss 0.0024153380654752254 mape 4.94972562789917\n"
     ]
    },
    {
     "name": "stderr",
     "output_type": "stream",
     "text": [
      "100%|██████████| 128/128 [00:02<00:00, 48.62it/s]\n",
      "  4%|▍         | 5/128 [00:00<00:02, 49.21it/s]"
     ]
    },
    {
     "name": "stdout",
     "output_type": "stream",
     "text": [
      "epoch 464 train loss 0.007144371736103494\n",
      "val loss 0.0026989232283085585 mape 4.97575569152832\n"
     ]
    },
    {
     "name": "stderr",
     "output_type": "stream",
     "text": [
      "100%|██████████| 128/128 [00:02<00:00, 48.48it/s]\n",
      "  4%|▍         | 5/128 [00:00<00:02, 48.73it/s]"
     ]
    },
    {
     "name": "stdout",
     "output_type": "stream",
     "text": [
      "epoch 465 train loss 0.006153455326057156\n",
      "val loss 0.0022666086442768574 mape 5.111578464508057\n"
     ]
    },
    {
     "name": "stderr",
     "output_type": "stream",
     "text": [
      "100%|██████████| 128/128 [00:02<00:00, 48.68it/s]\n",
      "  4%|▍         | 5/128 [00:00<00:02, 49.93it/s]"
     ]
    },
    {
     "name": "stdout",
     "output_type": "stream",
     "text": [
      "epoch 466 train loss 0.007808034079971549\n",
      "val loss 0.0026904249098151922 mape 5.214300632476807\n"
     ]
    },
    {
     "name": "stderr",
     "output_type": "stream",
     "text": [
      "100%|██████████| 128/128 [00:02<00:00, 49.04it/s]\n",
      "  4%|▍         | 5/128 [00:00<00:02, 48.93it/s]"
     ]
    },
    {
     "name": "stdout",
     "output_type": "stream",
     "text": [
      "epoch 467 train loss 0.006559647535141266\n",
      "val loss 0.00415838835760951 mape 4.878912925720215\n"
     ]
    },
    {
     "name": "stderr",
     "output_type": "stream",
     "text": [
      "100%|██████████| 128/128 [00:02<00:00, 48.93it/s]\n",
      "  4%|▍         | 5/128 [00:00<00:02, 49.66it/s]"
     ]
    },
    {
     "name": "stdout",
     "output_type": "stream",
     "text": [
      "epoch 468 train loss 0.006324209377453371\n",
      "val loss 0.004108658991754055 mape 4.963069915771484\n"
     ]
    },
    {
     "name": "stderr",
     "output_type": "stream",
     "text": [
      "100%|██████████| 128/128 [00:02<00:00, 48.88it/s]\n",
      "  5%|▍         | 6/128 [00:00<00:02, 50.40it/s]"
     ]
    },
    {
     "name": "stdout",
     "output_type": "stream",
     "text": [
      "epoch 469 train loss 0.007499551572436758\n",
      "val loss 0.002365210559219122 mape 4.862860202789307\n"
     ]
    },
    {
     "name": "stderr",
     "output_type": "stream",
     "text": [
      "100%|██████████| 128/128 [00:02<00:00, 49.24it/s]\n",
      "  4%|▍         | 5/128 [00:00<00:02, 49.01it/s]"
     ]
    },
    {
     "name": "stdout",
     "output_type": "stream",
     "text": [
      "epoch 470 train loss 0.006395177126250928\n",
      "val loss 0.0023473380133509636 mape 5.019596576690674\n"
     ]
    },
    {
     "name": "stderr",
     "output_type": "stream",
     "text": [
      "100%|██████████| 128/128 [00:02<00:00, 48.86it/s]\n",
      "  4%|▍         | 5/128 [00:00<00:02, 49.83it/s]"
     ]
    },
    {
     "name": "stdout",
     "output_type": "stream",
     "text": [
      "epoch 471 train loss 0.005519486338016577\n",
      "val loss 0.002337990328669548 mape 5.240240097045898\n"
     ]
    },
    {
     "name": "stderr",
     "output_type": "stream",
     "text": [
      "100%|██████████| 128/128 [00:02<00:00, 48.70it/s]\n",
      "  4%|▍         | 5/128 [00:00<00:02, 49.03it/s]"
     ]
    },
    {
     "name": "stdout",
     "output_type": "stream",
     "text": [
      "epoch 472 train loss 0.0069253932388164685\n",
      "val loss 0.0022382019087672234 mape 5.125781059265137\n"
     ]
    },
    {
     "name": "stderr",
     "output_type": "stream",
     "text": [
      "100%|██████████| 128/128 [00:02<00:00, 49.05it/s]\n",
      "  5%|▍         | 6/128 [00:00<00:02, 49.62it/s]"
     ]
    },
    {
     "name": "stdout",
     "output_type": "stream",
     "text": [
      "epoch 473 train loss 0.006986510338720109\n",
      "val loss 0.0033231766428798437 mape 5.237452507019043\n"
     ]
    },
    {
     "name": "stderr",
     "output_type": "stream",
     "text": [
      "100%|██████████| 128/128 [00:02<00:00, 49.13it/s]\n",
      "  4%|▍         | 5/128 [00:00<00:02, 49.22it/s]"
     ]
    },
    {
     "name": "stdout",
     "output_type": "stream",
     "text": [
      "epoch 474 train loss 0.0054669950404786505\n",
      "val loss 0.0020994371734559536 mape 4.88507604598999\n"
     ]
    },
    {
     "name": "stderr",
     "output_type": "stream",
     "text": [
      "100%|██████████| 128/128 [00:02<00:00, 48.83it/s]\n",
      "  4%|▍         | 5/128 [00:00<00:02, 48.21it/s]"
     ]
    },
    {
     "name": "stdout",
     "output_type": "stream",
     "text": [
      "epoch 475 train loss 0.00677369372715475\n",
      "val loss 0.005699011497199535 mape 5.489272594451904\n"
     ]
    },
    {
     "name": "stderr",
     "output_type": "stream",
     "text": [
      "100%|██████████| 128/128 [00:02<00:00, 48.90it/s]\n",
      "  4%|▍         | 5/128 [00:00<00:02, 49.12it/s]"
     ]
    },
    {
     "name": "stdout",
     "output_type": "stream",
     "text": [
      "epoch 476 train loss 0.005992419279209571\n",
      "val loss 0.0038752572145313025 mape 4.9752960205078125\n"
     ]
    },
    {
     "name": "stderr",
     "output_type": "stream",
     "text": [
      "100%|██████████| 128/128 [00:02<00:00, 48.99it/s]\n",
      "  5%|▍         | 6/128 [00:00<00:02, 50.65it/s]"
     ]
    },
    {
     "name": "stdout",
     "output_type": "stream",
     "text": [
      "epoch 477 train loss 0.006544048044816009\n",
      "val loss 0.0023583180736750364 mape 5.182419300079346\n"
     ]
    },
    {
     "name": "stderr",
     "output_type": "stream",
     "text": [
      "100%|██████████| 128/128 [00:02<00:00, 48.49it/s]\n",
      "  4%|▍         | 5/128 [00:00<00:02, 48.34it/s]"
     ]
    },
    {
     "name": "stdout",
     "output_type": "stream",
     "text": [
      "epoch 478 train loss 0.006845649363640405\n",
      "val loss 0.0023292922414839268 mape 4.923327445983887\n"
     ]
    },
    {
     "name": "stderr",
     "output_type": "stream",
     "text": [
      "100%|██████████| 128/128 [00:02<00:00, 49.02it/s]\n",
      "  4%|▍         | 5/128 [00:00<00:02, 48.68it/s]"
     ]
    },
    {
     "name": "stdout",
     "output_type": "stream",
     "text": [
      "epoch 479 train loss 0.007278061091710697\n",
      "val loss 0.0027911379002034664 mape 5.146492004394531\n"
     ]
    },
    {
     "name": "stderr",
     "output_type": "stream",
     "text": [
      "100%|██████████| 128/128 [00:02<00:00, 48.85it/s]\n",
      "  4%|▍         | 5/128 [00:00<00:02, 49.13it/s]"
     ]
    },
    {
     "name": "stdout",
     "output_type": "stream",
     "text": [
      "epoch 480 train loss 0.006469738386840618\n",
      "val loss 0.002397538861259818 mape 5.006094455718994\n"
     ]
    },
    {
     "name": "stderr",
     "output_type": "stream",
     "text": [
      "100%|██████████| 128/128 [00:02<00:00, 48.48it/s]\n",
      "  5%|▍         | 6/128 [00:00<00:02, 49.55it/s]"
     ]
    },
    {
     "name": "stdout",
     "output_type": "stream",
     "text": [
      "epoch 481 train loss 0.006143956966297992\n",
      "val loss 0.0030028168112039566 mape 5.328781604766846\n"
     ]
    },
    {
     "name": "stderr",
     "output_type": "stream",
     "text": [
      "100%|██████████| 128/128 [00:02<00:00, 48.63it/s]\n",
      "  4%|▍         | 5/128 [00:00<00:02, 48.96it/s]"
     ]
    },
    {
     "name": "stdout",
     "output_type": "stream",
     "text": [
      "epoch 482 train loss 0.005657415071254945\n",
      "val loss 0.004152616485953331 mape 4.84438943862915\n"
     ]
    },
    {
     "name": "stderr",
     "output_type": "stream",
     "text": [
      "100%|██████████| 128/128 [00:02<00:00, 48.48it/s]\n",
      "  4%|▍         | 5/128 [00:00<00:02, 49.23it/s]"
     ]
    },
    {
     "name": "stdout",
     "output_type": "stream",
     "text": [
      "epoch 483 train loss 0.006768910198843514\n",
      "val loss 0.007155321072787046 mape 4.654947757720947\n"
     ]
    },
    {
     "name": "stderr",
     "output_type": "stream",
     "text": [
      "100%|██████████| 128/128 [00:02<00:00, 48.96it/s]\n",
      "  4%|▍         | 5/128 [00:00<00:02, 48.11it/s]"
     ]
    },
    {
     "name": "stdout",
     "output_type": "stream",
     "text": [
      "epoch 484 train loss 0.00598830239414383\n",
      "val loss 0.00267650093883276 mape 5.061415195465088\n"
     ]
    },
    {
     "name": "stderr",
     "output_type": "stream",
     "text": [
      "100%|██████████| 128/128 [00:02<00:00, 48.80it/s]\n",
      "  4%|▍         | 5/128 [00:00<00:02, 49.07it/s]"
     ]
    },
    {
     "name": "stdout",
     "output_type": "stream",
     "text": [
      "epoch 485 train loss 0.007966343978296209\n",
      "val loss 0.001982202986255288 mape 5.138748645782471\n"
     ]
    },
    {
     "name": "stderr",
     "output_type": "stream",
     "text": [
      "100%|██████████| 128/128 [00:02<00:00, 48.79it/s]\n",
      "  5%|▍         | 6/128 [00:00<00:02, 49.87it/s]"
     ]
    },
    {
     "name": "stdout",
     "output_type": "stream",
     "text": [
      "epoch 486 train loss 0.006407209512872214\n",
      "val loss 0.0034583520609885454 mape 5.213947772979736\n"
     ]
    },
    {
     "name": "stderr",
     "output_type": "stream",
     "text": [
      "100%|██████████| 128/128 [00:02<00:00, 48.75it/s]\n",
      "  5%|▍         | 6/128 [00:00<00:02, 49.45it/s]"
     ]
    },
    {
     "name": "stdout",
     "output_type": "stream",
     "text": [
      "epoch 487 train loss 0.0060412791772250785\n",
      "val loss 0.008882798254489899 mape 4.29542875289917\n"
     ]
    },
    {
     "name": "stderr",
     "output_type": "stream",
     "text": [
      "100%|██████████| 128/128 [00:02<00:00, 48.54it/s]\n",
      "  4%|▍         | 5/128 [00:00<00:02, 48.71it/s]"
     ]
    },
    {
     "name": "stdout",
     "output_type": "stream",
     "text": [
      "epoch 488 train loss 0.0062415874908765545\n",
      "val loss 0.0024334315676242113 mape 5.121566295623779\n"
     ]
    },
    {
     "name": "stderr",
     "output_type": "stream",
     "text": [
      "100%|██████████| 128/128 [00:02<00:00, 48.73it/s]\n",
      "  4%|▍         | 5/128 [00:00<00:02, 49.80it/s]"
     ]
    },
    {
     "name": "stdout",
     "output_type": "stream",
     "text": [
      "epoch 489 train loss 0.006647326880738547\n",
      "val loss 0.00596041651442647 mape 5.285542011260986\n"
     ]
    },
    {
     "name": "stderr",
     "output_type": "stream",
     "text": [
      "100%|██████████| 128/128 [00:02<00:00, 48.49it/s]\n",
      "  4%|▍         | 5/128 [00:00<00:02, 48.78it/s]"
     ]
    },
    {
     "name": "stdout",
     "output_type": "stream",
     "text": [
      "epoch 490 train loss 0.006122093414887786\n",
      "val loss 0.0032295871060341597 mape 4.685513496398926\n"
     ]
    },
    {
     "name": "stderr",
     "output_type": "stream",
     "text": [
      "100%|██████████| 128/128 [00:02<00:00, 48.55it/s]\n",
      "  4%|▍         | 5/128 [00:00<00:02, 49.97it/s]"
     ]
    },
    {
     "name": "stdout",
     "output_type": "stream",
     "text": [
      "epoch 491 train loss 0.006392511813828605\n",
      "val loss 0.0025362763553857803 mape 5.105990409851074\n"
     ]
    },
    {
     "name": "stderr",
     "output_type": "stream",
     "text": [
      "100%|██████████| 128/128 [00:02<00:00, 49.04it/s]\n",
      "  4%|▍         | 5/128 [00:00<00:02, 48.80it/s]"
     ]
    },
    {
     "name": "stdout",
     "output_type": "stream",
     "text": [
      "epoch 492 train loss 0.006349998377118027\n",
      "val loss 0.003234942676499486 mape 5.2799224853515625\n"
     ]
    },
    {
     "name": "stderr",
     "output_type": "stream",
     "text": [
      "100%|██████████| 128/128 [00:02<00:00, 48.42it/s]\n",
      "  4%|▍         | 5/128 [00:00<00:02, 49.49it/s]"
     ]
    },
    {
     "name": "stdout",
     "output_type": "stream",
     "text": [
      "epoch 493 train loss 0.006528680317387625\n",
      "val loss 0.006111732218414545 mape 4.391041278839111\n"
     ]
    },
    {
     "name": "stderr",
     "output_type": "stream",
     "text": [
      "100%|██████████| 128/128 [00:02<00:00, 48.82it/s]\n",
      "  4%|▍         | 5/128 [00:00<00:02, 48.77it/s]"
     ]
    },
    {
     "name": "stdout",
     "output_type": "stream",
     "text": [
      "epoch 494 train loss 0.006934855769031856\n",
      "val loss 0.004185063298791647 mape 4.824370384216309\n"
     ]
    },
    {
     "name": "stderr",
     "output_type": "stream",
     "text": [
      "100%|██████████| 128/128 [00:02<00:00, 48.77it/s]\n",
      "  5%|▍         | 6/128 [00:00<00:02, 49.42it/s]"
     ]
    },
    {
     "name": "stdout",
     "output_type": "stream",
     "text": [
      "epoch 495 train loss 0.005946242364188947\n",
      "val loss 0.0035468940623104572 mape 5.0460638999938965\n"
     ]
    },
    {
     "name": "stderr",
     "output_type": "stream",
     "text": [
      "100%|██████████| 128/128 [00:02<00:00, 48.70it/s]\n",
      "  4%|▍         | 5/128 [00:00<00:02, 48.17it/s]"
     ]
    },
    {
     "name": "stdout",
     "output_type": "stream",
     "text": [
      "epoch 496 train loss 0.007664364565243886\n",
      "val loss 0.0060407305136322975 mape 4.628030300140381\n"
     ]
    },
    {
     "name": "stderr",
     "output_type": "stream",
     "text": [
      "100%|██████████| 128/128 [00:02<00:00, 48.54it/s]\n",
      "  4%|▍         | 5/128 [00:00<00:02, 49.64it/s]"
     ]
    },
    {
     "name": "stdout",
     "output_type": "stream",
     "text": [
      "epoch 497 train loss 0.006638155068685592\n",
      "val loss 0.004725167993456125 mape 4.535016059875488\n"
     ]
    },
    {
     "name": "stderr",
     "output_type": "stream",
     "text": [
      "100%|██████████| 128/128 [00:02<00:00, 48.64it/s]\n",
      "  4%|▍         | 5/128 [00:00<00:02, 49.20it/s]"
     ]
    },
    {
     "name": "stdout",
     "output_type": "stream",
     "text": [
      "epoch 498 train loss 0.006790150159758923\n",
      "val loss 0.002864282112568617 mape 5.380157947540283\n"
     ]
    },
    {
     "name": "stderr",
     "output_type": "stream",
     "text": [
      "100%|██████████| 128/128 [00:02<00:00, 48.68it/s]"
     ]
    },
    {
     "name": "stdout",
     "output_type": "stream",
     "text": [
      "epoch 499 train loss 0.006157288302347297\n",
      "val loss 0.002268461510539055 mape 5.0009284019470215\n"
     ]
    },
    {
     "name": "stderr",
     "output_type": "stream",
     "text": [
      "\n"
     ]
    }
   ],
   "source": [
    "# training & validation\n",
    "lrate = 3e-4\n",
    "wdecay = 4e-3 #TODO: increase\n",
    "repulsion_w = 1e-4\n",
    "\n",
    "num_epoch = 500\n",
    "batch_size = 64\n",
    "\n",
    "print(nTrain, nValid, nTest)\n",
    "xTrain = x[:nTrain]\n",
    "xValid = x[nTrain:nTrain+nValid]\n",
    "\n",
    "yTrain = y[:nTrain]\n",
    "yValid = y[nTrain:nTrain+nValid]\n",
    "\n",
    "if not os.path.isfile(model_name):\n",
    "    train_loss = []\n",
    "    val_loss = []\n",
    "min_val_loss = 1000\n",
    "obj = nn.MSELoss()\n",
    "for e in range(num_epoch):\n",
    "#     if e%50 == 0 and e>0:\n",
    "#         lrate = lrate * 0.8\n",
    "#     optimizer = SGD(model.parameters(), lr=lrate, weight_decay=wdecay, momentum=0.9, beta=1e-2)\n",
    "    optimizer = optim.Adam(model.parameters(), lr=lrate, weight_decay=wdecay)\n",
    "    \n",
    "    # train part\n",
    "    model.train()\n",
    "    # shuffle\n",
    "    xTrain, yTrain = shuffle(xTrain, yTrain)\n",
    "    cur_loss = []\n",
    "    for i in tqdm(range(nTrain//batch_size)):\n",
    "        batch_in = xTrain[i*batch_size:(i+1)*batch_size]\n",
    "        batch_gt = yTrain[i*batch_size:(i+1)*batch_size][:,:,0:1]\n",
    "        \n",
    "        out = model(batch_in)\n",
    "        loss = obj(out, batch_gt) #+ repulsion_w*clipped_repulsion(out)\n",
    "        cur_loss.append(loss.item())\n",
    "        \n",
    "#         if i%150 == 0:\n",
    "#             print(i, 'loss', loss.item(), 'mape', util.masked_mape(out, batch_gt,0).item())\n",
    "        \n",
    "        optimizer.zero_grad()\n",
    "        loss.backward()\n",
    "        optimizer.step()\n",
    "\n",
    "    train_loss.append(np.mean(cur_loss))\n",
    "    print('epoch',e, 'train loss', np.mean(cur_loss))\n",
    "    # validate each epoch\n",
    "    model.eval()\n",
    "    with torch.no_grad():\n",
    "        out = model(xValid)\n",
    "    loss = obj(out, yValid[:,:,0:1])\n",
    "#     loss = obj(out, yValid) #+ repulsion_w*clipped_repulsion(out)\n",
    "    val_loss.append(loss.item())\n",
    "    if loss.item() < min_val_loss:\n",
    "        min_val_loss = loss.item()\n",
    "        torch.save(model.state_dict(), model_name)\n",
    "    print('val loss', loss.item(), 'mape', util.masked_mape(out, yValid,0).item())\n"
   ]
  },
  {
   "cell_type": "code",
   "execution_count": 65,
   "metadata": {},
   "outputs": [
    {
     "name": "stdout",
     "output_type": "stream",
     "text": [
      "min train loss 0.0054669950404786505 min val loss 0.001982202986255288\n"
     ]
    },
    {
     "data": {
      "image/png": "[encoded data removed]",
      "text/plain": [
       "<Figure size 432x288 with 1 Axes>"
      ]
     },
     "metadata": {
      "needs_background": "light"
     },
     "output_type": "display_data"
    }
   ],
   "source": [
    "# plot loss curve\n",
    "print('min train loss', min(train_loss), 'min val loss', min(val_loss))\n",
    "plt.plot(train_loss, label='train')\n",
    "plt.plot(val_loss, label='val')\n",
    "plt.legend()\n",
    "plt.show()"
   ]
  },
  {
   "cell_type": "markdown",
   "metadata": {},
   "source": [
    "### Recursively predicting the next frame"
   ]
  },
  {
   "cell_type": "code",
   "execution_count": 66,
   "metadata": {},
   "outputs": [
    {
     "data": {
      "text/plain": [
       "<matplotlib.legend.Legend at 0x7fc14c6d2bb0>"
      ]
     },
     "execution_count": 66,
     "metadata": {},
     "output_type": "execute_result"
    },
    {
     "data": {
      "image/png": "[encoded data removed]",
      "text/plain": [
       "<Figure size 432x288 with 1 Axes>"
      ]
     },
     "metadata": {
      "needs_background": "light"
     },
     "output_type": "display_data"
    }
   ],
   "source": [
    "# test\n",
    "yTest = y[-nTest:].squeeze()\n",
    "xTest = x[-nTest:]\n",
    "model.eval()\n",
    "with torch.no_grad():\n",
    "    test_out = model(xTest).detach().cpu().numpy().squeeze()\n",
    "\n",
    "# plt.plot(yTest[:100].detach().cpu().numpy(), label='gt')\n",
    "plt.plot(yTest[:,0:1][:100].detach().cpu().numpy(), label='gt')\n",
    "plt.plot(test_out[:100], label='pred')\n",
    "# plt.plot(xTest[:,0,-1][:100].detach().cpu().numpy().squeeze(), label='last input value')\n",
    "plt.legend()"
   ]
  },
  {
   "cell_type": "code",
   "execution_count": 67,
   "metadata": {},
   "outputs": [
    {
     "name": "stdout",
     "output_type": "stream",
     "text": [
      "torch.Size([1757, 10]) torch.Size([1757, 10])\n",
      "mape: 0.0352286659181118 cc 0.437923121591319\n"
     ]
    },
    {
     "data": {
      "image/png": "[encoded data removed]",
      "text/plain": [
       "<Figure size 1152x720 with 20 Axes>"
      ]
     },
     "metadata": {
      "needs_background": "light"
     },
     "output_type": "display_data"
    }
   ],
   "source": [
    "cur_in = xTest\n",
    "pred = []\n",
    "\n",
    "with torch.no_grad():\n",
    "    for i in range(10):\n",
    "        cur_out = model(cur_in)\n",
    "        pred.append(cur_out)\n",
    "        cur_in = torch.cat((cur_in, cur_out), 2)[:,:,1:]\n",
    "\n",
    "pred = torch.cat(pred, 2).squeeze()\n",
    "print(pred.shape, yTest.shape)\n",
    "print('mape:', util.masked_mape(pred, yTest,0).item(), 'cc', util.get_cc(pred, yTest)[0])\n",
    "\n",
    "i_num = 4\n",
    "j_num = 5\n",
    "plt.figure(figsize=(16,10))\n",
    "for i in range(i_num):\n",
    "    for j in range(j_num):\n",
    "        k = i*j_num+j+1\n",
    "#         print(k)\n",
    "        plt.subplot(i_num, j_num, k)\n",
    "        plt.plot(yTest[k].detach().cpu().numpy(), color='g')\n",
    "        plt.plot(pred[k].detach().cpu().numpy(), color='r')\n",
    "plt.show()"
   ]
  },
  {
   "cell_type": "markdown",
   "metadata": {},
   "source": [
    "### observations\n",
    "predict near future converges immediately, but predicting further-away frames need much more epochs"
   ]
  },
  {
   "cell_type": "markdown",
   "metadata": {},
   "source": [
    "### Directly mapping / predicting t frames"
   ]
  },
  {
   "cell_type": "code",
   "execution_count": 57,
   "metadata": {},
   "outputs": [
    {
     "data": {
      "image/png": "[encoded data removed]",
      "text/plain": [
       "<Figure size 432x288 with 1 Axes>"
      ]
     },
     "metadata": {
      "needs_background": "light"
     },
     "output_type": "display_data"
    },
    {
     "name": "stdout",
     "output_type": "stream",
     "text": [
      "torch.Size([1757, 10]) torch.Size([1757, 10])\n",
      "mape: 0.06740105897188187 cc 0.6453771691208389\n"
     ]
    },
    {
     "data": {
      "image/png": "[encoded data removed]",
      "text/plain": [
       "<Figure size 1152x720 with 20 Axes>"
      ]
     },
     "metadata": {
      "needs_background": "light"
     },
     "output_type": "display_data"
    }
   ],
   "source": [
    "# test\n",
    "yTest = y[-nTest:].squeeze()\n",
    "xTest = x[-nTest:]\n",
    "\n",
    "model.eval()\n",
    "with torch.no_grad():\n",
    "    test_out = model(xTest, viz=True).squeeze()\n",
    "\n",
    "print(yTest.shape, test_out.shape)\n",
    "print('mape:', util.masked_mape(test_out, yTest,0).item(), 'cc', util.get_cc(test_out, yTest)[0])\n",
    "\n",
    "i_num = 4\n",
    "j_num = 5\n",
    "plt.figure(figsize=(16,10))\n",
    "for i in range(i_num):\n",
    "    for j in range(j_num):\n",
    "        k = i*j_num+j+1\n",
    "#         print(k)\n",
    "        plt.subplot(i_num, j_num, k)\n",
    "        plt.plot(yTest[k].detach().cpu().numpy(), color='g')\n",
    "        plt.plot(test_out[k].detach().cpu().numpy(), color='r')\n",
    "plt.show()"
   ]
  },
  {
   "cell_type": "code",
   "execution_count": null,
   "metadata": {},
   "outputs": [],
   "source": []
  },
  {
   "cell_type": "markdown",
   "metadata": {},
   "source": [
    "### Observations\n",
    "Mapping is good.\n",
    "\n",
    "prediction tend to converge to 0 --> this seems to happen to ARIMA as well (when predicting mean-stationary signals)"
   ]
  },
  {
   "cell_type": "markdown",
   "metadata": {},
   "source": [
    "### t branches, each predict one future step. \n",
    "Also more weight on recent pred (otherwise further-away loss is dominating)\n",
    "\n",
    "(Give up, since for the real problem EEG has so many frames, this isn't quite practical)"
   ]
  }
 ],
 "metadata": {
  "kernelspec": {
   "display_name": "Python 3",
   "language": "python",
   "name": "python3"
  },
  "language_info": {
   "codemirror_mode": {
    "name": "ipython",
    "version": 3
   },
   "file_extension": ".py",
   "mimetype": "text/x-python",
   "name": "python",
   "nbconvert_exporter": "python",
   "pygments_lexer": "ipython3",
   "version": "3.8.5"
  }
 },
 "nbformat": 4,
 "nbformat_minor": 4
}
