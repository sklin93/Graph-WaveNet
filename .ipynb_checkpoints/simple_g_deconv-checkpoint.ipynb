{
 "cells": [
  {
   "cell_type": "code",
   "execution_count": 1,
   "metadata": {},
   "outputs": [],
   "source": [
    "%matplotlib inline\n",
    "import matplotlib.pyplot as plt\n",
    "import torch\n",
    "import torch.nn as nn\n",
    "import torch.optim as optim\n",
    "import torch.nn.functional as F\n",
    "from torch.autograd import backward\n",
    "from coolmom import SGD\n",
    "\n",
    "import numpy as np\n",
    "import pickle\n",
    "import os\n",
    "from sklearn.utils import shuffle\n",
    "from tqdm import tqdm\n",
    "import ipdb\n",
    "\n",
    "import Utils.util as util\n",
    "\n",
    "np.random.seed(0)\n",
    "torch.manual_seed(999)\n",
    "if torch.cuda.is_available():\n",
    "    torch.cuda.manual_seed_all(999)\n",
    "    torch.cuda.empty_cache()"
   ]
  },
  {
   "cell_type": "code",
   "execution_count": 2,
   "metadata": {},
   "outputs": [],
   "source": [
    "# CRASH_fname = 'CRASH_FE_filtered_subsampled_fmriADJ.pkl'\n",
    "\n",
    "# with open(CRASH_fname, 'rb') as handle:\n",
    "#     F_t, adj_mx, adj_mx_idx, _input, _gt, coeffs, \\\n",
    "#     inv_mapping, region_assignment, nTrain, nValid, \\\n",
    "#     nTest, scaler_in, scaler_out = pickle.load(handle)\n",
    "    \n",
    "CRASH_fname = 'CRASH_Fonly.pkl'\n",
    "with open(CRASH_fname, 'rb') as handle:\n",
    "    F_t, adj_mx, adj_mx_idx, _input, _gt, nTrain, \\\n",
    "    nValid, nTest, scaler_in, scaler_out = pickle.load(handle)\n"
   ]
  },
  {
   "cell_type": "markdown",
   "metadata": {},
   "source": [
    "##  Testing spatial conv-deconv: only using one time frame's value on all nodes"
   ]
  },
  {
   "cell_type": "code",
   "execution_count": 3,
   "metadata": {},
   "outputs": [
    {
     "data": {
      "text/plain": [
       "(11712, 10, 200)"
      ]
     },
     "execution_count": 3,
     "metadata": {},
     "output_type": "execute_result"
    }
   ],
   "source": [
    "_input.shape"
   ]
  },
  {
   "cell_type": "code",
   "execution_count": 5,
   "metadata": {},
   "outputs": [
    {
     "name": "stdout",
     "output_type": "stream",
     "text": [
      "(11712, 200) (11712, 200)\n"
     ]
    }
   ],
   "source": [
    "device = 'cuda:0'\n",
    "# prep data\n",
    "# _input.shape: (11712, 10, 200)\n",
    "x = _input[:,5,:]#[:,None,:]\n",
    "y = x\n",
    "print(x.shape, y.shape)\n",
    "\n",
    "# plt.plot(x[0,0])\n",
    "# plt.plot(y[0,0])\n",
    "# plt.plot(np.concatenate((x[20,0],y[20,0]), 0))\n",
    "\n",
    "x = torch.tensor(x).to(device)\n",
    "# y = x\n",
    "y = torch.tensor(y).to(device)"
   ]
  },
  {
   "cell_type": "code",
   "execution_count": null,
   "metadata": {},
   "outputs": [],
   "source": []
  }
 ],
 "metadata": {
  "kernelspec": {
   "display_name": "Python 3",
   "language": "python",
   "name": "python3"
  },
  "language_info": {
   "codemirror_mode": {
    "name": "ipython",
    "version": 3
   },
   "file_extension": ".py",
   "mimetype": "text/x-python",
   "name": "python",
   "nbconvert_exporter": "python",
   "pygments_lexer": "ipython3",
   "version": "3.8.5"
  }
 },
 "nbformat": 4,
 "nbformat_minor": 4
}
