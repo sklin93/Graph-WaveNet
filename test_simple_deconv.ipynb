{
 "cells": [
  {
   "cell_type": "code",
   "execution_count": 1,
   "metadata": {},
   "outputs": [],
   "source": [
    "%matplotlib inline\n",
    "import matplotlib.pyplot as plt\n",
    "import torch\n",
    "import torch.nn as nn\n",
    "import torch.optim as optim\n",
    "import torch.nn.functional as F\n",
    "from torch.autograd import backward\n",
    "import numpy as np\n",
    "import pickle\n",
    "from sklearn.utils import shuffle\n",
    "from tqdm import tqdm\n",
    "import ipdb\n",
    "\n",
    "import Utils.util as util\n",
    "\n",
    "np.random.seed(0)\n",
    "torch.manual_seed(999)\n",
    "if torch.cuda.is_available():\n",
    "    torch.cuda.manual_seed_all(999)\n",
    "    torch.cuda.empty_cache()"
   ]
  },
  {
   "cell_type": "code",
   "execution_count": 2,
   "metadata": {},
   "outputs": [],
   "source": [
    "# CRASH_fname = 'CRASH_FE_filtered_subsampled_fmriADJ.pkl'\n",
    "\n",
    "# with open(CRASH_fname, 'rb') as handle:\n",
    "#     F_t, adj_mx, adj_mx_idx, _input, _gt, coeffs, \\\n",
    "#     inv_mapping, region_assignment, nTrain, nValid, \\\n",
    "#     nTest, scaler_in, scaler_out = pickle.load(handle)\n",
    "    \n",
    "CRASH_fname = 'CRASH_Fonly.pkl'\n",
    "with open(CRASH_fname, 'rb') as handle:\n",
    "    F_t, adj_mx, adj_mx_idx, _input, _gt, nTrain, \\\n",
    "    nValid, nTest, scaler_in, scaler_out = pickle.load(handle)\n"
   ]
  },
  {
   "cell_type": "markdown",
   "metadata": {},
   "source": [
    "## Testing temporal conv-deconv: only using one node's value across time"
   ]
  },
  {
   "cell_type": "code",
   "execution_count": 3,
   "metadata": {},
   "outputs": [
    {
     "name": "stdout",
     "output_type": "stream",
     "text": [
      "(11712, 1, 10) (11712, 1, 10)\n"
     ]
    },
    {
     "data": {
      "image/png": "[encoded data removed]",
      "text/plain": [
       "<Figure size 432x288 with 1 Axes>"
      ]
     },
     "metadata": {
      "needs_background": "light"
     },
     "output_type": "display_data"
    }
   ],
   "source": [
    "device = 'cuda:0'\n",
    "# prep data\n",
    "x = _input[...,0][:,None,:]\n",
    "y = x\n",
    "# y = _gt[...,0][:,None,:]\n",
    "print(x.shape, y.shape)\n",
    "\n",
    "# plt.plot(x[0,0])\n",
    "# plt.plot(y[0,0])\n",
    "plt.plot(np.concatenate((x[20,0],y[20,0]), 0))\n",
    "\n",
    "x = torch.tensor(x).to(device)\n",
    "# y = x\n",
    "y = torch.tensor(y).to(device)\n"
   ]
  },
  {
   "cell_type": "code",
   "execution_count": 4,
   "metadata": {},
   "outputs": [],
   "source": [
    "def CausalConv1d(in_channels, out_channels, kernel_size, dilation=1, **kwargs):\n",
    "    pad = (kernel_size - 1) * dilation\n",
    "    return nn.Conv1d(in_channels, out_channels, kernel_size, padding=pad, dilation=dilation, **kwargs)\n",
    "\n",
    "# def CausalConv1d(in_channels, out_channels, kernel_size, dilation=1, **kwargs): \n",
    "#     ## only pad left (??? pytorch doesn't support)\n",
    "#     pad = (kernel_size - 1) * dilation\n",
    "#     return nn.Conv1d(in_channels, out_channels, kernel_size, padding=(pad,0), dilation=dilation, **kwargs)"
   ]
  },
  {
   "cell_type": "code",
   "execution_count": 13,
   "metadata": {},
   "outputs": [
    {
     "name": "stdout",
     "output_type": "stream",
     "text": [
      "tmodel(\n",
      "  (filter_convs): ModuleList(\n",
      "    (0): Conv1d(32, 32, kernel_size=(2,), stride=(1,), padding=(1,))\n",
      "    (1): Conv1d(32, 32, kernel_size=(2,), stride=(1,), padding=(2,), dilation=(2,))\n",
      "    (2): Conv1d(32, 32, kernel_size=(2,), stride=(1,), padding=(1,))\n",
      "    (3): Conv1d(32, 32, kernel_size=(2,), stride=(1,), padding=(2,), dilation=(2,))\n",
      "    (4): Conv1d(32, 32, kernel_size=(2,), stride=(1,), padding=(1,))\n",
      "    (5): Conv1d(32, 32, kernel_size=(2,), stride=(1,), padding=(2,), dilation=(2,))\n",
      "  )\n",
      "  (gate_convs): ModuleList(\n",
      "    (0): Conv1d(32, 32, kernel_size=(2,), stride=(1,), padding=(1,))\n",
      "    (1): Conv1d(32, 32, kernel_size=(2,), stride=(1,), padding=(2,), dilation=(2,))\n",
      "    (2): Conv1d(32, 32, kernel_size=(2,), stride=(1,), padding=(1,))\n",
      "    (3): Conv1d(32, 32, kernel_size=(2,), stride=(1,), padding=(2,), dilation=(2,))\n",
      "    (4): Conv1d(32, 32, kernel_size=(2,), stride=(1,), padding=(1,))\n",
      "    (5): Conv1d(32, 32, kernel_size=(2,), stride=(1,), padding=(2,), dilation=(2,))\n",
      "  )\n",
      "  (residual_convs): ModuleList(\n",
      "    (0): Conv1d(32, 32, kernel_size=(1,), stride=(1,))\n",
      "    (1): Conv1d(32, 32, kernel_size=(1,), stride=(1,))\n",
      "    (2): Conv1d(32, 32, kernel_size=(1,), stride=(1,))\n",
      "    (3): Conv1d(32, 32, kernel_size=(1,), stride=(1,))\n",
      "    (4): Conv1d(32, 32, kernel_size=(1,), stride=(1,))\n",
      "    (5): Conv1d(32, 32, kernel_size=(1,), stride=(1,))\n",
      "  )\n",
      "  (skip_convs): ModuleList(\n",
      "    (0): Conv1d(32, 256, kernel_size=(1,), stride=(1,))\n",
      "    (1): Conv1d(32, 256, kernel_size=(1,), stride=(1,))\n",
      "    (2): Conv1d(32, 256, kernel_size=(1,), stride=(1,))\n",
      "    (3): Conv1d(32, 256, kernel_size=(1,), stride=(1,))\n",
      "    (4): Conv1d(32, 256, kernel_size=(1,), stride=(1,))\n",
      "    (5): Conv1d(32, 256, kernel_size=(1,), stride=(1,))\n",
      "  )\n",
      "  (bn): ModuleList(\n",
      "    (0): BatchNorm1d(32, eps=1e-05, momentum=0.1, affine=True, track_running_stats=True)\n",
      "    (1): BatchNorm1d(32, eps=1e-05, momentum=0.1, affine=True, track_running_stats=True)\n",
      "    (2): BatchNorm1d(32, eps=1e-05, momentum=0.1, affine=True, track_running_stats=True)\n",
      "    (3): BatchNorm1d(32, eps=1e-05, momentum=0.1, affine=True, track_running_stats=True)\n",
      "    (4): BatchNorm1d(32, eps=1e-05, momentum=0.1, affine=True, track_running_stats=True)\n",
      "    (5): BatchNorm1d(32, eps=1e-05, momentum=0.1, affine=True, track_running_stats=True)\n",
      "  )\n",
      "  (start_conv): Conv1d(1, 32, kernel_size=(1,), stride=(1,))\n",
      "  (end_conv_1): Conv1d(256, 64, kernel_size=(1,), stride=(1,))\n",
      "  (end_conv_2): Conv1d(64, 10, kernel_size=(1,), stride=(1,))\n",
      ")\n"
     ]
    }
   ],
   "source": [
    "# tcn & de-tcn model\n",
    "class tmodel(nn.Module): # for model testing, f in, same f out\n",
    "    def __init__(self, device='cuda:0', dropout=0.3, in_dim=1,\n",
    "                residual_channels=32, dilation_channels=32, skip_channels=256,\n",
    "                end_channels=64, kernel_size=2, blocks=4, layers=2):\n",
    "        super(tmodel, self).__init__()\n",
    "        self.dropout = dropout\n",
    "        self.blocks = blocks\n",
    "        self.layers = layers\n",
    "        self.device = device\n",
    "\n",
    "        self.filter_convs = nn.ModuleList()\n",
    "        self.gate_convs = nn.ModuleList()\n",
    "        self.residual_convs = nn.ModuleList()\n",
    "        self.skip_convs = nn.ModuleList()\n",
    "        self.bn = nn.ModuleList()\n",
    "\n",
    "        self.start_conv = nn.Conv1d(in_channels=in_dim,\n",
    "                                    out_channels=residual_channels,\n",
    "                                    kernel_size=1)\n",
    "\n",
    "        receptive_field = 1\n",
    "        multi_factor = 2\n",
    "        for b in range(blocks):\n",
    "            additional_scope = kernel_size - 1\n",
    "            new_dilation = 1\n",
    "            for i in range(layers):\n",
    "                # dilated convolutions\n",
    "                self.filter_convs.append(CausalConv1d(residual_channels, dilation_channels, kernel_size, new_dilation))\n",
    "                self.gate_convs.append(CausalConv1d(residual_channels, dilation_channels, kernel_size, new_dilation))\n",
    "\n",
    "                # 1x1 convolution for residual connection\n",
    "                self.residual_convs.append(nn.Conv1d(in_channels=dilation_channels,out_channels=residual_channels,kernel_size=1))\n",
    "\n",
    "                # 1x1 convolution for skip connection\n",
    "                self.skip_convs.append(nn.Conv1d(in_channels=dilation_channels,out_channels=skip_channels,kernel_size=1))\n",
    "                self.bn.append(nn.BatchNorm1d(residual_channels))\n",
    "\n",
    "                new_dilation *= multi_factor\n",
    "                receptive_field += additional_scope\n",
    "                additional_scope *= multi_factor\n",
    "\n",
    "\n",
    "#         ## temporal transConv (de-tcn)\n",
    "#         convTransK = 2\n",
    "#         convTransD = 1\n",
    "#         upScale = 2\n",
    "\n",
    "#         self.end_module_conv = nn.ModuleList()\n",
    "#         self.end_module_up = nn.ModuleList()\n",
    "#         # for b in range(blocks):\n",
    "#         #     for l in range(layers):\n",
    "#         for i in range(3):\n",
    "#             self.end_module_up.append(nn.Upsample(scale_factor=upScale))\n",
    "#             self.end_module_conv.append(nn.ConvTranspose1d(in_channels=skip_channels, out_channels=residual_channels, \n",
    "#                            kernel_size=convTransK, dilation=convTransD))\n",
    "#         self.end_mlp = nn.Sequential(\n",
    "#             nn.LeakyReLU(),\n",
    "#             nn.Conv1d(in_channels=128, out_channels=16,\n",
    "#                       kernel_size=1, bias=True),\n",
    "#             nn.LeakyReLU(),\n",
    "#             nn.Conv1d(in_channels=16, out_channels=1,\n",
    "#                       kernel_size=1, bias=True)\n",
    "#             )\n",
    "        self.end_conv_1 = nn.Conv1d(skip_channels, end_channels, 1, bias=True)\n",
    "        self.end_conv_2 = nn.Conv1d(end_channels, 10, 1, bias=True)\n",
    "#         self.end_conv_3 = nn.Conv1d(10, 1, 1, bias=True)\n",
    "        \n",
    "        self.receptive_field = receptive_field\n",
    "\n",
    "    def forward(self, input, viz=False):\n",
    "        # inputs: [batch_size, 1, in_len]\n",
    "        ### deal with supports\n",
    "        # print(self.receptive_field)\n",
    "#         in_len = input.size(-1)\n",
    "#         if in_len<self.receptive_field:\n",
    "#             x = nn.functional.pad(input,(self.receptive_field-in_len,0))\n",
    "#         else:\n",
    "#             x = input\n",
    "        x = input\n",
    "        x = self.start_conv(x)\n",
    "\n",
    "        if viz: # x.shape [16, 32, 15]\n",
    "            ### plot features on different channels representing the same node fmri signal\n",
    "            for j in range(x.shape[1]):\n",
    "                plt.plot(x.detach().cpu().numpy()[0,j,:])\n",
    "            plt.show()\n",
    "\n",
    "        skip = 0\n",
    "\n",
    "        # WaveNet layers\n",
    "        for i in range(self.blocks * self.layers):\n",
    "            # print(i, x.shape)\n",
    "            #            |----------------------------------------|     *residual*\n",
    "            #            |                                        |\n",
    "            #            |    |-- conv -- tanh --|                |\n",
    "            # -> dilate -|----|                  * ----|-- 1x1 -- + --> *input*\n",
    "            #                 |-- conv -- sigm --|     |\n",
    "            #                                         1x1\n",
    "            #                                          |\n",
    "            # ---------------------------------------> + -------------> *skip*\n",
    "\n",
    "            #(dilation, init_dilation) = self.dilations[i]\n",
    "\n",
    "            #residual = dilation_func(x, dilation, init_dilation, i)\n",
    "            residual = x #[batch_size, residual_dim, 80, 16]\n",
    "\n",
    "            # dilated convolution\n",
    "            filter = self.filter_convs[i](residual)\n",
    "            filter = torch.tanh(filter[:, :, :-self.filter_convs[i].padding[0]])\n",
    "            gate = self.gate_convs[i](residual)\n",
    "            gate = torch.sigmoid(gate[:, :, :-self.gate_convs[i].padding[0]])\n",
    "            x = filter * gate\n",
    "#             print(x.shape)\n",
    "            if i % self.layers == self.layers-1:\n",
    "                x = F.max_pool1d(x,2)\n",
    "            # parametrized skip connection\n",
    "            s = x\n",
    "            s = self.skip_convs[i](s)\n",
    "            try:\n",
    "                if s.size(-1)*2 == skip.size(-1):\n",
    "                    skip = F.max_pool1d(skip,2)\n",
    "                else:\n",
    "                    skip = skip[:, :,  -s.size(-1):]\n",
    "            except:\n",
    "                skip = 0\n",
    "            skip = s + skip\n",
    "            \n",
    "            x = self.residual_convs[i](x)\n",
    "            \n",
    "#             print(residual.shape, x.shape)\n",
    "            x = x + residual[:, :, -x.size(-1):]\n",
    "            # x = torch.cat([x, residual[:, :, :, -x.size(3):], t_rep], axis=1)\n",
    "            x = self.bn[i](x) # comment off for overfitting\n",
    "            \n",
    "        # del residual, x\n",
    "        # skip: [batch_size, hidden_dim, num_nodes, 1]\n",
    "\n",
    "        # ### test: adding noise to hidden rep\n",
    "        # skip = skip + torch.normal(torch.zeros_like(skip), 0.1*skip.std()*torch.ones_like(skip))\n",
    "        # ###\n",
    "        # x = self.end_module(skip)\n",
    "        # if viz: # x.shape [16, 512, 200, 1]\n",
    "        #     # (results look similar) each node's h-D (h being #hidden dim) feature\n",
    "        #     for j in range(10):\n",
    "        #         plt.plot(x.detach().cpu().numpy()[0,:,j,0])\n",
    "        #     plt.show()\n",
    "        #     # plot each channel's value (on all nodes)\n",
    "        #     for j in range(10): \n",
    "        #         plt.plot(x.detach().cpu().numpy()[0,j,:,0])\n",
    "        #     plt.show()\n",
    "        \n",
    "        x = F.relu(skip)\n",
    "        x = F.relu(self.end_conv_1(x))\n",
    "        x = self.end_conv_2(x).transpose(1,2)\n",
    "        \n",
    "#         # output a single value\n",
    "#         x = F.relu(self.end_conv_2(x))\n",
    "#         x = self.end_conv_3(x.transpose(1,2))\n",
    "        \n",
    "#         for i in range(3):#range(self.blocks * self.layers):       \n",
    "#             x = self.end_module_up[i](x)\n",
    "#             x = F.relu(self.end_module_conv[i](x))\n",
    "        \n",
    "#         x = self.end_mlp(x)\n",
    "#         # x = self.end_mlp_f(x.transpose(1,3))\n",
    "        return x\n",
    "\n",
    "model = tmodel(blocks=3, layers=2).to(device)\n",
    "print(model)"
   ]
  },
  {
   "cell_type": "code",
   "execution_count": 14,
   "metadata": {},
   "outputs": [
    {
     "name": "stderr",
     "output_type": "stream",
     "text": [
      "  4%|▍         | 5/128 [00:00<00:02, 47.11it/s]"
     ]
    },
    {
     "name": "stdout",
     "output_type": "stream",
     "text": [
      "8198 1757 1757\n"
     ]
    },
    {
     "name": "stderr",
     "output_type": "stream",
     "text": [
      "100%|██████████| 128/128 [00:02<00:00, 50.80it/s]\n",
      "  5%|▍         | 6/128 [00:00<00:02, 51.75it/s]"
     ]
    },
    {
     "name": "stdout",
     "output_type": "stream",
     "text": [
      "epoch 0 train loss 0.6539309592917562\n",
      "val loss 0.3799901008605957 mape 0.14023929834365845\n"
     ]
    },
    {
     "name": "stderr",
     "output_type": "stream",
     "text": [
      "100%|██████████| 128/128 [00:02<00:00, 50.98it/s]\n",
      "  4%|▍         | 5/128 [00:00<00:02, 48.49it/s]"
     ]
    },
    {
     "name": "stdout",
     "output_type": "stream",
     "text": [
      "epoch 1 train loss 0.2959155486896634\n",
      "val loss 0.22415630519390106 mape 0.10275031626224518\n"
     ]
    },
    {
     "name": "stderr",
     "output_type": "stream",
     "text": [
      "100%|██████████| 128/128 [00:02<00:00, 50.71it/s]\n",
      "  5%|▍         | 6/128 [00:00<00:02, 57.73it/s]"
     ]
    },
    {
     "name": "stdout",
     "output_type": "stream",
     "text": [
      "epoch 2 train loss 0.1893482196610421\n",
      "val loss 0.14371061325073242 mape 0.01836537756025791\n"
     ]
    },
    {
     "name": "stderr",
     "output_type": "stream",
     "text": [
      "100%|██████████| 128/128 [00:02<00:00, 51.27it/s]\n",
      "  5%|▍         | 6/128 [00:00<00:02, 51.35it/s]"
     ]
    },
    {
     "name": "stdout",
     "output_type": "stream",
     "text": [
      "epoch 3 train loss 0.1286864370922558\n",
      "val loss 0.09591345489025116 mape 0.1101529449224472\n"
     ]
    },
    {
     "name": "stderr",
     "output_type": "stream",
     "text": [
      "100%|██████████| 128/128 [00:02<00:00, 51.25it/s]\n",
      "  5%|▍         | 6/128 [00:00<00:02, 52.61it/s]"
     ]
    },
    {
     "name": "stdout",
     "output_type": "stream",
     "text": [
      "epoch 4 train loss 0.09248354006558657\n",
      "val loss 0.06944939494132996 mape -0.010365464724600315\n"
     ]
    },
    {
     "name": "stderr",
     "output_type": "stream",
     "text": [
      "100%|██████████| 128/128 [00:02<00:00, 51.19it/s]\n",
      "  5%|▍         | 6/128 [00:00<00:02, 50.98it/s]"
     ]
    },
    {
     "name": "stdout",
     "output_type": "stream",
     "text": [
      "epoch 5 train loss 0.07458920069620945\n",
      "val loss 0.05435238778591156 mape -0.02566368132829666\n"
     ]
    },
    {
     "name": "stderr",
     "output_type": "stream",
     "text": [
      "100%|██████████| 128/128 [00:02<00:00, 51.10it/s]\n",
      "  5%|▍         | 6/128 [00:00<00:02, 51.48it/s]"
     ]
    },
    {
     "name": "stdout",
     "output_type": "stream",
     "text": [
      "epoch 6 train loss 0.06145653658313677\n",
      "val loss 0.044220272451639175 mape -0.02694866620004177\n"
     ]
    },
    {
     "name": "stderr",
     "output_type": "stream",
     "text": [
      "100%|██████████| 128/128 [00:02<00:00, 50.93it/s]\n",
      "  5%|▍         | 6/128 [00:00<00:02, 50.84it/s]"
     ]
    },
    {
     "name": "stdout",
     "output_type": "stream",
     "text": [
      "epoch 7 train loss 0.053748289501527324\n",
      "val loss 0.03766375780105591 mape -0.0042729158885777\n"
     ]
    },
    {
     "name": "stderr",
     "output_type": "stream",
     "text": [
      "100%|██████████| 128/128 [00:02<00:00, 50.56it/s]\n",
      "  5%|▍         | 6/128 [00:00<00:02, 50.71it/s]"
     ]
    },
    {
     "name": "stdout",
     "output_type": "stream",
     "text": [
      "epoch 8 train loss 0.04726030497113243\n",
      "val loss 0.032808367162942886 mape 0.01921679638326168\n"
     ]
    },
    {
     "name": "stderr",
     "output_type": "stream",
     "text": [
      "100%|██████████| 128/128 [00:02<00:00, 50.93it/s]\n",
      "  5%|▍         | 6/128 [00:00<00:02, 51.53it/s]"
     ]
    },
    {
     "name": "stdout",
     "output_type": "stream",
     "text": [
      "epoch 9 train loss 0.041275008115917444\n",
      "val loss 0.027949700132012367 mape -0.012544992379844189\n"
     ]
    },
    {
     "name": "stderr",
     "output_type": "stream",
     "text": [
      "100%|██████████| 128/128 [00:02<00:00, 50.94it/s]\n",
      "  5%|▍         | 6/128 [00:00<00:02, 52.74it/s]"
     ]
    },
    {
     "name": "stdout",
     "output_type": "stream",
     "text": [
      "epoch 10 train loss 0.036876128942822106\n",
      "val loss 0.023061638697981834 mape -0.00019510580750647932\n"
     ]
    },
    {
     "name": "stderr",
     "output_type": "stream",
     "text": [
      "100%|██████████| 128/128 [00:02<00:00, 51.04it/s]\n",
      "  4%|▍         | 5/128 [00:00<00:02, 49.92it/s]"
     ]
    },
    {
     "name": "stdout",
     "output_type": "stream",
     "text": [
      "epoch 11 train loss 0.029942418390419334\n",
      "val loss 0.01964598335325718 mape -0.005217813886702061\n"
     ]
    },
    {
     "name": "stderr",
     "output_type": "stream",
     "text": [
      "100%|██████████| 128/128 [00:02<00:00, 51.34it/s]\n",
      "  5%|▍         | 6/128 [00:00<00:02, 51.56it/s]"
     ]
    },
    {
     "name": "stdout",
     "output_type": "stream",
     "text": [
      "epoch 12 train loss 0.028280692298721988\n",
      "val loss 0.01767568476498127 mape -0.009020783007144928\n"
     ]
    },
    {
     "name": "stderr",
     "output_type": "stream",
     "text": [
      "100%|██████████| 128/128 [00:02<00:00, 51.12it/s]\n",
      "  5%|▍         | 6/128 [00:00<00:02, 50.75it/s]"
     ]
    },
    {
     "name": "stdout",
     "output_type": "stream",
     "text": [
      "epoch 13 train loss 0.027073714751168154\n",
      "val loss 0.015757860615849495 mape 0.002745379228144884\n"
     ]
    },
    {
     "name": "stderr",
     "output_type": "stream",
     "text": [
      "100%|██████████| 128/128 [00:02<00:00, 51.05it/s]\n",
      "  5%|▍         | 6/128 [00:00<00:02, 51.23it/s]"
     ]
    },
    {
     "name": "stdout",
     "output_type": "stream",
     "text": [
      "epoch 14 train loss 0.025522675467072986\n",
      "val loss 0.015591335482895374 mape -0.006340415216982365\n"
     ]
    },
    {
     "name": "stderr",
     "output_type": "stream",
     "text": [
      "100%|██████████| 128/128 [00:02<00:00, 51.11it/s]\n",
      "  5%|▍         | 6/128 [00:00<00:02, 51.59it/s]"
     ]
    },
    {
     "name": "stdout",
     "output_type": "stream",
     "text": [
      "epoch 15 train loss 0.024428290358628146\n",
      "val loss 0.014848390594124794 mape 0.004901037085801363\n"
     ]
    },
    {
     "name": "stderr",
     "output_type": "stream",
     "text": [
      "100%|██████████| 128/128 [00:02<00:00, 51.03it/s]\n",
      "  5%|▍         | 6/128 [00:00<00:02, 50.72it/s]"
     ]
    },
    {
     "name": "stdout",
     "output_type": "stream",
     "text": [
      "epoch 16 train loss 0.023285638308152556\n",
      "val loss 0.015024418942630291 mape -0.03159377723932266\n"
     ]
    },
    {
     "name": "stderr",
     "output_type": "stream",
     "text": [
      "100%|██████████| 128/128 [00:02<00:00, 50.96it/s]\n",
      "  5%|▍         | 6/128 [00:00<00:02, 50.52it/s]"
     ]
    },
    {
     "name": "stdout",
     "output_type": "stream",
     "text": [
      "epoch 17 train loss 0.0232245096412953\n",
      "val loss 0.013876176439225674 mape 0.01392548717558384\n"
     ]
    },
    {
     "name": "stderr",
     "output_type": "stream",
     "text": [
      "100%|██████████| 128/128 [00:02<00:00, 50.92it/s]\n",
      "  5%|▍         | 6/128 [00:00<00:02, 51.45it/s]"
     ]
    },
    {
     "name": "stdout",
     "output_type": "stream",
     "text": [
      "epoch 18 train loss 0.0232385848503327\n",
      "val loss 0.013661134988069534 mape -0.03157415613532066\n"
     ]
    },
    {
     "name": "stderr",
     "output_type": "stream",
     "text": [
      "100%|██████████| 128/128 [00:02<00:00, 50.96it/s]\n",
      "  5%|▍         | 6/128 [00:00<00:02, 51.69it/s]"
     ]
    },
    {
     "name": "stdout",
     "output_type": "stream",
     "text": [
      "epoch 19 train loss 0.02214098743570503\n",
      "val loss 0.015782760456204414 mape -0.03400092571973801\n"
     ]
    },
    {
     "name": "stderr",
     "output_type": "stream",
     "text": [
      "100%|██████████| 128/128 [00:02<00:00, 51.30it/s]\n",
      "  5%|▍         | 6/128 [00:00<00:02, 50.96it/s]"
     ]
    },
    {
     "name": "stdout",
     "output_type": "stream",
     "text": [
      "epoch 20 train loss 0.021706247942347545\n",
      "val loss 0.014321382157504559 mape 0.020166529342532158\n"
     ]
    },
    {
     "name": "stderr",
     "output_type": "stream",
     "text": [
      "100%|██████████| 128/128 [00:02<00:00, 51.07it/s]\n",
      "  5%|▍         | 6/128 [00:00<00:02, 51.24it/s]"
     ]
    },
    {
     "name": "stdout",
     "output_type": "stream",
     "text": [
      "epoch 21 train loss 0.0208272317686351\n",
      "val loss 0.013105210848152637 mape -0.024552324786782265\n"
     ]
    },
    {
     "name": "stderr",
     "output_type": "stream",
     "text": [
      "100%|██████████| 128/128 [00:02<00:00, 50.97it/s]\n",
      "  5%|▍         | 6/128 [00:00<00:02, 51.65it/s]"
     ]
    },
    {
     "name": "stdout",
     "output_type": "stream",
     "text": [
      "epoch 22 train loss 0.02039682921167696\n",
      "val loss 0.013000098057091236 mape 0.0013082227669656277\n"
     ]
    },
    {
     "name": "stderr",
     "output_type": "stream",
     "text": [
      "100%|██████████| 128/128 [00:02<00:00, 51.01it/s]\n",
      "  5%|▍         | 6/128 [00:00<00:02, 49.98it/s]"
     ]
    },
    {
     "name": "stdout",
     "output_type": "stream",
     "text": [
      "epoch 23 train loss 0.020105924646486528\n",
      "val loss 0.013079661875963211 mape -0.01677463762462139\n"
     ]
    },
    {
     "name": "stderr",
     "output_type": "stream",
     "text": [
      "100%|██████████| 128/128 [00:02<00:00, 50.75it/s]\n",
      "  5%|▍         | 6/128 [00:00<00:02, 51.62it/s]"
     ]
    },
    {
     "name": "stdout",
     "output_type": "stream",
     "text": [
      "epoch 24 train loss 0.02099129240377806\n",
      "val loss 0.015409893356263638 mape -0.013285753317177296\n"
     ]
    },
    {
     "name": "stderr",
     "output_type": "stream",
     "text": [
      "100%|██████████| 128/128 [00:02<00:00, 50.84it/s]\n",
      "  5%|▍         | 6/128 [00:00<00:02, 51.22it/s]"
     ]
    },
    {
     "name": "stdout",
     "output_type": "stream",
     "text": [
      "epoch 25 train loss 0.020545444102026522\n",
      "val loss 0.012959722429513931 mape 0.001378303742967546\n"
     ]
    },
    {
     "name": "stderr",
     "output_type": "stream",
     "text": [
      "100%|██████████| 128/128 [00:02<00:00, 51.10it/s]\n",
      "  5%|▍         | 6/128 [00:00<00:02, 51.72it/s]"
     ]
    },
    {
     "name": "stdout",
     "output_type": "stream",
     "text": [
      "epoch 26 train loss 0.02024642137985211\n",
      "val loss 0.012003343552350998 mape -0.002801574533805251\n"
     ]
    },
    {
     "name": "stderr",
     "output_type": "stream",
     "text": [
      "100%|██████████| 128/128 [00:02<00:00, 51.05it/s]\n",
      "  5%|▍         | 6/128 [00:00<00:02, 51.54it/s]"
     ]
    },
    {
     "name": "stdout",
     "output_type": "stream",
     "text": [
      "epoch 27 train loss 0.019507610028085764\n",
      "val loss 0.01282819826155901 mape -0.015062814578413963\n"
     ]
    },
    {
     "name": "stderr",
     "output_type": "stream",
     "text": [
      "100%|██████████| 128/128 [00:02<00:00, 51.03it/s]\n",
      "  5%|▍         | 6/128 [00:00<00:02, 51.05it/s]"
     ]
    },
    {
     "name": "stdout",
     "output_type": "stream",
     "text": [
      "epoch 28 train loss 0.019269867247203365\n",
      "val loss 0.014377329498529434 mape -0.0005169819924049079\n"
     ]
    },
    {
     "name": "stderr",
     "output_type": "stream",
     "text": [
      "100%|██████████| 128/128 [00:02<00:00, 51.00it/s]\n",
      "  5%|▍         | 6/128 [00:00<00:02, 52.63it/s]"
     ]
    },
    {
     "name": "stdout",
     "output_type": "stream",
     "text": [
      "epoch 29 train loss 0.01931412964768242\n",
      "val loss 0.01297976728528738 mape 0.0037815135437995195\n"
     ]
    },
    {
     "name": "stderr",
     "output_type": "stream",
     "text": [
      "100%|██████████| 128/128 [00:02<00:00, 51.47it/s]\n",
      "  5%|▍         | 6/128 [00:00<00:02, 51.45it/s]"
     ]
    },
    {
     "name": "stdout",
     "output_type": "stream",
     "text": [
      "epoch 30 train loss 0.019551640645659063\n",
      "val loss 0.01195405051112175 mape -0.009441477246582508\n"
     ]
    },
    {
     "name": "stderr",
     "output_type": "stream",
     "text": [
      "100%|██████████| 128/128 [00:02<00:00, 50.82it/s]\n",
      "  5%|▍         | 6/128 [00:00<00:02, 51.10it/s]"
     ]
    },
    {
     "name": "stdout",
     "output_type": "stream",
     "text": [
      "epoch 31 train loss 0.019672825030284002\n",
      "val loss 0.01281119603663683 mape -0.029042648151516914\n"
     ]
    },
    {
     "name": "stderr",
     "output_type": "stream",
     "text": [
      "100%|██████████| 128/128 [00:02<00:00, 50.78it/s]\n",
      "  5%|▍         | 6/128 [00:00<00:02, 51.44it/s]"
     ]
    },
    {
     "name": "stdout",
     "output_type": "stream",
     "text": [
      "epoch 32 train loss 0.01975286830565892\n",
      "val loss 0.013295244425535202 mape 0.01898009516298771\n"
     ]
    },
    {
     "name": "stderr",
     "output_type": "stream",
     "text": [
      "100%|██████████| 128/128 [00:02<00:00, 50.78it/s]\n",
      "  5%|▍         | 6/128 [00:00<00:02, 50.94it/s]"
     ]
    },
    {
     "name": "stdout",
     "output_type": "stream",
     "text": [
      "epoch 33 train loss 0.018802793529175688\n",
      "val loss 0.011925681494176388 mape -0.01191501971334219\n"
     ]
    },
    {
     "name": "stderr",
     "output_type": "stream",
     "text": [
      "100%|██████████| 128/128 [00:02<00:00, 50.95it/s]\n",
      "  4%|▍         | 5/128 [00:00<00:02, 49.93it/s]"
     ]
    },
    {
     "name": "stdout",
     "output_type": "stream",
     "text": [
      "epoch 34 train loss 0.018811412090144586\n",
      "val loss 0.011700526811182499 mape 0.0001859574840636924\n"
     ]
    },
    {
     "name": "stderr",
     "output_type": "stream",
     "text": [
      "100%|██████████| 128/128 [00:02<00:00, 50.96it/s]\n",
      "  5%|▍         | 6/128 [00:00<00:02, 51.02it/s]"
     ]
    },
    {
     "name": "stdout",
     "output_type": "stream",
     "text": [
      "epoch 35 train loss 0.018447651134920307\n",
      "val loss 0.011831666342914104 mape 0.01412511058151722\n"
     ]
    },
    {
     "name": "stderr",
     "output_type": "stream",
     "text": [
      "100%|██████████| 128/128 [00:02<00:00, 50.80it/s]\n",
      "  5%|▍         | 6/128 [00:00<00:02, 50.68it/s]"
     ]
    },
    {
     "name": "stdout",
     "output_type": "stream",
     "text": [
      "epoch 36 train loss 0.01870055016479455\n",
      "val loss 0.01125197485089302 mape 0.0017661878373473883\n"
     ]
    },
    {
     "name": "stderr",
     "output_type": "stream",
     "text": [
      "100%|██████████| 128/128 [00:02<00:00, 51.10it/s]\n",
      "  5%|▍         | 6/128 [00:00<00:02, 51.80it/s]"
     ]
    },
    {
     "name": "stdout",
     "output_type": "stream",
     "text": [
      "epoch 37 train loss 0.018117407569661736\n",
      "val loss 0.011971519328653812 mape -0.00666228448972106\n"
     ]
    },
    {
     "name": "stderr",
     "output_type": "stream",
     "text": [
      "100%|██████████| 128/128 [00:02<00:00, 51.04it/s]\n",
      "  5%|▍         | 6/128 [00:00<00:02, 52.06it/s]"
     ]
    },
    {
     "name": "stdout",
     "output_type": "stream",
     "text": [
      "epoch 38 train loss 0.018419361764244968\n",
      "val loss 0.012062535621225834 mape 0.01165599562227726\n"
     ]
    },
    {
     "name": "stderr",
     "output_type": "stream",
     "text": [
      "100%|██████████| 128/128 [00:02<00:00, 51.02it/s]\n",
      "  5%|▍         | 6/128 [00:00<00:02, 50.93it/s]"
     ]
    },
    {
     "name": "stdout",
     "output_type": "stream",
     "text": [
      "epoch 39 train loss 0.018272578417963814\n",
      "val loss 0.011797414161264896 mape 0.00675343070179224\n"
     ]
    },
    {
     "name": "stderr",
     "output_type": "stream",
     "text": [
      "100%|██████████| 128/128 [00:02<00:00, 51.05it/s]\n",
      "  5%|▍         | 6/128 [00:00<00:02, 51.85it/s]"
     ]
    },
    {
     "name": "stdout",
     "output_type": "stream",
     "text": [
      "epoch 40 train loss 0.018019231600192143\n",
      "val loss 0.011296218261122704 mape 0.017909595742821693\n"
     ]
    },
    {
     "name": "stderr",
     "output_type": "stream",
     "text": [
      "100%|██████████| 128/128 [00:02<00:00, 51.17it/s]\n",
      "  5%|▍         | 6/128 [00:00<00:02, 51.54it/s]"
     ]
    },
    {
     "name": "stdout",
     "output_type": "stream",
     "text": [
      "epoch 41 train loss 0.017678066458756803\n",
      "val loss 0.01075746864080429 mape 0.007230529561638832\n"
     ]
    },
    {
     "name": "stderr",
     "output_type": "stream",
     "text": [
      "100%|██████████| 128/128 [00:02<00:00, 50.98it/s]\n",
      "  5%|▍         | 6/128 [00:00<00:02, 51.96it/s]"
     ]
    },
    {
     "name": "stdout",
     "output_type": "stream",
     "text": [
      "epoch 42 train loss 0.0173851656181796\n",
      "val loss 0.011185510084033012 mape 0.016590647399425507\n"
     ]
    },
    {
     "name": "stderr",
     "output_type": "stream",
     "text": [
      "100%|██████████| 128/128 [00:02<00:00, 51.04it/s]\n",
      "  5%|▍         | 6/128 [00:00<00:02, 51.89it/s]"
     ]
    },
    {
     "name": "stdout",
     "output_type": "stream",
     "text": [
      "epoch 43 train loss 0.01743232754233759\n",
      "val loss 0.011387751437723637 mape 0.027991579845547676\n"
     ]
    },
    {
     "name": "stderr",
     "output_type": "stream",
     "text": [
      "100%|██████████| 128/128 [00:02<00:00, 51.06it/s]\n",
      "  5%|▍         | 6/128 [00:00<00:02, 51.65it/s]"
     ]
    },
    {
     "name": "stdout",
     "output_type": "stream",
     "text": [
      "epoch 44 train loss 0.017286525722738588\n",
      "val loss 0.013746349141001701 mape 0.017034506425261497\n"
     ]
    },
    {
     "name": "stderr",
     "output_type": "stream",
     "text": [
      "100%|██████████| 128/128 [00:02<00:00, 51.19it/s]\n",
      "  5%|▍         | 6/128 [00:00<00:02, 51.02it/s]"
     ]
    },
    {
     "name": "stdout",
     "output_type": "stream",
     "text": [
      "epoch 45 train loss 0.017527802629047073\n",
      "val loss 0.010945349000394344 mape -0.008814754895865917\n"
     ]
    },
    {
     "name": "stderr",
     "output_type": "stream",
     "text": [
      "100%|██████████| 128/128 [00:02<00:00, 50.93it/s]\n",
      "  5%|▍         | 6/128 [00:00<00:02, 52.62it/s]"
     ]
    },
    {
     "name": "stdout",
     "output_type": "stream",
     "text": [
      "epoch 46 train loss 0.017589213995961472\n",
      "val loss 0.01104367058724165 mape 0.03853417932987213\n"
     ]
    },
    {
     "name": "stderr",
     "output_type": "stream",
     "text": [
      "100%|██████████| 128/128 [00:02<00:00, 51.01it/s]\n",
      "  5%|▍         | 6/128 [00:00<00:02, 50.41it/s]"
     ]
    },
    {
     "name": "stdout",
     "output_type": "stream",
     "text": [
      "epoch 47 train loss 0.01663733414898161\n",
      "val loss 0.013869893737137318 mape 0.016745688393712044\n"
     ]
    },
    {
     "name": "stderr",
     "output_type": "stream",
     "text": [
      "100%|██████████| 128/128 [00:02<00:00, 50.98it/s]\n",
      "  5%|▍         | 6/128 [00:00<00:02, 52.46it/s]"
     ]
    },
    {
     "name": "stdout",
     "output_type": "stream",
     "text": [
      "epoch 48 train loss 0.017120233314926736\n",
      "val loss 0.011277440935373306 mape -0.001959634944796562\n"
     ]
    },
    {
     "name": "stderr",
     "output_type": "stream",
     "text": [
      "100%|██████████| 128/128 [00:02<00:00, 51.10it/s]\n",
      "  5%|▍         | 6/128 [00:00<00:02, 51.27it/s]"
     ]
    },
    {
     "name": "stdout",
     "output_type": "stream",
     "text": [
      "epoch 49 train loss 0.017909132711793063\n",
      "val loss 0.011564178392291069 mape 0.016463447362184525\n"
     ]
    },
    {
     "name": "stderr",
     "output_type": "stream",
     "text": [
      "100%|██████████| 128/128 [00:02<00:00, 50.98it/s]\n",
      "  5%|▍         | 6/128 [00:00<00:02, 51.77it/s]"
     ]
    },
    {
     "name": "stdout",
     "output_type": "stream",
     "text": [
      "epoch 50 train loss 0.01702574810042279\n",
      "val loss 0.010617492720484734 mape 0.021762393414974213\n"
     ]
    },
    {
     "name": "stderr",
     "output_type": "stream",
     "text": [
      "100%|██████████| 128/128 [00:02<00:00, 50.93it/s]\n",
      "  5%|▍         | 6/128 [00:00<00:02, 51.38it/s]"
     ]
    },
    {
     "name": "stdout",
     "output_type": "stream",
     "text": [
      "epoch 51 train loss 0.01663687809923431\n",
      "val loss 0.0120638906955719 mape 0.0253410954028368\n"
     ]
    },
    {
     "name": "stderr",
     "output_type": "stream",
     "text": [
      "100%|██████████| 128/128 [00:02<00:00, 51.05it/s]\n",
      "  5%|▍         | 6/128 [00:00<00:02, 51.93it/s]"
     ]
    },
    {
     "name": "stdout",
     "output_type": "stream",
     "text": [
      "epoch 52 train loss 0.016835862450534478\n",
      "val loss 0.011716969311237335 mape 0.01116247195750475\n"
     ]
    },
    {
     "name": "stderr",
     "output_type": "stream",
     "text": [
      "100%|██████████| 128/128 [00:02<00:00, 51.17it/s]\n",
      "  5%|▍         | 6/128 [00:00<00:02, 51.24it/s]"
     ]
    },
    {
     "name": "stdout",
     "output_type": "stream",
     "text": [
      "epoch 53 train loss 0.016140065854415298\n",
      "val loss 0.01088127214461565 mape 0.007737128529697657\n"
     ]
    },
    {
     "name": "stderr",
     "output_type": "stream",
     "text": [
      "100%|██████████| 128/128 [00:02<00:00, 50.91it/s]\n",
      "  5%|▍         | 6/128 [00:00<00:02, 51.82it/s]"
     ]
    },
    {
     "name": "stdout",
     "output_type": "stream",
     "text": [
      "epoch 54 train loss 0.01672563116881065\n",
      "val loss 0.01114873681217432 mape 0.034725677222013474\n"
     ]
    },
    {
     "name": "stderr",
     "output_type": "stream",
     "text": [
      "100%|██████████| 128/128 [00:02<00:00, 51.25it/s]\n",
      "  5%|▍         | 6/128 [00:00<00:02, 50.89it/s]"
     ]
    },
    {
     "name": "stdout",
     "output_type": "stream",
     "text": [
      "epoch 55 train loss 0.015854748438869137\n",
      "val loss 0.010644683614373207 mape 0.03341982513666153\n"
     ]
    },
    {
     "name": "stderr",
     "output_type": "stream",
     "text": [
      "100%|██████████| 128/128 [00:02<00:00, 50.97it/s]\n",
      "  5%|▍         | 6/128 [00:00<00:02, 50.55it/s]"
     ]
    },
    {
     "name": "stdout",
     "output_type": "stream",
     "text": [
      "epoch 56 train loss 0.016532188528799452\n",
      "val loss 0.011064618825912476 mape 0.003697851672768593\n"
     ]
    },
    {
     "name": "stderr",
     "output_type": "stream",
     "text": [
      "100%|██████████| 128/128 [00:02<00:00, 51.08it/s]\n",
      "  5%|▍         | 6/128 [00:00<00:02, 52.44it/s]"
     ]
    },
    {
     "name": "stdout",
     "output_type": "stream",
     "text": [
      "epoch 57 train loss 0.016648324228299316\n",
      "val loss 0.011327656917273998 mape 0.015307278372347355\n"
     ]
    },
    {
     "name": "stderr",
     "output_type": "stream",
     "text": [
      "100%|██████████| 128/128 [00:02<00:00, 51.36it/s]\n",
      "  5%|▍         | 6/128 [00:00<00:02, 50.40it/s]"
     ]
    },
    {
     "name": "stdout",
     "output_type": "stream",
     "text": [
      "epoch 58 train loss 0.015739631049655145\n",
      "val loss 0.009948723949491978 mape 0.018949098885059357\n"
     ]
    },
    {
     "name": "stderr",
     "output_type": "stream",
     "text": [
      "100%|██████████| 128/128 [00:02<00:00, 51.18it/s]\n",
      "  5%|▍         | 6/128 [00:00<00:02, 52.22it/s]"
     ]
    },
    {
     "name": "stdout",
     "output_type": "stream",
     "text": [
      "epoch 59 train loss 0.0160861900949385\n",
      "val loss 0.010379265993833542 mape 0.01632479950785637\n"
     ]
    },
    {
     "name": "stderr",
     "output_type": "stream",
     "text": [
      "100%|██████████| 128/128 [00:02<00:00, 51.10it/s]\n",
      "  5%|▍         | 6/128 [00:00<00:02, 51.76it/s]"
     ]
    },
    {
     "name": "stdout",
     "output_type": "stream",
     "text": [
      "epoch 60 train loss 0.015968254876497667\n",
      "val loss 0.011585094034671783 mape 0.02653336152434349\n"
     ]
    },
    {
     "name": "stderr",
     "output_type": "stream",
     "text": [
      "100%|██████████| 128/128 [00:02<00:00, 51.06it/s]\n",
      "  5%|▍         | 6/128 [00:00<00:02, 51.61it/s]"
     ]
    },
    {
     "name": "stdout",
     "output_type": "stream",
     "text": [
      "epoch 61 train loss 0.015544628782663494\n",
      "val loss 0.010310090146958828 mape 0.027805719524621964\n"
     ]
    },
    {
     "name": "stderr",
     "output_type": "stream",
     "text": [
      "100%|██████████| 128/128 [00:02<00:00, 51.14it/s]\n",
      "  5%|▍         | 6/128 [00:00<00:02, 52.73it/s]"
     ]
    },
    {
     "name": "stdout",
     "output_type": "stream",
     "text": [
      "epoch 62 train loss 0.01644626439883723\n",
      "val loss 0.010067097842693329 mape 0.0012636135797947645\n"
     ]
    },
    {
     "name": "stderr",
     "output_type": "stream",
     "text": [
      "100%|██████████| 128/128 [00:02<00:00, 51.02it/s]\n",
      "  4%|▍         | 5/128 [00:00<00:02, 49.78it/s]"
     ]
    },
    {
     "name": "stdout",
     "output_type": "stream",
     "text": [
      "epoch 63 train loss 0.016151734336744994\n",
      "val loss 0.010717685334384441 mape 0.020964639261364937\n"
     ]
    },
    {
     "name": "stderr",
     "output_type": "stream",
     "text": [
      "100%|██████████| 128/128 [00:02<00:00, 51.00it/s]\n",
      "  5%|▍         | 6/128 [00:00<00:02, 55.01it/s]"
     ]
    },
    {
     "name": "stdout",
     "output_type": "stream",
     "text": [
      "epoch 64 train loss 0.015997792208509054\n",
      "val loss 0.010024923831224442 mape 0.018167544156312943\n"
     ]
    },
    {
     "name": "stderr",
     "output_type": "stream",
     "text": [
      "100%|██████████| 128/128 [00:02<00:00, 51.08it/s]\n",
      "  5%|▍         | 6/128 [00:00<00:02, 52.57it/s]"
     ]
    },
    {
     "name": "stdout",
     "output_type": "stream",
     "text": [
      "epoch 65 train loss 0.015686202175857034\n",
      "val loss 0.010391628369688988 mape 0.025311553850769997\n"
     ]
    },
    {
     "name": "stderr",
     "output_type": "stream",
     "text": [
      "100%|██████████| 128/128 [00:02<00:00, 50.83it/s]\n",
      "  5%|▍         | 6/128 [00:00<00:02, 54.42it/s]"
     ]
    },
    {
     "name": "stdout",
     "output_type": "stream",
     "text": [
      "epoch 66 train loss 0.01650406629050849\n",
      "val loss 0.011392936110496521 mape 0.03268967941403389\n"
     ]
    },
    {
     "name": "stderr",
     "output_type": "stream",
     "text": [
      "100%|██████████| 128/128 [00:02<00:00, 51.35it/s]\n",
      "  5%|▍         | 6/128 [00:00<00:02, 51.85it/s]"
     ]
    },
    {
     "name": "stdout",
     "output_type": "stream",
     "text": [
      "epoch 67 train loss 0.015559181018033996\n",
      "val loss 0.010807368904352188 mape 0.03796561062335968\n"
     ]
    },
    {
     "name": "stderr",
     "output_type": "stream",
     "text": [
      "100%|██████████| 128/128 [00:02<00:00, 51.18it/s]\n",
      "  5%|▍         | 6/128 [00:00<00:02, 52.04it/s]"
     ]
    },
    {
     "name": "stdout",
     "output_type": "stream",
     "text": [
      "epoch 68 train loss 0.015219433349557221\n",
      "val loss 0.011817567981779575 mape 0.028496405109763145\n"
     ]
    },
    {
     "name": "stderr",
     "output_type": "stream",
     "text": [
      "100%|██████████| 128/128 [00:02<00:00, 51.18it/s]\n",
      "  5%|▍         | 6/128 [00:00<00:02, 52.18it/s]"
     ]
    },
    {
     "name": "stdout",
     "output_type": "stream",
     "text": [
      "epoch 69 train loss 0.015720762523415033\n",
      "val loss 0.010218278504908085 mape 0.00630596000701189\n"
     ]
    },
    {
     "name": "stderr",
     "output_type": "stream",
     "text": [
      "100%|██████████| 128/128 [00:02<00:00, 50.93it/s]\n",
      "  5%|▍         | 6/128 [00:00<00:02, 51.76it/s]"
     ]
    },
    {
     "name": "stdout",
     "output_type": "stream",
     "text": [
      "epoch 70 train loss 0.015458109690371202\n",
      "val loss 0.010619690641760826 mape 0.045016128569841385\n"
     ]
    },
    {
     "name": "stderr",
     "output_type": "stream",
     "text": [
      "100%|██████████| 128/128 [00:02<00:00, 50.84it/s]\n",
      "  5%|▍         | 6/128 [00:00<00:02, 51.78it/s]"
     ]
    },
    {
     "name": "stdout",
     "output_type": "stream",
     "text": [
      "epoch 71 train loss 0.015599447735439753\n",
      "val loss 0.01276018749922514 mape 0.003400561399757862\n"
     ]
    },
    {
     "name": "stderr",
     "output_type": "stream",
     "text": [
      "100%|██████████| 128/128 [00:02<00:00, 50.92it/s]\n",
      "  5%|▍         | 6/128 [00:00<00:02, 51.46it/s]"
     ]
    },
    {
     "name": "stdout",
     "output_type": "stream",
     "text": [
      "epoch 72 train loss 0.015210531499178614\n",
      "val loss 0.010319394990801811 mape 0.007430573459714651\n"
     ]
    },
    {
     "name": "stderr",
     "output_type": "stream",
     "text": [
      "100%|██████████| 128/128 [00:02<00:00, 50.83it/s]\n",
      "  5%|▍         | 6/128 [00:00<00:02, 55.41it/s]"
     ]
    },
    {
     "name": "stdout",
     "output_type": "stream",
     "text": [
      "epoch 73 train loss 0.01547301371829235\n",
      "val loss 0.010217860341072083 mape 0.0100451884791255\n"
     ]
    },
    {
     "name": "stderr",
     "output_type": "stream",
     "text": [
      "100%|██████████| 128/128 [00:02<00:00, 51.44it/s]\n",
      "  5%|▍         | 6/128 [00:00<00:02, 51.43it/s]"
     ]
    },
    {
     "name": "stdout",
     "output_type": "stream",
     "text": [
      "epoch 74 train loss 0.015999025759811047\n",
      "val loss 0.01062737312167883 mape 0.02649644948542118\n"
     ]
    },
    {
     "name": "stderr",
     "output_type": "stream",
     "text": [
      "100%|██████████| 128/128 [00:02<00:00, 51.67it/s]\n",
      "  5%|▍         | 6/128 [00:00<00:02, 51.59it/s]"
     ]
    },
    {
     "name": "stdout",
     "output_type": "stream",
     "text": [
      "epoch 75 train loss 0.015109829862922197\n",
      "val loss 0.01078794989734888 mape 0.00597235094755888\n"
     ]
    },
    {
     "name": "stderr",
     "output_type": "stream",
     "text": [
      "100%|██████████| 128/128 [00:02<00:00, 50.96it/s]\n",
      "  5%|▍         | 6/128 [00:00<00:02, 50.42it/s]"
     ]
    },
    {
     "name": "stdout",
     "output_type": "stream",
     "text": [
      "epoch 76 train loss 0.015276186655682977\n",
      "val loss 0.009957635775208473 mape 0.017455222085118294\n"
     ]
    },
    {
     "name": "stderr",
     "output_type": "stream",
     "text": [
      "100%|██████████| 128/128 [00:02<00:00, 50.93it/s]\n",
      "  5%|▍         | 6/128 [00:00<00:02, 50.83it/s]"
     ]
    },
    {
     "name": "stdout",
     "output_type": "stream",
     "text": [
      "epoch 77 train loss 0.015814726899407106\n",
      "val loss 0.010475155897438526 mape 0.0039024599827826023\n"
     ]
    },
    {
     "name": "stderr",
     "output_type": "stream",
     "text": [
      "100%|██████████| 128/128 [00:02<00:00, 51.19it/s]\n",
      "  5%|▍         | 6/128 [00:00<00:02, 51.90it/s]"
     ]
    },
    {
     "name": "stdout",
     "output_type": "stream",
     "text": [
      "epoch 78 train loss 0.01536903649684973\n",
      "val loss 0.010948045179247856 mape 0.008898237720131874\n"
     ]
    },
    {
     "name": "stderr",
     "output_type": "stream",
     "text": [
      "100%|██████████| 128/128 [00:02<00:00, 50.93it/s]\n",
      "  5%|▍         | 6/128 [00:00<00:02, 50.50it/s]"
     ]
    },
    {
     "name": "stdout",
     "output_type": "stream",
     "text": [
      "epoch 79 train loss 0.015127245296753244\n",
      "val loss 0.010555299930274487 mape -0.019891245290637016\n"
     ]
    },
    {
     "name": "stderr",
     "output_type": "stream",
     "text": [
      "100%|██████████| 128/128 [00:02<00:00, 50.92it/s]\n",
      "  5%|▍         | 6/128 [00:00<00:02, 51.81it/s]"
     ]
    },
    {
     "name": "stdout",
     "output_type": "stream",
     "text": [
      "epoch 80 train loss 0.01608220274647465\n",
      "val loss 0.01103357132524252 mape 0.020325535908341408\n"
     ]
    },
    {
     "name": "stderr",
     "output_type": "stream",
     "text": [
      "100%|██████████| 128/128 [00:02<00:00, 50.96it/s]\n",
      "  5%|▍         | 6/128 [00:00<00:02, 51.60it/s]"
     ]
    },
    {
     "name": "stdout",
     "output_type": "stream",
     "text": [
      "epoch 81 train loss 0.015274804325599689\n",
      "val loss 0.009971448220312595 mape 0.003203056985512376\n"
     ]
    },
    {
     "name": "stderr",
     "output_type": "stream",
     "text": [
      "100%|██████████| 128/128 [00:02<00:00, 50.88it/s]\n",
      "  5%|▍         | 6/128 [00:00<00:02, 51.62it/s]"
     ]
    },
    {
     "name": "stdout",
     "output_type": "stream",
     "text": [
      "epoch 82 train loss 0.014901033548085252\n",
      "val loss 0.010631718672811985 mape 0.0024143329355865717\n"
     ]
    },
    {
     "name": "stderr",
     "output_type": "stream",
     "text": [
      "100%|██████████| 128/128 [00:02<00:00, 50.68it/s]\n",
      "  5%|▍         | 6/128 [00:00<00:02, 52.13it/s]"
     ]
    },
    {
     "name": "stdout",
     "output_type": "stream",
     "text": [
      "epoch 83 train loss 0.015258669125614688\n",
      "val loss 0.010349712334573269 mape 0.02311042696237564\n"
     ]
    },
    {
     "name": "stderr",
     "output_type": "stream",
     "text": [
      "100%|██████████| 128/128 [00:02<00:00, 51.22it/s]\n",
      "  5%|▍         | 6/128 [00:00<00:02, 51.43it/s]"
     ]
    },
    {
     "name": "stdout",
     "output_type": "stream",
     "text": [
      "epoch 84 train loss 0.014372880305018043\n",
      "val loss 0.009816068224608898 mape 0.01860520988702774\n"
     ]
    },
    {
     "name": "stderr",
     "output_type": "stream",
     "text": [
      "100%|██████████| 128/128 [00:02<00:00, 51.15it/s]\n",
      "  5%|▍         | 6/128 [00:00<00:02, 51.40it/s]"
     ]
    },
    {
     "name": "stdout",
     "output_type": "stream",
     "text": [
      "epoch 85 train loss 0.01488681726186769\n",
      "val loss 0.010106445290148258 mape 0.013686343096196651\n"
     ]
    },
    {
     "name": "stderr",
     "output_type": "stream",
     "text": [
      "100%|██████████| 128/128 [00:02<00:00, 51.27it/s]\n",
      "  5%|▍         | 6/128 [00:00<00:02, 51.06it/s]"
     ]
    },
    {
     "name": "stdout",
     "output_type": "stream",
     "text": [
      "epoch 86 train loss 0.015406552513013594\n",
      "val loss 0.0100893909111619 mape 0.021777847781777382\n"
     ]
    },
    {
     "name": "stderr",
     "output_type": "stream",
     "text": [
      "100%|██████████| 128/128 [00:02<00:00, 51.48it/s]\n",
      "  5%|▍         | 6/128 [00:00<00:02, 52.72it/s]"
     ]
    },
    {
     "name": "stdout",
     "output_type": "stream",
     "text": [
      "epoch 87 train loss 0.015184582116489764\n",
      "val loss 0.011675463058054447 mape 0.03723202273249626\n"
     ]
    },
    {
     "name": "stderr",
     "output_type": "stream",
     "text": [
      "100%|██████████| 128/128 [00:02<00:00, 51.34it/s]\n",
      "  5%|▍         | 6/128 [00:00<00:02, 52.56it/s]"
     ]
    },
    {
     "name": "stdout",
     "output_type": "stream",
     "text": [
      "epoch 88 train loss 0.01501379791443469\n",
      "val loss 0.009889183565974236 mape -0.006917593069374561\n"
     ]
    },
    {
     "name": "stderr",
     "output_type": "stream",
     "text": [
      "100%|██████████| 128/128 [00:02<00:00, 51.28it/s]\n",
      "  5%|▍         | 6/128 [00:00<00:02, 52.25it/s]"
     ]
    },
    {
     "name": "stdout",
     "output_type": "stream",
     "text": [
      "epoch 89 train loss 0.015223651920678094\n",
      "val loss 0.010916638188064098 mape -0.0025933270808309317\n"
     ]
    },
    {
     "name": "stderr",
     "output_type": "stream",
     "text": [
      "100%|██████████| 128/128 [00:02<00:00, 51.04it/s]\n",
      "  5%|▍         | 6/128 [00:00<00:02, 50.65it/s]"
     ]
    },
    {
     "name": "stdout",
     "output_type": "stream",
     "text": [
      "epoch 90 train loss 0.014472841106908163\n",
      "val loss 0.00997955072671175 mape 0.023823337629437447\n"
     ]
    },
    {
     "name": "stderr",
     "output_type": "stream",
     "text": [
      "100%|██████████| 128/128 [00:02<00:00, 51.00it/s]\n",
      "  5%|▍         | 6/128 [00:00<00:02, 50.81it/s]"
     ]
    },
    {
     "name": "stdout",
     "output_type": "stream",
     "text": [
      "epoch 91 train loss 0.014542078723025043\n",
      "val loss 0.010453124530613422 mape 0.0018036218825727701\n"
     ]
    },
    {
     "name": "stderr",
     "output_type": "stream",
     "text": [
      "100%|██████████| 128/128 [00:02<00:00, 51.20it/s]\n",
      "  5%|▍         | 6/128 [00:00<00:02, 52.64it/s]"
     ]
    },
    {
     "name": "stdout",
     "output_type": "stream",
     "text": [
      "epoch 92 train loss 0.015398511997773312\n",
      "val loss 0.010095491074025631 mape 0.014193282462656498\n"
     ]
    },
    {
     "name": "stderr",
     "output_type": "stream",
     "text": [
      "100%|██████████| 128/128 [00:02<00:00, 50.98it/s]\n",
      "  5%|▍         | 6/128 [00:00<00:02, 51.31it/s]"
     ]
    },
    {
     "name": "stdout",
     "output_type": "stream",
     "text": [
      "epoch 93 train loss 0.01432193951040972\n",
      "val loss 0.00931827537715435 mape 0.014547085389494896\n"
     ]
    },
    {
     "name": "stderr",
     "output_type": "stream",
     "text": [
      "100%|██████████| 128/128 [00:02<00:00, 50.86it/s]\n",
      "  5%|▍         | 6/128 [00:00<00:02, 51.99it/s]"
     ]
    },
    {
     "name": "stdout",
     "output_type": "stream",
     "text": [
      "epoch 94 train loss 0.015015153505373746\n",
      "val loss 0.009534930810332298 mape 0.015041015110909939\n"
     ]
    },
    {
     "name": "stderr",
     "output_type": "stream",
     "text": [
      "100%|██████████| 128/128 [00:02<00:00, 50.98it/s]\n",
      "  5%|▍         | 6/128 [00:00<00:02, 51.50it/s]"
     ]
    },
    {
     "name": "stdout",
     "output_type": "stream",
     "text": [
      "epoch 95 train loss 0.015269899395207176\n",
      "val loss 0.01021640095859766 mape 0.015840094536542892\n"
     ]
    },
    {
     "name": "stderr",
     "output_type": "stream",
     "text": [
      "100%|██████████| 128/128 [00:02<00:00, 51.38it/s]\n",
      "  5%|▍         | 6/128 [00:00<00:02, 50.78it/s]"
     ]
    },
    {
     "name": "stdout",
     "output_type": "stream",
     "text": [
      "epoch 96 train loss 0.014077270643610973\n",
      "val loss 0.009912333451211452 mape -0.012612183578312397\n"
     ]
    },
    {
     "name": "stderr",
     "output_type": "stream",
     "text": [
      "100%|██████████| 128/128 [00:02<00:00, 51.35it/s]\n",
      "  5%|▍         | 6/128 [00:00<00:02, 51.85it/s]"
     ]
    },
    {
     "name": "stdout",
     "output_type": "stream",
     "text": [
      "epoch 97 train loss 0.014711957006511511\n",
      "val loss 0.011094260029494762 mape 0.05893322080373764\n"
     ]
    },
    {
     "name": "stderr",
     "output_type": "stream",
     "text": [
      "100%|██████████| 128/128 [00:02<00:00, 50.91it/s]\n",
      "  5%|▍         | 6/128 [00:00<00:02, 51.60it/s]"
     ]
    },
    {
     "name": "stdout",
     "output_type": "stream",
     "text": [
      "epoch 98 train loss 0.015004245928139426\n",
      "val loss 0.00933352392166853 mape -0.000258077634498477\n"
     ]
    },
    {
     "name": "stderr",
     "output_type": "stream",
     "text": [
      "100%|██████████| 128/128 [00:02<00:00, 51.15it/s]"
     ]
    },
    {
     "name": "stdout",
     "output_type": "stream",
     "text": [
      "epoch 99 train loss 0.01455972757685231\n",
      "val loss 0.009562883526086807 mape 0.00831862073391676\n"
     ]
    },
    {
     "name": "stderr",
     "output_type": "stream",
     "text": [
      "\n"
     ]
    }
   ],
   "source": [
    "# training & validation\n",
    "lrate = 1e-4\n",
    "wdecay = 4e-3\n",
    "num_epoch = 100\n",
    "batch_size = 64\n",
    "\n",
    "print(nTrain, nValid, nTest)\n",
    "xTrain = x[:nTrain]\n",
    "xValid = x[nTrain:nTrain+nValid]\n",
    "\n",
    "yTrain = y[:nTrain]\n",
    "yValid = y[nTrain:nTrain+nValid]\n",
    "\n",
    "train_loss = []\n",
    "val_loss = []\n",
    "min_val_loss = 1000\n",
    "obj = nn.MSELoss()\n",
    "for e in range(num_epoch):\n",
    "#     if e%20 == 0 and e>0:\n",
    "#         lrate = lrate * 0.8\n",
    "    optimizer = optim.Adam(model.parameters(), lr=lrate, weight_decay=wdecay)\n",
    "    \n",
    "    # train part\n",
    "    model.train()\n",
    "    # shuffle\n",
    "    xTrain, yTrain = shuffle(xTrain, yTrain)\n",
    "    cur_loss = []\n",
    "    for i in tqdm(range(nTrain//batch_size)):\n",
    "        batch_in = xTrain[i*batch_size:(i+1)*batch_size]\n",
    "        batch_gt = yTrain[i*batch_size:(i+1)*batch_size]#[:,:,5:6]\n",
    "        \n",
    "        out = model(batch_in)\n",
    "        loss = obj(out, batch_gt)\n",
    "        cur_loss.append(loss.item())\n",
    "        \n",
    "#         if i%150 == 0:\n",
    "#             print(i, 'loss', loss.item(), 'mape', util.masked_mape(out, batch_gt,0).item())\n",
    "        \n",
    "        optimizer.zero_grad()\n",
    "        loss.backward()\n",
    "        optimizer.step()\n",
    "\n",
    "    train_loss.append(np.mean(cur_loss))\n",
    "    print('epoch',e, 'train loss', np.mean(cur_loss))\n",
    "    # validate each epoch\n",
    "    model.eval()\n",
    "    with torch.no_grad():\n",
    "        out = model(xValid)\n",
    "    loss = obj(out, yValid)#[:,:,5:6])\n",
    "    val_loss.append(loss.item())\n",
    "    if loss.item() < min_val_loss:\n",
    "        min_val_loss = loss.item()\n",
    "        torch.save(model.state_dict(), \"garage/exp_t.pth\")\n",
    "    print('val loss', loss.item(), 'mape', util.masked_mape(out, yValid,0).item())\n"
   ]
  },
  {
   "cell_type": "code",
   "execution_count": 15,
   "metadata": {},
   "outputs": [
    {
     "name": "stdout",
     "output_type": "stream",
     "text": [
      "min train loss 0.014077270643610973 min val loss 0.00931827537715435\n"
     ]
    },
    {
     "data": {
      "image/png": "[encoded data removed]",
      "text/plain": [
       "<Figure size 432x288 with 1 Axes>"
      ]
     },
     "metadata": {
      "needs_background": "light"
     },
     "output_type": "display_data"
    }
   ],
   "source": [
    "# plot loss curve\n",
    "print('min train loss', min(train_loss), 'min val loss', min(val_loss))\n",
    "plt.plot(train_loss[5:], label='train')\n",
    "plt.plot(val_loss[5:], label='val')\n",
    "plt.legend()\n",
    "plt.show()"
   ]
  },
  {
   "cell_type": "markdown",
   "metadata": {},
   "source": [
    "### Recursively predicting the next frame"
   ]
  },
  {
   "cell_type": "code",
   "execution_count": 83,
   "metadata": {},
   "outputs": [
    {
     "data": {
      "text/plain": [
       "<matplotlib.legend.Legend at 0x7f264e1cfb80>"
      ]
     },
     "execution_count": 83,
     "metadata": {},
     "output_type": "execute_result"
    },
    {
     "data": {
      "image/png": "[encoded data removed]",
      "text/plain": [
       "<Figure size 432x288 with 1 Axes>"
      ]
     },
     "metadata": {
      "needs_background": "light"
     },
     "output_type": "display_data"
    }
   ],
   "source": [
    "# test\n",
    "yTest = y[-nTest:].squeeze()\n",
    "xTest = x[-nTest:]\n",
    "model.eval()\n",
    "with torch.no_grad():\n",
    "    test_out = model(xTest).detach().cpu().numpy().squeeze()\n",
    "\n",
    "plt.plot(yTest[:100].detach().cpu().numpy(), label='gt')\n",
    "# plt.plot(yTest[:,5:6][:100].detach().cpu().numpy(), label='gt')\n",
    "plt.plot(test_out[:100], label='pred')\n",
    "# plt.plot(xTest[:,0,-1][:100].detach().cpu().numpy().squeeze(), label='last input value')\n",
    "plt.legend()"
   ]
  },
  {
   "cell_type": "code",
   "execution_count": 90,
   "metadata": {},
   "outputs": [
    {
     "ename": "RuntimeError",
     "evalue": "Sizes of tensors must match except in dimension 1. Got 10 and 1 (The offending index is 0)",
     "output_type": "error",
     "traceback": [
      "\u001b[0;31m---------------------------------------------------------------------------\u001b[0m",
      "\u001b[0;31mRuntimeError\u001b[0m                              Traceback (most recent call last)",
      "\u001b[0;32m<ipython-input-90-f56908d56370>\u001b[0m in \u001b[0;36m<module>\u001b[0;34m\u001b[0m\n\u001b[1;32m      6\u001b[0m         \u001b[0mcur_out\u001b[0m \u001b[0;34m=\u001b[0m \u001b[0mmodel\u001b[0m\u001b[0;34m(\u001b[0m\u001b[0mcur_in\u001b[0m\u001b[0;34m)\u001b[0m\u001b[0;34m\u001b[0m\u001b[0;34m\u001b[0m\u001b[0m\n\u001b[1;32m      7\u001b[0m         \u001b[0mpred\u001b[0m\u001b[0;34m.\u001b[0m\u001b[0mappend\u001b[0m\u001b[0;34m(\u001b[0m\u001b[0mcur_out\u001b[0m\u001b[0;34m)\u001b[0m\u001b[0;34m\u001b[0m\u001b[0;34m\u001b[0m\u001b[0m\n\u001b[0;32m----> 8\u001b[0;31m         \u001b[0mcur_in\u001b[0m \u001b[0;34m=\u001b[0m \u001b[0mtorch\u001b[0m\u001b[0;34m.\u001b[0m\u001b[0mcat\u001b[0m\u001b[0;34m(\u001b[0m\u001b[0;34m(\u001b[0m\u001b[0mcur_in\u001b[0m\u001b[0;34m,\u001b[0m \u001b[0mcur_out\u001b[0m\u001b[0;34m)\u001b[0m\u001b[0;34m,\u001b[0m \u001b[0;36m2\u001b[0m\u001b[0;34m)\u001b[0m\u001b[0;34m[\u001b[0m\u001b[0;34m:\u001b[0m\u001b[0;34m,\u001b[0m\u001b[0;34m:\u001b[0m\u001b[0;34m,\u001b[0m\u001b[0;36m1\u001b[0m\u001b[0;34m:\u001b[0m\u001b[0;34m]\u001b[0m\u001b[0;34m\u001b[0m\u001b[0;34m\u001b[0m\u001b[0m\n\u001b[0m\u001b[1;32m      9\u001b[0m \u001b[0;34m\u001b[0m\u001b[0m\n\u001b[1;32m     10\u001b[0m \u001b[0mpred\u001b[0m \u001b[0;34m=\u001b[0m \u001b[0mtorch\u001b[0m\u001b[0;34m.\u001b[0m\u001b[0mcat\u001b[0m\u001b[0;34m(\u001b[0m\u001b[0mpred\u001b[0m\u001b[0;34m,\u001b[0m \u001b[0;36m2\u001b[0m\u001b[0;34m)\u001b[0m\u001b[0;34m.\u001b[0m\u001b[0msqueeze\u001b[0m\u001b[0;34m(\u001b[0m\u001b[0;34m)\u001b[0m\u001b[0;34m\u001b[0m\u001b[0;34m\u001b[0m\u001b[0m\n",
      "\u001b[0;31mRuntimeError\u001b[0m: Sizes of tensors must match except in dimension 1. Got 10 and 1 (The offending index is 0)"
     ]
    }
   ],
   "source": [
    "cur_in = xTest\n",
    "pred = []\n",
    "\n",
    "with torch.no_grad():\n",
    "    for i in range(10):\n",
    "        cur_out = model(cur_in)\n",
    "        pred.append(cur_out)\n",
    "        cur_in = torch.cat((cur_in, cur_out), 2)[:,:,1:]\n",
    "\n",
    "pred = torch.cat(pred, 2).squeeze()\n",
    "print(pred.shape, yTest.shape)\n",
    "print('mape:', util.masked_mape(pred, yTest,0).item(), 'cc', util.get_cc(pred, yTest)[0])\n",
    "\n",
    "i_num = 4\n",
    "j_num = 5\n",
    "plt.figure(figsize=(16,10))\n",
    "for i in range(i_num):\n",
    "    for j in range(j_num):\n",
    "        k = i*j_num+j+1\n",
    "#         print(k)\n",
    "        plt.subplot(i_num, j_num, k)\n",
    "        plt.plot(yTest[k].detach().cpu().numpy(), color='g')\n",
    "        plt.plot(pred[k].detach().cpu().numpy(), color='r')\n",
    "plt.show()"
   ]
  },
  {
   "cell_type": "markdown",
   "metadata": {},
   "source": [
    "### observations\n",
    "predict near future converges immediately, but predicting further-away frames need much more epochs"
   ]
  },
  {
   "cell_type": "markdown",
   "metadata": {},
   "source": [
    "### Directly mapping / predicting t frames"
   ]
  },
  {
   "cell_type": "code",
   "execution_count": 16,
   "metadata": {},
   "outputs": [
    {
     "data": {
      "image/png": "[encoded data removed]",
      "text/plain": [
       "<Figure size 432x288 with 1 Axes>"
      ]
     },
     "metadata": {
      "needs_background": "light"
     },
     "output_type": "display_data"
    },
    {
     "name": "stdout",
     "output_type": "stream",
     "text": [
      "torch.Size([1757, 10]) torch.Size([1757, 10])\n",
      "mape: -0.08154258877038956 cc 0.9952195499756448\n"
     ]
    },
    {
     "data": {
      "image/png": "[encoded data removed]",
      "text/plain": [
       "<Figure size 1152x720 with 20 Axes>"
      ]
     },
     "metadata": {
      "needs_background": "light"
     },
     "output_type": "display_data"
    }
   ],
   "source": [
    "# test\n",
    "yTest = y[-nTest:].squeeze()\n",
    "xTest = x[-nTest:]\n",
    "\n",
    "model.eval()\n",
    "with torch.no_grad():\n",
    "    test_out = model(xTest, viz=True).squeeze()\n",
    "\n",
    "print(yTest.shape, test_out.shape)\n",
    "print('mape:', util.masked_mape(test_out, yTest,0).item(), 'cc', util.get_cc(test_out, yTest)[0])\n",
    "\n",
    "i_num = 4\n",
    "j_num = 5\n",
    "plt.figure(figsize=(16,10))\n",
    "for i in range(i_num):\n",
    "    for j in range(j_num):\n",
    "        k = i*j_num+j+1\n",
    "#         print(k)\n",
    "        plt.subplot(i_num, j_num, k)\n",
    "        plt.plot(yTest[k].detach().cpu().numpy(), color='g')\n",
    "        plt.plot(test_out[k].detach().cpu().numpy(), color='r')\n",
    "plt.show()"
   ]
  },
  {
   "cell_type": "markdown",
   "metadata": {},
   "source": [
    "### Observations\n",
    "Mapping is good"
   ]
  },
  {
   "cell_type": "markdown",
   "metadata": {},
   "source": [
    "### t branches, each predict one future step. \n",
    "Also more weight on recent pred (otherwise further-away loss is dominating)\n",
    "\n",
    "(Give up, since for the real problem EEG has so many frames, this isn't quite practical)"
   ]
  },
  {
   "cell_type": "markdown",
   "metadata": {},
   "source": [
    "##  Testing spatial conv-deconv: only using one time frame's value on all nodes"
   ]
  },
  {
   "cell_type": "code",
   "execution_count": null,
   "metadata": {},
   "outputs": [],
   "source": [
    "device = 'cuda:0'\n",
    "# prep data\n",
    "x = _input[...,0][:,None,:]\n",
    "y = x\n",
    "# y = _gt[...,0][:,None,:]\n",
    "print(x.shape, y.shape)\n",
    "\n",
    "# plt.plot(x[0,0])\n",
    "# plt.plot(y[0,0])\n",
    "plt.plot(np.concatenate((x[20,0],y[20,0]), 0))\n",
    "\n",
    "x = torch.tensor(x).to(device)\n",
    "# y = x\n",
    "y = torch.tensor(y).to(device)\n"
   ]
  }
 ],
 "metadata": {
  "kernelspec": {
   "display_name": "Python 3",
   "language": "python",
   "name": "python3"
  },
  "language_info": {
   "codemirror_mode": {
    "name": "ipython",
    "version": 3
   },
   "file_extension": ".py",
   "mimetype": "text/x-python",
   "name": "python",
   "nbconvert_exporter": "python",
   "pygments_lexer": "ipython3",
   "version": "3.8.5"
  }
 },
 "nbformat": 4,
 "nbformat_minor": 4
}
