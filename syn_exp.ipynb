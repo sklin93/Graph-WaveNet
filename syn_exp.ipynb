{
 "cells": [
  {
   "cell_type": "code",
   "execution_count": 1,
   "metadata": {},
   "outputs": [],
   "source": [
    "%matplotlib inline\n",
    "import matplotlib.pyplot as plt\n",
    "import torch\n",
    "import torch.nn as nn\n",
    "import torch.optim as optim\n",
    "import torch.nn.functional as F\n",
    "from torch.autograd import backward\n",
    "# from coolmom import SGD\n",
    "\n",
    "import numpy as np\n",
    "import pickle\n",
    "import os\n",
    "from sklearn.utils import shuffle\n",
    "from tqdm import tqdm\n",
    "import ipdb\n",
    "\n",
    "import Utils.util as util\n",
    "from Utils import graphTools, dataTools\n",
    "\n",
    "np.random.seed(0)\n",
    "torch.manual_seed(999)\n",
    "if torch.cuda.is_available():\n",
    "    torch.cuda.manual_seed_all(999)\n",
    "    torch.cuda.empty_cache()"
   ]
  },
  {
   "cell_type": "code",
   "execution_count": 2,
   "metadata": {},
   "outputs": [],
   "source": [
    "# graph config\n",
    "graphType = 'SBM' # Type of graph\n",
    "graphOptions = {}\n",
    "graphOptions['nCommunities'] = 30 #64 # Number of communities (EEG node number)\n",
    "graphOptions['probIntra'] = 0.8 # Intracommunity probability\n",
    "graphOptions['probInter'] = 0.2 # Intercommunity probability\n",
    "\n",
    "# noise parameters\n",
    "sigmaSpatial = 0.1\n",
    "sigmaTemporal = 0.1\n",
    "rhoSpatial = 0\n",
    "rhoTemporal = 0\n",
    "\n",
    "nTotal = 250\n",
    "# nTrain = int(0.6*nTotal)\n",
    "# nValid = int(0.2*nTotal)\n",
    "# nTest = int(0.2*nTotal)\n",
    "nNodes = 200\n",
    "K = 10 # K-step prediction\n",
    "horizon = 320"
   ]
  },
  {
   "cell_type": "code",
   "execution_count": 8,
   "metadata": {},
   "outputs": [
    {
     "name": "stderr",
     "output_type": "stream",
     "text": [
      "100%|██████████| 250/250 [04:20<00:00,  1.04s/it]"
     ]
    },
    {
     "name": "stdout",
     "output_type": "stream",
     "text": [
      "(250, 200, 320)\n"
     ]
    },
    {
     "name": "stderr",
     "output_type": "stream",
     "text": [
      "\n"
     ]
    }
   ],
   "source": [
    "# generate syn data & save\n",
    "signals = []\n",
    "adjs = []\n",
    "for i in tqdm(range(nTotal)):\n",
    "        G = graphTools.Graph(graphType, nNodes, graphOptions)\n",
    "        G.computeGFT()\n",
    "        _data = dataTools.KStepPrediction(G, K, 1, 0, 0, horizon,\n",
    "                                          sigmaSpatial=sigmaSpatial, \n",
    "                                          sigmaTemporal=sigmaTemporal,\n",
    "                                          rhoSpatial=rhoSpatial, \n",
    "                                          rhoTemporal=rhoTemporal)\n",
    "        _data = _data.getSamples('train')\n",
    "        signals.append(_data)\n",
    "        adjs.append(util.mod_adj(G.W, 'transition'))\n",
    "\n",
    "signals = np.concatenate(signals,0)\n",
    "print(signals.shape)\n",
    "pkl_data = (signals, adjs)\n",
    "with open('syn_F_pred.pkl', 'wb') as handle:\n",
    "    pickle.dump(pkl_data, handle, protocol=pickle.HIGHEST_PROTOCOL)"
   ]
  },
  {
   "cell_type": "code",
   "execution_count": 3,
   "metadata": {},
   "outputs": [],
   "source": [
    "# load syn data\n",
    "with open('syn_F_pred.pkl', 'rb') as handle:\n",
    "    signals, adjs = pickle.load(handle)"
   ]
  },
  {
   "cell_type": "code",
   "execution_count": 35,
   "metadata": {},
   "outputs": [
    {
     "name": "stdout",
     "output_type": "stream",
     "text": [
      "[[  0   1   2 ...   7   8   9]\n",
      " [  1   2   3 ...   8   9  10]\n",
      " [  2   3   4 ...   9  10  11]\n",
      " ...\n",
      " [298 299 300 ... 305 306 307]\n",
      " [299 300 301 ... 306 307 308]\n",
      " [300 301 302 ... 307 308 309]] (301, 10)\n",
      "[[ 10  11  12 ...  17  18  19]\n",
      " [ 11  12  13 ...  18  19  20]\n",
      " [ 12  13  14 ...  19  20  21]\n",
      " ...\n",
      " [308 309 310 ... 315 316 317]\n",
      " [309 310 311 ... 316 317 318]\n",
      " [310 311 312 ... 317 318 319]] (301, 10)\n",
      "(75250, 200, 10) (75250, 200, 10)\n"
     ]
    },
    {
     "data": {
      "image/png": "[encoded data removed]",
      "text/plain": [
       "<Figure size 432x288 with 1 Axes>"
      ]
     },
     "metadata": {
      "needs_background": "light"
     },
     "output_type": "display_data"
    }
   ],
   "source": [
    "# prep input & output\n",
    "\n",
    "idxer = np.arange(K)[None, :]+ np.arange(0, horizon - K + 1, 1)[:, None]\n",
    "# print(idxer, idxer.shape)\n",
    "print(idxer[:-K], idxer[:-K].shape) # x idxer\n",
    "print(idxer[K:], idxer[K:].shape) # y idxer\n",
    "adj_idx = np.arange(nTotal).repeat(horizon-2*K+1)\n",
    "\n",
    "x = signals[...,idxer[:-K]].transpose(0,2,1,3).reshape(-1, nNodes, K).astype(np.float32)\n",
    "y = signals[...,idxer[K:]].transpose(0,2,1,3).reshape(-1, nNodes, K).astype(np.float32)\n",
    "print(x.shape, y.shape)\n",
    "\n",
    "# standardize\n",
    "x = (x - x.mean()) / x.std()\n",
    "y = (y - y.mean()) / y.std()\n",
    "(x, y, adj_idx) = shuffle(x, y, adj_idx)\n",
    "\n",
    "plt.plot(np.concatenate((x[0,0], y[0,0])))\n",
    "plt.show()\n",
    "\n",
    "device = 'cuda:0'"
   ]
  },
  {
   "cell_type": "markdown",
   "metadata": {},
   "source": [
    "## t only"
   ]
  },
  {
   "cell_type": "code",
   "execution_count": 4,
   "metadata": {},
   "outputs": [
    {
     "name": "stdout",
     "output_type": "stream",
     "text": [
      "[[  0   1   2 ...   7   8   9]\n",
      " [  1   2   3 ...   8   9  10]\n",
      " [  2   3   4 ...   9  10  11]\n",
      " ...\n",
      " [298 299 300 ... 305 306 307]\n",
      " [299 300 301 ... 306 307 308]\n",
      " [300 301 302 ... 307 308 309]] (301, 10)\n",
      "[[ 10  11  12 ...  17  18  19]\n",
      " [ 11  12  13 ...  18  19  20]\n",
      " [ 12  13  14 ...  19  20  21]\n",
      " ...\n",
      " [308 309 310 ... 315 316 317]\n",
      " [309 310 311 ... 316 317 318]\n",
      " [310 311 312 ... 317 318 319]] (301, 10)\n",
      "(75250, 200, 10) (75250, 200, 10)\n"
     ]
    },
    {
     "data": {
      "image/png": "[encoded data removed]",
      "text/plain": [
       "<Figure size 432x288 with 1 Axes>"
      ]
     },
     "metadata": {
      "needs_background": "light"
     },
     "output_type": "display_data"
    }
   ],
   "source": [
    "### for t test\n",
    "x = x.reshape(-1, K)[:,None,:]\n",
    "y = y.reshape(-1, K)[:,None,:]\n",
    "x, y = shuffle(x, y)\n",
    "x = torch.tensor(x).to(device)\n",
    "y = torch.tensor(y).to(device)"
   ]
  },
  {
   "cell_type": "code",
   "execution_count": 5,
   "metadata": {},
   "outputs": [],
   "source": [
    "def clipped_repulsion(preds):\n",
    "    preds = abs(preds)\n",
    "    \n",
    "    preds[preds < 1e-3] = 1e-3\n",
    "    loss = 1 / (abs(preds)**2)\n",
    "    return torch.mean(loss)\n",
    "\n",
    "def t2v(tau, f, out_features, w, b, w0, b0, arg=None):\n",
    "    if arg:\n",
    "        v1 = f(torch.matmul(tau, w) + b, arg)\n",
    "    else:\n",
    "        v1 = f(torch.matmul(tau, w) + b)\n",
    "    v2 = torch.matmul(tau, w0) + b0\n",
    "    #print(v1.shape)\n",
    "    return torch.cat([v1, v2], 2)\n",
    "\n",
    "class SineActivation(nn.Module):\n",
    "    def __init__(self, in_features, out_features):\n",
    "        super(SineActivation, self).__init__()\n",
    "        self.out_features = out_features\n",
    "        self.w0 = nn.parameter.Parameter(torch.randn(in_features, 1))\n",
    "        self.b0 = nn.parameter.Parameter(torch.randn(in_features, 1))\n",
    "        self.w = nn.parameter.Parameter(torch.randn(in_features, out_features-1))\n",
    "        self.b = nn.parameter.Parameter(torch.randn(in_features, out_features-1))\n",
    "        self.f = torch.sin\n",
    "\n",
    "    def forward(self, tau):\n",
    "        return t2v(tau, self.f, self.out_features, self.w, self.b, self.w0, self.b0)\n",
    "\n",
    "class CosineActivation(nn.Module):\n",
    "    def __init__(self, in_features, out_features):\n",
    "        super(CosineActivation, self).__init__()\n",
    "        self.out_features = out_features\n",
    "        self.w0 = nn.parameter.Parameter(torch.randn(in_features, 1))\n",
    "        self.b0 = nn.parameter.Parameter(torch.randn(in_features, 1))\n",
    "        self.w = nn.parameter.Parameter(torch.randn(in_features, out_features-1))\n",
    "        self.b = nn.parameter.Parameter(torch.randn(in_features, out_features-1))\n",
    "        self.f = torch.cos\n",
    "\n",
    "    def forward(self, tau):\n",
    "        return t2v(tau, self.f, self.out_features, self.w, self.b, self.w0, self.b0)## Testing temporal conv-deconv: only using one node's value across time\n",
    "\n",
    "def CausalConv1d(in_channels, out_channels, kernel_size, dilation=1, **kwargs):\n",
    "    pad = (kernel_size - 1) * dilation\n",
    "    return nn.Conv1d(in_channels, out_channels, kernel_size, padding=pad, dilation=dilation, **kwargs)\n",
    "\n",
    "# def CausalConv1d(in_channels, out_channels, kernel_size, dilation=1, **kwargs): \n",
    "#     ## only pad left (??? pytorch doesn't support)\n",
    "#     pad = (kernel_size - 1) * dilation\n",
    "#     return nn.Conv1d(in_channels, out_channels, kernel_size, padding=(pad,0), dilation=dilation, **kwargs)\n",
    "\n",
    "\n",
    "# tcn & de-tcn model\n",
    "class tmodel(nn.Module): # for model testing, f in, same f out\n",
    "    def __init__(self, activation='sin', device='cuda:0', dropout=0.3, in_dim=1,\n",
    "                residual_channels=32, dilation_channels=32, skip_channels=256,\n",
    "                end_channels=64, kernel_size=2, blocks=4, layers=2):\n",
    "        super(tmodel, self).__init__()\n",
    "        self.dropout = dropout\n",
    "        self.blocks = blocks\n",
    "        self.layers = layers\n",
    "        self.device = device\n",
    "\n",
    "        self.filter_convs = nn.ModuleList()\n",
    "        self.gate_convs = nn.ModuleList()\n",
    "        self.residual_convs = nn.ModuleList()\n",
    "        self.skip_convs = nn.ModuleList()\n",
    "        self.bn = nn.ModuleList()\n",
    "\n",
    "#         self.start_conv = nn.Conv1d(in_channels=in_dim,\n",
    "#                                     out_channels=residual_channels,\n",
    "#                                     kernel_size=1)\n",
    "\n",
    "        if activation == \"sin\":\n",
    "            self.l1 = SineActivation(1, residual_channels)\n",
    "        elif activation == \"cos\":\n",
    "            self.l1 = CosineActivation(1, residual_channels)\n",
    "\n",
    "        receptive_field = 1\n",
    "        multi_factor = 2\n",
    "        for b in range(blocks):\n",
    "            additional_scope = kernel_size - 1\n",
    "            new_dilation = 1\n",
    "            for i in range(layers):\n",
    "                # dilated convolutions\n",
    "                self.filter_convs.append(CausalConv1d(residual_channels, dilation_channels, kernel_size, new_dilation))\n",
    "                self.gate_convs.append(CausalConv1d(residual_channels, dilation_channels, kernel_size, new_dilation))\n",
    "\n",
    "                # 1x1 convolution for residual connection\n",
    "                self.residual_convs.append(nn.Conv1d(in_channels=dilation_channels,out_channels=residual_channels,kernel_size=1))\n",
    "\n",
    "                # 1x1 convolution for skip connection\n",
    "                self.skip_convs.append(nn.Conv1d(in_channels=dilation_channels,out_channels=skip_channels,kernel_size=1))\n",
    "                self.bn.append(nn.BatchNorm1d(residual_channels))\n",
    "\n",
    "                new_dilation *= multi_factor\n",
    "                receptive_field += additional_scope\n",
    "                additional_scope *= multi_factor\n",
    "\n",
    "\n",
    "#         ## temporal transConv (de-tcn)\n",
    "#         convTransK = 2\n",
    "#         convTransD = 1\n",
    "#         upScale = 2\n",
    "\n",
    "#         self.end_module_conv = nn.ModuleList()\n",
    "#         self.end_module_up = nn.ModuleList()\n",
    "#         # for b in range(blocks):\n",
    "#         #     for l in range(layers):\n",
    "#         for i in range(5):\n",
    "#             self.end_module_up.append(nn.Upsample(scale_factor=upScale))\n",
    "#             self.end_module_conv.append(nn.ConvTranspose1d(in_channels=skip_channels, out_channels=skip_channels, \n",
    "#                            kernel_size=convTransK, dilation=convTransD))\n",
    "#         self.end_mlp = nn.Sequential(\n",
    "#             nn.LeakyReLU(),\n",
    "#             nn.Conv1d(in_channels=256, out_channels=16,\n",
    "#                       kernel_size=1, bias=True),\n",
    "#             nn.LeakyReLU(),\n",
    "#             nn.Conv1d(in_channels=16, out_channels=1,\n",
    "#                       kernel_size=1, bias=True)\n",
    "#             )\n",
    "\n",
    "#         # fmri\n",
    "        self.end_conv_1 = nn.Conv1d(skip_channels, end_channels, 1, bias=True)\n",
    "        self.end_conv_2 = nn.Conv1d(end_channels, 10, 1, bias=True)\n",
    "#         self.end_conv_3 = nn.Conv1d(15, 1, 1, bias=True)\n",
    "        \n",
    "        # eeg\n",
    "#         self.end_conv_1 = nn.Conv1d(skip_channels, 512, 1, bias=True)\n",
    "#         self.end_conv_2 = nn.Conv1d(512, 1456, 1, bias=True)\n",
    "#         self.end_conv_3 = nn.Conv1d(182, 1, 1, bias=True)\n",
    "        \n",
    "        self.receptive_field = receptive_field\n",
    "\n",
    "    def forward(self, input, viz=False):\n",
    "        # inputs: [batch_size, 1, in_len]\n",
    "        ### deal with supports\n",
    "        # print(self.receptive_field)\n",
    "#         in_len = input.size(-1)\n",
    "#         if in_len<self.receptive_field:\n",
    "#             x = nn.functional.pad(input,(self.receptive_field-in_len,0))\n",
    "#         else:\n",
    "#             x = input\n",
    "        x = input.transpose(1,2)\n",
    "#         x = self.start_conv(x)\n",
    "        x = self.l1(x).transpose(1,2)\n",
    "\n",
    "        if viz: # x.shape [16, 32, 15]\n",
    "            ### plot features on different channels representing the same node fmri signal\n",
    "            for j in range(x.shape[1]):\n",
    "                plt.plot(x.detach().cpu().numpy()[0,j,:])\n",
    "            plt.show()\n",
    "\n",
    "        skip = 0\n",
    "\n",
    "        # WaveNet layers\n",
    "        for i in range(self.blocks * self.layers):\n",
    "            # print(i, x.shape)\n",
    "            #            |----------------------------------------|     *residual*\n",
    "            #            |                                        |\n",
    "            #            |    |-- conv -- tanh --|                |\n",
    "            # -> dilate -|----|                  * ----|-- 1x1 -- + --> *input*\n",
    "            #                 |-- conv -- sigm --|     |\n",
    "            #                                         1x1\n",
    "            #                                          |\n",
    "            # ---------------------------------------> + -------------> *skip*\n",
    "\n",
    "            #(dilation, init_dilation) = self.dilations[i]\n",
    "\n",
    "            #residual = dilation_func(x, dilation, init_dilation, i)\n",
    "            residual = x #[batch_size, residual_dim, 80, 16]\n",
    "\n",
    "            # dilated convolution\n",
    "            filter = self.filter_convs[i](residual)\n",
    "            filter = torch.tanh(filter[:, :, :-self.filter_convs[i].padding[0]])\n",
    "            gate = self.gate_convs[i](residual)\n",
    "            gate = torch.sigmoid(gate[:, :, :-self.gate_convs[i].padding[0]])\n",
    "            x = filter * gate\n",
    "#             print(x.shape)\n",
    "            if i % self.layers == self.layers-1:\n",
    "                x = F.max_pool1d(x,2)\n",
    "            # parametrized skip connection\n",
    "            s = x\n",
    "            s = self.skip_convs[i](s)\n",
    "            try:\n",
    "                if s.size(-1)*2 == skip.size(-1):\n",
    "                    skip = F.max_pool1d(skip,2)\n",
    "                else:\n",
    "                    skip = skip[:, :,  -s.size(-1):]\n",
    "            except:\n",
    "                skip = 0\n",
    "            skip = s + skip\n",
    "            \n",
    "            x = self.residual_convs[i](x)\n",
    "            \n",
    "#             print(residual.shape, x.shape)\n",
    "            x = x + residual[:, :, -x.size(-1):]\n",
    "            # x = torch.cat([x, residual[:, :, :, -x.size(3):], t_rep], axis=1)\n",
    "            x = self.bn[i](x) # comment off for overfitting\n",
    "            \n",
    "        # del residual, x\n",
    "        # skip: [batch_size, hidden_dim, num_nodes, 1]\n",
    "\n",
    "        # ### test: adding noise to hidden rep\n",
    "        # skip = skip + torch.normal(torch.zeros_like(skip), 0.1*skip.std()*torch.ones_like(skip))\n",
    "        # ###\n",
    "        # x = self.end_module(skip)\n",
    "        # if viz: # x.shape [16, 512, 200, 1]\n",
    "        #     # (results look similar) each node's h-D (h being #hidden dim) feature\n",
    "        #     for j in range(10):\n",
    "        #         plt.plot(x.detach().cpu().numpy()[0,:,j,0])\n",
    "        #     plt.show()\n",
    "        #     # plot each channel's value (on all nodes)\n",
    "        #     for j in range(10): \n",
    "        #         plt.plot(x.detach().cpu().numpy()[0,j,:,0])\n",
    "        #     plt.show()\n",
    "        \n",
    "        x = F.relu(skip)\n",
    "#         x = F.max_pool1d(skip, 45)\n",
    "        x = F.relu(self.end_conv_1(x))\n",
    "        x = self.end_conv_2(x).transpose(1,2)\n",
    "#         x = self.end_conv_3(F.relu(x))\n",
    "        \n",
    "#         # output a single value\n",
    "#         x = F.relu(self.end_conv_2(x))   \n",
    "#         x = self.end_conv_3(x)\n",
    "\n",
    "#         for i in range(5):#range(self.blocks * self.layers):       \n",
    "#             x = self.end_module_up[i](x)\n",
    "#             x = F.relu(self.end_module_conv[i](x))\n",
    "\n",
    "#         x = x[...,:input.shape[-1]]\n",
    "#         x = self.end_mlp(x)\n",
    "        \n",
    "        return x\n",
    "\n",
    "# eeg\n",
    "# model = tmodel(blocks=5, layers=2).to(device)\n",
    "# model_name = \"garage/exp_t_eeg_mse.pth\" # for loading pretrained model and saving trained ones\n",
    "\n",
    "model = tmodel(blocks=3, layers=2).to(device) #3,2 for fmri;\n",
    "model_name = \"garage/exp_t_syn_pred.pth\"\n",
    "# print(model)\n"
   ]
  },
  {
   "cell_type": "code",
   "execution_count": 8,
   "metadata": {},
   "outputs": [],
   "source": [
    "# load pretrained model\n",
    "if os.path.isfile(model_name):\n",
    "    # finetune\n",
    "    pretrained_dict = torch.load(model_name)\n",
    "    model_dict = model.state_dict()\n",
    "    pretrained_dict = {k: v for k, v in pretrained_dict.items() if k in model_dict}\n",
    "    model_dict.update(pretrained_dict) \n",
    "    model.load_state_dict(model_dict)\n",
    "nTrain, nValid, nTest = 100000, 5000, 5000    "
   ]
  },
  {
   "cell_type": "code",
   "execution_count": null,
   "metadata": {},
   "outputs": [
    {
     "name": "stderr",
     "output_type": "stream",
     "text": [
      "  0%|          | 5/3125 [00:00<01:16, 40.63it/s]"
     ]
    },
    {
     "name": "stdout",
     "output_type": "stream",
     "text": [
      "100000 5000 5000\n"
     ]
    },
    {
     "name": "stderr",
     "output_type": "stream",
     "text": [
      "100%|██████████| 3125/3125 [01:16<00:00, 40.78it/s]\n",
      "  0%|          | 5/3125 [00:00<01:17, 40.17it/s]"
     ]
    },
    {
     "name": "stdout",
     "output_type": "stream",
     "text": [
      "epoch 0 train loss 0.8437494215583802\n",
      "val loss 0.9133784174919128 mape 6.005073547363281\n"
     ]
    },
    {
     "name": "stderr",
     "output_type": "stream",
     "text": [
      "100%|██████████| 3125/3125 [01:16<00:00, 40.71it/s]\n",
      "  0%|          | 4/3125 [00:00<01:18, 39.84it/s]"
     ]
    },
    {
     "name": "stdout",
     "output_type": "stream",
     "text": [
      "epoch 1 train loss 0.7822557407855988\n",
      "val loss 0.7563446164131165 mape 5.145836353302002\n"
     ]
    },
    {
     "name": "stderr",
     "output_type": "stream",
     "text": [
      "100%|██████████| 3125/3125 [01:16<00:00, 40.67it/s]\n",
      "  0%|          | 5/3125 [00:00<01:15, 41.53it/s]"
     ]
    },
    {
     "name": "stdout",
     "output_type": "stream",
     "text": [
      "epoch 2 train loss 0.7506907141876221\n",
      "val loss 0.6278927326202393 mape 5.315698146820068\n"
     ]
    },
    {
     "name": "stderr",
     "output_type": "stream",
     "text": [
      "100%|██████████| 3125/3125 [01:16<00:00, 40.69it/s]\n",
      "  0%|          | 4/3125 [00:00<01:18, 39.52it/s]"
     ]
    },
    {
     "name": "stdout",
     "output_type": "stream",
     "text": [
      "epoch 3 train loss 0.78259313123703\n",
      "val loss 0.7274336814880371 mape 5.318979263305664\n"
     ]
    },
    {
     "name": "stderr",
     "output_type": "stream",
     "text": [
      "100%|██████████| 3125/3125 [01:16<00:00, 40.65it/s]\n",
      "  0%|          | 5/3125 [00:00<01:16, 40.84it/s]"
     ]
    },
    {
     "name": "stdout",
     "output_type": "stream",
     "text": [
      "epoch 4 train loss 0.7942027545738221\n",
      "val loss 0.6627241373062134 mape 7.2863898277282715\n"
     ]
    },
    {
     "name": "stderr",
     "output_type": "stream",
     "text": [
      "100%|██████████| 3125/3125 [01:16<00:00, 40.63it/s]\n",
      "  0%|          | 5/3125 [00:00<01:16, 40.72it/s]"
     ]
    },
    {
     "name": "stdout",
     "output_type": "stream",
     "text": [
      "epoch 5 train loss 0.7963068706035614\n",
      "val loss 0.7665521502494812 mape 5.043230056762695\n"
     ]
    },
    {
     "name": "stderr",
     "output_type": "stream",
     "text": [
      "100%|██████████| 3125/3125 [01:16<00:00, 40.71it/s]\n",
      "  0%|          | 5/3125 [00:00<01:17, 40.37it/s]"
     ]
    },
    {
     "name": "stdout",
     "output_type": "stream",
     "text": [
      "epoch 6 train loss 0.7858700416946411\n",
      "val loss 0.753311276435852 mape 7.89087438583374\n"
     ]
    },
    {
     "name": "stderr",
     "output_type": "stream",
     "text": [
      "100%|██████████| 3125/3125 [01:16<00:00, 40.75it/s]\n",
      "  0%|          | 5/3125 [00:00<01:17, 40.26it/s]"
     ]
    },
    {
     "name": "stdout",
     "output_type": "stream",
     "text": [
      "epoch 7 train loss 0.7017468606472015\n",
      "val loss 0.6210377812385559 mape 6.1790771484375\n"
     ]
    },
    {
     "name": "stderr",
     "output_type": "stream",
     "text": [
      "100%|██████████| 3125/3125 [01:16<00:00, 40.72it/s]\n",
      "  0%|          | 5/3125 [00:00<01:16, 40.62it/s]"
     ]
    },
    {
     "name": "stdout",
     "output_type": "stream",
     "text": [
      "epoch 8 train loss 0.7098293927574157\n",
      "val loss 0.8244251608848572 mape 5.569921016693115\n"
     ]
    },
    {
     "name": "stderr",
     "output_type": "stream",
     "text": [
      "100%|██████████| 3125/3125 [01:16<00:00, 40.59it/s]\n",
      "  0%|          | 4/3125 [00:00<01:18, 39.84it/s]"
     ]
    },
    {
     "name": "stdout",
     "output_type": "stream",
     "text": [
      "epoch 9 train loss 0.7378943490219116\n",
      "val loss 0.7090706825256348 mape 6.251753807067871\n"
     ]
    },
    {
     "name": "stderr",
     "output_type": "stream",
     "text": [
      "100%|██████████| 3125/3125 [01:16<00:00, 40.70it/s]\n",
      "  0%|          | 5/3125 [00:00<01:15, 41.46it/s]"
     ]
    },
    {
     "name": "stdout",
     "output_type": "stream",
     "text": [
      "epoch 10 train loss 0.7085573669528962\n",
      "val loss 0.715303361415863 mape 5.66660737991333\n"
     ]
    },
    {
     "name": "stderr",
     "output_type": "stream",
     "text": [
      "100%|██████████| 3125/3125 [01:16<00:00, 40.74it/s]\n",
      "  0%|          | 4/3125 [00:00<01:18, 39.60it/s]"
     ]
    },
    {
     "name": "stdout",
     "output_type": "stream",
     "text": [
      "epoch 11 train loss 0.7718796874904632\n",
      "val loss 0.738574743270874 mape 5.616679668426514\n"
     ]
    },
    {
     "name": "stderr",
     "output_type": "stream",
     "text": [
      "100%|██████████| 3125/3125 [01:16<00:00, 40.75it/s]\n",
      "  0%|          | 4/3125 [00:00<01:18, 39.84it/s]"
     ]
    },
    {
     "name": "stdout",
     "output_type": "stream",
     "text": [
      "epoch 12 train loss 0.7489696241378784\n",
      "val loss 0.7558454275131226 mape 6.857264041900635\n"
     ]
    },
    {
     "name": "stderr",
     "output_type": "stream",
     "text": [
      "100%|██████████| 3125/3125 [01:16<00:00, 40.67it/s]\n",
      "  0%|          | 5/3125 [00:00<01:17, 40.44it/s]"
     ]
    },
    {
     "name": "stdout",
     "output_type": "stream",
     "text": [
      "epoch 13 train loss 0.7277078415870667\n",
      "val loss 0.7436453104019165 mape 7.733240604400635\n"
     ]
    },
    {
     "name": "stderr",
     "output_type": "stream",
     "text": [
      "100%|██████████| 3125/3125 [01:16<00:00, 40.63it/s]\n",
      "  0%|          | 5/3125 [00:00<01:16, 40.60it/s]"
     ]
    },
    {
     "name": "stdout",
     "output_type": "stream",
     "text": [
      "epoch 14 train loss 0.6856190294361114\n",
      "val loss 0.6502171158790588 mape 8.388673782348633\n"
     ]
    },
    {
     "name": "stderr",
     "output_type": "stream",
     "text": [
      "100%|██████████| 3125/3125 [01:16<00:00, 40.71it/s]\n",
      "  0%|          | 4/3125 [00:00<01:18, 39.61it/s]"
     ]
    },
    {
     "name": "stdout",
     "output_type": "stream",
     "text": [
      "epoch 15 train loss 0.7184099911785126\n",
      "val loss 0.6706249117851257 mape 7.7980637550354\n"
     ]
    },
    {
     "name": "stderr",
     "output_type": "stream",
     "text": [
      "100%|██████████| 3125/3125 [01:16<00:00, 40.72it/s]\n",
      "  0%|          | 5/3125 [00:00<01:15, 41.53it/s]"
     ]
    },
    {
     "name": "stdout",
     "output_type": "stream",
     "text": [
      "epoch 16 train loss 0.6573850807571411\n",
      "val loss 0.644086480140686 mape 6.968175411224365\n"
     ]
    },
    {
     "name": "stderr",
     "output_type": "stream",
     "text": [
      "100%|██████████| 3125/3125 [01:16<00:00, 40.77it/s]\n",
      "  0%|          | 5/3125 [00:00<01:15, 41.11it/s]"
     ]
    },
    {
     "name": "stdout",
     "output_type": "stream",
     "text": [
      "epoch 17 train loss 0.7083587702465057\n",
      "val loss 0.7995365262031555 mape 4.021696090698242\n"
     ]
    },
    {
     "name": "stderr",
     "output_type": "stream",
     "text": [
      "100%|██████████| 3125/3125 [01:16<00:00, 40.77it/s]\n",
      "  0%|          | 5/3125 [00:00<01:17, 40.38it/s]"
     ]
    },
    {
     "name": "stdout",
     "output_type": "stream",
     "text": [
      "epoch 18 train loss 0.8105020887374877\n",
      "val loss 0.9992952346801758 mape 2.0235278606414795\n"
     ]
    },
    {
     "name": "stderr",
     "output_type": "stream",
     "text": [
      "100%|██████████| 3125/3125 [01:16<00:00, 40.66it/s]\n",
      "  0%|          | 5/3125 [00:00<01:17, 40.48it/s]"
     ]
    },
    {
     "name": "stdout",
     "output_type": "stream",
     "text": [
      "epoch 19 train loss 0.740357574672699\n",
      "val loss 0.817748486995697 mape 5.904679775238037\n"
     ]
    },
    {
     "name": "stderr",
     "output_type": "stream",
     "text": [
      "100%|██████████| 3125/3125 [01:16<00:00, 40.66it/s]\n",
      "  0%|          | 5/3125 [00:00<01:17, 40.24it/s]"
     ]
    },
    {
     "name": "stdout",
     "output_type": "stream",
     "text": [
      "epoch 20 train loss 0.7343774442577362\n",
      "val loss 0.9686028957366943 mape 6.035130977630615\n"
     ]
    },
    {
     "name": "stderr",
     "output_type": "stream",
     "text": [
      "100%|██████████| 3125/3125 [01:16<00:00, 40.70it/s]\n",
      "  0%|          | 5/3125 [00:00<01:17, 40.08it/s]"
     ]
    },
    {
     "name": "stdout",
     "output_type": "stream",
     "text": [
      "epoch 21 train loss 0.7936062559604645\n",
      "val loss 0.6680626273155212 mape 4.925102710723877\n"
     ]
    },
    {
     "name": "stderr",
     "output_type": "stream",
     "text": [
      "100%|██████████| 3125/3125 [01:16<00:00, 40.62it/s]\n",
      "  0%|          | 5/3125 [00:00<01:16, 40.99it/s]"
     ]
    },
    {
     "name": "stdout",
     "output_type": "stream",
     "text": [
      "epoch 22 train loss 0.6904157584953308\n",
      "val loss 0.6492343544960022 mape 6.287962913513184\n"
     ]
    },
    {
     "name": "stderr",
     "output_type": "stream",
     "text": [
      "100%|██████████| 3125/3125 [01:16<00:00, 40.75it/s]\n",
      "  0%|          | 5/3125 [00:00<01:16, 40.57it/s]"
     ]
    },
    {
     "name": "stdout",
     "output_type": "stream",
     "text": [
      "epoch 23 train loss 0.7190091463851929\n",
      "val loss 0.6326741576194763 mape 6.031859874725342\n"
     ]
    },
    {
     "name": "stderr",
     "output_type": "stream",
     "text": [
      "100%|██████████| 3125/3125 [01:16<00:00, 40.74it/s]\n",
      "  0%|          | 5/3125 [00:00<01:16, 40.74it/s]"
     ]
    },
    {
     "name": "stdout",
     "output_type": "stream",
     "text": [
      "epoch 24 train loss 0.659791591463089\n",
      "val loss 0.6411510705947876 mape 6.436651706695557\n"
     ]
    },
    {
     "name": "stderr",
     "output_type": "stream",
     "text": [
      "100%|██████████| 3125/3125 [01:16<00:00, 40.71it/s]\n",
      "  0%|          | 4/3125 [00:00<01:19, 39.17it/s]"
     ]
    },
    {
     "name": "stdout",
     "output_type": "stream",
     "text": [
      "epoch 25 train loss 0.7040143634796142\n",
      "val loss 0.6675665378570557 mape 5.066799640655518\n"
     ]
    },
    {
     "name": "stderr",
     "output_type": "stream",
     "text": [
      "100%|██████████| 3125/3125 [01:16<00:00, 40.68it/s]\n",
      "  0%|          | 5/3125 [00:00<01:17, 40.16it/s]"
     ]
    },
    {
     "name": "stdout",
     "output_type": "stream",
     "text": [
      "epoch 26 train loss 0.7113832732963562\n",
      "val loss 0.7859556078910828 mape 5.703000545501709\n"
     ]
    },
    {
     "name": "stderr",
     "output_type": "stream",
     "text": [
      "100%|██████████| 3125/3125 [01:16<00:00, 40.68it/s]\n",
      "  0%|          | 4/3125 [00:00<01:18, 39.64it/s]"
     ]
    },
    {
     "name": "stdout",
     "output_type": "stream",
     "text": [
      "epoch 27 train loss 0.666864203414917\n",
      "val loss 0.6210024952888489 mape 7.395334720611572\n"
     ]
    },
    {
     "name": "stderr",
     "output_type": "stream",
     "text": [
      "100%|██████████| 3125/3125 [01:16<00:00, 40.67it/s]\n",
      "  0%|          | 5/3125 [00:00<01:16, 40.52it/s]"
     ]
    },
    {
     "name": "stdout",
     "output_type": "stream",
     "text": [
      "epoch 28 train loss 0.7479182171344757\n",
      "val loss 0.7872962951660156 mape 5.92910099029541\n"
     ]
    },
    {
     "name": "stderr",
     "output_type": "stream",
     "text": [
      "100%|██████████| 3125/3125 [01:16<00:00, 40.65it/s]\n",
      "  0%|          | 4/3125 [00:00<01:18, 39.98it/s]"
     ]
    },
    {
     "name": "stdout",
     "output_type": "stream",
     "text": [
      "epoch 29 train loss 0.7469171095943451\n",
      "val loss 0.6853044629096985 mape 5.446178436279297\n"
     ]
    },
    {
     "name": "stderr",
     "output_type": "stream",
     "text": [
      "100%|██████████| 3125/3125 [01:16<00:00, 40.67it/s]\n",
      "  0%|          | 5/3125 [00:00<01:15, 41.07it/s]"
     ]
    },
    {
     "name": "stdout",
     "output_type": "stream",
     "text": [
      "epoch 30 train loss 0.7363973544311524\n",
      "val loss 0.7439646124839783 mape 3.336505889892578\n"
     ]
    },
    {
     "name": "stderr",
     "output_type": "stream",
     "text": [
      "100%|██████████| 3125/3125 [01:16<00:00, 40.62it/s]\n",
      "  0%|          | 4/3125 [00:00<01:18, 39.96it/s]"
     ]
    },
    {
     "name": "stdout",
     "output_type": "stream",
     "text": [
      "epoch 31 train loss 0.6905043334197998\n",
      "val loss 0.6677132844924927 mape 7.2294416427612305\n"
     ]
    },
    {
     "name": "stderr",
     "output_type": "stream",
     "text": [
      "100%|██████████| 3125/3125 [01:16<00:00, 40.69it/s]\n",
      "  0%|          | 5/3125 [00:00<01:17, 40.36it/s]"
     ]
    },
    {
     "name": "stdout",
     "output_type": "stream",
     "text": [
      "epoch 32 train loss 0.6548959655761719\n",
      "val loss 0.6242517828941345 mape 5.470431327819824\n"
     ]
    },
    {
     "name": "stderr",
     "output_type": "stream",
     "text": [
      "100%|██████████| 3125/3125 [01:16<00:00, 40.71it/s]\n",
      "  0%|          | 5/3125 [00:00<01:16, 40.79it/s]"
     ]
    },
    {
     "name": "stdout",
     "output_type": "stream",
     "text": [
      "epoch 33 train loss 0.672636197271347\n",
      "val loss 0.6213476657867432 mape 7.318080425262451\n"
     ]
    },
    {
     "name": "stderr",
     "output_type": "stream",
     "text": [
      "100%|██████████| 3125/3125 [01:16<00:00, 40.72it/s]\n",
      "  0%|          | 5/3125 [00:00<01:15, 41.19it/s]"
     ]
    },
    {
     "name": "stdout",
     "output_type": "stream",
     "text": [
      "epoch 34 train loss 0.6395590597248078\n",
      "val loss 0.6619354486465454 mape 5.7846598625183105\n"
     ]
    },
    {
     "name": "stderr",
     "output_type": "stream",
     "text": [
      "100%|██████████| 3125/3125 [01:16<00:00, 40.74it/s]\n",
      "  0%|          | 5/3125 [00:00<01:16, 40.84it/s]"
     ]
    },
    {
     "name": "stdout",
     "output_type": "stream",
     "text": [
      "epoch 35 train loss 0.7339593281173706\n",
      "val loss 0.6841713190078735 mape 6.101506233215332\n"
     ]
    },
    {
     "name": "stderr",
     "output_type": "stream",
     "text": [
      "100%|██████████| 3125/3125 [01:16<00:00, 40.70it/s]\n",
      "  0%|          | 4/3125 [00:00<01:18, 39.81it/s]"
     ]
    },
    {
     "name": "stdout",
     "output_type": "stream",
     "text": [
      "epoch 36 train loss 0.7461982525062562\n",
      "val loss 0.6755810976028442 mape 5.812094211578369\n"
     ]
    },
    {
     "name": "stderr",
     "output_type": "stream",
     "text": [
      "100%|██████████| 3125/3125 [01:16<00:00, 40.74it/s]\n",
      "  0%|          | 4/3125 [00:00<01:18, 39.85it/s]"
     ]
    },
    {
     "name": "stdout",
     "output_type": "stream",
     "text": [
      "epoch 37 train loss 0.7218283594894409\n",
      "val loss 0.6863355040550232 mape 4.97654390335083\n"
     ]
    },
    {
     "name": "stderr",
     "output_type": "stream",
     "text": [
      " 28%|██▊       | 890/3125 [00:21<00:55, 40.47it/s]"
     ]
    }
   ],
   "source": [
    "# training & validation\n",
    "lrate = 3e-4\n",
    "wdecay = 4e-3 #TODO: increase\n",
    "repulsion_w = 1e-5\n",
    "\n",
    "num_epoch = 100\n",
    "batch_size = 32\n",
    "\n",
    "nTrain, nValid, nTest = 100000, 5000, 5000\n",
    "print(nTrain, nValid, nTest)\n",
    "xTrain = x[:nTrain]\n",
    "xValid = x[nTrain:nTrain+nValid]\n",
    "\n",
    "yTrain = y[:nTrain]\n",
    "yValid = y[nTrain:nTrain+nValid]\n",
    "\n",
    "if not os.path.isfile(model_name) or 'train_loss' not in locals():\n",
    "    train_loss = []\n",
    "    val_loss = []\n",
    "min_val_loss = 1000\n",
    "obj = nn.MSELoss()\n",
    "for e in range(num_epoch):\n",
    "#     if e%50 == 0 and e>0:\n",
    "#         lrate = lrate * 0.8\n",
    "#     optimizer = SGD(model.parameters(), lr=lrate, weight_decay=wdecay, momentum=0.9, beta=1e-2)\n",
    "    optimizer = optim.Adam(model.parameters(), lr=lrate, weight_decay=wdecay)\n",
    "    \n",
    "    # train part\n",
    "    model.train()\n",
    "    # shuffle\n",
    "    xTrain, yTrain = shuffle(xTrain, yTrain)\n",
    "    cur_loss = []\n",
    "    for i in tqdm(range(nTrain//batch_size)):\n",
    "        batch_in = xTrain[i*batch_size:(i+1)*batch_size]\n",
    "        batch_gt = yTrain[i*batch_size:(i+1)*batch_size]#[:,:,0:1]\n",
    "\n",
    "        out = model(batch_in)\n",
    "        loss = obj(out, batch_gt) + repulsion_w*clipped_repulsion(out)\n",
    "        cur_loss.append(loss.item())\n",
    "        \n",
    "#         if i%150 == 0:\n",
    "#             print(i, 'loss', loss.item(), 'mape', util.masked_mape(out, batch_gt,0).item())\n",
    "        \n",
    "        optimizer.zero_grad()\n",
    "        loss.backward()\n",
    "        optimizer.step()\n",
    "\n",
    "    train_loss.append(np.mean(cur_loss))\n",
    "    print('epoch',e, 'train loss', np.mean(cur_loss))\n",
    "    # validate each epoch\n",
    "    model.eval()\n",
    "    with torch.no_grad():\n",
    "        out = model(xValid)\n",
    "#     loss = obj(out, yValid[:,:,0:1])\n",
    "    loss = obj(out, yValid) + repulsion_w*clipped_repulsion(out)\n",
    "    val_loss.append(loss.item())\n",
    "    if loss.item() < min_val_loss:\n",
    "        min_val_loss = loss.item()\n",
    "        torch.save(model.state_dict(), model_name)\n",
    "    print('val loss', loss.item(), 'mape', util.masked_mape(out, yValid,0).item())\n"
   ]
  },
  {
   "cell_type": "code",
   "execution_count": null,
   "metadata": {},
   "outputs": [],
   "source": [
    "plt.plot(train_loss, label='train')\n",
    "plt.plot(val_loss, label='val')\n",
    "plt.legend()\n",
    "plt.show()"
   ]
  },
  {
   "cell_type": "code",
   "execution_count": 9,
   "metadata": {},
   "outputs": [
    {
     "data": {
      "image/png": "[encoded data removed]",
      "text/plain": [
       "<Figure size 432x288 with 1 Axes>"
      ]
     },
     "metadata": {
      "needs_background": "light"
     },
     "output_type": "display_data"
    },
    {
     "name": "stdout",
     "output_type": "stream",
     "text": [
      "torch.Size([5000, 10]) torch.Size([5000, 10])\n",
      "mape: -0.6470624208450317 cc 0.6627459712539692\n"
     ]
    },
    {
     "data": {
      "image/png": "[encoded data removed]",
      "text/plain": [
       "<Figure size 1152x720 with 20 Axes>"
      ]
     },
     "metadata": {
      "needs_background": "light"
     },
     "output_type": "display_data"
    }
   ],
   "source": [
    "# test\n",
    "yTest = y[-nTest:].squeeze()\n",
    "xTest = x[-nTest:]\n",
    "\n",
    "model.eval()\n",
    "with torch.no_grad():\n",
    "    test_out = model(xTest, viz=True).squeeze()\n",
    "\n",
    "print(yTest.shape, test_out.shape)\n",
    "print('mape:', util.masked_mape(test_out, yTest,0).item(), 'cc', util.get_cc(test_out, yTest)[0])\n",
    "\n",
    "i_num = 4\n",
    "j_num = 5\n",
    "plt.figure(figsize=(16,10))\n",
    "for i in range(i_num):\n",
    "    for j in range(j_num):\n",
    "        k = i*j_num+j+1\n",
    "#         print(k)\n",
    "        plt.subplot(i_num, j_num, k)\n",
    "        plt.plot(yTest[k+50].detach().cpu().numpy(), color='g')\n",
    "        plt.plot(test_out[k+50].detach().cpu().numpy(), color='r')\n",
    "plt.show()"
   ]
  },
  {
   "cell_type": "markdown",
   "metadata": {},
   "source": [
    "## s-t combined"
   ]
  },
  {
   "cell_type": "code",
   "execution_count": 36,
   "metadata": {},
   "outputs": [],
   "source": [
    "# in-out data\n",
    "x = torch.tensor(x).to(device)\n",
    "y = torch.tensor(y).to(device)"
   ]
  },
  {
   "cell_type": "code",
   "execution_count": 41,
   "metadata": {},
   "outputs": [],
   "source": [
    "supports = []\n",
    "for i in range(len(adjs[0])):\n",
    "    cur_s = [torch.tensor(adj[0]).to(device) for adj in adjs]\n",
    "    cur_s = torch.stack(cur_s)\n",
    "    supports.append(cur_s)"
   ]
  },
  {
   "cell_type": "code",
   "execution_count": 55,
   "metadata": {},
   "outputs": [
    {
     "data": {
      "text/plain": [
       "gwnet_diff_G_Fonly(\n",
       "  (filter_convs): ModuleList(\n",
       "    (0): Conv1d(32, 32, kernel_size=(1, 2), stride=(1,), padding=(0, 1))\n",
       "    (1): Conv1d(32, 32, kernel_size=(1, 2), stride=(1,), padding=(0, 2), dilation=(1, 2))\n",
       "    (2): Conv1d(32, 32, kernel_size=(1, 2), stride=(1,), padding=(0, 1))\n",
       "    (3): Conv1d(32, 32, kernel_size=(1, 2), stride=(1,), padding=(0, 2), dilation=(1, 2))\n",
       "    (4): Conv1d(32, 32, kernel_size=(1, 2), stride=(1,), padding=(0, 1))\n",
       "    (5): Conv1d(32, 32, kernel_size=(1, 2), stride=(1,), padding=(0, 2), dilation=(1, 2))\n",
       "  )\n",
       "  (gate_convs): ModuleList(\n",
       "    (0): Conv1d(32, 32, kernel_size=(1, 2), stride=(1,), padding=(0, 1))\n",
       "    (1): Conv1d(32, 32, kernel_size=(1, 2), stride=(1,), padding=(0, 2), dilation=(1, 2))\n",
       "    (2): Conv1d(32, 32, kernel_size=(1, 2), stride=(1,), padding=(0, 1))\n",
       "    (3): Conv1d(32, 32, kernel_size=(1, 2), stride=(1,), padding=(0, 2), dilation=(1, 2))\n",
       "    (4): Conv1d(32, 32, kernel_size=(1, 2), stride=(1,), padding=(0, 1))\n",
       "    (5): Conv1d(32, 32, kernel_size=(1, 2), stride=(1,), padding=(0, 2), dilation=(1, 2))\n",
       "  )\n",
       "  (residual_convs): ModuleList(\n",
       "    (0): Conv2d(32, 32, kernel_size=(1, 1), stride=(1, 1))\n",
       "    (1): Conv2d(32, 32, kernel_size=(1, 1), stride=(1, 1))\n",
       "    (2): Conv2d(32, 32, kernel_size=(1, 1), stride=(1, 1))\n",
       "    (3): Conv2d(32, 32, kernel_size=(1, 1), stride=(1, 1))\n",
       "    (4): Conv2d(32, 32, kernel_size=(1, 1), stride=(1, 1))\n",
       "    (5): Conv2d(32, 32, kernel_size=(1, 1), stride=(1, 1))\n",
       "  )\n",
       "  (skip_convs): ModuleList(\n",
       "    (0): Conv2d(32, 256, kernel_size=(1, 1), stride=(1, 1))\n",
       "    (1): Conv2d(32, 256, kernel_size=(1, 1), stride=(1, 1))\n",
       "    (2): Conv2d(32, 256, kernel_size=(1, 1), stride=(1, 1))\n",
       "    (3): Conv2d(32, 256, kernel_size=(1, 1), stride=(1, 1))\n",
       "    (4): Conv2d(32, 256, kernel_size=(1, 1), stride=(1, 1))\n",
       "    (5): Conv2d(32, 256, kernel_size=(1, 1), stride=(1, 1))\n",
       "  )\n",
       "  (bn): ModuleList(\n",
       "    (0): BatchNorm2d(32, eps=1e-05, momentum=0.1, affine=True, track_running_stats=True)\n",
       "    (1): BatchNorm2d(32, eps=1e-05, momentum=0.1, affine=True, track_running_stats=True)\n",
       "    (2): BatchNorm2d(32, eps=1e-05, momentum=0.1, affine=True, track_running_stats=True)\n",
       "    (3): BatchNorm2d(32, eps=1e-05, momentum=0.1, affine=True, track_running_stats=True)\n",
       "    (4): BatchNorm2d(32, eps=1e-05, momentum=0.1, affine=True, track_running_stats=True)\n",
       "    (5): BatchNorm2d(32, eps=1e-05, momentum=0.1, affine=True, track_running_stats=True)\n",
       "  )\n",
       "  (gconv): ModuleList(\n",
       "    (0): gcn2(\n",
       "      (nconv): nconv2()\n",
       "      (mlp): linear(\n",
       "        (mlp): Conv2d(160, 32, kernel_size=(1, 1), stride=(1, 1))\n",
       "      )\n",
       "    )\n",
       "    (1): gcn2(\n",
       "      (nconv): nconv2()\n",
       "      (mlp): linear(\n",
       "        (mlp): Conv2d(160, 32, kernel_size=(1, 1), stride=(1, 1))\n",
       "      )\n",
       "    )\n",
       "    (2): gcn2(\n",
       "      (nconv): nconv2()\n",
       "      (mlp): linear(\n",
       "        (mlp): Conv2d(160, 32, kernel_size=(1, 1), stride=(1, 1))\n",
       "      )\n",
       "    )\n",
       "    (3): gcn2(\n",
       "      (nconv): nconv2()\n",
       "      (mlp): linear(\n",
       "        (mlp): Conv2d(160, 32, kernel_size=(1, 1), stride=(1, 1))\n",
       "      )\n",
       "    )\n",
       "    (4): gcn2(\n",
       "      (nconv): nconv2()\n",
       "      (mlp): linear(\n",
       "        (mlp): Conv2d(160, 32, kernel_size=(1, 1), stride=(1, 1))\n",
       "      )\n",
       "    )\n",
       "    (5): gcn2(\n",
       "      (nconv): nconv2()\n",
       "      (mlp): linear(\n",
       "        (mlp): Conv2d(160, 32, kernel_size=(1, 1), stride=(1, 1))\n",
       "      )\n",
       "    )\n",
       "  )\n",
       "  (start_conv): Conv2d(1, 32, kernel_size=(1, 1), stride=(1, 1))\n",
       "  (end_conv_1): Conv2d(256, 128, kernel_size=(1, 1), stride=(1, 1))\n",
       "  (end_conv_2): Conv2d(128, 10, kernel_size=(1, 1), stride=(1, 1))\n",
       ")"
      ]
     },
     "execution_count": 55,
     "metadata": {},
     "output_type": "execute_result"
    }
   ],
   "source": [
    "class nconv2(nn.Module):\n",
    "    def __init__(self):\n",
    "        super(nconv2,self).__init__()\n",
    "\n",
    "    def forward(self,x, A):\n",
    "        ### we want: (Ax^T)^T for A's 1,2 channel & x's 1,2 channel == xA^T\n",
    "        # x = torch.einsum('ncvl,nvw->ncwl',(x,torch.transpose(A, -1, -2)+torch.eye(len(A[0]))[None,...].repeat(len(A),1,1).to(A.device))) # nothing wrong... emm\n",
    "        x = torch.einsum('ncvl,nvw->ncwl',(x,torch.transpose(A, -1, -2))) #this one's [0,...,0] == torch.matmul(x[0,...,0], A[0])\n",
    "        # x = torch.einsum('ncwl,nvw->ncvl',(x,A)) #this one's [0,0] == torch.matmul(A[0], x[0,0]))\n",
    "        return x.contiguous()\n",
    "\n",
    "class linear(nn.Module):\n",
    "    def __init__(self,c_in,c_out):\n",
    "        super(linear,self).__init__()\n",
    "        self.mlp = torch.nn.Conv2d(c_in, c_out, kernel_size=(1, 1), padding=(0,0), stride=(1,1), bias=True)\n",
    "\n",
    "    def forward(self,x):\n",
    "        return self.mlp(x)\n",
    "\n",
    "class gcn2(nn.Module):\n",
    "    def __init__(self,c_in,c_out,dropout,support_len=3,order=2):\n",
    "        super(gcn2,self).__init__()\n",
    "        self.nconv = nconv2()\n",
    "        c_in = (order*support_len+1)*c_in #(2*3+1)*32=224\n",
    "        self.mlp = linear(c_in,c_out)\n",
    "        self.dropout = dropout\n",
    "        self.order = order\n",
    "\n",
    "    def forward(self,x, dummy_tensor, *support):\n",
    "        out = [x]\n",
    "        for a in support:\n",
    "            # a: [64, 80, 80], x:[64, 32, 80, 15]\n",
    "            x1 = self.nconv(x,a)\n",
    "            out.append(x1)\n",
    "            for k in range(2, self.order + 1): # k-hop, diffuse one more time per loop\n",
    "                x2 = F.relu(self.nconv(x1,a))\n",
    "                out.append(x2)\n",
    "                x1 = x2\n",
    "        # len(out)=order*support_len+1 (7); each:[64, 32, 80, 15]\n",
    "        h = torch.cat(out,dim=1)\n",
    "        h = self.mlp(h)\n",
    "        h = F.dropout(h, self.dropout, training=self.training)\n",
    "        return h\n",
    "\n",
    "def CausalConv2d(in_channels, out_channels, kernel_size, dilation=(1,1), **kwargs):\n",
    "    pad = (kernel_size[1] - 1) * dilation[1]\n",
    "    return nn.Conv1d(in_channels, out_channels, kernel_size, padding=(0,pad), dilation=dilation, **kwargs)\n",
    "\n",
    "\n",
    "class gwnet_diff_G_Fonly(nn.Module):\n",
    "    def __init__(self, device, num_nodes, dropout=0.3, supports_len=2, batch_size=32,\n",
    "                gcn_bool=True, addaptadj=True, in_dim=1, out_dim_f=10,\n",
    "                residual_channels=32, dilation_channels=32, skip_channels=256,\n",
    "                end_channels=512, kernel_size=2, blocks=3, layers=2):\n",
    "\n",
    "        super(gwnet_diff_G_Fonly, self).__init__()\n",
    "        self.dropout = dropout\n",
    "        self.blocks = blocks\n",
    "        self.layers = layers\n",
    "        self.gcn_bool = gcn_bool\n",
    "        self.addaptadj = addaptadj\n",
    "        self.device = device\n",
    "        self.num_nodes = num_nodes\n",
    "\n",
    "        self.filter_convs = nn.ModuleList()\n",
    "        self.gate_convs = nn.ModuleList()\n",
    "        self.residual_convs = nn.ModuleList()\n",
    "        self.skip_convs = nn.ModuleList()\n",
    "        self.bn = nn.ModuleList()\n",
    "        self.gconv = nn.ModuleList()\n",
    "        self.dummy_tensor = torch.ones(1, dtype=torch.float32, requires_grad=True)\n",
    "        \n",
    "        if self.gcn_bool and self.addaptadj:\n",
    "            '''If different samples have different supports, theres no way to \n",
    "            init nodevec using supports info...'''\n",
    "            # if aptinit is None:\n",
    "            self.nodevec = nn.Parameter(torch.randn(10, 10).to(self.device), \n",
    "                                    requires_grad=True).to(self.device)\n",
    "\n",
    "            # else:\n",
    "            #     ipdb.set_trace()\n",
    "            #     m, p, n = torch.svd(aptinit)\n",
    "            #     _p = torch.diag_embed(p[:, :10] ** 0.5)\n",
    "            #     initemb1 = torch.bmm(m[:, :, :10], _p)\n",
    "            #     initemb2 = torch.bmm(_p, torch.transpose(n[:, :, :10], 1, 2))\n",
    "            #     self.nodevec1 = nn.Parameter(initemb1, requires_grad=True).to(self.device)\n",
    "            #     self.nodevec2 = nn.Parameter(initemb2, requires_grad=True).to(self.device)\n",
    "\n",
    "        self.start_conv = nn.Conv2d(in_channels=in_dim,\n",
    "                                    out_channels=residual_channels,\n",
    "                                    kernel_size=(1,1))\n",
    "\n",
    "        receptive_field = 1\n",
    "        multi_factor = kernel_size #2\n",
    "        for b in range(blocks):\n",
    "            additional_scope = kernel_size - 1\n",
    "            new_dilation = 1 #4\n",
    "            for i in range(layers):\n",
    "                # dilated convolutions\n",
    "                # TODO: change kernel_size and stride\n",
    "                self.filter_convs.append(CausalConv2d(in_channels=residual_channels,\n",
    "                                                   out_channels=dilation_channels,\n",
    "                                                   kernel_size=(1,kernel_size),\n",
    "                                                   # stride=(1,2),\n",
    "                                                   dilation=(1,new_dilation)))\n",
    "\n",
    "                self.gate_convs.append(CausalConv2d(in_channels=residual_channels,\n",
    "                                                 out_channels=dilation_channels,\n",
    "                                                 kernel_size=(1, kernel_size), \n",
    "                                                 # stride=(1,2),\n",
    "                                                 dilation=(1,new_dilation)))\n",
    "\n",
    "                # 1x1 convolution for residual connection\n",
    "                self.residual_convs.append(nn.Conv2d(in_channels=dilation_channels,\n",
    "                                                     out_channels=residual_channels,\n",
    "                                                     kernel_size=(1, 1)))\n",
    "\n",
    "                # 1x1 convolution for skip connection\n",
    "                self.skip_convs.append(nn.Conv2d(in_channels=dilation_channels,\n",
    "                                                 out_channels=skip_channels,\n",
    "                                                 kernel_size=(1, 1)))\n",
    "                self.bn.append(nn.BatchNorm2d(residual_channels))\n",
    "                new_dilation *= multi_factor\n",
    "                receptive_field += additional_scope\n",
    "                additional_scope *= multi_factor\n",
    "                if self.gcn_bool:\n",
    "                    self.gconv.append(gcn2(dilation_channels, residual_channels, dropout,\n",
    "                                                              support_len=supports_len))\n",
    "\n",
    "\n",
    "\n",
    "        # self.end_conv_1 = nn.Conv2d(in_channels=skip_channels,\n",
    "        #                           out_channels=end_channels,\n",
    "        #                           kernel_size=(1,1),\n",
    "        #                           bias=True)\n",
    "\n",
    "        # self.end_conv_2 = nn.Conv2d(in_channels=end_channels,\n",
    "        #                             out_channels=out_dim_f,\n",
    "        #                             kernel_size=(1,1),\n",
    "        #                             bias=True)\n",
    "\n",
    "        self.end_conv_1 = nn.Conv2d(skip_channels, skip_channels//2, 1, bias=True)\n",
    "        self.end_conv_2 = nn.Conv2d(skip_channels//2, out_dim_f, 1, bias=True)\n",
    "#         self.end_conv_3 = nn.Conv2d(out_dim_f, 1, 1, bias=True)\n",
    "\n",
    "        self.receptive_field = receptive_field\n",
    "\n",
    "    def forward(self, input, supports=None, aptinit=None, viz=False):\n",
    "        # inputs: [batch_size, 1, num_nodes, in_len+1], supports: len 2, each (batch_size, num_nodes, num_nodes)\n",
    "        if self.gcn_bool and self.addaptadj:\n",
    "            if supports is None:\n",
    "                supports = []\n",
    "        ### normal forward\n",
    "        # print(self.receptive_field)\n",
    "        # in_len = input.size(3)\n",
    "        # if in_len<self.receptive_field:\n",
    "        #     x = nn.functional.pad(input,(self.receptive_field-in_len,0,0,0))\n",
    "        # else:\n",
    "        #     x = input\n",
    "        # x = self.start_conv(x)\n",
    "        x = self.start_conv(input)\n",
    "        skip = 0\n",
    "\n",
    "        # calculate the current adaptive adj matrix once per iteration\n",
    "        new_supports = None\n",
    "        if self.gcn_bool and self.addaptadj:\n",
    "            nodevec = torch.einsum('ncl,lv->ncv', (input[:,0,...],self.nodevec))\n",
    "            adp = F.softmax(F.relu(torch.matmul(nodevec, nodevec.transpose(1,2))), dim=2)\n",
    "            # if viz:\n",
    "            #     ipdb.set_trace()\n",
    "            #     plt.imshow(adp[0].detach().cpu().numpy())\n",
    "            #     plt.show()\n",
    "            if len(supports) > 0:\n",
    "                new_supports = supports + [adp]\n",
    "            else:\n",
    "                new_supports = [adp]\n",
    "            del adp\n",
    "        # # WaveNet layers\n",
    "        # if viz:\n",
    "        #     tmp = x.detach().cpu().numpy()\n",
    "        #     for j in range(5):\n",
    "        #         plt.plot(tmp[0,:,j,4], label='4,'+str(j))\n",
    "        #         plt.plot(tmp[0,:,j,10], label='10,'+str(j))\n",
    "        #     plt.legend()\n",
    "        #     plt.title('after start_conv, before embedding layers')\n",
    "        #     plt.show()\n",
    "        for i in range(self.blocks * self.layers):       \n",
    "            # print(i, x.shape)\n",
    "            #            |----------------------------------------|     *residual*\n",
    "            #            |                                        |\n",
    "            #            |    |-- conv -- tanh --|                |\n",
    "            # -> dilate -|----|                  * ----|-- 1x1 -- + --> *input*\n",
    "            #                 |-- conv -- sigm --|     |\n",
    "            #                                         1x1\n",
    "            #                                          |\n",
    "            # ---------------------------------------> + -------------> *skip*\n",
    "\n",
    "            #(dilation, init_dilation) = self.dilations[i]\n",
    "\n",
    "            #residual = dilation_func(x, dilation, init_dilation, i)\n",
    "            residual = x #[batch_size, residual_dim, 80, 16]\n",
    "\n",
    "            # x = checkpoint(self.diconv(self.filter_convs[i], self.gate_convs[i]), residual, self.dummy_tensor)\n",
    "            # skip = checkpoint(self.skip_part(self.skip_convs[i], skip), x, self.dummy_tensor)\n",
    "\n",
    "            # x, skip = checkpoint(self.tcn(self.filter_convs[i], self.gate_convs[i],\n",
    "            #                     self.skip_convs[i], skip), residual, self.dummy_tensor)\n",
    "           \n",
    "            # dilated convolution\n",
    "            filter = self.filter_convs[i](residual)\n",
    "            filter = torch.tanh(filter[..., :-self.filter_convs[i].padding[1]])\n",
    "            gate = self.gate_convs[i](residual)\n",
    "            gate = torch.sigmoid(gate[..., :-self.gate_convs[i].padding[1]])\n",
    "            x = filter * gate\n",
    "            if i % self.layers == self.layers-1:\n",
    "                x = F.max_pool2d(x, (1,2))\n",
    "            # parametrized skip connection\n",
    "            s = x\n",
    "            s = self.skip_convs[i](s)\n",
    "            try:\n",
    "                if s.size(-1)*2 == skip.size(-1):\n",
    "                    skip = F.max_pool2d(skip,(1,2))\n",
    "                else:\n",
    "                    skip = skip[..., -s.size(-1):]\n",
    "            except:\n",
    "                skip = 0\n",
    "            skip = s + skip\n",
    "\n",
    "            t_rep = x\n",
    "\n",
    "            if self.gcn_bool:\n",
    "                if self.addaptadj:\n",
    "                    # x: [64, 32, 80, 15]\n",
    "                    x = self.gconv[i](x, self.dummy_tensor, *new_supports)\n",
    "                    # x = checkpoint(self.gconv[i], x, self.dummy_tensor, *new_supports)\n",
    "                else:\n",
    "                    assert supports is not None\n",
    "                    x = self.gconv[i](x, self.dummy_tensor, *supports)\n",
    "                    # x = checkpoint(self.gconv[i], x, self.dummy_tensor, *supports)\n",
    "            else:\n",
    "                x = self.residual_convs[i](x)\n",
    "                # x = checkpoint(self.residual_convs[i], x, self.dummy_tensor)\n",
    "\n",
    "            x = x + residual[..., -x.size(-1):]\n",
    "            # add t representation\n",
    "            # x = torch.cat([x, residual[:, :, :, -x.size(3):], t_rep], axis=1)\n",
    "            x = self.bn[i](x) #torch.Size([b, 32, 200, 15])\n",
    "\n",
    "        # if viz:\n",
    "        #     print(skip.shape)\n",
    "        #     for j in range(10):\n",
    "        #         plt.plot(tmp[0,:,j,0], label=str(j))\n",
    "        #     plt.legend()\n",
    "        #     plt.title('hidden rep')                \n",
    "        #     plt.show()\n",
    "\n",
    "        x = F.relu(skip)\n",
    "        x = F.relu(self.end_conv_1(x))\n",
    "        x = self.end_conv_2(x)\n",
    "#         x = self.end_conv_3(F.relu(x))\n",
    "        return x.transpose(1,2)\n",
    "    \n",
    "    \n",
    "model = gwnet_diff_G_Fonly(device, nNodes)\n",
    "model_name = 'garage/exp_st_syn.pth'\n",
    "\n",
    "model.to(device)"
   ]
  },
  {
   "cell_type": "code",
   "execution_count": null,
   "metadata": {},
   "outputs": [],
   "source": [
    "# load pretrained model\n",
    "if os.path.isfile(model_name):\n",
    "    # finetune\n",
    "    pretrained_dict = torch.load(model_name)\n",
    "    model_dict = model.state_dict()\n",
    "    pretrained_dict = {k: v for k, v in pretrained_dict.items() if k in model_dict}\n",
    "    model_dict.update(pretrained_dict) \n",
    "    model.load_state_dict(model_dict)\n",
    "nTrain, nValid, nTest = 100000, 5000, 5000    "
   ]
  },
  {
   "cell_type": "code",
   "execution_count": 57,
   "metadata": {},
   "outputs": [
    {
     "name": "stderr",
     "output_type": "stream",
     "text": [
      "  0%|          | 3/1410 [00:00<01:01, 23.03it/s]"
     ]
    },
    {
     "name": "stdout",
     "output_type": "stream",
     "text": [
      "45150 15050 15050\n"
     ]
    },
    {
     "name": "stderr",
     "output_type": "stream",
     "text": [
      "100%|██████████| 1410/1410 [00:53<00:00, 26.34it/s]\n",
      "  2%|▏         | 8/470 [00:00<00:05, 79.23it/s]"
     ]
    },
    {
     "name": "stdout",
     "output_type": "stream",
     "text": [
      "epoch 0 train loss 0.5573591420836482\n"
     ]
    },
    {
     "name": "stderr",
     "output_type": "stream",
     "text": [
      "100%|██████████| 470/470 [00:05<00:00, 80.52it/s]\n",
      "  0%|          | 3/1410 [00:00<00:51, 27.37it/s]"
     ]
    },
    {
     "name": "stdout",
     "output_type": "stream",
     "text": [
      "val loss 0.5380849437510714\n"
     ]
    },
    {
     "name": "stderr",
     "output_type": "stream",
     "text": [
      "100%|██████████| 1410/1410 [00:53<00:00, 26.21it/s]\n",
      "  2%|▏         | 8/470 [00:00<00:05, 77.65it/s]"
     ]
    },
    {
     "name": "stdout",
     "output_type": "stream",
     "text": [
      "epoch 1 train loss 0.5422302180993641\n"
     ]
    },
    {
     "name": "stderr",
     "output_type": "stream",
     "text": [
      "100%|██████████| 470/470 [00:05<00:00, 79.55it/s]\n",
      "  0%|          | 3/1410 [00:00<00:52, 26.71it/s]"
     ]
    },
    {
     "name": "stdout",
     "output_type": "stream",
     "text": [
      "val loss 0.5346053274388008\n"
     ]
    },
    {
     "name": "stderr",
     "output_type": "stream",
     "text": [
      "100%|██████████| 1410/1410 [00:54<00:00, 26.09it/s]\n",
      "  2%|▏         | 9/470 [00:00<00:05, 80.25it/s]"
     ]
    },
    {
     "name": "stdout",
     "output_type": "stream",
     "text": [
      "epoch 2 train loss 0.5403969660718391\n"
     ]
    },
    {
     "name": "stderr",
     "output_type": "stream",
     "text": [
      "100%|██████████| 470/470 [00:05<00:00, 79.32it/s]\n",
      "  0%|          | 3/1410 [00:00<00:52, 26.59it/s]"
     ]
    },
    {
     "name": "stdout",
     "output_type": "stream",
     "text": [
      "val loss 0.5390548700981952\n"
     ]
    },
    {
     "name": "stderr",
     "output_type": "stream",
     "text": [
      "100%|██████████| 1410/1410 [00:54<00:00, 26.06it/s]\n",
      "  2%|▏         | 8/470 [00:00<00:05, 77.51it/s]"
     ]
    },
    {
     "name": "stdout",
     "output_type": "stream",
     "text": [
      "epoch 3 train loss 0.5391868849595388\n"
     ]
    },
    {
     "name": "stderr",
     "output_type": "stream",
     "text": [
      "100%|██████████| 470/470 [00:05<00:00, 79.35it/s]\n",
      "  0%|          | 3/1410 [00:00<00:52, 26.89it/s]"
     ]
    },
    {
     "name": "stdout",
     "output_type": "stream",
     "text": [
      "val loss 0.5325697548845981\n"
     ]
    },
    {
     "name": "stderr",
     "output_type": "stream",
     "text": [
      "100%|██████████| 1410/1410 [00:54<00:00, 26.00it/s]\n",
      "  2%|▏         | 8/470 [00:00<00:06, 76.97it/s]"
     ]
    },
    {
     "name": "stdout",
     "output_type": "stream",
     "text": [
      "epoch 4 train loss 0.53741786949178\n"
     ]
    },
    {
     "name": "stderr",
     "output_type": "stream",
     "text": [
      "100%|██████████| 470/470 [00:05<00:00, 79.13it/s]\n",
      "  0%|          | 3/1410 [00:00<00:52, 26.76it/s]"
     ]
    },
    {
     "name": "stdout",
     "output_type": "stream",
     "text": [
      "val loss 0.5356456620896116\n"
     ]
    },
    {
     "name": "stderr",
     "output_type": "stream",
     "text": [
      "100%|██████████| 1410/1410 [00:54<00:00, 25.97it/s]\n",
      "  2%|▏         | 8/470 [00:00<00:06, 76.32it/s]"
     ]
    },
    {
     "name": "stdout",
     "output_type": "stream",
     "text": [
      "epoch 5 train loss 0.5371147296107407\n"
     ]
    },
    {
     "name": "stderr",
     "output_type": "stream",
     "text": [
      "100%|██████████| 470/470 [00:05<00:00, 79.19it/s]\n",
      "  0%|          | 3/1410 [00:00<00:52, 26.80it/s]"
     ]
    },
    {
     "name": "stdout",
     "output_type": "stream",
     "text": [
      "val loss 0.5324398256362752\n"
     ]
    },
    {
     "name": "stderr",
     "output_type": "stream",
     "text": [
      "100%|██████████| 1410/1410 [00:54<00:00, 25.97it/s]\n",
      "  2%|▏         | 8/470 [00:00<00:05, 77.80it/s]"
     ]
    },
    {
     "name": "stdout",
     "output_type": "stream",
     "text": [
      "epoch 6 train loss 0.5363976533531297\n"
     ]
    },
    {
     "name": "stderr",
     "output_type": "stream",
     "text": [
      "100%|██████████| 470/470 [00:05<00:00, 79.12it/s]\n",
      "  0%|          | 3/1410 [00:00<00:52, 26.97it/s]"
     ]
    },
    {
     "name": "stdout",
     "output_type": "stream",
     "text": [
      "val loss 0.533391398825544\n"
     ]
    },
    {
     "name": "stderr",
     "output_type": "stream",
     "text": [
      "100%|██████████| 1410/1410 [00:54<00:00, 25.97it/s]\n",
      "  2%|▏         | 8/470 [00:00<00:05, 78.43it/s]"
     ]
    },
    {
     "name": "stdout",
     "output_type": "stream",
     "text": [
      "epoch 7 train loss 0.5362870375315348\n"
     ]
    },
    {
     "name": "stderr",
     "output_type": "stream",
     "text": [
      "100%|██████████| 470/470 [00:05<00:00, 79.11it/s]\n",
      "  0%|          | 3/1410 [00:00<00:52, 26.82it/s]"
     ]
    },
    {
     "name": "stdout",
     "output_type": "stream",
     "text": [
      "val loss 0.533448624991356\n"
     ]
    },
    {
     "name": "stderr",
     "output_type": "stream",
     "text": [
      "100%|██████████| 1410/1410 [00:54<00:00, 25.95it/s]\n",
      "  2%|▏         | 8/470 [00:00<00:06, 75.78it/s]"
     ]
    },
    {
     "name": "stdout",
     "output_type": "stream",
     "text": [
      "epoch 8 train loss 0.5361891307729356\n"
     ]
    },
    {
     "name": "stderr",
     "output_type": "stream",
     "text": [
      "100%|██████████| 470/470 [00:05<00:00, 79.04it/s]\n",
      "  0%|          | 3/1410 [00:00<00:52, 26.82it/s]"
     ]
    },
    {
     "name": "stdout",
     "output_type": "stream",
     "text": [
      "val loss 0.5320804503369838\n"
     ]
    },
    {
     "name": "stderr",
     "output_type": "stream",
     "text": [
      "100%|██████████| 1410/1410 [00:54<00:00, 25.98it/s]\n",
      "  2%|▏         | 8/470 [00:00<00:05, 78.15it/s]"
     ]
    },
    {
     "name": "stdout",
     "output_type": "stream",
     "text": [
      "epoch 9 train loss 0.5359241754450697\n"
     ]
    },
    {
     "name": "stderr",
     "output_type": "stream",
     "text": [
      "100%|██████████| 470/470 [00:05<00:00, 79.03it/s]\n",
      "  0%|          | 3/1410 [00:00<00:52, 26.95it/s]"
     ]
    },
    {
     "name": "stdout",
     "output_type": "stream",
     "text": [
      "val loss 0.5325901302885502\n"
     ]
    },
    {
     "name": "stderr",
     "output_type": "stream",
     "text": [
      "100%|██████████| 1410/1410 [00:54<00:00, 25.94it/s]\n",
      "  2%|▏         | 8/470 [00:00<00:06, 76.71it/s]"
     ]
    },
    {
     "name": "stdout",
     "output_type": "stream",
     "text": [
      "epoch 10 train loss 0.5362092850478828\n"
     ]
    },
    {
     "name": "stderr",
     "output_type": "stream",
     "text": [
      "100%|██████████| 470/470 [00:05<00:00, 78.97it/s]\n",
      "  0%|          | 3/1410 [00:00<00:52, 26.98it/s]"
     ]
    },
    {
     "name": "stdout",
     "output_type": "stream",
     "text": [
      "val loss 0.5349015788829073\n"
     ]
    },
    {
     "name": "stderr",
     "output_type": "stream",
     "text": [
      "100%|██████████| 1410/1410 [00:54<00:00, 25.94it/s]\n",
      "  2%|▏         | 8/470 [00:00<00:05, 77.76it/s]"
     ]
    },
    {
     "name": "stdout",
     "output_type": "stream",
     "text": [
      "epoch 11 train loss 0.5360600051727701\n"
     ]
    },
    {
     "name": "stderr",
     "output_type": "stream",
     "text": [
      "100%|██████████| 470/470 [00:05<00:00, 79.07it/s]\n",
      "  0%|          | 3/1410 [00:00<00:53, 26.53it/s]"
     ]
    },
    {
     "name": "stdout",
     "output_type": "stream",
     "text": [
      "val loss 0.5335110391708131\n"
     ]
    },
    {
     "name": "stderr",
     "output_type": "stream",
     "text": [
      "100%|██████████| 1410/1410 [00:54<00:00, 25.93it/s]\n",
      "  2%|▏         | 8/470 [00:00<00:05, 77.32it/s]"
     ]
    },
    {
     "name": "stdout",
     "output_type": "stream",
     "text": [
      "epoch 12 train loss 0.5360020104874956\n"
     ]
    },
    {
     "name": "stderr",
     "output_type": "stream",
     "text": [
      "100%|██████████| 470/470 [00:05<00:00, 78.95it/s]\n",
      "  0%|          | 3/1410 [00:00<00:52, 26.96it/s]"
     ]
    },
    {
     "name": "stdout",
     "output_type": "stream",
     "text": [
      "val loss 0.5411249378894237\n"
     ]
    },
    {
     "name": "stderr",
     "output_type": "stream",
     "text": [
      "100%|██████████| 1410/1410 [00:54<00:00, 25.93it/s]\n",
      "  2%|▏         | 8/470 [00:00<00:05, 77.48it/s]"
     ]
    },
    {
     "name": "stdout",
     "output_type": "stream",
     "text": [
      "epoch 13 train loss 0.5357140016048513\n"
     ]
    },
    {
     "name": "stderr",
     "output_type": "stream",
     "text": [
      "100%|██████████| 470/470 [00:05<00:00, 79.08it/s]\n",
      "  0%|          | 3/1410 [00:00<00:52, 26.85it/s]"
     ]
    },
    {
     "name": "stdout",
     "output_type": "stream",
     "text": [
      "val loss 0.5322335882389799\n"
     ]
    },
    {
     "name": "stderr",
     "output_type": "stream",
     "text": [
      "100%|██████████| 1410/1410 [00:54<00:00, 25.90it/s]\n",
      "  2%|▏         | 8/470 [00:00<00:05, 77.29it/s]"
     ]
    },
    {
     "name": "stdout",
     "output_type": "stream",
     "text": [
      "epoch 14 train loss 0.5357292167261137\n"
     ]
    },
    {
     "name": "stderr",
     "output_type": "stream",
     "text": [
      "100%|██████████| 470/470 [00:05<00:00, 78.99it/s]\n",
      "  0%|          | 3/1410 [00:00<00:52, 26.87it/s]"
     ]
    },
    {
     "name": "stdout",
     "output_type": "stream",
     "text": [
      "val loss 0.5333743359180207\n"
     ]
    },
    {
     "name": "stderr",
     "output_type": "stream",
     "text": [
      "100%|██████████| 1410/1410 [00:54<00:00, 25.93it/s]\n",
      "  2%|▏         | 8/470 [00:00<00:06, 76.87it/s]"
     ]
    },
    {
     "name": "stdout",
     "output_type": "stream",
     "text": [
      "epoch 15 train loss 0.535998849665865\n"
     ]
    },
    {
     "name": "stderr",
     "output_type": "stream",
     "text": [
      "100%|██████████| 470/470 [00:05<00:00, 78.91it/s]\n",
      "  0%|          | 3/1410 [00:00<00:53, 26.27it/s]"
     ]
    },
    {
     "name": "stdout",
     "output_type": "stream",
     "text": [
      "val loss 0.5332208256772224\n"
     ]
    },
    {
     "name": "stderr",
     "output_type": "stream",
     "text": [
      "100%|██████████| 1410/1410 [00:54<00:00, 25.88it/s]\n",
      "  2%|▏         | 8/470 [00:00<00:05, 77.23it/s]"
     ]
    },
    {
     "name": "stdout",
     "output_type": "stream",
     "text": [
      "epoch 16 train loss 0.535559674273146\n"
     ]
    },
    {
     "name": "stderr",
     "output_type": "stream",
     "text": [
      "100%|██████████| 470/470 [00:05<00:00, 78.82it/s]\n",
      "  0%|          | 3/1410 [00:00<00:52, 26.95it/s]"
     ]
    },
    {
     "name": "stdout",
     "output_type": "stream",
     "text": [
      "val loss 0.5315559143715717\n"
     ]
    },
    {
     "name": "stderr",
     "output_type": "stream",
     "text": [
      "100%|██████████| 1410/1410 [00:54<00:00, 25.90it/s]\n",
      "  2%|▏         | 8/470 [00:00<00:05, 77.24it/s]"
     ]
    },
    {
     "name": "stdout",
     "output_type": "stream",
     "text": [
      "epoch 17 train loss 0.5355117118950431\n"
     ]
    },
    {
     "name": "stderr",
     "output_type": "stream",
     "text": [
      "100%|██████████| 470/470 [00:05<00:00, 78.96it/s]\n",
      "  0%|          | 3/1410 [00:00<00:52, 26.91it/s]"
     ]
    },
    {
     "name": "stdout",
     "output_type": "stream",
     "text": [
      "val loss 0.5315387876743966\n"
     ]
    },
    {
     "name": "stderr",
     "output_type": "stream",
     "text": [
      "100%|██████████| 1410/1410 [00:54<00:00, 25.89it/s]\n",
      "  2%|▏         | 8/470 [00:00<00:06, 76.87it/s]"
     ]
    },
    {
     "name": "stdout",
     "output_type": "stream",
     "text": [
      "epoch 18 train loss 0.5355503939567728\n"
     ]
    },
    {
     "name": "stderr",
     "output_type": "stream",
     "text": [
      "100%|██████████| 470/470 [00:05<00:00, 78.95it/s]\n",
      "  0%|          | 3/1410 [00:00<00:52, 26.81it/s]"
     ]
    },
    {
     "name": "stdout",
     "output_type": "stream",
     "text": [
      "val loss 0.5313927836874698\n"
     ]
    },
    {
     "name": "stderr",
     "output_type": "stream",
     "text": [
      "100%|██████████| 1410/1410 [00:54<00:00, 25.91it/s]\n",
      "  2%|▏         | 8/470 [00:00<00:06, 76.15it/s]"
     ]
    },
    {
     "name": "stdout",
     "output_type": "stream",
     "text": [
      "epoch 19 train loss 0.5354970849152152\n"
     ]
    },
    {
     "name": "stderr",
     "output_type": "stream",
     "text": [
      "100%|██████████| 470/470 [00:05<00:00, 78.76it/s]\n",
      "  0%|          | 3/1410 [00:00<00:52, 26.96it/s]"
     ]
    },
    {
     "name": "stdout",
     "output_type": "stream",
     "text": [
      "val loss 0.5331969233269387\n"
     ]
    },
    {
     "name": "stderr",
     "output_type": "stream",
     "text": [
      "100%|██████████| 1410/1410 [00:54<00:00, 25.87it/s]\n",
      "  2%|▏         | 8/470 [00:00<00:05, 79.11it/s]"
     ]
    },
    {
     "name": "stdout",
     "output_type": "stream",
     "text": [
      "epoch 20 train loss 0.5352089350527905\n"
     ]
    },
    {
     "name": "stderr",
     "output_type": "stream",
     "text": [
      "100%|██████████| 470/470 [00:05<00:00, 78.85it/s]\n",
      "  0%|          | 3/1410 [00:00<00:52, 26.85it/s]"
     ]
    },
    {
     "name": "stdout",
     "output_type": "stream",
     "text": [
      "val loss 0.5322190072942288\n"
     ]
    },
    {
     "name": "stderr",
     "output_type": "stream",
     "text": [
      "100%|██████████| 1410/1410 [00:54<00:00, 25.88it/s]\n",
      "  2%|▏         | 8/470 [00:00<00:06, 76.36it/s]"
     ]
    },
    {
     "name": "stdout",
     "output_type": "stream",
     "text": [
      "epoch 21 train loss 0.5352833719118267\n"
     ]
    },
    {
     "name": "stderr",
     "output_type": "stream",
     "text": [
      "100%|██████████| 470/470 [00:05<00:00, 78.85it/s]\n",
      "  0%|          | 3/1410 [00:00<00:52, 26.90it/s]"
     ]
    },
    {
     "name": "stdout",
     "output_type": "stream",
     "text": [
      "val loss 0.5353104895733772\n"
     ]
    },
    {
     "name": "stderr",
     "output_type": "stream",
     "text": [
      "100%|██████████| 1410/1410 [00:54<00:00, 25.88it/s]\n",
      "  2%|▏         | 8/470 [00:00<00:05, 78.22it/s]"
     ]
    },
    {
     "name": "stdout",
     "output_type": "stream",
     "text": [
      "epoch 22 train loss 0.5352082794439708\n"
     ]
    },
    {
     "name": "stderr",
     "output_type": "stream",
     "text": [
      "100%|██████████| 470/470 [00:05<00:00, 78.74it/s]\n",
      "  0%|          | 3/1410 [00:00<00:52, 26.77it/s]"
     ]
    },
    {
     "name": "stdout",
     "output_type": "stream",
     "text": [
      "val loss 0.5319248323744916\n"
     ]
    },
    {
     "name": "stderr",
     "output_type": "stream",
     "text": [
      "100%|██████████| 1410/1410 [00:54<00:00, 25.88it/s]\n",
      "  2%|▏         | 8/470 [00:00<00:05, 77.23it/s]"
     ]
    },
    {
     "name": "stdout",
     "output_type": "stream",
     "text": [
      "epoch 23 train loss 0.535215530201053\n"
     ]
    },
    {
     "name": "stderr",
     "output_type": "stream",
     "text": [
      "100%|██████████| 470/470 [00:05<00:00, 78.85it/s]\n",
      "  0%|          | 3/1410 [00:00<00:51, 27.15it/s]"
     ]
    },
    {
     "name": "stdout",
     "output_type": "stream",
     "text": [
      "val loss 0.5319456484723598\n"
     ]
    },
    {
     "name": "stderr",
     "output_type": "stream",
     "text": [
      "100%|██████████| 1410/1410 [00:54<00:00, 25.88it/s]\n",
      "  2%|▏         | 8/470 [00:00<00:05, 77.69it/s]"
     ]
    },
    {
     "name": "stdout",
     "output_type": "stream",
     "text": [
      "epoch 24 train loss 0.5352557120170999\n"
     ]
    },
    {
     "name": "stderr",
     "output_type": "stream",
     "text": [
      "100%|██████████| 470/470 [00:05<00:00, 78.58it/s]\n",
      "  0%|          | 3/1410 [00:00<00:52, 26.73it/s]"
     ]
    },
    {
     "name": "stdout",
     "output_type": "stream",
     "text": [
      "val loss 0.5313566631459176\n"
     ]
    },
    {
     "name": "stderr",
     "output_type": "stream",
     "text": [
      "100%|██████████| 1410/1410 [00:54<00:00, 25.87it/s]\n",
      "  2%|▏         | 8/470 [00:00<00:06, 76.48it/s]"
     ]
    },
    {
     "name": "stdout",
     "output_type": "stream",
     "text": [
      "epoch 25 train loss 0.5351681572325686\n"
     ]
    },
    {
     "name": "stderr",
     "output_type": "stream",
     "text": [
      "100%|██████████| 470/470 [00:05<00:00, 78.75it/s]\n",
      "  0%|          | 3/1410 [00:00<00:52, 26.62it/s]"
     ]
    },
    {
     "name": "stdout",
     "output_type": "stream",
     "text": [
      "val loss 0.533602603192025\n"
     ]
    },
    {
     "name": "stderr",
     "output_type": "stream",
     "text": [
      "100%|██████████| 1410/1410 [00:54<00:00, 25.87it/s]\n",
      "  2%|▏         | 8/470 [00:00<00:05, 77.39it/s]"
     ]
    },
    {
     "name": "stdout",
     "output_type": "stream",
     "text": [
      "epoch 26 train loss 0.5350025128388236\n"
     ]
    },
    {
     "name": "stderr",
     "output_type": "stream",
     "text": [
      "100%|██████████| 470/470 [00:05<00:00, 78.79it/s]\n",
      "  0%|          | 3/1410 [00:00<00:51, 27.27it/s]"
     ]
    },
    {
     "name": "stdout",
     "output_type": "stream",
     "text": [
      "val loss 0.5326198095970965\n"
     ]
    },
    {
     "name": "stderr",
     "output_type": "stream",
     "text": [
      "100%|██████████| 1410/1410 [00:54<00:00, 25.88it/s]\n",
      "  2%|▏         | 8/470 [00:00<00:05, 77.25it/s]"
     ]
    },
    {
     "name": "stdout",
     "output_type": "stream",
     "text": [
      "epoch 27 train loss 0.535026014231621\n"
     ]
    },
    {
     "name": "stderr",
     "output_type": "stream",
     "text": [
      "100%|██████████| 470/470 [00:05<00:00, 78.78it/s]\n",
      "  0%|          | 3/1410 [00:00<00:51, 27.29it/s]"
     ]
    },
    {
     "name": "stdout",
     "output_type": "stream",
     "text": [
      "val loss 0.532049075720158\n"
     ]
    },
    {
     "name": "stderr",
     "output_type": "stream",
     "text": [
      "100%|██████████| 1410/1410 [00:54<00:00, 25.88it/s]\n",
      "  2%|▏         | 8/470 [00:00<00:05, 77.81it/s]"
     ]
    },
    {
     "name": "stdout",
     "output_type": "stream",
     "text": [
      "epoch 28 train loss 0.5348746815049057\n"
     ]
    },
    {
     "name": "stderr",
     "output_type": "stream",
     "text": [
      "100%|██████████| 470/470 [00:05<00:00, 78.80it/s]\n",
      "  0%|          | 3/1410 [00:00<00:51, 27.36it/s]"
     ]
    },
    {
     "name": "stdout",
     "output_type": "stream",
     "text": [
      "val loss 0.5324150897086934\n"
     ]
    },
    {
     "name": "stderr",
     "output_type": "stream",
     "text": [
      "100%|██████████| 1410/1410 [00:54<00:00, 25.87it/s]\n",
      "  2%|▏         | 8/470 [00:00<00:06, 76.14it/s]"
     ]
    },
    {
     "name": "stdout",
     "output_type": "stream",
     "text": [
      "epoch 29 train loss 0.5349697323132914\n"
     ]
    },
    {
     "name": "stderr",
     "output_type": "stream",
     "text": [
      "100%|██████████| 470/470 [00:05<00:00, 78.88it/s]\n",
      "  0%|          | 3/1410 [00:00<00:51, 27.23it/s]"
     ]
    },
    {
     "name": "stdout",
     "output_type": "stream",
     "text": [
      "val loss 0.5322502100721319\n"
     ]
    },
    {
     "name": "stderr",
     "output_type": "stream",
     "text": [
      "100%|██████████| 1410/1410 [00:54<00:00, 25.84it/s]\n",
      "  2%|▏         | 8/470 [00:00<00:05, 78.25it/s]"
     ]
    },
    {
     "name": "stdout",
     "output_type": "stream",
     "text": [
      "epoch 30 train loss 0.5350957595287485\n"
     ]
    },
    {
     "name": "stderr",
     "output_type": "stream",
     "text": [
      "100%|██████████| 470/470 [00:05<00:00, 78.82it/s]\n",
      "  0%|          | 3/1410 [00:00<00:52, 26.70it/s]"
     ]
    },
    {
     "name": "stdout",
     "output_type": "stream",
     "text": [
      "val loss 0.5310851761635313\n"
     ]
    },
    {
     "name": "stderr",
     "output_type": "stream",
     "text": [
      "100%|██████████| 1410/1410 [00:54<00:00, 25.87it/s]\n",
      "  2%|▏         | 8/470 [00:00<00:05, 78.41it/s]"
     ]
    },
    {
     "name": "stdout",
     "output_type": "stream",
     "text": [
      "epoch 31 train loss 0.5348427310480294\n"
     ]
    },
    {
     "name": "stderr",
     "output_type": "stream",
     "text": [
      "100%|██████████| 470/470 [00:05<00:00, 78.90it/s]\n",
      "  0%|          | 3/1410 [00:00<00:53, 26.19it/s]"
     ]
    },
    {
     "name": "stdout",
     "output_type": "stream",
     "text": [
      "val loss 0.5312537498930667\n"
     ]
    },
    {
     "name": "stderr",
     "output_type": "stream",
     "text": [
      "100%|██████████| 1410/1410 [00:54<00:00, 25.86it/s]\n",
      "  2%|▏         | 8/470 [00:00<00:05, 77.21it/s]"
     ]
    },
    {
     "name": "stdout",
     "output_type": "stream",
     "text": [
      "epoch 32 train loss 0.535221842882481\n"
     ]
    },
    {
     "name": "stderr",
     "output_type": "stream",
     "text": [
      "100%|██████████| 470/470 [00:05<00:00, 78.67it/s]\n",
      "  0%|          | 3/1410 [00:00<00:52, 26.63it/s]"
     ]
    },
    {
     "name": "stdout",
     "output_type": "stream",
     "text": [
      "val loss 0.5345789352630047\n"
     ]
    },
    {
     "name": "stderr",
     "output_type": "stream",
     "text": [
      "100%|██████████| 1410/1410 [00:54<00:00, 25.87it/s]\n",
      "  2%|▏         | 8/470 [00:00<00:05, 78.58it/s]"
     ]
    },
    {
     "name": "stdout",
     "output_type": "stream",
     "text": [
      "epoch 33 train loss 0.534767537125459\n"
     ]
    },
    {
     "name": "stderr",
     "output_type": "stream",
     "text": [
      "100%|██████████| 470/470 [00:05<00:00, 78.91it/s]\n",
      "  0%|          | 3/1410 [00:00<00:52, 26.66it/s]"
     ]
    },
    {
     "name": "stdout",
     "output_type": "stream",
     "text": [
      "val loss 0.5353746868194418\n"
     ]
    },
    {
     "name": "stderr",
     "output_type": "stream",
     "text": [
      "100%|██████████| 1410/1410 [00:54<00:00, 25.86it/s]\n",
      "  2%|▏         | 8/470 [00:00<00:06, 76.47it/s]"
     ]
    },
    {
     "name": "stdout",
     "output_type": "stream",
     "text": [
      "epoch 34 train loss 0.5346758836972798\n"
     ]
    },
    {
     "name": "stderr",
     "output_type": "stream",
     "text": [
      "100%|██████████| 470/470 [00:05<00:00, 78.82it/s]\n",
      "  0%|          | 3/1410 [00:00<00:51, 27.06it/s]"
     ]
    },
    {
     "name": "stdout",
     "output_type": "stream",
     "text": [
      "val loss 0.530974006652832\n"
     ]
    },
    {
     "name": "stderr",
     "output_type": "stream",
     "text": [
      "100%|██████████| 1410/1410 [00:54<00:00, 25.90it/s]\n",
      "  2%|▏         | 8/470 [00:00<00:05, 77.04it/s]"
     ]
    },
    {
     "name": "stdout",
     "output_type": "stream",
     "text": [
      "epoch 35 train loss 0.5349236196237253\n"
     ]
    },
    {
     "name": "stderr",
     "output_type": "stream",
     "text": [
      "100%|██████████| 470/470 [00:05<00:00, 78.81it/s]\n",
      "  0%|          | 3/1410 [00:00<00:52, 26.57it/s]"
     ]
    },
    {
     "name": "stdout",
     "output_type": "stream",
     "text": [
      "val loss 0.5330885575172749\n"
     ]
    },
    {
     "name": "stderr",
     "output_type": "stream",
     "text": [
      "100%|██████████| 1410/1410 [00:54<00:00, 25.88it/s]\n",
      "  2%|▏         | 8/470 [00:00<00:05, 77.67it/s]"
     ]
    },
    {
     "name": "stdout",
     "output_type": "stream",
     "text": [
      "epoch 36 train loss 0.5347463344428556\n"
     ]
    },
    {
     "name": "stderr",
     "output_type": "stream",
     "text": [
      "100%|██████████| 470/470 [00:05<00:00, 78.73it/s]\n",
      "  0%|          | 3/1410 [00:00<00:52, 26.93it/s]"
     ]
    },
    {
     "name": "stdout",
     "output_type": "stream",
     "text": [
      "val loss 0.5313281912752923\n"
     ]
    },
    {
     "name": "stderr",
     "output_type": "stream",
     "text": [
      "100%|██████████| 1410/1410 [00:54<00:00, 25.89it/s]\n",
      "  2%|▏         | 8/470 [00:00<00:06, 76.68it/s]"
     ]
    },
    {
     "name": "stdout",
     "output_type": "stream",
     "text": [
      "epoch 37 train loss 0.5346174246875952\n"
     ]
    },
    {
     "name": "stderr",
     "output_type": "stream",
     "text": [
      "100%|██████████| 470/470 [00:05<00:00, 78.75it/s]\n",
      "  0%|          | 3/1410 [00:00<00:52, 26.81it/s]"
     ]
    },
    {
     "name": "stdout",
     "output_type": "stream",
     "text": [
      "val loss 0.5321803767630394\n"
     ]
    },
    {
     "name": "stderr",
     "output_type": "stream",
     "text": [
      "100%|██████████| 1410/1410 [00:54<00:00, 25.85it/s]\n",
      "  2%|▏         | 8/470 [00:00<00:05, 77.22it/s]"
     ]
    },
    {
     "name": "stdout",
     "output_type": "stream",
     "text": [
      "epoch 38 train loss 0.5345098381769573\n"
     ]
    },
    {
     "name": "stderr",
     "output_type": "stream",
     "text": [
      "100%|██████████| 470/470 [00:05<00:00, 78.68it/s]\n",
      "  0%|          | 3/1410 [00:00<00:53, 26.45it/s]"
     ]
    },
    {
     "name": "stdout",
     "output_type": "stream",
     "text": [
      "val loss 0.531912458069781\n"
     ]
    },
    {
     "name": "stderr",
     "output_type": "stream",
     "text": [
      "100%|██████████| 1410/1410 [00:54<00:00, 25.87it/s]\n",
      "  2%|▏         | 8/470 [00:00<00:06, 75.98it/s]"
     ]
    },
    {
     "name": "stdout",
     "output_type": "stream",
     "text": [
      "epoch 39 train loss 0.5346171581576057\n"
     ]
    },
    {
     "name": "stderr",
     "output_type": "stream",
     "text": [
      "100%|██████████| 470/470 [00:05<00:00, 78.72it/s]\n",
      "  0%|          | 3/1410 [00:00<00:52, 26.78it/s]"
     ]
    },
    {
     "name": "stdout",
     "output_type": "stream",
     "text": [
      "val loss 0.5315178083612564\n"
     ]
    },
    {
     "name": "stderr",
     "output_type": "stream",
     "text": [
      "100%|██████████| 1410/1410 [00:54<00:00, 25.83it/s]\n",
      "  2%|▏         | 8/470 [00:00<00:06, 75.57it/s]"
     ]
    },
    {
     "name": "stdout",
     "output_type": "stream",
     "text": [
      "epoch 40 train loss 0.534399384175632\n"
     ]
    },
    {
     "name": "stderr",
     "output_type": "stream",
     "text": [
      "100%|██████████| 470/470 [00:05<00:00, 78.63it/s]\n",
      "  0%|          | 3/1410 [00:00<00:52, 26.74it/s]"
     ]
    },
    {
     "name": "stdout",
     "output_type": "stream",
     "text": [
      "val loss 0.5394036149725001\n"
     ]
    },
    {
     "name": "stderr",
     "output_type": "stream",
     "text": [
      "100%|██████████| 1410/1410 [00:54<00:00, 25.87it/s]\n",
      "  2%|▏         | 8/470 [00:00<00:05, 77.71it/s]"
     ]
    },
    {
     "name": "stdout",
     "output_type": "stream",
     "text": [
      "epoch 41 train loss 0.5345138986482688\n"
     ]
    },
    {
     "name": "stderr",
     "output_type": "stream",
     "text": [
      "100%|██████████| 470/470 [00:05<00:00, 78.77it/s]\n",
      "  0%|          | 3/1410 [00:00<00:52, 27.01it/s]"
     ]
    },
    {
     "name": "stdout",
     "output_type": "stream",
     "text": [
      "val loss 0.535706179953636\n"
     ]
    },
    {
     "name": "stderr",
     "output_type": "stream",
     "text": [
      "100%|██████████| 1410/1410 [00:54<00:00, 25.86it/s]\n",
      "  2%|▏         | 8/470 [00:00<00:05, 78.24it/s]"
     ]
    },
    {
     "name": "stdout",
     "output_type": "stream",
     "text": [
      "epoch 42 train loss 0.534548485744084\n"
     ]
    },
    {
     "name": "stderr",
     "output_type": "stream",
     "text": [
      "100%|██████████| 470/470 [00:05<00:00, 78.68it/s]\n",
      "  0%|          | 3/1410 [00:00<00:52, 26.95it/s]"
     ]
    },
    {
     "name": "stdout",
     "output_type": "stream",
     "text": [
      "val loss 0.5318644948462222\n"
     ]
    },
    {
     "name": "stderr",
     "output_type": "stream",
     "text": [
      "100%|██████████| 1410/1410 [00:54<00:00, 25.88it/s]\n",
      "  2%|▏         | 8/470 [00:00<00:05, 77.54it/s]"
     ]
    },
    {
     "name": "stdout",
     "output_type": "stream",
     "text": [
      "epoch 43 train loss 0.5345228584100169\n"
     ]
    },
    {
     "name": "stderr",
     "output_type": "stream",
     "text": [
      "100%|██████████| 470/470 [00:05<00:00, 78.69it/s]\n",
      "  0%|          | 3/1410 [00:00<00:52, 26.60it/s]"
     ]
    },
    {
     "name": "stdout",
     "output_type": "stream",
     "text": [
      "val loss 0.5311480273591711\n"
     ]
    },
    {
     "name": "stderr",
     "output_type": "stream",
     "text": [
      "100%|██████████| 1410/1410 [00:54<00:00, 25.84it/s]\n",
      "  2%|▏         | 8/470 [00:00<00:06, 76.92it/s]"
     ]
    },
    {
     "name": "stdout",
     "output_type": "stream",
     "text": [
      "epoch 44 train loss 0.5345417511801348\n"
     ]
    },
    {
     "name": "stderr",
     "output_type": "stream",
     "text": [
      "100%|██████████| 470/470 [00:05<00:00, 78.77it/s]\n",
      "  0%|          | 3/1410 [00:00<00:53, 26.52it/s]"
     ]
    },
    {
     "name": "stdout",
     "output_type": "stream",
     "text": [
      "val loss 0.5313634281462811\n"
     ]
    },
    {
     "name": "stderr",
     "output_type": "stream",
     "text": [
      "100%|██████████| 1410/1410 [00:54<00:00, 25.88it/s]\n",
      "  2%|▏         | 8/470 [00:00<00:05, 77.51it/s]"
     ]
    },
    {
     "name": "stdout",
     "output_type": "stream",
     "text": [
      "epoch 45 train loss 0.5347268393276431\n"
     ]
    },
    {
     "name": "stderr",
     "output_type": "stream",
     "text": [
      "100%|██████████| 470/470 [00:05<00:00, 78.82it/s]\n",
      "  0%|          | 3/1410 [00:00<00:52, 26.79it/s]"
     ]
    },
    {
     "name": "stdout",
     "output_type": "stream",
     "text": [
      "val loss 0.531814950197301\n"
     ]
    },
    {
     "name": "stderr",
     "output_type": "stream",
     "text": [
      "100%|██████████| 1410/1410 [00:54<00:00, 25.84it/s]\n",
      "  2%|▏         | 8/470 [00:00<00:05, 77.45it/s]"
     ]
    },
    {
     "name": "stdout",
     "output_type": "stream",
     "text": [
      "epoch 46 train loss 0.534330062156028\n"
     ]
    },
    {
     "name": "stderr",
     "output_type": "stream",
     "text": [
      "100%|██████████| 470/470 [00:05<00:00, 78.75it/s]\n",
      "  0%|          | 3/1410 [00:00<00:52, 26.89it/s]"
     ]
    },
    {
     "name": "stdout",
     "output_type": "stream",
     "text": [
      "val loss 0.532332833523446\n"
     ]
    },
    {
     "name": "stderr",
     "output_type": "stream",
     "text": [
      "100%|██████████| 1410/1410 [00:54<00:00, 25.85it/s]\n",
      "  2%|▏         | 8/470 [00:00<00:05, 78.32it/s]"
     ]
    },
    {
     "name": "stdout",
     "output_type": "stream",
     "text": [
      "epoch 47 train loss 0.5343596618226234\n"
     ]
    },
    {
     "name": "stderr",
     "output_type": "stream",
     "text": [
      "100%|██████████| 470/470 [00:05<00:00, 78.92it/s]\n",
      "  0%|          | 3/1410 [00:00<00:52, 26.61it/s]"
     ]
    },
    {
     "name": "stdout",
     "output_type": "stream",
     "text": [
      "val loss 0.5307049781718153\n"
     ]
    },
    {
     "name": "stderr",
     "output_type": "stream",
     "text": [
      "100%|██████████| 1410/1410 [00:54<00:00, 25.86it/s]\n",
      "  2%|▏         | 8/470 [00:00<00:05, 77.64it/s]"
     ]
    },
    {
     "name": "stdout",
     "output_type": "stream",
     "text": [
      "epoch 48 train loss 0.53442562573345\n"
     ]
    },
    {
     "name": "stderr",
     "output_type": "stream",
     "text": [
      "100%|██████████| 470/470 [00:05<00:00, 78.68it/s]\n",
      "  0%|          | 3/1410 [00:00<00:52, 26.97it/s]"
     ]
    },
    {
     "name": "stdout",
     "output_type": "stream",
     "text": [
      "val loss 0.531487439033833\n"
     ]
    },
    {
     "name": "stderr",
     "output_type": "stream",
     "text": [
      "100%|██████████| 1410/1410 [00:54<00:00, 25.86it/s]\n",
      "  2%|▏         | 8/470 [00:00<00:06, 76.68it/s]"
     ]
    },
    {
     "name": "stdout",
     "output_type": "stream",
     "text": [
      "epoch 49 train loss 0.5344249862305661\n"
     ]
    },
    {
     "name": "stderr",
     "output_type": "stream",
     "text": [
      "100%|██████████| 470/470 [00:05<00:00, 78.84it/s]\n",
      "  0%|          | 3/1410 [00:00<00:52, 26.83it/s]"
     ]
    },
    {
     "name": "stdout",
     "output_type": "stream",
     "text": [
      "val loss 0.5343908081663415\n"
     ]
    },
    {
     "name": "stderr",
     "output_type": "stream",
     "text": [
      "100%|██████████| 1410/1410 [00:54<00:00, 25.87it/s]\n",
      "  2%|▏         | 8/470 [00:00<00:06, 75.86it/s]"
     ]
    },
    {
     "name": "stdout",
     "output_type": "stream",
     "text": [
      "epoch 50 train loss 0.5344031161873053\n"
     ]
    },
    {
     "name": "stderr",
     "output_type": "stream",
     "text": [
      "100%|██████████| 470/470 [00:05<00:00, 78.70it/s]\n",
      "  0%|          | 3/1410 [00:00<00:52, 26.90it/s]"
     ]
    },
    {
     "name": "stdout",
     "output_type": "stream",
     "text": [
      "val loss 0.532710650246194\n"
     ]
    },
    {
     "name": "stderr",
     "output_type": "stream",
     "text": [
      "100%|██████████| 1410/1410 [00:54<00:00, 25.88it/s]\n",
      "  2%|▏         | 8/470 [00:00<00:06, 76.84it/s]"
     ]
    },
    {
     "name": "stdout",
     "output_type": "stream",
     "text": [
      "epoch 51 train loss 0.5344673874530387\n"
     ]
    },
    {
     "name": "stderr",
     "output_type": "stream",
     "text": [
      "100%|██████████| 470/470 [00:05<00:00, 78.73it/s]\n",
      "  0%|          | 3/1410 [00:00<00:52, 26.87it/s]"
     ]
    },
    {
     "name": "stdout",
     "output_type": "stream",
     "text": [
      "val loss 0.5383357616181069\n"
     ]
    },
    {
     "name": "stderr",
     "output_type": "stream",
     "text": [
      "100%|██████████| 1410/1410 [00:54<00:00, 25.89it/s]\n",
      "  2%|▏         | 8/470 [00:00<00:05, 78.40it/s]"
     ]
    },
    {
     "name": "stdout",
     "output_type": "stream",
     "text": [
      "epoch 52 train loss 0.5345219323821102\n"
     ]
    },
    {
     "name": "stderr",
     "output_type": "stream",
     "text": [
      "100%|██████████| 470/470 [00:05<00:00, 78.77it/s]\n",
      "  0%|          | 3/1410 [00:00<00:51, 27.07it/s]"
     ]
    },
    {
     "name": "stdout",
     "output_type": "stream",
     "text": [
      "val loss 0.5317574996897515\n"
     ]
    },
    {
     "name": "stderr",
     "output_type": "stream",
     "text": [
      "100%|██████████| 1410/1410 [00:54<00:00, 25.88it/s]\n",
      "  2%|▏         | 8/470 [00:00<00:06, 76.54it/s]"
     ]
    },
    {
     "name": "stdout",
     "output_type": "stream",
     "text": [
      "epoch 53 train loss 0.5344146722597434\n"
     ]
    },
    {
     "name": "stderr",
     "output_type": "stream",
     "text": [
      "100%|██████████| 470/470 [00:05<00:00, 78.84it/s]\n",
      "  0%|          | 3/1410 [00:00<00:52, 27.01it/s]"
     ]
    },
    {
     "name": "stdout",
     "output_type": "stream",
     "text": [
      "val loss 0.5337273474703443\n"
     ]
    },
    {
     "name": "stderr",
     "output_type": "stream",
     "text": [
      "100%|██████████| 1410/1410 [00:54<00:00, 25.84it/s]\n",
      "  2%|▏         | 8/470 [00:00<00:05, 78.02it/s]"
     ]
    },
    {
     "name": "stdout",
     "output_type": "stream",
     "text": [
      "epoch 54 train loss 0.5343938942919386\n"
     ]
    },
    {
     "name": "stderr",
     "output_type": "stream",
     "text": [
      "100%|██████████| 470/470 [00:05<00:00, 78.84it/s]\n",
      "  0%|          | 3/1410 [00:00<00:52, 26.93it/s]"
     ]
    },
    {
     "name": "stdout",
     "output_type": "stream",
     "text": [
      "val loss 0.5341198990953729\n"
     ]
    },
    {
     "name": "stderr",
     "output_type": "stream",
     "text": [
      "100%|██████████| 1410/1410 [00:54<00:00, 25.88it/s]\n",
      "  2%|▏         | 8/470 [00:00<00:06, 76.20it/s]"
     ]
    },
    {
     "name": "stdout",
     "output_type": "stream",
     "text": [
      "epoch 55 train loss 0.534261464607631\n"
     ]
    },
    {
     "name": "stderr",
     "output_type": "stream",
     "text": [
      "100%|██████████| 470/470 [00:05<00:00, 78.84it/s]\n",
      "  0%|          | 3/1410 [00:00<00:52, 26.99it/s]"
     ]
    },
    {
     "name": "stdout",
     "output_type": "stream",
     "text": [
      "val loss 0.5346959391806988\n"
     ]
    },
    {
     "name": "stderr",
     "output_type": "stream",
     "text": [
      "100%|██████████| 1410/1410 [00:54<00:00, 25.86it/s]\n",
      "  2%|▏         | 8/470 [00:00<00:05, 77.35it/s]"
     ]
    },
    {
     "name": "stdout",
     "output_type": "stream",
     "text": [
      "epoch 56 train loss 0.5341844176147001\n"
     ]
    },
    {
     "name": "stderr",
     "output_type": "stream",
     "text": [
      "100%|██████████| 470/470 [00:05<00:00, 78.76it/s]\n",
      "  0%|          | 3/1410 [00:00<00:52, 26.73it/s]"
     ]
    },
    {
     "name": "stdout",
     "output_type": "stream",
     "text": [
      "val loss 0.5306521732756432\n"
     ]
    },
    {
     "name": "stderr",
     "output_type": "stream",
     "text": [
      "100%|██████████| 1410/1410 [00:54<00:00, 25.88it/s]\n",
      "  2%|▏         | 8/470 [00:00<00:06, 76.27it/s]"
     ]
    },
    {
     "name": "stdout",
     "output_type": "stream",
     "text": [
      "epoch 57 train loss 0.534297715222582\n"
     ]
    },
    {
     "name": "stderr",
     "output_type": "stream",
     "text": [
      "100%|██████████| 470/470 [00:05<00:00, 78.84it/s]\n",
      "  0%|          | 3/1410 [00:00<00:52, 26.94it/s]"
     ]
    },
    {
     "name": "stdout",
     "output_type": "stream",
     "text": [
      "val loss 0.5318638546669737\n"
     ]
    },
    {
     "name": "stderr",
     "output_type": "stream",
     "text": [
      "100%|██████████| 1410/1410 [00:54<00:00, 25.86it/s]\n",
      "  2%|▏         | 8/470 [00:00<00:05, 77.36it/s]"
     ]
    },
    {
     "name": "stdout",
     "output_type": "stream",
     "text": [
      "epoch 58 train loss 0.534170089292188\n"
     ]
    },
    {
     "name": "stderr",
     "output_type": "stream",
     "text": [
      "100%|██████████| 470/470 [00:05<00:00, 78.71it/s]\n",
      "  0%|          | 3/1410 [00:00<00:51, 27.37it/s]"
     ]
    },
    {
     "name": "stdout",
     "output_type": "stream",
     "text": [
      "val loss 0.5339816972296288\n"
     ]
    },
    {
     "name": "stderr",
     "output_type": "stream",
     "text": [
      "100%|██████████| 1410/1410 [00:54<00:00, 25.88it/s]\n",
      "  2%|▏         | 8/470 [00:00<00:06, 76.14it/s]"
     ]
    },
    {
     "name": "stdout",
     "output_type": "stream",
     "text": [
      "epoch 59 train loss 0.534322109628231\n"
     ]
    },
    {
     "name": "stderr",
     "output_type": "stream",
     "text": [
      "100%|██████████| 470/470 [00:05<00:00, 78.84it/s]\n",
      "  0%|          | 3/1410 [00:00<00:52, 26.86it/s]"
     ]
    },
    {
     "name": "stdout",
     "output_type": "stream",
     "text": [
      "val loss 0.5314621921549452\n"
     ]
    },
    {
     "name": "stderr",
     "output_type": "stream",
     "text": [
      "100%|██████████| 1410/1410 [00:54<00:00, 25.88it/s]\n",
      "  2%|▏         | 8/470 [00:00<00:06, 76.12it/s]"
     ]
    },
    {
     "name": "stdout",
     "output_type": "stream",
     "text": [
      "epoch 60 train loss 0.5341412827478232\n"
     ]
    },
    {
     "name": "stderr",
     "output_type": "stream",
     "text": [
      "100%|██████████| 470/470 [00:05<00:00, 78.73it/s]\n",
      "  0%|          | 3/1410 [00:00<00:51, 27.19it/s]"
     ]
    },
    {
     "name": "stdout",
     "output_type": "stream",
     "text": [
      "val loss 0.5306865887438997\n"
     ]
    },
    {
     "name": "stderr",
     "output_type": "stream",
     "text": [
      "100%|██████████| 1410/1410 [00:54<00:00, 25.87it/s]\n",
      "  2%|▏         | 8/470 [00:00<00:05, 77.63it/s]"
     ]
    },
    {
     "name": "stdout",
     "output_type": "stream",
     "text": [
      "epoch 61 train loss 0.5345114720628616\n"
     ]
    },
    {
     "name": "stderr",
     "output_type": "stream",
     "text": [
      "100%|██████████| 470/470 [00:05<00:00, 78.67it/s]\n",
      "  0%|          | 3/1410 [00:00<00:52, 26.83it/s]"
     ]
    },
    {
     "name": "stdout",
     "output_type": "stream",
     "text": [
      "val loss 0.5319839930280726\n"
     ]
    },
    {
     "name": "stderr",
     "output_type": "stream",
     "text": [
      "100%|██████████| 1410/1410 [00:54<00:00, 25.85it/s]\n",
      "  2%|▏         | 8/470 [00:00<00:06, 76.65it/s]"
     ]
    },
    {
     "name": "stdout",
     "output_type": "stream",
     "text": [
      "epoch 62 train loss 0.5342648074982014\n"
     ]
    },
    {
     "name": "stderr",
     "output_type": "stream",
     "text": [
      "100%|██████████| 470/470 [00:05<00:00, 78.68it/s]\n",
      "  0%|          | 3/1410 [00:00<00:52, 26.76it/s]"
     ]
    },
    {
     "name": "stdout",
     "output_type": "stream",
     "text": [
      "val loss 0.5316458619655446\n"
     ]
    },
    {
     "name": "stderr",
     "output_type": "stream",
     "text": [
      "100%|██████████| 1410/1410 [00:54<00:00, 25.90it/s]\n",
      "  2%|▏         | 8/470 [00:00<00:05, 77.57it/s]"
     ]
    },
    {
     "name": "stdout",
     "output_type": "stream",
     "text": [
      "epoch 63 train loss 0.5341503501783872\n"
     ]
    },
    {
     "name": "stderr",
     "output_type": "stream",
     "text": [
      "100%|██████████| 470/470 [00:05<00:00, 78.74it/s]\n",
      "  0%|          | 3/1410 [00:00<00:52, 26.71it/s]"
     ]
    },
    {
     "name": "stdout",
     "output_type": "stream",
     "text": [
      "val loss 0.5307096334213907\n"
     ]
    },
    {
     "name": "stderr",
     "output_type": "stream",
     "text": [
      "100%|██████████| 1410/1410 [00:54<00:00, 25.86it/s]\n",
      "  2%|▏         | 8/470 [00:00<00:05, 77.55it/s]"
     ]
    },
    {
     "name": "stdout",
     "output_type": "stream",
     "text": [
      "epoch 64 train loss 0.5342644012143426\n"
     ]
    },
    {
     "name": "stderr",
     "output_type": "stream",
     "text": [
      "100%|██████████| 470/470 [00:05<00:00, 78.71it/s]\n",
      "  0%|          | 3/1410 [00:00<00:52, 26.88it/s]"
     ]
    },
    {
     "name": "stdout",
     "output_type": "stream",
     "text": [
      "val loss 0.5334362861957956\n"
     ]
    },
    {
     "name": "stderr",
     "output_type": "stream",
     "text": [
      "100%|██████████| 1410/1410 [00:54<00:00, 25.88it/s]\n",
      "  2%|▏         | 8/470 [00:00<00:06, 75.76it/s]"
     ]
    },
    {
     "name": "stdout",
     "output_type": "stream",
     "text": [
      "epoch 65 train loss 0.5340901134707403\n"
     ]
    },
    {
     "name": "stderr",
     "output_type": "stream",
     "text": [
      "100%|██████████| 470/470 [00:05<00:00, 78.88it/s]\n",
      "  0%|          | 3/1410 [00:00<00:52, 26.97it/s]"
     ]
    },
    {
     "name": "stdout",
     "output_type": "stream",
     "text": [
      "val loss 0.5310285064768284\n"
     ]
    },
    {
     "name": "stderr",
     "output_type": "stream",
     "text": [
      " 14%|█▍        | 196/1410 [00:07<00:47, 25.75it/s]\n"
     ]
    },
    {
     "ename": "KeyboardInterrupt",
     "evalue": "",
     "output_type": "error",
     "traceback": [
      "\u001b[0;31m---------------------------------------------------------------------------\u001b[0m",
      "\u001b[0;31mKeyboardInterrupt\u001b[0m                         Traceback (most recent call last)",
      "\u001b[0;32m<ipython-input-57-960b2ba8cca3>\u001b[0m in \u001b[0;36m<module>\u001b[0;34m\u001b[0m\n\u001b[1;32m     47\u001b[0m \u001b[0;34m\u001b[0m\u001b[0m\n\u001b[1;32m     48\u001b[0m         \u001b[0moptimizer\u001b[0m\u001b[0;34m.\u001b[0m\u001b[0mzero_grad\u001b[0m\u001b[0;34m(\u001b[0m\u001b[0;34m)\u001b[0m\u001b[0;34m\u001b[0m\u001b[0;34m\u001b[0m\u001b[0m\n\u001b[0;32m---> 49\u001b[0;31m         \u001b[0mloss\u001b[0m\u001b[0;34m.\u001b[0m\u001b[0mbackward\u001b[0m\u001b[0;34m(\u001b[0m\u001b[0;34m)\u001b[0m\u001b[0;34m\u001b[0m\u001b[0;34m\u001b[0m\u001b[0m\n\u001b[0m\u001b[1;32m     50\u001b[0m         \u001b[0moptimizer\u001b[0m\u001b[0;34m.\u001b[0m\u001b[0mstep\u001b[0m\u001b[0;34m(\u001b[0m\u001b[0;34m)\u001b[0m\u001b[0;34m\u001b[0m\u001b[0;34m\u001b[0m\u001b[0m\n\u001b[1;32m     51\u001b[0m \u001b[0;34m\u001b[0m\u001b[0m\n",
      "\u001b[0;32m~/anaconda3/envs/py38/lib/python3.8/site-packages/torch/tensor.py\u001b[0m in \u001b[0;36mbackward\u001b[0;34m(self, gradient, retain_graph, create_graph)\u001b[0m\n\u001b[1;32m    219\u001b[0m                 \u001b[0mretain_graph\u001b[0m\u001b[0;34m=\u001b[0m\u001b[0mretain_graph\u001b[0m\u001b[0;34m,\u001b[0m\u001b[0;34m\u001b[0m\u001b[0;34m\u001b[0m\u001b[0m\n\u001b[1;32m    220\u001b[0m                 create_graph=create_graph)\n\u001b[0;32m--> 221\u001b[0;31m         \u001b[0mtorch\u001b[0m\u001b[0;34m.\u001b[0m\u001b[0mautograd\u001b[0m\u001b[0;34m.\u001b[0m\u001b[0mbackward\u001b[0m\u001b[0;34m(\u001b[0m\u001b[0mself\u001b[0m\u001b[0;34m,\u001b[0m \u001b[0mgradient\u001b[0m\u001b[0;34m,\u001b[0m \u001b[0mretain_graph\u001b[0m\u001b[0;34m,\u001b[0m \u001b[0mcreate_graph\u001b[0m\u001b[0;34m)\u001b[0m\u001b[0;34m\u001b[0m\u001b[0;34m\u001b[0m\u001b[0m\n\u001b[0m\u001b[1;32m    222\u001b[0m \u001b[0;34m\u001b[0m\u001b[0m\n\u001b[1;32m    223\u001b[0m     \u001b[0;32mdef\u001b[0m \u001b[0mregister_hook\u001b[0m\u001b[0;34m(\u001b[0m\u001b[0mself\u001b[0m\u001b[0;34m,\u001b[0m \u001b[0mhook\u001b[0m\u001b[0;34m)\u001b[0m\u001b[0;34m:\u001b[0m\u001b[0;34m\u001b[0m\u001b[0;34m\u001b[0m\u001b[0m\n",
      "\u001b[0;32m~/anaconda3/envs/py38/lib/python3.8/site-packages/torch/autograd/__init__.py\u001b[0m in \u001b[0;36mbackward\u001b[0;34m(tensors, grad_tensors, retain_graph, create_graph, grad_variables)\u001b[0m\n\u001b[1;32m    128\u001b[0m         \u001b[0mretain_graph\u001b[0m \u001b[0;34m=\u001b[0m \u001b[0mcreate_graph\u001b[0m\u001b[0;34m\u001b[0m\u001b[0;34m\u001b[0m\u001b[0m\n\u001b[1;32m    129\u001b[0m \u001b[0;34m\u001b[0m\u001b[0m\n\u001b[0;32m--> 130\u001b[0;31m     Variable._execution_engine.run_backward(\n\u001b[0m\u001b[1;32m    131\u001b[0m         \u001b[0mtensors\u001b[0m\u001b[0;34m,\u001b[0m \u001b[0mgrad_tensors_\u001b[0m\u001b[0;34m,\u001b[0m \u001b[0mretain_graph\u001b[0m\u001b[0;34m,\u001b[0m \u001b[0mcreate_graph\u001b[0m\u001b[0;34m,\u001b[0m\u001b[0;34m\u001b[0m\u001b[0;34m\u001b[0m\u001b[0m\n\u001b[1;32m    132\u001b[0m         allow_unreachable=True)  # allow_unreachable flag\n",
      "\u001b[0;31mKeyboardInterrupt\u001b[0m: "
     ]
    }
   ],
   "source": [
    "# training & validation\n",
    "lrate = 3e-4\n",
    "wdecay = 4e-3 #TODO: increase\n",
    "repulsion_w = 1e-5\n",
    "\n",
    "num_epoch = 100\n",
    "batch_size = 32\n",
    "\n",
    "nTotal = len(adj_idx)\n",
    "nTrain, nValid, nTest = int(nTotal*0.6), int(nTotal*0.2), int(nTotal*0.2)\n",
    "print(nTrain, nValid, nTest)\n",
    "xTrain = x[:nTrain][:,None,...]\n",
    "yTrain = y[:nTrain]\n",
    "sTrain = adj_idx[:nTrain]\n",
    "\n",
    "xValid = x[nTrain:nTrain+nValid][:,None,...]\n",
    "yValid = y[nTrain:nTrain+nValid]\n",
    "sValid = adj_idx[nTrain:nTrain+nValid]\n",
    "\n",
    "if not os.path.isfile(model_name) or 'train_loss' not in locals():\n",
    "    train_loss = []\n",
    "    val_loss = []\n",
    "min_val_loss = 1000\n",
    "obj = nn.MSELoss()\n",
    "for e in range(num_epoch):\n",
    "#     if e%50 == 0 and e>0:\n",
    "#         lrate = lrate * 0.8\n",
    "#     optimizer = SGD(model.parameters(), lr=lrate, weight_decay=wdecay, momentum=0.9, beta=1e-2)\n",
    "    optimizer = optim.Adam(model.parameters(), lr=lrate, weight_decay=wdecay)\n",
    "    \n",
    "    # train part\n",
    "    model.train()\n",
    "    # shuffle\n",
    "    xTrain, yTrain, sTrain = shuffle(xTrain, yTrain, sTrain)\n",
    "    cur_loss = []\n",
    "    for i in tqdm(range(nTrain//batch_size)):\n",
    "        batch_in = xTrain[i*batch_size:(i+1)*batch_size]\n",
    "        batch_gt = yTrain[i*batch_size:(i+1)*batch_size]\n",
    "        batch_s = [s[sTrain[i*batch_size:(i+1)*batch_size]] for s in supports]\n",
    "\n",
    "        out = model(batch_in, batch_s).squeeze()\n",
    "        loss = obj(out, batch_gt)\n",
    "        cur_loss.append(loss.item())\n",
    "        \n",
    "#         if i%150 == 0:\n",
    "#             print(i, 'loss', loss.item(), 'mape', util.masked_mape(out, batch_gt,0).item())\n",
    "        \n",
    "        optimizer.zero_grad()\n",
    "        loss.backward()\n",
    "        optimizer.step()\n",
    "\n",
    "    train_loss.append(np.mean(cur_loss))\n",
    "    print('epoch',e, 'train loss', np.mean(cur_loss))\n",
    "    # validate each epoch\n",
    "    model.eval()\n",
    "    cur_loss = []\n",
    "    for i in tqdm(range(nValid//batch_size)):\n",
    "        batch_in = xValid[i*batch_size:(i+1)*batch_size]\n",
    "        batch_gt = yValid[i*batch_size:(i+1)*batch_size]\n",
    "        batch_s = [s[sValid[i*batch_size:(i+1)*batch_size]] for s in supports]\n",
    "        \n",
    "        with torch.no_grad():\n",
    "            out = model(batch_in, batch_s).squeeze()\n",
    "        \n",
    "        loss = obj(out, batch_gt)\n",
    "        cur_loss.append(loss.item())\n",
    "        \n",
    "    val_loss.append(np.mean(cur_loss))\n",
    "    if val_loss[-1] < min_val_loss:\n",
    "        min_val_loss = val_loss[-1]\n",
    "        torch.save(model.state_dict(), model_name)\n",
    "    print('val loss', val_loss[-1])\n"
   ]
  },
  {
   "cell_type": "code",
   "execution_count": 58,
   "metadata": {},
   "outputs": [
    {
     "data": {
      "image/png": "[encoded data removed]",
      "text/plain": [
       "<Figure size 432x288 with 1 Axes>"
      ]
     },
     "metadata": {
      "needs_background": "light"
     },
     "output_type": "display_data"
    }
   ],
   "source": [
    "plt.plot(train_loss, label='train')\n",
    "plt.plot(val_loss, label='val')\n",
    "plt.legend()\n",
    "plt.show()"
   ]
  },
  {
   "cell_type": "code",
   "execution_count": 64,
   "metadata": {},
   "outputs": [
    {
     "name": "stderr",
     "output_type": "stream",
     "text": [
      "100%|██████████| 470/470 [00:05<00:00, 81.65it/s]\n"
     ]
    },
    {
     "name": "stdout",
     "output_type": "stream",
     "text": [
      "torch.Size([15040, 200, 10]) torch.Size([15040, 200, 10])\n"
     ]
    },
    {
     "ename": "KeyboardInterrupt",
     "evalue": "",
     "output_type": "error",
     "traceback": [
      "\u001b[0;31m---------------------------------------------------------------------------\u001b[0m",
      "\u001b[0;31mKeyboardInterrupt\u001b[0m                         Traceback (most recent call last)",
      "\u001b[0;32m<ipython-input-64-3c12ab3c537b>\u001b[0m in \u001b[0;36m<module>\u001b[0;34m\u001b[0m\n\u001b[1;32m     19\u001b[0m \u001b[0myTest\u001b[0m \u001b[0;34m=\u001b[0m \u001b[0myTest\u001b[0m\u001b[0;34m[\u001b[0m\u001b[0;34m:\u001b[0m\u001b[0mlen\u001b[0m\u001b[0;34m(\u001b[0m\u001b[0mtest_out\u001b[0m\u001b[0;34m)\u001b[0m\u001b[0;34m]\u001b[0m\u001b[0;34m\u001b[0m\u001b[0;34m\u001b[0m\u001b[0m\n\u001b[1;32m     20\u001b[0m \u001b[0mprint\u001b[0m\u001b[0;34m(\u001b[0m\u001b[0myTest\u001b[0m\u001b[0;34m.\u001b[0m\u001b[0mshape\u001b[0m\u001b[0;34m,\u001b[0m \u001b[0mtest_out\u001b[0m\u001b[0;34m.\u001b[0m\u001b[0mshape\u001b[0m\u001b[0;34m)\u001b[0m\u001b[0;34m\u001b[0m\u001b[0;34m\u001b[0m\u001b[0m\n\u001b[0;32m---> 21\u001b[0;31m \u001b[0mprint\u001b[0m\u001b[0;34m(\u001b[0m\u001b[0;34m'mape:'\u001b[0m\u001b[0;34m,\u001b[0m \u001b[0mutil\u001b[0m\u001b[0;34m.\u001b[0m\u001b[0mmasked_mape\u001b[0m\u001b[0;34m(\u001b[0m\u001b[0mtest_out\u001b[0m\u001b[0;34m,\u001b[0m \u001b[0myTest\u001b[0m\u001b[0;34m,\u001b[0m\u001b[0;36m0\u001b[0m\u001b[0;34m)\u001b[0m\u001b[0;34m.\u001b[0m\u001b[0mitem\u001b[0m\u001b[0;34m(\u001b[0m\u001b[0;34m)\u001b[0m\u001b[0;34m,\u001b[0m \u001b[0;34m'cc'\u001b[0m\u001b[0;34m,\u001b[0m \u001b[0mutil\u001b[0m\u001b[0;34m.\u001b[0m\u001b[0mget_cc\u001b[0m\u001b[0;34m(\u001b[0m\u001b[0mtest_out\u001b[0m\u001b[0;34m,\u001b[0m \u001b[0myTest\u001b[0m\u001b[0;34m)\u001b[0m\u001b[0;34m[\u001b[0m\u001b[0;36m0\u001b[0m\u001b[0;34m]\u001b[0m\u001b[0;34m)\u001b[0m\u001b[0;34m\u001b[0m\u001b[0;34m\u001b[0m\u001b[0m\n\u001b[0m",
      "\u001b[0;32m~/Documents/Graph-WaveNet/Utils/util.py\u001b[0m in \u001b[0;36mget_cc\u001b[0;34m(pred, real)\u001b[0m\n\u001b[1;32m    698\u001b[0m         \u001b[0;32mfor\u001b[0m \u001b[0mnode_i\u001b[0m \u001b[0;32min\u001b[0m \u001b[0mrange\u001b[0m\u001b[0;34m(\u001b[0m\u001b[0mpred\u001b[0m\u001b[0;34m.\u001b[0m\u001b[0mshape\u001b[0m\u001b[0;34m[\u001b[0m\u001b[0;36m2\u001b[0m\u001b[0;34m]\u001b[0m\u001b[0;34m)\u001b[0m\u001b[0;34m:\u001b[0m\u001b[0;34m\u001b[0m\u001b[0;34m\u001b[0m\u001b[0m\n\u001b[1;32m    699\u001b[0m             \u001b[0;31m# r, pval = pearsonr(pred[i][node_i].detach().cpu().numpy(),real[i][node_i].detach().cpu().numpy())\u001b[0m\u001b[0;34m\u001b[0m\u001b[0;34m\u001b[0m\u001b[0;34m\u001b[0m\u001b[0m\n\u001b[0;32m--> 700\u001b[0;31m             \u001b[0mr\u001b[0m\u001b[0;34m,\u001b[0m \u001b[0mpval\u001b[0m \u001b[0;34m=\u001b[0m \u001b[0mpearsonr\u001b[0m\u001b[0;34m(\u001b[0m\u001b[0mpred\u001b[0m\u001b[0;34m[\u001b[0m\u001b[0mi\u001b[0m\u001b[0;34m,\u001b[0m\u001b[0;34m:\u001b[0m\u001b[0;34m,\u001b[0m\u001b[0mnode_i\u001b[0m\u001b[0;34m]\u001b[0m\u001b[0;34m.\u001b[0m\u001b[0mdetach\u001b[0m\u001b[0;34m(\u001b[0m\u001b[0;34m)\u001b[0m\u001b[0;34m.\u001b[0m\u001b[0mcpu\u001b[0m\u001b[0;34m(\u001b[0m\u001b[0;34m)\u001b[0m\u001b[0;34m.\u001b[0m\u001b[0mnumpy\u001b[0m\u001b[0;34m(\u001b[0m\u001b[0;34m)\u001b[0m\u001b[0;34m,\u001b[0m\u001b[0mreal\u001b[0m\u001b[0;34m[\u001b[0m\u001b[0mi\u001b[0m\u001b[0;34m,\u001b[0m\u001b[0;34m:\u001b[0m\u001b[0;34m,\u001b[0m\u001b[0mnode_i\u001b[0m\u001b[0;34m]\u001b[0m\u001b[0;34m.\u001b[0m\u001b[0mdetach\u001b[0m\u001b[0;34m(\u001b[0m\u001b[0;34m)\u001b[0m\u001b[0;34m.\u001b[0m\u001b[0mcpu\u001b[0m\u001b[0;34m(\u001b[0m\u001b[0;34m)\u001b[0m\u001b[0;34m.\u001b[0m\u001b[0mnumpy\u001b[0m\u001b[0;34m(\u001b[0m\u001b[0;34m)\u001b[0m\u001b[0;34m)\u001b[0m\u001b[0;34m\u001b[0m\u001b[0;34m\u001b[0m\u001b[0m\n\u001b[0m\u001b[1;32m    701\u001b[0m             \u001b[0mcur_cc\u001b[0m\u001b[0;34m.\u001b[0m\u001b[0mappend\u001b[0m\u001b[0;34m(\u001b[0m\u001b[0mr\u001b[0m\u001b[0;34m)\u001b[0m\u001b[0;34m\u001b[0m\u001b[0;34m\u001b[0m\u001b[0m\n\u001b[1;32m    702\u001b[0m             \u001b[0;32mif\u001b[0m \u001b[0mpval\u001b[0m \u001b[0;34m<\u001b[0m \u001b[0mp_min\u001b[0m\u001b[0;34m:\u001b[0m\u001b[0;34m\u001b[0m\u001b[0;34m\u001b[0m\u001b[0m\n",
      "\u001b[0;32m~/anaconda3/envs/py38/lib/python3.8/site-packages/scipy/stats/stats.py\u001b[0m in \u001b[0;36mpearsonr\u001b[0;34m(x, y)\u001b[0m\n\u001b[1;32m   3865\u001b[0m     \u001b[0;31m# scipy.linalg.norm(xm) does not overflow if xm is, for example,\u001b[0m\u001b[0;34m\u001b[0m\u001b[0;34m\u001b[0m\u001b[0;34m\u001b[0m\u001b[0m\n\u001b[1;32m   3866\u001b[0m     \u001b[0;31m# [-5e210, 5e210, 3e200, -3e200]\u001b[0m\u001b[0;34m\u001b[0m\u001b[0;34m\u001b[0m\u001b[0;34m\u001b[0m\u001b[0m\n\u001b[0;32m-> 3867\u001b[0;31m     \u001b[0mnormxm\u001b[0m \u001b[0;34m=\u001b[0m \u001b[0mlinalg\u001b[0m\u001b[0;34m.\u001b[0m\u001b[0mnorm\u001b[0m\u001b[0;34m(\u001b[0m\u001b[0mxm\u001b[0m\u001b[0;34m)\u001b[0m\u001b[0;34m\u001b[0m\u001b[0;34m\u001b[0m\u001b[0m\n\u001b[0m\u001b[1;32m   3868\u001b[0m     \u001b[0mnormym\u001b[0m \u001b[0;34m=\u001b[0m \u001b[0mlinalg\u001b[0m\u001b[0;34m.\u001b[0m\u001b[0mnorm\u001b[0m\u001b[0;34m(\u001b[0m\u001b[0mym\u001b[0m\u001b[0;34m)\u001b[0m\u001b[0;34m\u001b[0m\u001b[0;34m\u001b[0m\u001b[0m\n\u001b[1;32m   3869\u001b[0m \u001b[0;34m\u001b[0m\u001b[0m\n",
      "\u001b[0;31mKeyboardInterrupt\u001b[0m: "
     ]
    }
   ],
   "source": [
    "# test\n",
    "yTest = y[-nTest:]\n",
    "xTest = x[-nTest:][:,None,...]\n",
    "sTest = adj_idx[-nTest:]\n",
    "\n",
    "test_out = []\n",
    "\n",
    "model.eval()\n",
    "for i in tqdm(range(nTest//batch_size)):\n",
    "    batch_in = xTest[i*batch_size:(i+1)*batch_size]\n",
    "    batch_gt = yTest[i*batch_size:(i+1)*batch_size]\n",
    "    batch_s = [s[sTest[i*batch_size:(i+1)*batch_size]] for s in supports]\n",
    "\n",
    "    with torch.no_grad():\n",
    "        out = model(batch_in, batch_s, viz=True).squeeze()\n",
    "    test_out.append(out)\n",
    "\n",
    "test_out = torch.cat(test_out)\n",
    "yTest = yTest[:len(test_out)]\n",
    "print(yTest.shape, test_out.shape)\n",
    "print('mape:', util.masked_mape(test_out, yTest,0).item(), 'cc', util.get_cc(test_out, yTest)[0])"
   ]
  },
  {
   "cell_type": "code",
   "execution_count": 63,
   "metadata": {},
   "outputs": [
    {
     "data": {
      "image/png": "[encoded data removed]",
      "text/plain": [
       "<Figure size 1152x720 with 20 Axes>"
      ]
     },
     "metadata": {
      "needs_background": "light"
     },
     "output_type": "display_data"
    }
   ],
   "source": [
    "i_num = 4\n",
    "j_num = 5\n",
    "plt.figure(figsize=(16,10))\n",
    "for i in range(i_num):\n",
    "    for j in range(j_num):\n",
    "        k = i*j_num+j+1\n",
    "#         print(k)\n",
    "        plt.subplot(i_num, j_num, k)\n",
    "        plt.plot(yTest[k+50,0].detach().cpu().numpy(), color='g')\n",
    "        plt.plot(test_out[k+50,0].detach().cpu().numpy(), color='r')\n",
    "plt.show()"
   ]
  },
  {
   "cell_type": "code",
   "execution_count": null,
   "metadata": {},
   "outputs": [],
   "source": []
  }
 ],
 "metadata": {
  "kernelspec": {
   "display_name": "Python 3",
   "language": "python",
   "name": "python3"
  },
  "language_info": {
   "codemirror_mode": {
    "name": "ipython",
    "version": 3
   },
   "file_extension": ".py",
   "mimetype": "text/x-python",
   "name": "python",
   "nbconvert_exporter": "python",
   "pygments_lexer": "ipython3",
   "version": "3.8.5"
  }
 },
 "nbformat": 4,
 "nbformat_minor": 4
}
