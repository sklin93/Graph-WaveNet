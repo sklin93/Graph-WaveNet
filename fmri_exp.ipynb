{
 "cells": [
  {
   "cell_type": "markdown",
   "metadata": {},
   "source": [
    "## For testing only on fMRI data without EEG\n",
    "replacing train file, still calling functions in engine and model"
   ]
  },
  {
   "cell_type": "code",
   "execution_count": 1,
   "metadata": {},
   "outputs": [],
   "source": [
    "import os\n",
    "import time\n",
    "import pickle\n",
    "import torch\n",
    "\n",
    "import numpy as np\n",
    "import scipy.sparse as sp\n",
    "from scipy.sparse import linalg\n",
    "from scipy.signal import butter,filtfilt, zpk2sos, sosfilt\n",
    "from scipy.stats.stats import pearsonr\n",
    "from sklearn.utils import shuffle\n",
    "\n",
    "from Utils import graphTools\n",
    "from Utils import dataTools\n",
    "from Utils.CRASH_loader import *\n",
    "from Utils.util import *\n",
    "from engine import *\n",
    "\n",
    "import ipdb\n",
    "from tqdm import tqdm"
   ]
  },
  {
   "cell_type": "code",
   "execution_count": 2,
   "metadata": {},
   "outputs": [],
   "source": [
    "np.random.seed(0)\n",
    "torch.manual_seed(999)\n",
    "if torch.cuda.is_available():\n",
    "    torch.cuda.manual_seed_all(999)\n",
    "    torch.cuda.empty_cache()\n",
    "\n",
    "''' args '''\n",
    "# data and processing configs\n",
    "adjtype = 'transition'\n",
    "addaptadj = True\n",
    "randomadj = True\n",
    "aptonly = False\n",
    "gcn_bool = True\n",
    "scatter = False\n",
    "\n",
    "tasks = ['rest','VWM-1','VWM-2','VWM-3','DYN-1','DYN-2','DYN-3','DYN-4','DOT','MOD','PVT']\n",
    "task = tasks[0]\n",
    "savedir = './garage/CRASH_'+task\n",
    "\n",
    "# model params\n",
    "in_dim = 1\n",
    "nhid = 32\n",
    "kernel_size = 2\n",
    "blocks = 8\n",
    "layers = 1\n",
    "# input length 40: B4-L2; 50: B5-L2\n",
    "\n",
    "# training params\n",
    "dropout = 0.3\n",
    "learning_rate = 3e-4\n",
    "weight_decay = 8e-3\n",
    "batch_size = 64\n",
    "epochs = 10\n",
    "print_every = 100\n",
    "device = torch.device('cuda:0')"
   ]
  },
  {
   "cell_type": "markdown",
   "metadata": {},
   "source": [
    "## 1. Data"
   ]
  },
  {
   "cell_type": "markdown",
   "metadata": {},
   "source": [
    "### load data"
   ]
  },
  {
   "cell_type": "code",
   "execution_count": 3,
   "metadata": {
    "scrolled": true
   },
   "outputs": [
    {
     "name": "stderr",
     "output_type": "stream",
     "text": [
      "\r",
      "  0%|          | 0/56 [00:00<?, ?it/s]"
     ]
    },
    {
     "name": "stdout",
     "output_type": "stream",
     "text": [
      "loading SC\n"
     ]
    },
    {
     "name": "stderr",
     "output_type": "stream",
     "text": [
      "100%|██████████| 56/56 [00:09<00:00,  5.71it/s]\n",
      "  0%|          | 0/56 [00:00<?, ?it/s]"
     ]
    },
    {
     "name": "stdout",
     "output_type": "stream",
     "text": [
      "loading fMRI\n"
     ]
    },
    {
     "name": "stderr",
     "output_type": "stream",
     "text": [
      "100%|██████████| 56/56 [00:11<00:00,  5.02it/s]\n"
     ]
    }
   ],
   "source": [
    "comn_ids = get_comn_ids(F_only=True)\n",
    "num_region = 200 # 200 or 400\n",
    "sc = get_sc(comn_ids, num_region)\n",
    "fmri = get_fmri(comn_ids, num_region, task)"
   ]
  },
  {
   "cell_type": "code",
   "execution_count": 4,
   "metadata": {},
   "outputs": [],
   "source": [
    "# # print fmri shape\n",
    "# for k in fmri:\n",
    "#     if k!= 'time_res':\n",
    "#         for j in fmri[k]:\n",
    "#             print(fmri[k][j].shape)"
   ]
  },
  {
   "cell_type": "markdown",
   "metadata": {},
   "source": [
    "### put data into matrices and process"
   ]
  },
  {
   "cell_type": "code",
   "execution_count": 5,
   "metadata": {},
   "outputs": [
    {
     "name": "stdout",
     "output_type": "stream",
     "text": [
      "(244, 200, 200)\n",
      "(244, 324, 200)\n"
     ]
    }
   ],
   "source": [
    "if task == tasks[0]:\n",
    "    fmri_len = 326\n",
    "    cut_out = 2\n",
    "elif task == tasks[1] or task == tasks[2] or task == tasks[3]:\n",
    "    fmri_len = 302\n",
    "    cut_out = 2\n",
    "elif task == tasks[4]:\n",
    "    fmri_len = 277\n",
    "    cut_out = 12\n",
    "elif task == tasks[9]:\n",
    "    fmri_len = 833\n",
    "    cut_out = 0\n",
    "\n",
    "scs = []\n",
    "fmri_mat = []\n",
    "adjs = []\n",
    "for subj in comn_ids:\n",
    "    for ses in fmri[subj]:\n",
    "        if ses in sc[subj] and len(fmri[subj][ses]) >= fmri_len:\n",
    "            scs.append(sc[subj][ses])\n",
    "            adjs.append(mod_adj(sc[subj][ses], adjtype))\n",
    "            fmri_mat.append(fmri[subj][ses][cut_out:fmri_len]) # removing the first several frames since they tend to spike\n",
    "\n",
    "scs = np.stack(scs)\n",
    "fmri_mat = np.stack(fmri_mat)\n",
    "\n",
    "print(scs.shape)\n",
    "print(fmri_mat.shape)"
   ]
  },
  {
   "cell_type": "code",
   "execution_count": 6,
   "metadata": {
    "scrolled": false
   },
   "outputs": [
    {
     "data": {
      "image/png": "[encoded data removed]",
      "text/plain": [
       "<Figure size 432x288 with 1 Axes>"
      ]
     },
     "metadata": {
      "needs_background": "light"
     },
     "output_type": "display_data"
    }
   ],
   "source": [
    "for i in range(15,20):\n",
    "    plt.plot(fmri_mat[0,:,i])\n",
    "plt.show()"
   ]
  },
  {
   "cell_type": "code",
   "execution_count": 7,
   "metadata": {},
   "outputs": [
    {
     "name": "stdout",
     "output_type": "stream",
     "text": [
      "valid sessions: 208\n"
     ]
    }
   ],
   "source": [
    "# only use the sessions without huge spikes: thresholding at 6\n",
    "valid_idx = []\n",
    "for i in range(len(fmri_mat)):\n",
    "    if np.abs(fmri_mat[i]).max() < 6 : \n",
    "        valid_idx.append(i)\n",
    "#     else: # to visualize invalid ones\n",
    "#         for j in range(200):\n",
    "#             plt.plot(fmri_mat[i,:,j])\n",
    "#         plt.show()\n",
    "\n",
    "print('valid sessions:', len(valid_idx))\n",
    "\n",
    "# only keep valid ones\n",
    "fmri_mat = fmri_mat[valid_idx]\n",
    "scs = scs[valid_idx]\n",
    "adjs = [adjs[i] for i in valid_idx]"
   ]
  },
  {
   "cell_type": "markdown",
   "metadata": {},
   "source": [
    "### choose whether low-pass filter fMRI or not"
   ]
  },
  {
   "cell_type": "code",
   "execution_count": 8,
   "metadata": {},
   "outputs": [
    {
     "data": {
      "image/png": "[encoded data removed]",
      "text/plain": [
       "<Figure size 432x288 with 1 Axes>"
      ]
     },
     "metadata": {
      "needs_background": "light"
     },
     "output_type": "display_data"
    },
    {
     "name": "stdout",
     "output_type": "stream",
     "text": [
      "most fMRI f: 0.0033916700583367246 Hz, aka 1/ 294.84000000000003 s\n"
     ]
    }
   ],
   "source": [
    "''' plot fmri signal in freq domain '''\n",
    "xf = np.fft.rfftfreq(fmri_mat.shape[1], d=0.91) # up to nyquist freq: 1/2*(1/0.91)\n",
    "yf = np.zeros_like(xf)\n",
    "for i in range(len(fmri_mat)):\n",
    "    for j in range(fmri_mat.shape[-1]):\n",
    "        tmp = fmri_mat[i, :, j]\n",
    "        yf += np.abs(np.fft.rfft(tmp) / len(tmp))\n",
    "\n",
    "yf /= (fmri_mat.shape[0]*fmri_mat.shape[-1])\n",
    "plt.plot(xf, yf)\n",
    "plt.show()\n",
    "highest_f_component = xf[np.where(yf == max(yf))[0][0]]\n",
    "print('most fMRI f:', highest_f_component, 'Hz, aka 1/', 1/highest_f_component, 's')"
   ]
  },
  {
   "cell_type": "code",
   "execution_count": 9,
   "metadata": {},
   "outputs": [
    {
     "data": {
      "image/png": "[encoded data removed]",
      "text/plain": [
       "<Figure size 432x288 with 1 Axes>"
      ]
     },
     "metadata": {
      "needs_background": "light"
     },
     "output_type": "display_data"
    }
   ],
   "source": [
    "''' low pass filter fMRI with 0.2 hz threshold '''\n",
    "if task == tasks[0] or task == tasks[4]:\n",
    "    cutoff = 0.2 #(1/0.91)/(2*3)\n",
    "elif task == tasks[1] or task == tasks[2]:\n",
    "    cutoff = 0.25\n",
    "\n",
    "for i in range(fmri_mat.shape[0]): #fmri_mat: (n, t, 200)\n",
    "    for j in range(fmri_mat.shape[-1]):\n",
    "        fmri_mat[i,:,j] = butter_lowpass_filter(fmri_mat[i,:,j], cutoff, 1/0.91)\n",
    "\n",
    "for i in range(5):\n",
    "    plt.plot(fmri_mat[0,:,i])\n",
    "plt.show()"
   ]
  },
  {
   "cell_type": "markdown",
   "metadata": {},
   "source": [
    "### sliding window to create x-y pairs"
   ]
  },
  {
   "cell_type": "code",
   "execution_count": 10,
   "metadata": {
    "scrolled": true
   },
   "outputs": [
    {
     "name": "stdout",
     "output_type": "stream",
     "text": [
      "[[  0   1   2 ...   7   8   9]\n",
      " [  1   2   3 ...   8   9  10]\n",
      " [  2   3   4 ...   9  10  11]\n",
      " ...\n",
      " [302 303 304 ... 309 310 311]\n",
      " [303 304 305 ... 310 311 312]\n",
      " [304 305 306 ... 311 312 313]]\n",
      "[[ 10  11  12 ...  17  18  19]\n",
      " [ 11  12  13 ...  18  19  20]\n",
      " [ 12  13  14 ...  19  20  21]\n",
      " ...\n",
      " [312 313 314 ... 319 320 321]\n",
      " [313 314 315 ... 320 321 322]\n",
      " [314 315 316 ... 321 322 323]]\n",
      "(208, 305, 10, 200)\n",
      "(63440, 10, 200)\n"
     ]
    }
   ],
   "source": [
    "### same input - output length\n",
    "\n",
    "window_len = 10\n",
    "f_stride = 1 # sliding window stride\n",
    "F_idxer = np.arange(window_len)[None, :] + np.arange(0, fmri_mat.shape[1] - window_len + 1, f_stride)[:, None]\n",
    "# print(F_idxer)\n",
    "\n",
    "x_idxer = F_idxer[:-window_len]\n",
    "y_idxer = F_idxer[window_len:]\n",
    "print(x_idxer)\n",
    "print(y_idxer)\n",
    "\n",
    "_input = fmri_mat[:, x_idxer, :]\n",
    "_gt = fmri_mat[:, y_idxer, :]\n",
    "print(_input.shape)\n",
    "_input = _input.reshape(-1, *_input.shape[2:])\n",
    "_gt = _gt.reshape(-1, *_gt.shape[2:])\n",
    "print(_input.shape)"
   ]
  },
  {
   "cell_type": "code",
   "execution_count": 11,
   "metadata": {},
   "outputs": [
    {
     "name": "stdout",
     "output_type": "stream",
     "text": [
      "[[  0   1   2 ...  17  18  19]\n",
      " [  1   2   3 ...  18  19  20]\n",
      " [  2   3   4 ...  19  20  21]\n",
      " ...\n",
      " [301 302 303 ... 318 319 320]\n",
      " [302 303 304 ... 319 320 321]\n",
      " [303 304 305 ... 320 321 322]]\n",
      "[[ 20]\n",
      " [ 21]\n",
      " [ 22]\n",
      " [ 23]\n",
      " [ 24]\n",
      " [ 25]\n",
      " [ 26]\n",
      " [ 27]\n",
      " [ 28]\n",
      " [ 29]\n",
      " [ 30]\n",
      " [ 31]\n",
      " [ 32]\n",
      " [ 33]\n",
      " [ 34]\n",
      " [ 35]\n",
      " [ 36]\n",
      " [ 37]\n",
      " [ 38]\n",
      " [ 39]\n",
      " [ 40]\n",
      " [ 41]\n",
      " [ 42]\n",
      " [ 43]\n",
      " [ 44]\n",
      " [ 45]\n",
      " [ 46]\n",
      " [ 47]\n",
      " [ 48]\n",
      " [ 49]\n",
      " [ 50]\n",
      " [ 51]\n",
      " [ 52]\n",
      " [ 53]\n",
      " [ 54]\n",
      " [ 55]\n",
      " [ 56]\n",
      " [ 57]\n",
      " [ 58]\n",
      " [ 59]\n",
      " [ 60]\n",
      " [ 61]\n",
      " [ 62]\n",
      " [ 63]\n",
      " [ 64]\n",
      " [ 65]\n",
      " [ 66]\n",
      " [ 67]\n",
      " [ 68]\n",
      " [ 69]\n",
      " [ 70]\n",
      " [ 71]\n",
      " [ 72]\n",
      " [ 73]\n",
      " [ 74]\n",
      " [ 75]\n",
      " [ 76]\n",
      " [ 77]\n",
      " [ 78]\n",
      " [ 79]\n",
      " [ 80]\n",
      " [ 81]\n",
      " [ 82]\n",
      " [ 83]\n",
      " [ 84]\n",
      " [ 85]\n",
      " [ 86]\n",
      " [ 87]\n",
      " [ 88]\n",
      " [ 89]\n",
      " [ 90]\n",
      " [ 91]\n",
      " [ 92]\n",
      " [ 93]\n",
      " [ 94]\n",
      " [ 95]\n",
      " [ 96]\n",
      " [ 97]\n",
      " [ 98]\n",
      " [ 99]\n",
      " [100]\n",
      " [101]\n",
      " [102]\n",
      " [103]\n",
      " [104]\n",
      " [105]\n",
      " [106]\n",
      " [107]\n",
      " [108]\n",
      " [109]\n",
      " [110]\n",
      " [111]\n",
      " [112]\n",
      " [113]\n",
      " [114]\n",
      " [115]\n",
      " [116]\n",
      " [117]\n",
      " [118]\n",
      " [119]\n",
      " [120]\n",
      " [121]\n",
      " [122]\n",
      " [123]\n",
      " [124]\n",
      " [125]\n",
      " [126]\n",
      " [127]\n",
      " [128]\n",
      " [129]\n",
      " [130]\n",
      " [131]\n",
      " [132]\n",
      " [133]\n",
      " [134]\n",
      " [135]\n",
      " [136]\n",
      " [137]\n",
      " [138]\n",
      " [139]\n",
      " [140]\n",
      " [141]\n",
      " [142]\n",
      " [143]\n",
      " [144]\n",
      " [145]\n",
      " [146]\n",
      " [147]\n",
      " [148]\n",
      " [149]\n",
      " [150]\n",
      " [151]\n",
      " [152]\n",
      " [153]\n",
      " [154]\n",
      " [155]\n",
      " [156]\n",
      " [157]\n",
      " [158]\n",
      " [159]\n",
      " [160]\n",
      " [161]\n",
      " [162]\n",
      " [163]\n",
      " [164]\n",
      " [165]\n",
      " [166]\n",
      " [167]\n",
      " [168]\n",
      " [169]\n",
      " [170]\n",
      " [171]\n",
      " [172]\n",
      " [173]\n",
      " [174]\n",
      " [175]\n",
      " [176]\n",
      " [177]\n",
      " [178]\n",
      " [179]\n",
      " [180]\n",
      " [181]\n",
      " [182]\n",
      " [183]\n",
      " [184]\n",
      " [185]\n",
      " [186]\n",
      " [187]\n",
      " [188]\n",
      " [189]\n",
      " [190]\n",
      " [191]\n",
      " [192]\n",
      " [193]\n",
      " [194]\n",
      " [195]\n",
      " [196]\n",
      " [197]\n",
      " [198]\n",
      " [199]\n",
      " [200]\n",
      " [201]\n",
      " [202]\n",
      " [203]\n",
      " [204]\n",
      " [205]\n",
      " [206]\n",
      " [207]\n",
      " [208]\n",
      " [209]\n",
      " [210]\n",
      " [211]\n",
      " [212]\n",
      " [213]\n",
      " [214]\n",
      " [215]\n",
      " [216]\n",
      " [217]\n",
      " [218]\n",
      " [219]\n",
      " [220]\n",
      " [221]\n",
      " [222]\n",
      " [223]\n",
      " [224]\n",
      " [225]\n",
      " [226]\n",
      " [227]\n",
      " [228]\n",
      " [229]\n",
      " [230]\n",
      " [231]\n",
      " [232]\n",
      " [233]\n",
      " [234]\n",
      " [235]\n",
      " [236]\n",
      " [237]\n",
      " [238]\n",
      " [239]\n",
      " [240]\n",
      " [241]\n",
      " [242]\n",
      " [243]\n",
      " [244]\n",
      " [245]\n",
      " [246]\n",
      " [247]\n",
      " [248]\n",
      " [249]\n",
      " [250]\n",
      " [251]\n",
      " [252]\n",
      " [253]\n",
      " [254]\n",
      " [255]\n",
      " [256]\n",
      " [257]\n",
      " [258]\n",
      " [259]\n",
      " [260]\n",
      " [261]\n",
      " [262]\n",
      " [263]\n",
      " [264]\n",
      " [265]\n",
      " [266]\n",
      " [267]\n",
      " [268]\n",
      " [269]\n",
      " [270]\n",
      " [271]\n",
      " [272]\n",
      " [273]\n",
      " [274]\n",
      " [275]\n",
      " [276]\n",
      " [277]\n",
      " [278]\n",
      " [279]\n",
      " [280]\n",
      " [281]\n",
      " [282]\n",
      " [283]\n",
      " [284]\n",
      " [285]\n",
      " [286]\n",
      " [287]\n",
      " [288]\n",
      " [289]\n",
      " [290]\n",
      " [291]\n",
      " [292]\n",
      " [293]\n",
      " [294]\n",
      " [295]\n",
      " [296]\n",
      " [297]\n",
      " [298]\n",
      " [299]\n",
      " [300]\n",
      " [301]\n",
      " [302]\n",
      " [303]\n",
      " [304]\n",
      " [305]\n",
      " [306]\n",
      " [307]\n",
      " [308]\n",
      " [309]\n",
      " [310]\n",
      " [311]\n",
      " [312]\n",
      " [313]\n",
      " [314]\n",
      " [315]\n",
      " [316]\n",
      " [317]\n",
      " [318]\n",
      " [319]\n",
      " [320]\n",
      " [321]\n",
      " [322]\n",
      " [323]]\n",
      "(304, 20) (304, 1)\n",
      "(208, 304, 20, 200) (208, 304, 1, 200)\n",
      "(63232, 20, 200) (63232, 1, 200)\n"
     ]
    }
   ],
   "source": [
    "### input longer than output\n",
    "\n",
    "window_len_x = 20\n",
    "window_len_y = 1\n",
    "f_stride = 1 # sliding window stride\n",
    "\n",
    "x_idxer = np.arange(window_len_x)[None, :] + np.arange(0, fmri_mat.shape[1] - window_len_x + 1, f_stride)[:, None]\n",
    "x_idxer = x_idxer[:-window_len_y]\n",
    "print(x_idxer)\n",
    "\n",
    "\n",
    "y_idxer = np.arange(window_len_y)[None, :] + np.arange(0, fmri_mat.shape[1] - window_len_y + 1, f_stride)[:, None]\n",
    "y_idxer = y_idxer[window_len_x:]\n",
    "print(y_idxer)\n",
    "\n",
    "print(x_idxer.shape, y_idxer.shape)\n",
    "\n",
    "_input = fmri_mat[:, x_idxer, :]\n",
    "_gt = fmri_mat[:, y_idxer, :]\n",
    "print(_input.shape, _gt.shape)\n",
    "_input = _input.reshape(-1, *_input.shape[2:])\n",
    "_gt = _gt.reshape(-1, *_gt.shape[2:])\n",
    "print(_input.shape, _gt.shape)"
   ]
  },
  {
   "cell_type": "code",
   "execution_count": 10,
   "metadata": {},
   "outputs": [
    {
     "name": "stdout",
     "output_type": "stream",
     "text": [
      "[[  0   1   2 ... 253 254 255]\n",
      " [  1   2   3 ... 254 255 256]\n",
      " [  2   3   4 ... 255 256 257]\n",
      " ...\n",
      " [ 66  67  68 ... 319 320 321]\n",
      " [ 67  68  69 ... 320 321 322]\n",
      " [ 68  69  70 ... 321 322 323]]\n",
      "(208, 69, 256, 200)\n",
      "(14352, 256, 200)\n"
     ]
    }
   ],
   "source": [
    "### same in-out autoencoder\n",
    "\n",
    "window_len_x = 256\n",
    "f_stride = 1 # sliding window stride\n",
    "\n",
    "x_idxer = np.arange(window_len_x)[None, :] + np.arange(0, fmri_mat.shape[1] - window_len_x + 1, f_stride)[:, None]\n",
    "print(x_idxer)\n",
    "\n",
    "_input = fmri_mat[:, x_idxer, :]\n",
    "print(_input.shape)\n",
    "_input = _input.reshape(-1, *_input.shape[2:])\n",
    "print(_input.shape)"
   ]
  },
  {
   "cell_type": "code",
   "execution_count": 12,
   "metadata": {},
   "outputs": [],
   "source": [
    "'''randomize SC entries to see the sensitivity to SC'''\n",
    "if False:\n",
    "    import networkx as nx\n",
    "    # use completely random SC w/ same level of sparsity\n",
    "    n = _input.shape[-1] # number of nodes\n",
    "    p = np.count_nonzero(adj_mx[0][0]) / (n*(n-1)/2) # probability for edge creation\n",
    "    _G = nx.gnp_random_graph(n, p)\n",
    "    # _G = nx.newman_watts_strogatz_graph(n,5,p)\n",
    "    # _G = nx.gnm_random_graph(n, np.count_nonzero(adj_mx[0][0]))\n",
    "    for i in range(len(adj_mx)):\n",
    "        # _G = nx.gnp_random_graph(n, p)\n",
    "        adj_mx[i] = mod_adj(nx.to_numpy_matrix(_G), adjtype)"
   ]
  },
  {
   "cell_type": "code",
   "execution_count": 11,
   "metadata": {},
   "outputs": [],
   "source": [
    "def proc_helper(a, b, len_adj, no_scaler=False):\n",
    "    assert len(a) == len(b), 'input length do not match'\n",
    "    assert len(a) % len_adj == 0\n",
    "\n",
    "    # deal with adj_mx repetitions (using idx)\n",
    "    adj_mx_idx = np.arange(len_adj).repeat(len(a)//len_adj)\n",
    "    # shuffle for mixing different subjects' image\n",
    "    adj_mx_idx, a, b = shuffle(adj_mx_idx, a, b, random_state = 0)\n",
    "    # train-val-test split\n",
    "    num_total = len(a)\n",
    "    nTrain = round(0.7 * num_total)\n",
    "    nValid = round(0.15 * num_total)\n",
    "    nTest = num_total - nTrain - nValid\n",
    "    print('Train, Val, Test numbers:', nTrain, nValid, nTest)\n",
    "    if no_scaler:\n",
    "        return nTrain, nValid, nTest, a, b, None, None, adj_mx_idx\n",
    "    \n",
    "    # # overall scaler\n",
    "    scaler_a = util.StandardScaler(mean=a[:nTrain].mean(), std=a[:nTrain].std())\n",
    "    a = scaler_a.transform(a)\n",
    "    ### TODO: fmri alone can only use train data for the scaler, revise here\n",
    "\n",
    "    # per-node standardization\n",
    "#     scaler_a = StandardScaler(a.mean((0,1)), a.std((0,1)))\n",
    "    \n",
    "    a = scaler_a.transform(a.reshape(-1, a.shape[-1])).reshape(a.shape)\n",
    "    return nTrain, nValid, nTest, a, b, scaler_a, adj_mx_idx"
   ]
  },
  {
   "cell_type": "code",
   "execution_count": 12,
   "metadata": {},
   "outputs": [
    {
     "name": "stdout",
     "output_type": "stream",
     "text": [
      "Train, Val, Test numbers: 10046 2153 2153\n"
     ]
    }
   ],
   "source": [
    "# nTrain, nValid, nTest, _input, _gt, scaler_x, adj_mx_idx = proc_helper(_input, _gt, len(adjs))\n",
    "nTrain, nValid, nTest, _input, _, scaler_x, adj_mx_idx = proc_helper(_input, _input, len(adjs)) #same in-out autoencoder"
   ]
  },
  {
   "cell_type": "markdown",
   "metadata": {},
   "source": [
    "### adj related init"
   ]
  },
  {
   "cell_type": "code",
   "execution_count": 13,
   "metadata": {},
   "outputs": [],
   "source": [
    "# separate adj matrices into train-val-test samples\n",
    "# ipdb.set_trace() # shuffle adj to test rand adj's influence\n",
    "\n",
    "_adj = [[] for i in range(len(adjs[0]))]\n",
    "for a in adjs:\n",
    "    for i in range(len(_adj)):\n",
    "        _adj[i].append(a[i])\n",
    "adjs = [np.stack(np.asarray(i)) for i in _adj]\n",
    "\n",
    "supports = {}\n",
    "supports['train'] = supports['val'] = supports['test'] = adjs\n",
    "\n",
    "adjinit = None\n",
    "if addaptadj:\n",
    "    adjinit = {}\n",
    "    if randomadj:\n",
    "        adjinit['train'] = adjinit['val'] = adjinit['test'] = None\n",
    "    else:\n",
    "        adjinit['train'] = np.concatenate([adjs[c][0][None,...] for c in adj_mx_idx[:nTrain]]) \n",
    "        adjinit['val'] = np.concatenate([adjs[c][0][None,...] for c in adj_mx_idx[nTrain:-nTest]])\n",
    "        adjinit['test'] = np.concatenate([adjs[c][0][None,...] for c in adj_mx_idx[-nTest:]])\n",
    "\n",
    "    if aptonly:\n",
    "        supports = None"
   ]
  },
  {
   "cell_type": "markdown",
   "metadata": {},
   "source": [
    "## 2. Training and validation"
   ]
  },
  {
   "cell_type": "markdown",
   "metadata": {},
   "source": [
    "### create engine"
   ]
  },
  {
   "cell_type": "code",
   "execution_count": 14,
   "metadata": {
    "scrolled": true
   },
   "outputs": [
    {
     "ename": "NameError",
     "evalue": "name '_gt' is not defined",
     "output_type": "error",
     "traceback": [
      "\u001b[0;31m---------------------------------------------------------------------------\u001b[0m",
      "\u001b[0;31mNameError\u001b[0m                                 Traceback (most recent call last)",
      "\u001b[0;32m<ipython-input-14-d878d713f84d>\u001b[0m in \u001b[0;36m<module>\u001b[0;34m\u001b[0m\n\u001b[1;32m      2\u001b[0m                  \u001b[0mdropout\u001b[0m\u001b[0;34m,\u001b[0m \u001b[0mlearning_rate\u001b[0m\u001b[0;34m,\u001b[0m \u001b[0mweight_decay\u001b[0m\u001b[0;34m,\u001b[0m \u001b[0mdevice\u001b[0m\u001b[0;34m,\u001b[0m\u001b[0;34m\u001b[0m\u001b[0;34m\u001b[0m\u001b[0m\n\u001b[1;32m      3\u001b[0m                  \u001b[0msupports\u001b[0m\u001b[0;34m,\u001b[0m \u001b[0mgcn_bool\u001b[0m\u001b[0;34m,\u001b[0m \u001b[0maddaptadj\u001b[0m\u001b[0;34m,\u001b[0m \u001b[0madjinit\u001b[0m\u001b[0;34m,\u001b[0m \u001b[0mkernel_size\u001b[0m\u001b[0;34m,\u001b[0m\u001b[0;34m\u001b[0m\u001b[0;34m\u001b[0m\u001b[0m\n\u001b[0;32m----> 4\u001b[0;31m                  \u001b[0mblocks\u001b[0m\u001b[0;34m,\u001b[0m \u001b[0mlayers\u001b[0m\u001b[0;34m,\u001b[0m \u001b[0mout_nodes\u001b[0m\u001b[0;34m=\u001b[0m\u001b[0m_gt\u001b[0m\u001b[0;34m.\u001b[0m\u001b[0mshape\u001b[0m\u001b[0;34m[\u001b[0m\u001b[0;34m-\u001b[0m\u001b[0;36m1\u001b[0m\u001b[0;34m]\u001b[0m\u001b[0;34m,\u001b[0m \u001b[0mF_t\u001b[0m\u001b[0;34m=\u001b[0m\u001b[0;36m1\u001b[0m\u001b[0;34m,\u001b[0m\u001b[0;31m#window_len_x/window_len_y,\u001b[0m\u001b[0;34m\u001b[0m\u001b[0;34m\u001b[0m\u001b[0m\n\u001b[0m\u001b[1;32m      5\u001b[0m                  subsample=False, F_only=True, batch_size=batch_size)\n",
      "\u001b[0;31mNameError\u001b[0m: name '_gt' is not defined"
     ]
    }
   ],
   "source": [
    "engine = trainer(scaler_x, in_dim, window_len_x, _input.shape[-1], nhid, \n",
    "                 dropout, learning_rate, weight_decay, device, \n",
    "                 supports, gcn_bool, addaptadj, adjinit, kernel_size,\n",
    "                 blocks, layers, out_nodes=_gt.shape[-1], F_t=window_len_x/window_len_y,\n",
    "                 subsample=False, F_only=True, batch_size=batch_size)"
   ]
  },
  {
   "cell_type": "code",
   "execution_count": 16,
   "metadata": {},
   "outputs": [],
   "source": [
    "# plt.imshow(engine.model.nodevec.detach().cpu().numpy())"
   ]
  },
  {
   "cell_type": "markdown",
   "metadata": {},
   "source": [
    "### train-val loop"
   ]
  },
  {
   "cell_type": "code",
   "execution_count": 17,
   "metadata": {},
   "outputs": [],
   "source": [
    "# locals().keys()"
   ]
  },
  {
   "cell_type": "code",
   "execution_count": 15,
   "metadata": {
    "scrolled": true
   },
   "outputs": [
    {
     "name": "stdout",
     "output_type": "stream",
     "text": [
      "start training...\n"
     ]
    },
    {
     "ename": "RuntimeError",
     "evalue": "CUDA out of memory. Tried to allocate 938.00 MiB (GPU 0; 10.92 GiB total capacity; 9.98 GiB already allocated; 251.44 MiB free; 9.99 GiB reserved in total by PyTorch)",
     "output_type": "error",
     "traceback": [
      "\u001b[0;31m---------------------------------------------------------------------------\u001b[0m",
      "\u001b[0;31mRuntimeError\u001b[0m                              Traceback (most recent call last)",
      "\u001b[0;32m<ipython-input-15-9bcce1b725d9>\u001b[0m in \u001b[0;36m<module>\u001b[0;34m\u001b[0m\n\u001b[1;32m     70\u001b[0m             \u001b[0m_y\u001b[0m \u001b[0;34m=\u001b[0m \u001b[0mtorch\u001b[0m\u001b[0;34m.\u001b[0m\u001b[0mTensor\u001b[0m\u001b[0;34m(\u001b[0m\u001b[0my\u001b[0m\u001b[0;34m[\u001b[0m\u001b[0mbatch_i\u001b[0m \u001b[0;34m*\u001b[0m \u001b[0mbatch_size\u001b[0m\u001b[0;34m:\u001b[0m \u001b[0;34m(\u001b[0m\u001b[0mbatch_i\u001b[0m \u001b[0;34m+\u001b[0m \u001b[0;36m1\u001b[0m\u001b[0;34m)\u001b[0m \u001b[0;34m*\u001b[0m \u001b[0mbatch_size\u001b[0m\u001b[0;34m]\u001b[0m\u001b[0;34m)\u001b[0m\u001b[0;34m.\u001b[0m\u001b[0mto\u001b[0m\u001b[0;34m(\u001b[0m\u001b[0mdevice\u001b[0m\u001b[0;34m)\u001b[0m\u001b[0;34m\u001b[0m\u001b[0;34m\u001b[0m\u001b[0m\n\u001b[1;32m     71\u001b[0m \u001b[0;34m\u001b[0m\u001b[0m\n\u001b[0;32m---> 72\u001b[0;31m         \u001b[0mmetrics\u001b[0m \u001b[0;34m=\u001b[0m \u001b[0mengine\u001b[0m\u001b[0;34m.\u001b[0m\u001b[0mtrain_CRASH\u001b[0m\u001b[0;34m(\u001b[0m\u001b[0m_x\u001b[0m\u001b[0;34m,\u001b[0m \u001b[0m_y\u001b[0m\u001b[0;34m,\u001b[0m \u001b[0;32mNone\u001b[0m\u001b[0;34m,\u001b[0m \u001b[0;34m{\u001b[0m\u001b[0;34m}\u001b[0m\u001b[0;34m,\u001b[0m \u001b[0m_adj_idx\u001b[0m\u001b[0;34m)\u001b[0m \u001b[0;31m# region assignment temporarily use {}, TODO: pooling\u001b[0m\u001b[0;34m\u001b[0m\u001b[0;34m\u001b[0m\u001b[0m\n\u001b[0m\u001b[1;32m     73\u001b[0m \u001b[0;34m\u001b[0m\u001b[0m\n\u001b[1;32m     74\u001b[0m         \u001b[0mtrain_loss\u001b[0m\u001b[0;34m.\u001b[0m\u001b[0mappend\u001b[0m\u001b[0;34m(\u001b[0m\u001b[0mmetrics\u001b[0m\u001b[0;34m[\u001b[0m\u001b[0;36m0\u001b[0m\u001b[0;34m]\u001b[0m\u001b[0;34m)\u001b[0m\u001b[0;34m\u001b[0m\u001b[0;34m\u001b[0m\u001b[0m\n",
      "\u001b[0;32m~/Documents/Graph-WaveNet/engine.py\u001b[0m in \u001b[0;36mtrain_CRASH\u001b[0;34m(self, input, real_F, real_E, assign_dict, adj_idx)\u001b[0m\n\u001b[1;32m    306\u001b[0m                 \u001b[0maptinit\u001b[0m \u001b[0;34m=\u001b[0m \u001b[0mtorch\u001b[0m\u001b[0;34m.\u001b[0m\u001b[0mTensor\u001b[0m\u001b[0;34m(\u001b[0m\u001b[0maptinit\u001b[0m\u001b[0;34m[\u001b[0m\u001b[0madj_idx\u001b[0m\u001b[0;34m]\u001b[0m\u001b[0;34m)\u001b[0m\u001b[0;34m.\u001b[0m\u001b[0mto\u001b[0m\u001b[0;34m(\u001b[0m\u001b[0mself\u001b[0m\u001b[0;34m.\u001b[0m\u001b[0mdevice\u001b[0m\u001b[0;34m)\u001b[0m\u001b[0;34m\u001b[0m\u001b[0;34m\u001b[0m\u001b[0m\n\u001b[1;32m    307\u001b[0m \u001b[0;34m\u001b[0m\u001b[0m\n\u001b[0;32m--> 308\u001b[0;31m         \u001b[0moutput\u001b[0m \u001b[0;34m=\u001b[0m \u001b[0mself\u001b[0m\u001b[0;34m.\u001b[0m\u001b[0mmodel\u001b[0m\u001b[0;34m(\u001b[0m\u001b[0minput\u001b[0m\u001b[0;34m,\u001b[0m \u001b[0msupports\u001b[0m\u001b[0;34m,\u001b[0m \u001b[0maptinit\u001b[0m\u001b[0;34m)\u001b[0m\u001b[0;34m\u001b[0m\u001b[0;34m\u001b[0m\u001b[0m\n\u001b[0m\u001b[1;32m    309\u001b[0m         \u001b[0;31m# output = self.model(input) # validate SC\u001b[0m\u001b[0;34m\u001b[0m\u001b[0;34m\u001b[0m\u001b[0;34m\u001b[0m\u001b[0m\n\u001b[1;32m    310\u001b[0m \u001b[0;34m\u001b[0m\u001b[0m\n",
      "\u001b[0;32m~/anaconda3/envs/py38/lib/python3.8/site-packages/torch/nn/modules/module.py\u001b[0m in \u001b[0;36m_call_impl\u001b[0;34m(self, *input, **kwargs)\u001b[0m\n\u001b[1;32m    725\u001b[0m             \u001b[0mresult\u001b[0m \u001b[0;34m=\u001b[0m \u001b[0mself\u001b[0m\u001b[0;34m.\u001b[0m\u001b[0m_slow_forward\u001b[0m\u001b[0;34m(\u001b[0m\u001b[0;34m*\u001b[0m\u001b[0minput\u001b[0m\u001b[0;34m,\u001b[0m \u001b[0;34m**\u001b[0m\u001b[0mkwargs\u001b[0m\u001b[0;34m)\u001b[0m\u001b[0;34m\u001b[0m\u001b[0;34m\u001b[0m\u001b[0m\n\u001b[1;32m    726\u001b[0m         \u001b[0;32melse\u001b[0m\u001b[0;34m:\u001b[0m\u001b[0;34m\u001b[0m\u001b[0;34m\u001b[0m\u001b[0m\n\u001b[0;32m--> 727\u001b[0;31m             \u001b[0mresult\u001b[0m \u001b[0;34m=\u001b[0m \u001b[0mself\u001b[0m\u001b[0;34m.\u001b[0m\u001b[0mforward\u001b[0m\u001b[0;34m(\u001b[0m\u001b[0;34m*\u001b[0m\u001b[0minput\u001b[0m\u001b[0;34m,\u001b[0m \u001b[0;34m**\u001b[0m\u001b[0mkwargs\u001b[0m\u001b[0;34m)\u001b[0m\u001b[0;34m\u001b[0m\u001b[0;34m\u001b[0m\u001b[0m\n\u001b[0m\u001b[1;32m    728\u001b[0m         for hook in itertools.chain(\n\u001b[1;32m    729\u001b[0m                 \u001b[0m_global_forward_hooks\u001b[0m\u001b[0;34m.\u001b[0m\u001b[0mvalues\u001b[0m\u001b[0;34m(\u001b[0m\u001b[0;34m)\u001b[0m\u001b[0;34m,\u001b[0m\u001b[0;34m\u001b[0m\u001b[0;34m\u001b[0m\u001b[0m\n",
      "\u001b[0;32m~/Documents/Graph-WaveNet/model.py\u001b[0m in \u001b[0;36mforward\u001b[0;34m(self, input, supports, aptinit, viz)\u001b[0m\n\u001b[1;32m   1491\u001b[0m                 \u001b[0;32mif\u001b[0m \u001b[0mi\u001b[0m \u001b[0;34m%\u001b[0m \u001b[0mself\u001b[0m\u001b[0;34m.\u001b[0m\u001b[0mlayers\u001b[0m \u001b[0;34m==\u001b[0m \u001b[0mself\u001b[0m\u001b[0;34m.\u001b[0m\u001b[0mlayers\u001b[0m\u001b[0;34m-\u001b[0m\u001b[0;36m1\u001b[0m\u001b[0;34m:\u001b[0m\u001b[0;34m\u001b[0m\u001b[0;34m\u001b[0m\u001b[0m\n\u001b[1;32m   1492\u001b[0m                     \u001b[0;31m# ipdb.set_trace()\u001b[0m\u001b[0;34m\u001b[0m\u001b[0;34m\u001b[0m\u001b[0;34m\u001b[0m\u001b[0m\n\u001b[0;32m-> 1493\u001b[0;31m                     \u001b[0mS\u001b[0m \u001b[0;34m=\u001b[0m \u001b[0mself\u001b[0m\u001b[0;34m.\u001b[0m\u001b[0mgconv_pool\u001b[0m\u001b[0;34m[\u001b[0m\u001b[0mi\u001b[0m \u001b[0;34m//\u001b[0m \u001b[0mself\u001b[0m\u001b[0;34m.\u001b[0m\u001b[0mlayers\u001b[0m\u001b[0;34m]\u001b[0m\u001b[0;34m(\u001b[0m\u001b[0mx\u001b[0m\u001b[0;34m,\u001b[0m \u001b[0mself\u001b[0m\u001b[0;34m.\u001b[0m\u001b[0mdummy_tensor\u001b[0m\u001b[0;34m,\u001b[0m \u001b[0;34m*\u001b[0m\u001b[0mnew_supports\u001b[0m\u001b[0;34m)\u001b[0m\u001b[0;34m\u001b[0m\u001b[0;34m\u001b[0m\u001b[0m\n\u001b[0m\u001b[1;32m   1494\u001b[0m                     \u001b[0mx\u001b[0m \u001b[0;34m=\u001b[0m \u001b[0mdense_diff_pool\u001b[0m\u001b[0;34m(\u001b[0m\u001b[0mx\u001b[0m\u001b[0;34m,\u001b[0m \u001b[0mS\u001b[0m\u001b[0;34m,\u001b[0m \u001b[0;34m*\u001b[0m\u001b[0mnew_supports\u001b[0m\u001b[0;34m)\u001b[0m\u001b[0;34m\u001b[0m\u001b[0;34m\u001b[0m\u001b[0m\n\u001b[1;32m   1495\u001b[0m                     \u001b[0;31m# S = eval(\"self.gcn_pool\" + str(u) + \"(x, self.dummy_tensor, *new_supports)\")\u001b[0m\u001b[0;34m\u001b[0m\u001b[0;34m\u001b[0m\u001b[0;34m\u001b[0m\u001b[0m\n",
      "\u001b[0;32m~/anaconda3/envs/py38/lib/python3.8/site-packages/torch/nn/modules/module.py\u001b[0m in \u001b[0;36m_call_impl\u001b[0;34m(self, *input, **kwargs)\u001b[0m\n\u001b[1;32m    725\u001b[0m             \u001b[0mresult\u001b[0m \u001b[0;34m=\u001b[0m \u001b[0mself\u001b[0m\u001b[0;34m.\u001b[0m\u001b[0m_slow_forward\u001b[0m\u001b[0;34m(\u001b[0m\u001b[0;34m*\u001b[0m\u001b[0minput\u001b[0m\u001b[0;34m,\u001b[0m \u001b[0;34m**\u001b[0m\u001b[0mkwargs\u001b[0m\u001b[0;34m)\u001b[0m\u001b[0;34m\u001b[0m\u001b[0;34m\u001b[0m\u001b[0m\n\u001b[1;32m    726\u001b[0m         \u001b[0;32melse\u001b[0m\u001b[0;34m:\u001b[0m\u001b[0;34m\u001b[0m\u001b[0;34m\u001b[0m\u001b[0m\n\u001b[0;32m--> 727\u001b[0;31m             \u001b[0mresult\u001b[0m \u001b[0;34m=\u001b[0m \u001b[0mself\u001b[0m\u001b[0;34m.\u001b[0m\u001b[0mforward\u001b[0m\u001b[0;34m(\u001b[0m\u001b[0;34m*\u001b[0m\u001b[0minput\u001b[0m\u001b[0;34m,\u001b[0m \u001b[0;34m**\u001b[0m\u001b[0mkwargs\u001b[0m\u001b[0;34m)\u001b[0m\u001b[0;34m\u001b[0m\u001b[0;34m\u001b[0m\u001b[0m\n\u001b[0m\u001b[1;32m    728\u001b[0m         for hook in itertools.chain(\n\u001b[1;32m    729\u001b[0m                 \u001b[0m_global_forward_hooks\u001b[0m\u001b[0;34m.\u001b[0m\u001b[0mvalues\u001b[0m\u001b[0;34m(\u001b[0m\u001b[0;34m)\u001b[0m\u001b[0;34m,\u001b[0m\u001b[0;34m\u001b[0m\u001b[0;34m\u001b[0m\u001b[0m\n",
      "\u001b[0;32m~/Documents/Graph-WaveNet/model.py\u001b[0m in \u001b[0;36mforward\u001b[0;34m(self, x, dummy_tensor, *support)\u001b[0m\n\u001b[1;32m    130\u001b[0m         \u001b[0;31m# len(out)=order*support_len+1 (7); each:[64, 32, 80, 15]\u001b[0m\u001b[0;34m\u001b[0m\u001b[0;34m\u001b[0m\u001b[0;34m\u001b[0m\u001b[0m\n\u001b[1;32m    131\u001b[0m         \u001b[0mh\u001b[0m \u001b[0;34m=\u001b[0m \u001b[0mtorch\u001b[0m\u001b[0;34m.\u001b[0m\u001b[0mcat\u001b[0m\u001b[0;34m(\u001b[0m\u001b[0mout\u001b[0m\u001b[0;34m,\u001b[0m\u001b[0mdim\u001b[0m\u001b[0;34m=\u001b[0m\u001b[0;36m1\u001b[0m\u001b[0;34m)\u001b[0m\u001b[0;34m\u001b[0m\u001b[0;34m\u001b[0m\u001b[0m\n\u001b[0;32m--> 132\u001b[0;31m         \u001b[0mh\u001b[0m \u001b[0;34m=\u001b[0m \u001b[0mself\u001b[0m\u001b[0;34m.\u001b[0m\u001b[0mmlp\u001b[0m\u001b[0;34m(\u001b[0m\u001b[0mh\u001b[0m\u001b[0;34m)\u001b[0m\u001b[0;34m\u001b[0m\u001b[0;34m\u001b[0m\u001b[0m\n\u001b[0m\u001b[1;32m    133\u001b[0m         \u001b[0mh\u001b[0m \u001b[0;34m=\u001b[0m \u001b[0mF\u001b[0m\u001b[0;34m.\u001b[0m\u001b[0mdropout\u001b[0m\u001b[0;34m(\u001b[0m\u001b[0mh\u001b[0m\u001b[0;34m,\u001b[0m \u001b[0mself\u001b[0m\u001b[0;34m.\u001b[0m\u001b[0mdropout\u001b[0m\u001b[0;34m,\u001b[0m \u001b[0mtraining\u001b[0m\u001b[0;34m=\u001b[0m\u001b[0mself\u001b[0m\u001b[0;34m.\u001b[0m\u001b[0mtraining\u001b[0m\u001b[0;34m)\u001b[0m\u001b[0;34m\u001b[0m\u001b[0;34m\u001b[0m\u001b[0m\n\u001b[1;32m    134\u001b[0m         \u001b[0;32mreturn\u001b[0m \u001b[0mh\u001b[0m\u001b[0;34m\u001b[0m\u001b[0;34m\u001b[0m\u001b[0m\n",
      "\u001b[0;32m~/anaconda3/envs/py38/lib/python3.8/site-packages/torch/nn/modules/module.py\u001b[0m in \u001b[0;36m_call_impl\u001b[0;34m(self, *input, **kwargs)\u001b[0m\n\u001b[1;32m    725\u001b[0m             \u001b[0mresult\u001b[0m \u001b[0;34m=\u001b[0m \u001b[0mself\u001b[0m\u001b[0;34m.\u001b[0m\u001b[0m_slow_forward\u001b[0m\u001b[0;34m(\u001b[0m\u001b[0;34m*\u001b[0m\u001b[0minput\u001b[0m\u001b[0;34m,\u001b[0m \u001b[0;34m**\u001b[0m\u001b[0mkwargs\u001b[0m\u001b[0;34m)\u001b[0m\u001b[0;34m\u001b[0m\u001b[0;34m\u001b[0m\u001b[0m\n\u001b[1;32m    726\u001b[0m         \u001b[0;32melse\u001b[0m\u001b[0;34m:\u001b[0m\u001b[0;34m\u001b[0m\u001b[0;34m\u001b[0m\u001b[0m\n\u001b[0;32m--> 727\u001b[0;31m             \u001b[0mresult\u001b[0m \u001b[0;34m=\u001b[0m \u001b[0mself\u001b[0m\u001b[0;34m.\u001b[0m\u001b[0mforward\u001b[0m\u001b[0;34m(\u001b[0m\u001b[0;34m*\u001b[0m\u001b[0minput\u001b[0m\u001b[0;34m,\u001b[0m \u001b[0;34m**\u001b[0m\u001b[0mkwargs\u001b[0m\u001b[0;34m)\u001b[0m\u001b[0;34m\u001b[0m\u001b[0;34m\u001b[0m\u001b[0m\n\u001b[0m\u001b[1;32m    728\u001b[0m         for hook in itertools.chain(\n\u001b[1;32m    729\u001b[0m                 \u001b[0m_global_forward_hooks\u001b[0m\u001b[0;34m.\u001b[0m\u001b[0mvalues\u001b[0m\u001b[0;34m(\u001b[0m\u001b[0;34m)\u001b[0m\u001b[0;34m,\u001b[0m\u001b[0;34m\u001b[0m\u001b[0;34m\u001b[0m\u001b[0m\n",
      "\u001b[0;32m~/Documents/Graph-WaveNet/model.py\u001b[0m in \u001b[0;36mforward\u001b[0;34m(self, x)\u001b[0m\n\u001b[1;32m     82\u001b[0m \u001b[0;34m\u001b[0m\u001b[0m\n\u001b[1;32m     83\u001b[0m     \u001b[0;32mdef\u001b[0m \u001b[0mforward\u001b[0m\u001b[0;34m(\u001b[0m\u001b[0mself\u001b[0m\u001b[0;34m,\u001b[0m\u001b[0mx\u001b[0m\u001b[0;34m)\u001b[0m\u001b[0;34m:\u001b[0m\u001b[0;34m\u001b[0m\u001b[0;34m\u001b[0m\u001b[0m\n\u001b[0;32m---> 84\u001b[0;31m         \u001b[0;32mreturn\u001b[0m \u001b[0mself\u001b[0m\u001b[0;34m.\u001b[0m\u001b[0mmlp\u001b[0m\u001b[0;34m(\u001b[0m\u001b[0mx\u001b[0m\u001b[0;34m)\u001b[0m\u001b[0;34m\u001b[0m\u001b[0;34m\u001b[0m\u001b[0m\n\u001b[0m\u001b[1;32m     85\u001b[0m \u001b[0;34m\u001b[0m\u001b[0m\n\u001b[1;32m     86\u001b[0m \u001b[0;32mclass\u001b[0m \u001b[0mgcn\u001b[0m\u001b[0;34m(\u001b[0m\u001b[0mnn\u001b[0m\u001b[0;34m.\u001b[0m\u001b[0mModule\u001b[0m\u001b[0;34m)\u001b[0m\u001b[0;34m:\u001b[0m\u001b[0;34m\u001b[0m\u001b[0;34m\u001b[0m\u001b[0m\n",
      "\u001b[0;32m~/anaconda3/envs/py38/lib/python3.8/site-packages/torch/nn/modules/module.py\u001b[0m in \u001b[0;36m_call_impl\u001b[0;34m(self, *input, **kwargs)\u001b[0m\n\u001b[1;32m    725\u001b[0m             \u001b[0mresult\u001b[0m \u001b[0;34m=\u001b[0m \u001b[0mself\u001b[0m\u001b[0;34m.\u001b[0m\u001b[0m_slow_forward\u001b[0m\u001b[0;34m(\u001b[0m\u001b[0;34m*\u001b[0m\u001b[0minput\u001b[0m\u001b[0;34m,\u001b[0m \u001b[0;34m**\u001b[0m\u001b[0mkwargs\u001b[0m\u001b[0;34m)\u001b[0m\u001b[0;34m\u001b[0m\u001b[0;34m\u001b[0m\u001b[0m\n\u001b[1;32m    726\u001b[0m         \u001b[0;32melse\u001b[0m\u001b[0;34m:\u001b[0m\u001b[0;34m\u001b[0m\u001b[0;34m\u001b[0m\u001b[0m\n\u001b[0;32m--> 727\u001b[0;31m             \u001b[0mresult\u001b[0m \u001b[0;34m=\u001b[0m \u001b[0mself\u001b[0m\u001b[0;34m.\u001b[0m\u001b[0mforward\u001b[0m\u001b[0;34m(\u001b[0m\u001b[0;34m*\u001b[0m\u001b[0minput\u001b[0m\u001b[0;34m,\u001b[0m \u001b[0;34m**\u001b[0m\u001b[0mkwargs\u001b[0m\u001b[0;34m)\u001b[0m\u001b[0;34m\u001b[0m\u001b[0;34m\u001b[0m\u001b[0m\n\u001b[0m\u001b[1;32m    728\u001b[0m         for hook in itertools.chain(\n\u001b[1;32m    729\u001b[0m                 \u001b[0m_global_forward_hooks\u001b[0m\u001b[0;34m.\u001b[0m\u001b[0mvalues\u001b[0m\u001b[0;34m(\u001b[0m\u001b[0;34m)\u001b[0m\u001b[0;34m,\u001b[0m\u001b[0;34m\u001b[0m\u001b[0;34m\u001b[0m\u001b[0m\n",
      "\u001b[0;32m~/anaconda3/envs/py38/lib/python3.8/site-packages/torch/nn/modules/conv.py\u001b[0m in \u001b[0;36mforward\u001b[0;34m(self, input)\u001b[0m\n\u001b[1;32m    421\u001b[0m \u001b[0;34m\u001b[0m\u001b[0m\n\u001b[1;32m    422\u001b[0m     \u001b[0;32mdef\u001b[0m \u001b[0mforward\u001b[0m\u001b[0;34m(\u001b[0m\u001b[0mself\u001b[0m\u001b[0;34m,\u001b[0m \u001b[0minput\u001b[0m\u001b[0;34m:\u001b[0m \u001b[0mTensor\u001b[0m\u001b[0;34m)\u001b[0m \u001b[0;34m->\u001b[0m \u001b[0mTensor\u001b[0m\u001b[0;34m:\u001b[0m\u001b[0;34m\u001b[0m\u001b[0;34m\u001b[0m\u001b[0m\n\u001b[0;32m--> 423\u001b[0;31m         \u001b[0;32mreturn\u001b[0m \u001b[0mself\u001b[0m\u001b[0;34m.\u001b[0m\u001b[0m_conv_forward\u001b[0m\u001b[0;34m(\u001b[0m\u001b[0minput\u001b[0m\u001b[0;34m,\u001b[0m \u001b[0mself\u001b[0m\u001b[0;34m.\u001b[0m\u001b[0mweight\u001b[0m\u001b[0;34m)\u001b[0m\u001b[0;34m\u001b[0m\u001b[0;34m\u001b[0m\u001b[0m\n\u001b[0m\u001b[1;32m    424\u001b[0m \u001b[0;34m\u001b[0m\u001b[0m\n\u001b[1;32m    425\u001b[0m \u001b[0;32mclass\u001b[0m \u001b[0mConv3d\u001b[0m\u001b[0;34m(\u001b[0m\u001b[0m_ConvNd\u001b[0m\u001b[0;34m)\u001b[0m\u001b[0;34m:\u001b[0m\u001b[0;34m\u001b[0m\u001b[0;34m\u001b[0m\u001b[0m\n",
      "\u001b[0;32m~/anaconda3/envs/py38/lib/python3.8/site-packages/torch/nn/modules/conv.py\u001b[0m in \u001b[0;36m_conv_forward\u001b[0;34m(self, input, weight)\u001b[0m\n\u001b[1;32m    417\u001b[0m                             \u001b[0mweight\u001b[0m\u001b[0;34m,\u001b[0m \u001b[0mself\u001b[0m\u001b[0;34m.\u001b[0m\u001b[0mbias\u001b[0m\u001b[0;34m,\u001b[0m \u001b[0mself\u001b[0m\u001b[0;34m.\u001b[0m\u001b[0mstride\u001b[0m\u001b[0;34m,\u001b[0m\u001b[0;34m\u001b[0m\u001b[0;34m\u001b[0m\u001b[0m\n\u001b[1;32m    418\u001b[0m                             _pair(0), self.dilation, self.groups)\n\u001b[0;32m--> 419\u001b[0;31m         return F.conv2d(input, weight, self.bias, self.stride,\n\u001b[0m\u001b[1;32m    420\u001b[0m                         self.padding, self.dilation, self.groups)\n\u001b[1;32m    421\u001b[0m \u001b[0;34m\u001b[0m\u001b[0m\n",
      "\u001b[0;31mRuntimeError\u001b[0m: CUDA out of memory. Tried to allocate 938.00 MiB (GPU 0; 10.92 GiB total capacity; 9.98 GiB already allocated; 251.44 MiB free; 9.99 GiB reserved in total by PyTorch)"
     ]
    }
   ],
   "source": [
    "print(\"start training...\",flush=True)\n",
    "\n",
    "his_loss_train = []\n",
    "his_loss_val =[]\n",
    "val_time = []\n",
    "train_time = []\n",
    "min_loss = float('Inf')\n",
    "grads = []\n",
    "\n",
    "for i in range(1, epochs+1):\n",
    "    # if i % 50 == 0:\n",
    "    #     # lr = max(0.000002, learning_rate * (0.1 ** (i // 10)))\n",
    "    #     for g in engine.optimizer.param_groups:\n",
    "    #         g['lr'] *= 0.9\n",
    "\n",
    "    train_loss = []\n",
    "    train_mae = []\n",
    "    train_mape = []\n",
    "    train_rmse = []\n",
    "    t1 = time.time()\n",
    "    engine.set_state('train')\n",
    "    x = _input[:nTrain]\n",
    "    y = _gt[:nTrain]\n",
    "    adj_idx = adj_mx_idx[:nTrain]\n",
    "    if scatter:\n",
    "        _coeffs = coeffs[:nTrain]\n",
    "\n",
    "    # # for overfitting\n",
    "    # x = _input\n",
    "    # y = _gt\n",
    "    # adj_idx = adj_mx_idx\n",
    "    # if scatter:\n",
    "    #     _coeffs = coeffs\n",
    "\n",
    "    iter = 0\n",
    "    # shuffle in-out-adj_idx\n",
    "    if addaptadj:\n",
    "        if not randomadj:\n",
    "            # adjinit['train'] need to be shuffled with train set\n",
    "            if scatter:\n",
    "                x, y, adj_idx, _coeffs, adjinit['train'] = shuffle(x, y, adj_idx, _coeffs, adjinit['train'])\n",
    "            else:\n",
    "                x, y, adj_idx, adjinit['train'] = shuffle(x, y, adj_idx, adjinit['train'])\n",
    "        else:\n",
    "            if scatter:\n",
    "                x, y, adj_idx, _coeffs = shuffle(x, y, adj_idx, _coeffs)\n",
    "            else:\n",
    "                x, y, adj_idx = shuffle(x, y, adj_idx)\n",
    "    else:\n",
    "        if scatter:\n",
    "            x, y, adj_idx, _coeffs = shuffle(x, y, adj_idx, _coeffs)\n",
    "        else:\n",
    "            x, y, adj_idx = shuffle(x, y, adj_idx)\n",
    "\n",
    "    # shuffle y, to test if model really learns anything (~random output)\n",
    "    # y = shuffle(y)\n",
    "\n",
    "    for batch_i in range(nTrain//batch_size):\n",
    "        _adj_idx = adj_idx[batch_i * batch_size: (batch_i + 1) * batch_size]\n",
    "        _x = torch.Tensor(x[batch_i * batch_size: (batch_i + 1) * batch_size][...,None]).to(device).transpose(1, 3)\n",
    "        if scatter:\n",
    "            # _y = y[batch_i * args.batch_size: (batch_i + 1) * args.batch_size]\n",
    "            # coeff_y = torch.Tensor(scattering(_y.transpose(0,2,1))).to(device)\n",
    "            # _y = torch.Tensor(_y).to(device)\n",
    "            _y = torch.Tensor(y[batch_i * batch_size: (batch_i + 1) * batch_size]).to(device)\n",
    "            coeff_y  = torch.Tensor(_coeffs[batch_i * batch_size: (batch_i + 1) * batch_size]).to(device)\n",
    "\n",
    "            _y = [_y.transpose(1,2), coeff_y]\n",
    "        else:\n",
    "            _y = torch.Tensor(y[batch_i * batch_size: (batch_i + 1) * batch_size]).to(device)\n",
    "\n",
    "        metrics = engine.train_CRASH(_x, _y, None, {}, _adj_idx) # region assignment temporarily use {}, TODO: pooling\n",
    "\n",
    "        train_loss.append(metrics[0])\n",
    "        train_mae.append(metrics[1])\n",
    "        train_mape.append(metrics[2])\n",
    "        train_rmse.append(metrics[3])\n",
    "        # grads.append(metrics[4])\n",
    "        if iter % print_every == 0 :\n",
    "            log = 'Iter: {:03d}, Train Loss: {:.6f}, Train MAE: {:.4f}, Train MAPE: {:.4f}, Train RMSE: {:.4f}'\n",
    "            print(log.format(iter, train_loss[-1], train_mae[-1], train_mape[-1], train_rmse[-1]),flush=True)\n",
    "        iter += 1\n",
    "        # break # overfit single batch\n",
    "\n",
    "    t2 = time.time()\n",
    "    train_time.append(t2-t1)\n",
    "\n",
    "    #validation\n",
    "    valid_loss = []\n",
    "    valid_mae = []\n",
    "    valid_mape = []\n",
    "    valid_rmse = []\n",
    "    valid_cc = []\n",
    "\n",
    "    s1 = time.time()\n",
    "    engine.set_state('val')\n",
    "    x = _input[nTrain:nTrain+nValid]\n",
    "    y = _gt[nTrain:nTrain+nValid]\n",
    "    adj_idx = adj_mx_idx[nTrain:nTrain+nValid]\n",
    "    if scatter:\n",
    "        _coeffs = coeffs[nTrain:nTrain+nValid]\n",
    "\n",
    "    # # for overfitting\n",
    "    # x = _input\n",
    "    # y = _gt\n",
    "    # adj_idx = adj_mx_idx\n",
    "    # if scatter:\n",
    "    #     _coeffs = coeffs\n",
    "\n",
    "    for batch_i in range(nValid//batch_size):\n",
    "        _adj_idx = adj_idx[batch_i * batch_size: (batch_i + 1) * batch_size]\n",
    "        _x = torch.Tensor(x[batch_i * batch_size: (batch_i + 1) * batch_size][...,None]).to(device).transpose(1, 3)\n",
    "        if scatter:\n",
    "            # _y = y[batch_i * args.batch_size: (batch_i + 1) * args.batch_size]\n",
    "            # coeff_y = torch.Tensor(scattering(_y.transpose(0,2,1))).to(device)\n",
    "            # _y = torch.Tensor(_y).to(device)\n",
    "            _y = torch.Tensor(y[batch_i * batch_size: (batch_i + 1) * batch_size]).to(device)\n",
    "            coeff_y  = torch.Tensor(_coeffs[batch_i * batch_size: (batch_i + 1) * batch_size]).to(device)\n",
    "\n",
    "            _y = [_y.transpose(1,2), coeff_y]\n",
    "        else:\n",
    "            _y = torch.Tensor(y[batch_i * batch_size: (batch_i + 1) * batch_size]).to(device)\n",
    "\n",
    "        if batch_i == 0: # only viz the first one\n",
    "            metrics = engine.eval_CRASH(_x, _y, None, {}, _adj_idx, viz=False)\n",
    "        else:\n",
    "            metrics = engine.eval_CRASH(_x, _y, None, {}, _adj_idx)\n",
    "        valid_loss.append(metrics[0])\n",
    "        valid_mae.append(metrics[1])\n",
    "        valid_mape.append(metrics[2])\n",
    "        valid_rmse.append(metrics[3])\n",
    "        valid_cc.append(metrics[4])\n",
    "\n",
    "        # plt.plot(metrics[-1][...,order0,:][0,0,0,0].cpu().numpy())\n",
    "        # plt.show()\n",
    "        #     break # overfit single batch\n",
    "        # break\n",
    "\n",
    "    s2 = time.time()\n",
    "    log = 'Epoch: {:03d}, Inference Time: {:.4f} secs'\n",
    "    print(log.format(i,(s2-s1)))\n",
    "    val_time.append(s2-s1)\n",
    "\n",
    "    mtrain_loss = np.mean(train_loss)\n",
    "    mtrain_mae = np.mean(train_mae)\n",
    "    mtrain_mape = np.mean(train_mape)\n",
    "    mtrain_rmse = np.mean(train_rmse)\n",
    "\n",
    "    mvalid_loss = np.mean(valid_loss)\n",
    "    mvalid_mae = np.mean(valid_mae)\n",
    "    mvalid_mape = np.mean(valid_mape)\n",
    "    mvalid_rmse = np.mean(valid_rmse)\n",
    "    mvalid_cc = np.mean(valid_cc)\n",
    "    his_loss_train.append(mtrain_loss)\n",
    "    his_loss_val.append(mvalid_loss)\n",
    "\n",
    "    log = 'Epoch: {:03d}, Train Loss: {:.6f}, Train MAE: {:.4f}, Train MAPE: {:.4f}, Train RMSE: {:.4f}, Valid Loss: {:.6f}, Valid MAE: {:.4f}, Valid MAPE: {:.4f}, Valid RMSE: {:.4f}, Valid CC: {:.4f}, Training Time: {:.4f}/epoch'\n",
    "    print(log.format(i, mtrain_loss, mtrain_mae, mtrain_mape, mtrain_rmse, mvalid_loss, mvalid_mae, mvalid_mape, mvalid_rmse, mvalid_cc, (t2 - t1)),flush=True)\n",
    "    # only save the best\n",
    "    if mvalid_loss < min_loss:\n",
    "        min_loss = mvalid_loss\n",
    "        # # remove previous\n",
    "        # fname = glob.glob(savedir+'_epoch_*.pth')\n",
    "        # for f in fname:\n",
    "        #     os.remove(f)\n",
    "        # save new\n",
    "        torch.save(engine.model.state_dict(), savedir+\"_epoch_\"+str(i)+\"_\"+str(round(mvalid_loss,2))+\".pth\")\n",
    "    # torch.save(engine.model.state_dict(), savedir+\"_epoch_\"+str(i)+\"_\"+str(round(mvalid_loss,2))+\".pth\")\n",
    "print(\"Average Training Time: {:.4f} secs/epoch\".format(np.mean(train_time)))\n",
    "print(\"Average Inference Time: {:.4f} secs\".format(np.mean(val_time))) "
   ]
  },
  {
   "cell_type": "code",
   "execution_count": 26,
   "metadata": {},
   "outputs": [
    {
     "data": {
      "image/png": "[encoded data removed]",
      "text/plain": [
       "<Figure size 432x288 with 1 Axes>"
      ]
     },
     "metadata": {
      "needs_background": "light"
     },
     "output_type": "display_data"
    }
   ],
   "source": [
    "plt.plot(his_loss_train[1:], label='train loss')\n",
    "plt.plot(his_loss_val[1:], label='val loss')\n",
    "plt.legend()\n",
    "plt.show()\n",
    "# ipdb.set_trace() #tmp1 = [i[0] for i in grads] # plot his_loss_train and his_loss_val\n",
    "his_loss = his_loss_val"
   ]
  },
  {
   "cell_type": "markdown",
   "metadata": {},
   "source": [
    "### same in-out autoencoder: engine & train/val loop"
   ]
  },
  {
   "cell_type": "code",
   "execution_count": 15,
   "metadata": {},
   "outputs": [
    {
     "name": "stdout",
     "output_type": "stream",
     "text": [
      "gwnet_vgae(\n",
      "  (filter_convs): ModuleList(\n",
      "    (0): Conv1d(32, 32, kernel_size=(1, 2), stride=(1,), padding=(0, 1))\n",
      "    (1): Conv1d(32, 32, kernel_size=(1, 2), stride=(1,), padding=(0, 1))\n",
      "    (2): Conv1d(32, 32, kernel_size=(1, 2), stride=(1,), padding=(0, 1))\n",
      "    (3): Conv1d(32, 32, kernel_size=(1, 2), stride=(1,), padding=(0, 1))\n",
      "    (4): Conv1d(32, 32, kernel_size=(1, 2), stride=(1,), padding=(0, 1))\n",
      "    (5): Conv1d(32, 32, kernel_size=(1, 2), stride=(1,), padding=(0, 1))\n",
      "    (6): Conv1d(32, 32, kernel_size=(1, 2), stride=(1,), padding=(0, 1))\n",
      "    (7): Conv1d(32, 32, kernel_size=(1, 2), stride=(1,), padding=(0, 1))\n",
      "  )\n",
      "  (gate_convs): ModuleList(\n",
      "    (0): Conv1d(32, 32, kernel_size=(1, 2), stride=(1,), padding=(0, 1))\n",
      "    (1): Conv1d(32, 32, kernel_size=(1, 2), stride=(1,), padding=(0, 1))\n",
      "    (2): Conv1d(32, 32, kernel_size=(1, 2), stride=(1,), padding=(0, 1))\n",
      "    (3): Conv1d(32, 32, kernel_size=(1, 2), stride=(1,), padding=(0, 1))\n",
      "    (4): Conv1d(32, 32, kernel_size=(1, 2), stride=(1,), padding=(0, 1))\n",
      "    (5): Conv1d(32, 32, kernel_size=(1, 2), stride=(1,), padding=(0, 1))\n",
      "    (6): Conv1d(32, 32, kernel_size=(1, 2), stride=(1,), padding=(0, 1))\n",
      "    (7): Conv1d(32, 32, kernel_size=(1, 2), stride=(1,), padding=(0, 1))\n",
      "  )\n",
      "  (residual_convs): ModuleList(\n",
      "    (0): Conv2d(32, 32, kernel_size=(1, 1), stride=(1, 1))\n",
      "    (1): Conv2d(32, 32, kernel_size=(1, 1), stride=(1, 1))\n",
      "    (2): Conv2d(32, 32, kernel_size=(1, 1), stride=(1, 1))\n",
      "    (3): Conv2d(32, 32, kernel_size=(1, 1), stride=(1, 1))\n",
      "    (4): Conv2d(32, 32, kernel_size=(1, 1), stride=(1, 1))\n",
      "    (5): Conv2d(32, 32, kernel_size=(1, 1), stride=(1, 1))\n",
      "    (6): Conv2d(32, 32, kernel_size=(1, 1), stride=(1, 1))\n",
      "    (7): Conv2d(32, 32, kernel_size=(1, 1), stride=(1, 1))\n",
      "  )\n",
      "  (skip_convs): ModuleList(\n",
      "    (0): Conv2d(32, 256, kernel_size=(1, 1), stride=(1, 1))\n",
      "    (1): Conv2d(32, 256, kernel_size=(1, 1), stride=(1, 1))\n",
      "    (2): Conv2d(32, 256, kernel_size=(1, 1), stride=(1, 1))\n",
      "    (3): Conv2d(32, 256, kernel_size=(1, 1), stride=(1, 1))\n",
      "    (4): Conv2d(32, 256, kernel_size=(1, 1), stride=(1, 1))\n",
      "    (5): Conv2d(32, 256, kernel_size=(1, 1), stride=(1, 1))\n",
      "    (6): Conv2d(32, 256, kernel_size=(1, 1), stride=(1, 1))\n",
      "    (7): Conv2d(32, 256, kernel_size=(1, 1), stride=(1, 1))\n",
      "  )\n",
      "  (bn): ModuleList(\n",
      "    (0): BatchNorm2d(32, eps=1e-05, momentum=0.1, affine=True, track_running_stats=True)\n",
      "    (1): BatchNorm2d(32, eps=1e-05, momentum=0.1, affine=True, track_running_stats=True)\n",
      "    (2): BatchNorm2d(32, eps=1e-05, momentum=0.1, affine=True, track_running_stats=True)\n",
      "    (3): BatchNorm2d(32, eps=1e-05, momentum=0.1, affine=True, track_running_stats=True)\n",
      "    (4): BatchNorm2d(32, eps=1e-05, momentum=0.1, affine=True, track_running_stats=True)\n",
      "    (5): BatchNorm2d(32, eps=1e-05, momentum=0.1, affine=True, track_running_stats=True)\n",
      "    (6): BatchNorm2d(32, eps=1e-05, momentum=0.1, affine=True, track_running_stats=True)\n",
      "    (7): BatchNorm2d(32, eps=1e-05, momentum=0.1, affine=True, track_running_stats=True)\n",
      "  )\n",
      "  (gconv): ModuleList(\n",
      "    (0): gcn2(\n",
      "      (nconv): nconv2()\n",
      "      (mlp): linear(\n",
      "        (mlp): Conv2d(160, 32, kernel_size=(1, 1), stride=(1, 1))\n",
      "      )\n",
      "    )\n",
      "    (1): gcn2(\n",
      "      (nconv): nconv2()\n",
      "      (mlp): linear(\n",
      "        (mlp): Conv2d(160, 32, kernel_size=(1, 1), stride=(1, 1))\n",
      "      )\n",
      "    )\n",
      "    (2): gcn2(\n",
      "      (nconv): nconv2()\n",
      "      (mlp): linear(\n",
      "        (mlp): Conv2d(160, 32, kernel_size=(1, 1), stride=(1, 1))\n",
      "      )\n",
      "    )\n",
      "    (3): gcn2(\n",
      "      (nconv): nconv2()\n",
      "      (mlp): linear(\n",
      "        (mlp): Conv2d(160, 32, kernel_size=(1, 1), stride=(1, 1))\n",
      "      )\n",
      "    )\n",
      "    (4): gcn2(\n",
      "      (nconv): nconv2()\n",
      "      (mlp): linear(\n",
      "        (mlp): Conv2d(160, 32, kernel_size=(1, 1), stride=(1, 1))\n",
      "      )\n",
      "    )\n",
      "    (5): gcn2(\n",
      "      (nconv): nconv2()\n",
      "      (mlp): linear(\n",
      "        (mlp): Conv2d(160, 32, kernel_size=(1, 1), stride=(1, 1))\n",
      "      )\n",
      "    )\n",
      "    (6): gcn2(\n",
      "      (nconv): nconv2()\n",
      "      (mlp): linear(\n",
      "        (mlp): Conv2d(160, 32, kernel_size=(1, 1), stride=(1, 1))\n",
      "      )\n",
      "    )\n",
      "    (7): gcn2(\n",
      "      (nconv): nconv2()\n",
      "      (mlp): linear(\n",
      "        (mlp): Conv2d(160, 32, kernel_size=(1, 1), stride=(1, 1))\n",
      "      )\n",
      "    )\n",
      "  )\n",
      "  (gconv_pool): ModuleList(\n",
      "    (0): gcn2(\n",
      "      (nconv): nconv2()\n",
      "      (mlp): linear(\n",
      "        (mlp): Conv2d(160, 150, kernel_size=(1, 1), stride=(1, 1))\n",
      "      )\n",
      "    )\n",
      "    (1): gcn2(\n",
      "      (nconv): nconv2()\n",
      "      (mlp): linear(\n",
      "        (mlp): Conv2d(160, 110, kernel_size=(1, 1), stride=(1, 1))\n",
      "      )\n",
      "    )\n",
      "    (2): gcn2(\n",
      "      (nconv): nconv2()\n",
      "      (mlp): linear(\n",
      "        (mlp): Conv2d(160, 85, kernel_size=(1, 1), stride=(1, 1))\n",
      "      )\n",
      "    )\n",
      "    (3): gcn2(\n",
      "      (nconv): nconv2()\n",
      "      (mlp): linear(\n",
      "        (mlp): Conv2d(160, 65, kernel_size=(1, 1), stride=(1, 1))\n",
      "      )\n",
      "    )\n",
      "    (4): gcn2(\n",
      "      (nconv): nconv2()\n",
      "      (mlp): linear(\n",
      "        (mlp): Conv2d(160, 50, kernel_size=(1, 1), stride=(1, 1))\n",
      "      )\n",
      "    )\n",
      "    (5): gcn2(\n",
      "      (nconv): nconv2()\n",
      "      (mlp): linear(\n",
      "        (mlp): Conv2d(160, 30, kernel_size=(1, 1), stride=(1, 1))\n",
      "      )\n",
      "    )\n",
      "    (6): gcn2(\n",
      "      (nconv): nconv2()\n",
      "      (mlp): linear(\n",
      "        (mlp): Conv2d(160, 15, kernel_size=(1, 1), stride=(1, 1))\n",
      "      )\n",
      "    )\n",
      "    (7): gcn2(\n",
      "      (nconv): nconv2()\n",
      "      (mlp): linear(\n",
      "        (mlp): Conv2d(160, 7, kernel_size=(1, 1), stride=(1, 1))\n",
      "      )\n",
      "    )\n",
      "  )\n",
      "  (start_conv): Conv2d(1, 32, kernel_size=(1, 1), stride=(1, 1))\n",
      "  (gcn_mean): gcn2(\n",
      "    (nconv): nconv2()\n",
      "    (mlp): linear(\n",
      "      (mlp): Conv2d(1280, 16, kernel_size=(1, 1), stride=(1, 1))\n",
      "    )\n",
      "  )\n",
      "  (gcn_logstddev): gcn2(\n",
      "    (nconv): nconv2()\n",
      "    (mlp): linear(\n",
      "      (mlp): Conv2d(1280, 16, kernel_size=(1, 1), stride=(1, 1))\n",
      "    )\n",
      "  )\n",
      "  (end_conv_1): Conv2d(256, 128, kernel_size=(1, 1), stride=(1, 1))\n",
      "  (end_conv_3): Conv2d(128, 256, kernel_size=(1, 1), stride=(1, 1))\n",
      ")\n"
     ]
    }
   ],
   "source": [
    "engine = trainer(scaler_x, in_dim, window_len_x, _input.shape[-1], nhid, \n",
    "                 dropout, learning_rate, weight_decay, device, \n",
    "                 supports, gcn_bool, addaptadj, adjinit, kernel_size,\n",
    "                 blocks, layers, out_nodes=_input.shape[-1], F_t=1,\n",
    "                 subsample=False, F_only=True, batch_size=batch_size)"
   ]
  },
  {
   "cell_type": "code",
   "execution_count": 16,
   "metadata": {},
   "outputs": [
    {
     "name": "stdout",
     "output_type": "stream",
     "text": [
      "start training...\n"
     ]
    },
    {
     "ename": "RuntimeError",
     "evalue": "CUDA out of memory. Tried to allocate 938.00 MiB (GPU 0; 10.92 GiB total capacity; 9.96 GiB already allocated; 265.44 MiB free; 9.98 GiB reserved in total by PyTorch)",
     "output_type": "error",
     "traceback": [
      "\u001b[0;31m---------------------------------------------------------------------------\u001b[0m",
      "\u001b[0;31mRuntimeError\u001b[0m                              Traceback (most recent call last)",
      "\u001b[0;32m<ipython-input-16-15349f90e99b>\u001b[0m in \u001b[0;36m<module>\u001b[0;34m\u001b[0m\n\u001b[1;32m     55\u001b[0m         \u001b[0m_adj_idx\u001b[0m \u001b[0;34m=\u001b[0m \u001b[0madj_idx\u001b[0m\u001b[0;34m[\u001b[0m\u001b[0mbatch_i\u001b[0m \u001b[0;34m*\u001b[0m \u001b[0mbatch_size\u001b[0m\u001b[0;34m:\u001b[0m \u001b[0;34m(\u001b[0m\u001b[0mbatch_i\u001b[0m \u001b[0;34m+\u001b[0m \u001b[0;36m1\u001b[0m\u001b[0;34m)\u001b[0m \u001b[0;34m*\u001b[0m \u001b[0mbatch_size\u001b[0m\u001b[0;34m]\u001b[0m\u001b[0;34m\u001b[0m\u001b[0;34m\u001b[0m\u001b[0m\n\u001b[1;32m     56\u001b[0m         \u001b[0m_x\u001b[0m \u001b[0;34m=\u001b[0m \u001b[0mtorch\u001b[0m\u001b[0;34m.\u001b[0m\u001b[0mTensor\u001b[0m\u001b[0;34m(\u001b[0m\u001b[0mx\u001b[0m\u001b[0;34m[\u001b[0m\u001b[0mbatch_i\u001b[0m \u001b[0;34m*\u001b[0m \u001b[0mbatch_size\u001b[0m\u001b[0;34m:\u001b[0m \u001b[0;34m(\u001b[0m\u001b[0mbatch_i\u001b[0m \u001b[0;34m+\u001b[0m \u001b[0;36m1\u001b[0m\u001b[0;34m)\u001b[0m \u001b[0;34m*\u001b[0m \u001b[0mbatch_size\u001b[0m\u001b[0;34m]\u001b[0m\u001b[0;34m[\u001b[0m\u001b[0;34m...\u001b[0m\u001b[0;34m,\u001b[0m\u001b[0;32mNone\u001b[0m\u001b[0;34m]\u001b[0m\u001b[0;34m)\u001b[0m\u001b[0;34m.\u001b[0m\u001b[0mto\u001b[0m\u001b[0;34m(\u001b[0m\u001b[0mdevice\u001b[0m\u001b[0;34m)\u001b[0m\u001b[0;34m.\u001b[0m\u001b[0mtranspose\u001b[0m\u001b[0;34m(\u001b[0m\u001b[0;36m1\u001b[0m\u001b[0;34m,\u001b[0m \u001b[0;36m3\u001b[0m\u001b[0;34m)\u001b[0m\u001b[0;34m\u001b[0m\u001b[0;34m\u001b[0m\u001b[0m\n\u001b[0;32m---> 57\u001b[0;31m         \u001b[0mmetrics\u001b[0m \u001b[0;34m=\u001b[0m \u001b[0mengine\u001b[0m\u001b[0;34m.\u001b[0m\u001b[0mtrain_CRASH\u001b[0m\u001b[0;34m(\u001b[0m\u001b[0m_x\u001b[0m\u001b[0;34m,\u001b[0m \u001b[0m_x\u001b[0m\u001b[0;34m,\u001b[0m \u001b[0;32mNone\u001b[0m\u001b[0;34m,\u001b[0m \u001b[0;34m{\u001b[0m\u001b[0;34m}\u001b[0m\u001b[0;34m,\u001b[0m \u001b[0m_adj_idx\u001b[0m\u001b[0;34m)\u001b[0m\u001b[0;34m\u001b[0m\u001b[0;34m\u001b[0m\u001b[0m\n\u001b[0m\u001b[1;32m     58\u001b[0m \u001b[0;34m\u001b[0m\u001b[0m\n\u001b[1;32m     59\u001b[0m         \u001b[0mtrain_loss\u001b[0m\u001b[0;34m.\u001b[0m\u001b[0mappend\u001b[0m\u001b[0;34m(\u001b[0m\u001b[0mmetrics\u001b[0m\u001b[0;34m[\u001b[0m\u001b[0;36m0\u001b[0m\u001b[0;34m]\u001b[0m\u001b[0;34m)\u001b[0m\u001b[0;34m\u001b[0m\u001b[0;34m\u001b[0m\u001b[0m\n",
      "\u001b[0;32m~/Documents/Graph-WaveNet/engine.py\u001b[0m in \u001b[0;36mtrain_CRASH\u001b[0;34m(self, input, real_F, real_E, assign_dict, adj_idx)\u001b[0m\n\u001b[1;32m    306\u001b[0m                 \u001b[0maptinit\u001b[0m \u001b[0;34m=\u001b[0m \u001b[0mtorch\u001b[0m\u001b[0;34m.\u001b[0m\u001b[0mTensor\u001b[0m\u001b[0;34m(\u001b[0m\u001b[0maptinit\u001b[0m\u001b[0;34m[\u001b[0m\u001b[0madj_idx\u001b[0m\u001b[0;34m]\u001b[0m\u001b[0;34m)\u001b[0m\u001b[0;34m.\u001b[0m\u001b[0mto\u001b[0m\u001b[0;34m(\u001b[0m\u001b[0mself\u001b[0m\u001b[0;34m.\u001b[0m\u001b[0mdevice\u001b[0m\u001b[0;34m)\u001b[0m\u001b[0;34m\u001b[0m\u001b[0;34m\u001b[0m\u001b[0m\n\u001b[1;32m    307\u001b[0m \u001b[0;34m\u001b[0m\u001b[0m\n\u001b[0;32m--> 308\u001b[0;31m         \u001b[0moutput\u001b[0m \u001b[0;34m=\u001b[0m \u001b[0mself\u001b[0m\u001b[0;34m.\u001b[0m\u001b[0mmodel\u001b[0m\u001b[0;34m(\u001b[0m\u001b[0minput\u001b[0m\u001b[0;34m,\u001b[0m \u001b[0msupports\u001b[0m\u001b[0;34m,\u001b[0m \u001b[0maptinit\u001b[0m\u001b[0;34m)\u001b[0m\u001b[0;34m\u001b[0m\u001b[0;34m\u001b[0m\u001b[0m\n\u001b[0m\u001b[1;32m    309\u001b[0m         \u001b[0;31m# output = self.model(input) # validate SC\u001b[0m\u001b[0;34m\u001b[0m\u001b[0;34m\u001b[0m\u001b[0;34m\u001b[0m\u001b[0m\n\u001b[1;32m    310\u001b[0m \u001b[0;34m\u001b[0m\u001b[0m\n",
      "\u001b[0;32m~/anaconda3/envs/py38/lib/python3.8/site-packages/torch/nn/modules/module.py\u001b[0m in \u001b[0;36m_call_impl\u001b[0;34m(self, *input, **kwargs)\u001b[0m\n\u001b[1;32m    725\u001b[0m             \u001b[0mresult\u001b[0m \u001b[0;34m=\u001b[0m \u001b[0mself\u001b[0m\u001b[0;34m.\u001b[0m\u001b[0m_slow_forward\u001b[0m\u001b[0;34m(\u001b[0m\u001b[0;34m*\u001b[0m\u001b[0minput\u001b[0m\u001b[0;34m,\u001b[0m \u001b[0;34m**\u001b[0m\u001b[0mkwargs\u001b[0m\u001b[0;34m)\u001b[0m\u001b[0;34m\u001b[0m\u001b[0;34m\u001b[0m\u001b[0m\n\u001b[1;32m    726\u001b[0m         \u001b[0;32melse\u001b[0m\u001b[0;34m:\u001b[0m\u001b[0;34m\u001b[0m\u001b[0;34m\u001b[0m\u001b[0m\n\u001b[0;32m--> 727\u001b[0;31m             \u001b[0mresult\u001b[0m \u001b[0;34m=\u001b[0m \u001b[0mself\u001b[0m\u001b[0;34m.\u001b[0m\u001b[0mforward\u001b[0m\u001b[0;34m(\u001b[0m\u001b[0;34m*\u001b[0m\u001b[0minput\u001b[0m\u001b[0;34m,\u001b[0m \u001b[0;34m**\u001b[0m\u001b[0mkwargs\u001b[0m\u001b[0;34m)\u001b[0m\u001b[0;34m\u001b[0m\u001b[0;34m\u001b[0m\u001b[0m\n\u001b[0m\u001b[1;32m    728\u001b[0m         for hook in itertools.chain(\n\u001b[1;32m    729\u001b[0m                 \u001b[0m_global_forward_hooks\u001b[0m\u001b[0;34m.\u001b[0m\u001b[0mvalues\u001b[0m\u001b[0;34m(\u001b[0m\u001b[0;34m)\u001b[0m\u001b[0;34m,\u001b[0m\u001b[0;34m\u001b[0m\u001b[0;34m\u001b[0m\u001b[0m\n",
      "\u001b[0;32m~/Documents/Graph-WaveNet/model.py\u001b[0m in \u001b[0;36mforward\u001b[0;34m(self, input, supports, aptinit, viz)\u001b[0m\n\u001b[1;32m   1491\u001b[0m                 \u001b[0;32mif\u001b[0m \u001b[0mi\u001b[0m \u001b[0;34m%\u001b[0m \u001b[0mself\u001b[0m\u001b[0;34m.\u001b[0m\u001b[0mlayers\u001b[0m \u001b[0;34m==\u001b[0m \u001b[0mself\u001b[0m\u001b[0;34m.\u001b[0m\u001b[0mlayers\u001b[0m\u001b[0;34m-\u001b[0m\u001b[0;36m1\u001b[0m\u001b[0;34m:\u001b[0m\u001b[0;34m\u001b[0m\u001b[0;34m\u001b[0m\u001b[0m\n\u001b[1;32m   1492\u001b[0m                     \u001b[0;31m# ipdb.set_trace()\u001b[0m\u001b[0;34m\u001b[0m\u001b[0;34m\u001b[0m\u001b[0;34m\u001b[0m\u001b[0m\n\u001b[0;32m-> 1493\u001b[0;31m                     \u001b[0mS\u001b[0m \u001b[0;34m=\u001b[0m \u001b[0mself\u001b[0m\u001b[0;34m.\u001b[0m\u001b[0mgconv_pool\u001b[0m\u001b[0;34m[\u001b[0m\u001b[0mi\u001b[0m \u001b[0;34m//\u001b[0m \u001b[0mself\u001b[0m\u001b[0;34m.\u001b[0m\u001b[0mlayers\u001b[0m\u001b[0;34m]\u001b[0m\u001b[0;34m(\u001b[0m\u001b[0mx\u001b[0m\u001b[0;34m,\u001b[0m \u001b[0mself\u001b[0m\u001b[0;34m.\u001b[0m\u001b[0mdummy_tensor\u001b[0m\u001b[0;34m,\u001b[0m \u001b[0;34m*\u001b[0m\u001b[0mnew_supports\u001b[0m\u001b[0;34m)\u001b[0m\u001b[0;34m\u001b[0m\u001b[0;34m\u001b[0m\u001b[0m\n\u001b[0m\u001b[1;32m   1494\u001b[0m                     \u001b[0mx\u001b[0m \u001b[0;34m=\u001b[0m \u001b[0mdense_diff_pool\u001b[0m\u001b[0;34m(\u001b[0m\u001b[0mx\u001b[0m\u001b[0;34m,\u001b[0m \u001b[0mS\u001b[0m\u001b[0;34m,\u001b[0m \u001b[0;34m*\u001b[0m\u001b[0mnew_supports\u001b[0m\u001b[0;34m)\u001b[0m\u001b[0;34m\u001b[0m\u001b[0;34m\u001b[0m\u001b[0m\n\u001b[1;32m   1495\u001b[0m                     \u001b[0;31m# S = eval(\"self.gcn_pool\" + str(u) + \"(x, self.dummy_tensor, *new_supports)\")\u001b[0m\u001b[0;34m\u001b[0m\u001b[0;34m\u001b[0m\u001b[0;34m\u001b[0m\u001b[0m\n",
      "\u001b[0;32m~/anaconda3/envs/py38/lib/python3.8/site-packages/torch/nn/modules/module.py\u001b[0m in \u001b[0;36m_call_impl\u001b[0;34m(self, *input, **kwargs)\u001b[0m\n\u001b[1;32m    725\u001b[0m             \u001b[0mresult\u001b[0m \u001b[0;34m=\u001b[0m \u001b[0mself\u001b[0m\u001b[0;34m.\u001b[0m\u001b[0m_slow_forward\u001b[0m\u001b[0;34m(\u001b[0m\u001b[0;34m*\u001b[0m\u001b[0minput\u001b[0m\u001b[0;34m,\u001b[0m \u001b[0;34m**\u001b[0m\u001b[0mkwargs\u001b[0m\u001b[0;34m)\u001b[0m\u001b[0;34m\u001b[0m\u001b[0;34m\u001b[0m\u001b[0m\n\u001b[1;32m    726\u001b[0m         \u001b[0;32melse\u001b[0m\u001b[0;34m:\u001b[0m\u001b[0;34m\u001b[0m\u001b[0;34m\u001b[0m\u001b[0m\n\u001b[0;32m--> 727\u001b[0;31m             \u001b[0mresult\u001b[0m \u001b[0;34m=\u001b[0m \u001b[0mself\u001b[0m\u001b[0;34m.\u001b[0m\u001b[0mforward\u001b[0m\u001b[0;34m(\u001b[0m\u001b[0;34m*\u001b[0m\u001b[0minput\u001b[0m\u001b[0;34m,\u001b[0m \u001b[0;34m**\u001b[0m\u001b[0mkwargs\u001b[0m\u001b[0;34m)\u001b[0m\u001b[0;34m\u001b[0m\u001b[0;34m\u001b[0m\u001b[0m\n\u001b[0m\u001b[1;32m    728\u001b[0m         for hook in itertools.chain(\n\u001b[1;32m    729\u001b[0m                 \u001b[0m_global_forward_hooks\u001b[0m\u001b[0;34m.\u001b[0m\u001b[0mvalues\u001b[0m\u001b[0;34m(\u001b[0m\u001b[0;34m)\u001b[0m\u001b[0;34m,\u001b[0m\u001b[0;34m\u001b[0m\u001b[0;34m\u001b[0m\u001b[0m\n",
      "\u001b[0;32m~/Documents/Graph-WaveNet/model.py\u001b[0m in \u001b[0;36mforward\u001b[0;34m(self, x, dummy_tensor, *support)\u001b[0m\n\u001b[1;32m    130\u001b[0m         \u001b[0;31m# len(out)=order*support_len+1 (7); each:[64, 32, 80, 15]\u001b[0m\u001b[0;34m\u001b[0m\u001b[0;34m\u001b[0m\u001b[0;34m\u001b[0m\u001b[0m\n\u001b[1;32m    131\u001b[0m         \u001b[0mh\u001b[0m \u001b[0;34m=\u001b[0m \u001b[0mtorch\u001b[0m\u001b[0;34m.\u001b[0m\u001b[0mcat\u001b[0m\u001b[0;34m(\u001b[0m\u001b[0mout\u001b[0m\u001b[0;34m,\u001b[0m\u001b[0mdim\u001b[0m\u001b[0;34m=\u001b[0m\u001b[0;36m1\u001b[0m\u001b[0;34m)\u001b[0m\u001b[0;34m\u001b[0m\u001b[0;34m\u001b[0m\u001b[0m\n\u001b[0;32m--> 132\u001b[0;31m         \u001b[0mh\u001b[0m \u001b[0;34m=\u001b[0m \u001b[0mself\u001b[0m\u001b[0;34m.\u001b[0m\u001b[0mmlp\u001b[0m\u001b[0;34m(\u001b[0m\u001b[0mh\u001b[0m\u001b[0;34m)\u001b[0m\u001b[0;34m\u001b[0m\u001b[0;34m\u001b[0m\u001b[0m\n\u001b[0m\u001b[1;32m    133\u001b[0m         \u001b[0mh\u001b[0m \u001b[0;34m=\u001b[0m \u001b[0mF\u001b[0m\u001b[0;34m.\u001b[0m\u001b[0mdropout\u001b[0m\u001b[0;34m(\u001b[0m\u001b[0mh\u001b[0m\u001b[0;34m,\u001b[0m \u001b[0mself\u001b[0m\u001b[0;34m.\u001b[0m\u001b[0mdropout\u001b[0m\u001b[0;34m,\u001b[0m \u001b[0mtraining\u001b[0m\u001b[0;34m=\u001b[0m\u001b[0mself\u001b[0m\u001b[0;34m.\u001b[0m\u001b[0mtraining\u001b[0m\u001b[0;34m)\u001b[0m\u001b[0;34m\u001b[0m\u001b[0;34m\u001b[0m\u001b[0m\n\u001b[1;32m    134\u001b[0m         \u001b[0;32mreturn\u001b[0m \u001b[0mh\u001b[0m\u001b[0;34m\u001b[0m\u001b[0;34m\u001b[0m\u001b[0m\n",
      "\u001b[0;32m~/anaconda3/envs/py38/lib/python3.8/site-packages/torch/nn/modules/module.py\u001b[0m in \u001b[0;36m_call_impl\u001b[0;34m(self, *input, **kwargs)\u001b[0m\n\u001b[1;32m    725\u001b[0m             \u001b[0mresult\u001b[0m \u001b[0;34m=\u001b[0m \u001b[0mself\u001b[0m\u001b[0;34m.\u001b[0m\u001b[0m_slow_forward\u001b[0m\u001b[0;34m(\u001b[0m\u001b[0;34m*\u001b[0m\u001b[0minput\u001b[0m\u001b[0;34m,\u001b[0m \u001b[0;34m**\u001b[0m\u001b[0mkwargs\u001b[0m\u001b[0;34m)\u001b[0m\u001b[0;34m\u001b[0m\u001b[0;34m\u001b[0m\u001b[0m\n\u001b[1;32m    726\u001b[0m         \u001b[0;32melse\u001b[0m\u001b[0;34m:\u001b[0m\u001b[0;34m\u001b[0m\u001b[0;34m\u001b[0m\u001b[0m\n\u001b[0;32m--> 727\u001b[0;31m             \u001b[0mresult\u001b[0m \u001b[0;34m=\u001b[0m \u001b[0mself\u001b[0m\u001b[0;34m.\u001b[0m\u001b[0mforward\u001b[0m\u001b[0;34m(\u001b[0m\u001b[0;34m*\u001b[0m\u001b[0minput\u001b[0m\u001b[0;34m,\u001b[0m \u001b[0;34m**\u001b[0m\u001b[0mkwargs\u001b[0m\u001b[0;34m)\u001b[0m\u001b[0;34m\u001b[0m\u001b[0;34m\u001b[0m\u001b[0m\n\u001b[0m\u001b[1;32m    728\u001b[0m         for hook in itertools.chain(\n\u001b[1;32m    729\u001b[0m                 \u001b[0m_global_forward_hooks\u001b[0m\u001b[0;34m.\u001b[0m\u001b[0mvalues\u001b[0m\u001b[0;34m(\u001b[0m\u001b[0;34m)\u001b[0m\u001b[0;34m,\u001b[0m\u001b[0;34m\u001b[0m\u001b[0;34m\u001b[0m\u001b[0m\n",
      "\u001b[0;32m~/Documents/Graph-WaveNet/model.py\u001b[0m in \u001b[0;36mforward\u001b[0;34m(self, x)\u001b[0m\n\u001b[1;32m     82\u001b[0m \u001b[0;34m\u001b[0m\u001b[0m\n\u001b[1;32m     83\u001b[0m     \u001b[0;32mdef\u001b[0m \u001b[0mforward\u001b[0m\u001b[0;34m(\u001b[0m\u001b[0mself\u001b[0m\u001b[0;34m,\u001b[0m\u001b[0mx\u001b[0m\u001b[0;34m)\u001b[0m\u001b[0;34m:\u001b[0m\u001b[0;34m\u001b[0m\u001b[0;34m\u001b[0m\u001b[0m\n\u001b[0;32m---> 84\u001b[0;31m         \u001b[0;32mreturn\u001b[0m \u001b[0mself\u001b[0m\u001b[0;34m.\u001b[0m\u001b[0mmlp\u001b[0m\u001b[0;34m(\u001b[0m\u001b[0mx\u001b[0m\u001b[0;34m)\u001b[0m\u001b[0;34m\u001b[0m\u001b[0;34m\u001b[0m\u001b[0m\n\u001b[0m\u001b[1;32m     85\u001b[0m \u001b[0;34m\u001b[0m\u001b[0m\n\u001b[1;32m     86\u001b[0m \u001b[0;32mclass\u001b[0m \u001b[0mgcn\u001b[0m\u001b[0;34m(\u001b[0m\u001b[0mnn\u001b[0m\u001b[0;34m.\u001b[0m\u001b[0mModule\u001b[0m\u001b[0;34m)\u001b[0m\u001b[0;34m:\u001b[0m\u001b[0;34m\u001b[0m\u001b[0;34m\u001b[0m\u001b[0m\n",
      "\u001b[0;32m~/anaconda3/envs/py38/lib/python3.8/site-packages/torch/nn/modules/module.py\u001b[0m in \u001b[0;36m_call_impl\u001b[0;34m(self, *input, **kwargs)\u001b[0m\n\u001b[1;32m    725\u001b[0m             \u001b[0mresult\u001b[0m \u001b[0;34m=\u001b[0m \u001b[0mself\u001b[0m\u001b[0;34m.\u001b[0m\u001b[0m_slow_forward\u001b[0m\u001b[0;34m(\u001b[0m\u001b[0;34m*\u001b[0m\u001b[0minput\u001b[0m\u001b[0;34m,\u001b[0m \u001b[0;34m**\u001b[0m\u001b[0mkwargs\u001b[0m\u001b[0;34m)\u001b[0m\u001b[0;34m\u001b[0m\u001b[0;34m\u001b[0m\u001b[0m\n\u001b[1;32m    726\u001b[0m         \u001b[0;32melse\u001b[0m\u001b[0;34m:\u001b[0m\u001b[0;34m\u001b[0m\u001b[0;34m\u001b[0m\u001b[0m\n\u001b[0;32m--> 727\u001b[0;31m             \u001b[0mresult\u001b[0m \u001b[0;34m=\u001b[0m \u001b[0mself\u001b[0m\u001b[0;34m.\u001b[0m\u001b[0mforward\u001b[0m\u001b[0;34m(\u001b[0m\u001b[0;34m*\u001b[0m\u001b[0minput\u001b[0m\u001b[0;34m,\u001b[0m \u001b[0;34m**\u001b[0m\u001b[0mkwargs\u001b[0m\u001b[0;34m)\u001b[0m\u001b[0;34m\u001b[0m\u001b[0;34m\u001b[0m\u001b[0m\n\u001b[0m\u001b[1;32m    728\u001b[0m         for hook in itertools.chain(\n\u001b[1;32m    729\u001b[0m                 \u001b[0m_global_forward_hooks\u001b[0m\u001b[0;34m.\u001b[0m\u001b[0mvalues\u001b[0m\u001b[0;34m(\u001b[0m\u001b[0;34m)\u001b[0m\u001b[0;34m,\u001b[0m\u001b[0;34m\u001b[0m\u001b[0;34m\u001b[0m\u001b[0m\n",
      "\u001b[0;32m~/anaconda3/envs/py38/lib/python3.8/site-packages/torch/nn/modules/conv.py\u001b[0m in \u001b[0;36mforward\u001b[0;34m(self, input)\u001b[0m\n\u001b[1;32m    421\u001b[0m \u001b[0;34m\u001b[0m\u001b[0m\n\u001b[1;32m    422\u001b[0m     \u001b[0;32mdef\u001b[0m \u001b[0mforward\u001b[0m\u001b[0;34m(\u001b[0m\u001b[0mself\u001b[0m\u001b[0;34m,\u001b[0m \u001b[0minput\u001b[0m\u001b[0;34m:\u001b[0m \u001b[0mTensor\u001b[0m\u001b[0;34m)\u001b[0m \u001b[0;34m->\u001b[0m \u001b[0mTensor\u001b[0m\u001b[0;34m:\u001b[0m\u001b[0;34m\u001b[0m\u001b[0;34m\u001b[0m\u001b[0m\n\u001b[0;32m--> 423\u001b[0;31m         \u001b[0;32mreturn\u001b[0m \u001b[0mself\u001b[0m\u001b[0;34m.\u001b[0m\u001b[0m_conv_forward\u001b[0m\u001b[0;34m(\u001b[0m\u001b[0minput\u001b[0m\u001b[0;34m,\u001b[0m \u001b[0mself\u001b[0m\u001b[0;34m.\u001b[0m\u001b[0mweight\u001b[0m\u001b[0;34m)\u001b[0m\u001b[0;34m\u001b[0m\u001b[0;34m\u001b[0m\u001b[0m\n\u001b[0m\u001b[1;32m    424\u001b[0m \u001b[0;34m\u001b[0m\u001b[0m\n\u001b[1;32m    425\u001b[0m \u001b[0;32mclass\u001b[0m \u001b[0mConv3d\u001b[0m\u001b[0;34m(\u001b[0m\u001b[0m_ConvNd\u001b[0m\u001b[0;34m)\u001b[0m\u001b[0;34m:\u001b[0m\u001b[0;34m\u001b[0m\u001b[0;34m\u001b[0m\u001b[0m\n",
      "\u001b[0;32m~/anaconda3/envs/py38/lib/python3.8/site-packages/torch/nn/modules/conv.py\u001b[0m in \u001b[0;36m_conv_forward\u001b[0;34m(self, input, weight)\u001b[0m\n\u001b[1;32m    417\u001b[0m                             \u001b[0mweight\u001b[0m\u001b[0;34m,\u001b[0m \u001b[0mself\u001b[0m\u001b[0;34m.\u001b[0m\u001b[0mbias\u001b[0m\u001b[0;34m,\u001b[0m \u001b[0mself\u001b[0m\u001b[0;34m.\u001b[0m\u001b[0mstride\u001b[0m\u001b[0;34m,\u001b[0m\u001b[0;34m\u001b[0m\u001b[0;34m\u001b[0m\u001b[0m\n\u001b[1;32m    418\u001b[0m                             _pair(0), self.dilation, self.groups)\n\u001b[0;32m--> 419\u001b[0;31m         return F.conv2d(input, weight, self.bias, self.stride,\n\u001b[0m\u001b[1;32m    420\u001b[0m                         self.padding, self.dilation, self.groups)\n\u001b[1;32m    421\u001b[0m \u001b[0;34m\u001b[0m\u001b[0m\n",
      "\u001b[0;31mRuntimeError\u001b[0m: CUDA out of memory. Tried to allocate 938.00 MiB (GPU 0; 10.92 GiB total capacity; 9.96 GiB already allocated; 265.44 MiB free; 9.98 GiB reserved in total by PyTorch)"
     ]
    }
   ],
   "source": [
    "print(\"start training...\",flush=True)\n",
    "\n",
    "his_loss_train = []\n",
    "his_loss_val =[]\n",
    "val_time = []\n",
    "train_time = []\n",
    "min_loss = float('Inf')\n",
    "grads = []\n",
    "\n",
    "for i in range(1, epochs+1):\n",
    "    # if i % 50 == 0:\n",
    "    #     # lr = max(0.000002, learning_rate * (0.1 ** (i // 10)))\n",
    "    #     for g in engine.optimizer.param_groups:\n",
    "    #         g['lr'] *= 0.9\n",
    "\n",
    "    train_loss = []\n",
    "    train_mae = []\n",
    "    train_mape = []\n",
    "    train_rmse = []\n",
    "    t1 = time.time()\n",
    "    engine.set_state('train')\n",
    "    x = _input[:nTrain]\n",
    "    adj_idx = adj_mx_idx[:nTrain]\n",
    "    if scatter:\n",
    "        _coeffs = coeffs[:nTrain]\n",
    "\n",
    "    # # for overfitting\n",
    "    # x = _input\n",
    "    # y = _gt\n",
    "    # adj_idx = adj_mx_idx\n",
    "    # if scatter:\n",
    "    #     _coeffs = coeffs\n",
    "\n",
    "    iter = 0\n",
    "    # shuffle in-out-adj_idx\n",
    "    if addaptadj:\n",
    "        if not randomadj:\n",
    "            # adjinit['train'] need to be shuffled with train set\n",
    "            if scatter:\n",
    "                x, adj_idx, _coeffs, adjinit['train'] = shuffle(x, adj_idx, _coeffs, adjinit['train'])\n",
    "            else:\n",
    "                x, adj_idx, adjinit['train'] = shuffle(x, adj_idx, adjinit['train'])\n",
    "        else:\n",
    "            if scatter:\n",
    "                x, adj_idx, _coeffs = shuffle(x, adj_idx, _coeffs)\n",
    "            else:\n",
    "                x, adj_idx = shuffle(x, adj_idx)\n",
    "    else:\n",
    "        if scatter:\n",
    "            x, adj_idx, _coeffs = shuffle(x, adj_idx, _coeffs)\n",
    "        else:\n",
    "            x, adj_idx = shuffle(x, adj_idx)\n",
    "\n",
    "    for batch_i in range(nTrain//batch_size):\n",
    "        _adj_idx = adj_idx[batch_i * batch_size: (batch_i + 1) * batch_size]\n",
    "        _x = torch.Tensor(x[batch_i * batch_size: (batch_i + 1) * batch_size][...,None]).to(device).transpose(1, 3)\n",
    "        metrics = engine.train_CRASH(_x, _x, None, {}, _adj_idx)\n",
    "\n",
    "        train_loss.append(metrics[0])\n",
    "        train_mae.append(metrics[1])\n",
    "        train_mape.append(metrics[2])\n",
    "        train_rmse.append(metrics[3])\n",
    "        # grads.append(metrics[4])\n",
    "        if iter % print_every == 0 :\n",
    "            log = 'Iter: {:03d}, Train Loss: {:.6f}, Train MAE: {:.4f}, Train MAPE: {:.4f}, Train RMSE: {:.4f}'\n",
    "            print(log.format(iter, train_loss[-1], train_mae[-1], train_mape[-1], train_rmse[-1]),flush=True)\n",
    "        iter += 1\n",
    "        # break # overfit single batch\n",
    "\n",
    "    t2 = time.time()\n",
    "    train_time.append(t2-t1)\n",
    "\n",
    "    #validation\n",
    "    valid_loss = []\n",
    "    valid_mae = []\n",
    "    valid_mape = []\n",
    "    valid_rmse = []\n",
    "    valid_cc = []\n",
    "\n",
    "    s1 = time.time()\n",
    "    engine.set_state('val')\n",
    "    x = _input[nTrain:nTrain+nValid]\n",
    "    adj_idx = adj_mx_idx[nTrain:nTrain+nValid]\n",
    "    if scatter:\n",
    "        _coeffs = coeffs[nTrain:nTrain+nValid]\n",
    "\n",
    "    # # for overfitting\n",
    "    # x = _input\n",
    "    # y = _gt\n",
    "    # adj_idx = adj_mx_idx\n",
    "    # if scatter:\n",
    "    #     _coeffs = coeffs\n",
    "\n",
    "    for batch_i in range(nValid//batch_size):\n",
    "        _adj_idx = adj_idx[batch_i * batch_size: (batch_i + 1) * batch_size]\n",
    "        _x = torch.Tensor(x[batch_i * batch_size: (batch_i + 1) * batch_size][...,None]).to(device).transpose(1, 3)\n",
    "        if batch_i == 0: # only viz the first one\n",
    "            metrics = engine.eval_CRASH(_x, _x, None, {}, _adj_idx, viz=False)\n",
    "        else:\n",
    "            metrics = engine.eval_CRASH(_x, _x, None, {}, _adj_idx)\n",
    "        valid_loss.append(metrics[0])\n",
    "        valid_mae.append(metrics[1])\n",
    "        valid_mape.append(metrics[2])\n",
    "        valid_rmse.append(metrics[3])\n",
    "        valid_cc.append(metrics[4])\n",
    "\n",
    "        # plt.plot(metrics[-1][...,order0,:][0,0,0,0].cpu().numpy())\n",
    "        # plt.show()\n",
    "        #     break # overfit single batch\n",
    "        # break\n",
    "\n",
    "    s2 = time.time()\n",
    "    log = 'Epoch: {:03d}, Inference Time: {:.4f} secs'\n",
    "    print(log.format(i,(s2-s1)))\n",
    "    val_time.append(s2-s1)\n",
    "\n",
    "    mtrain_loss = np.mean(train_loss)\n",
    "    mtrain_mae = np.mean(train_mae)\n",
    "    mtrain_mape = np.mean(train_mape)\n",
    "    mtrain_rmse = np.mean(train_rmse)\n",
    "\n",
    "    mvalid_loss = np.mean(valid_loss)\n",
    "    mvalid_mae = np.mean(valid_mae)\n",
    "    mvalid_mape = np.mean(valid_mape)\n",
    "    mvalid_rmse = np.mean(valid_rmse)\n",
    "    mvalid_cc = np.mean(valid_cc)\n",
    "    his_loss_train.append(mtrain_loss)\n",
    "    his_loss_val.append(mvalid_loss)\n",
    "\n",
    "    log = 'Epoch: {:03d}, Train Loss: {:.6f}, Train MAE: {:.4f}, Train MAPE: {:.4f}, Train RMSE: {:.4f}, Valid Loss: {:.6f}, Valid MAE: {:.4f}, Valid MAPE: {:.4f}, Valid RMSE: {:.4f}, Valid CC: {:.4f}, Training Time: {:.4f}/epoch'\n",
    "    print(log.format(i, mtrain_loss, mtrain_mae, mtrain_mape, mtrain_rmse, mvalid_loss, mvalid_mae, mvalid_mape, mvalid_rmse, mvalid_cc, (t2 - t1)),flush=True)\n",
    "    # only save the best\n",
    "    if mvalid_loss < min_loss:\n",
    "        min_loss = mvalid_loss\n",
    "        # # remove previous\n",
    "        # fname = glob.glob(savedir+'_epoch_*.pth')\n",
    "        # for f in fname:\n",
    "        #     os.remove(f)\n",
    "        # save new\n",
    "        torch.save(engine.model.state_dict(), savedir+\"_epoch_\"+str(i)+\"_\"+str(round(mvalid_loss,2))+\".pth\")\n",
    "    # torch.save(engine.model.state_dict(), savedir+\"_epoch_\"+str(i)+\"_\"+str(round(mvalid_loss,2))+\".pth\")\n",
    "print(\"Average Training Time: {:.4f} secs/epoch\".format(np.mean(train_time)))\n",
    "print(\"Average Inference Time: {:.4f} secs\".format(np.mean(val_time))) "
   ]
  },
  {
   "cell_type": "markdown",
   "metadata": {},
   "source": [
    "## 3. testing and visualizations"
   ]
  },
  {
   "cell_type": "markdown",
   "metadata": {},
   "source": [
    "### loading pretrained models if any"
   ]
  },
  {
   "cell_type": "code",
   "execution_count": 15,
   "metadata": {},
   "outputs": [
    {
     "data": {
      "text/plain": [
       "<All keys matched successfully>"
      ]
     },
     "execution_count": 15,
     "metadata": {},
     "output_type": "execute_result"
    }
   ],
   "source": [
    "model_name = 'garage/CRASH_rest_epoch_14_0.82.pth'\n",
    "pretrained_dict = torch.load(model_name)\n",
    "\n",
    "model_dict = engine.model.state_dict()\n",
    "pretrained_dict = {k: v for k, v in pretrained_dict.items() if k in model_dict}\n",
    "model_dict.update(pretrained_dict) \n",
    "engine.model.load_state_dict(model_dict)"
   ]
  },
  {
   "cell_type": "markdown",
   "metadata": {},
   "source": [
    "### direct testing (multistep output from model)"
   ]
  },
  {
   "cell_type": "code",
   "execution_count": 18,
   "metadata": {
    "scrolled": false
   },
   "outputs": [
    {
     "name": "stderr",
     "output_type": "stream",
     "text": [
      "\r",
      "  0%|          | 0/148 [00:00<?, ?it/s]"
     ]
    },
    {
     "data": {
      "image/png": "[encoded data removed]",
      "text/plain": [
       "<Figure size 432x288 with 1 Axes>"
      ]
     },
     "metadata": {
      "needs_background": "light"
     },
     "output_type": "display_data"
    },
    {
     "data": {
      "image/png": "[encoded data removed]",
      "text/plain": [
       "<Figure size 432x288 with 1 Axes>"
      ]
     },
     "metadata": {
      "needs_background": "light"
     },
     "output_type": "display_data"
    },
    {
     "name": "stdout",
     "output_type": "stream",
     "text": [
      "> \u001b[0;32m/home/sikun/Documents/Graph-WaveNet/model.py\u001b[0m(1275)\u001b[0;36mforward\u001b[0;34m()\u001b[0m\n",
      "\u001b[0;32m   1274 \u001b[0;31m\u001b[0;34m\u001b[0m\u001b[0m\n",
      "\u001b[0m\u001b[0;32m-> 1275 \u001b[0;31m            \u001b[0;32mif\u001b[0m \u001b[0mlen\u001b[0m\u001b[0;34m(\u001b[0m\u001b[0msupports\u001b[0m\u001b[0;34m)\u001b[0m \u001b[0;34m>\u001b[0m \u001b[0;36m0\u001b[0m\u001b[0;34m:\u001b[0m\u001b[0;34m\u001b[0m\u001b[0;34m\u001b[0m\u001b[0m\n",
      "\u001b[0m\u001b[0;32m   1276 \u001b[0;31m                \u001b[0mnew_supports\u001b[0m \u001b[0;34m=\u001b[0m \u001b[0msupports\u001b[0m \u001b[0;34m+\u001b[0m \u001b[0;34m[\u001b[0m\u001b[0madp\u001b[0m\u001b[0;34m]\u001b[0m\u001b[0;34m\u001b[0m\u001b[0;34m\u001b[0m\u001b[0m\n",
      "\u001b[0m\n",
      "ipdb> q\n"
     ]
    },
    {
     "name": "stderr",
     "output_type": "stream",
     "text": [
      "  0%|          | 0/148 [00:02<?, ?it/s]\n"
     ]
    },
    {
     "ename": "BdbQuit",
     "evalue": "",
     "output_type": "error",
     "traceback": [
      "\u001b[0;31m---------------------------------------------------------------------------\u001b[0m",
      "\u001b[0;31mBdbQuit\u001b[0m                                   Traceback (most recent call last)",
      "\u001b[0;32m<ipython-input-18-92c106cac3ec>\u001b[0m in \u001b[0;36m<module>\u001b[0;34m\u001b[0m\n\u001b[1;32m     32\u001b[0m \u001b[0;34m\u001b[0m\u001b[0m\n\u001b[1;32m     33\u001b[0m     \u001b[0;32mif\u001b[0m \u001b[0mbatch_i\u001b[0m \u001b[0;34m==\u001b[0m \u001b[0;36m0\u001b[0m\u001b[0;34m:\u001b[0m \u001b[0;31m# only viz the first one\u001b[0m\u001b[0;34m\u001b[0m\u001b[0;34m\u001b[0m\u001b[0m\n\u001b[0;32m---> 34\u001b[0;31m         \u001b[0mmetrics\u001b[0m \u001b[0;34m=\u001b[0m \u001b[0mengine\u001b[0m\u001b[0;34m.\u001b[0m\u001b[0meval_CRASH\u001b[0m\u001b[0;34m(\u001b[0m\u001b[0m_x\u001b[0m\u001b[0;34m,\u001b[0m \u001b[0m_y\u001b[0m\u001b[0;34m,\u001b[0m \u001b[0;32mNone\u001b[0m\u001b[0;34m,\u001b[0m \u001b[0;34m{\u001b[0m\u001b[0;34m}\u001b[0m\u001b[0;34m,\u001b[0m \u001b[0m_adj_idx\u001b[0m\u001b[0;34m,\u001b[0m \u001b[0mviz\u001b[0m\u001b[0;34m=\u001b[0m\u001b[0;32mTrue\u001b[0m\u001b[0;34m)\u001b[0m\u001b[0;34m\u001b[0m\u001b[0;34m\u001b[0m\u001b[0m\n\u001b[0m\u001b[1;32m     35\u001b[0m     \u001b[0;32melse\u001b[0m\u001b[0;34m:\u001b[0m\u001b[0;34m\u001b[0m\u001b[0;34m\u001b[0m\u001b[0m\n\u001b[1;32m     36\u001b[0m         \u001b[0mmetrics\u001b[0m \u001b[0;34m=\u001b[0m \u001b[0mengine\u001b[0m\u001b[0;34m.\u001b[0m\u001b[0meval_CRASH\u001b[0m\u001b[0;34m(\u001b[0m\u001b[0m_x\u001b[0m\u001b[0;34m,\u001b[0m \u001b[0m_y\u001b[0m\u001b[0;34m,\u001b[0m \u001b[0;32mNone\u001b[0m\u001b[0;34m,\u001b[0m \u001b[0;34m{\u001b[0m\u001b[0;34m}\u001b[0m\u001b[0;34m,\u001b[0m \u001b[0m_adj_idx\u001b[0m\u001b[0;34m)\u001b[0m\u001b[0;34m\u001b[0m\u001b[0;34m\u001b[0m\u001b[0m\n",
      "\u001b[0;32m~/Documents/Graph-WaveNet/engine.py\u001b[0m in \u001b[0;36meval_CRASH\u001b[0;34m(self, input, real_F, real_E, assign_dict, adj_idx, viz)\u001b[0m\n\u001b[1;32m    563\u001b[0m \u001b[0;34m\u001b[0m\u001b[0m\n\u001b[1;32m    564\u001b[0m         \u001b[0;32mwith\u001b[0m \u001b[0mtorch\u001b[0m\u001b[0;34m.\u001b[0m\u001b[0mno_grad\u001b[0m\u001b[0;34m(\u001b[0m\u001b[0;34m)\u001b[0m\u001b[0;34m:\u001b[0m\u001b[0;34m\u001b[0m\u001b[0;34m\u001b[0m\u001b[0m\n\u001b[0;32m--> 565\u001b[0;31m             \u001b[0moutput\u001b[0m \u001b[0;34m=\u001b[0m \u001b[0mself\u001b[0m\u001b[0;34m.\u001b[0m\u001b[0mmodel\u001b[0m\u001b[0;34m(\u001b[0m\u001b[0minput\u001b[0m\u001b[0;34m,\u001b[0m \u001b[0msupports\u001b[0m\u001b[0;34m,\u001b[0m \u001b[0maptinit\u001b[0m\u001b[0;34m,\u001b[0m \u001b[0mviz\u001b[0m\u001b[0;34m=\u001b[0m\u001b[0mviz\u001b[0m\u001b[0;34m)\u001b[0m\u001b[0;34m\u001b[0m\u001b[0;34m\u001b[0m\u001b[0m\n\u001b[0m\u001b[1;32m    566\u001b[0m             \u001b[0;31m# output = self.model(input, viz=viz) # validate SC\u001b[0m\u001b[0;34m\u001b[0m\u001b[0;34m\u001b[0m\u001b[0;34m\u001b[0m\u001b[0m\n\u001b[1;32m    567\u001b[0m \u001b[0;34m\u001b[0m\u001b[0m\n",
      "\u001b[0;32m~/anaconda3/envs/py38/lib/python3.8/site-packages/torch/nn/modules/module.py\u001b[0m in \u001b[0;36m_call_impl\u001b[0;34m(self, *input, **kwargs)\u001b[0m\n\u001b[1;32m    725\u001b[0m             \u001b[0mresult\u001b[0m \u001b[0;34m=\u001b[0m \u001b[0mself\u001b[0m\u001b[0;34m.\u001b[0m\u001b[0m_slow_forward\u001b[0m\u001b[0;34m(\u001b[0m\u001b[0;34m*\u001b[0m\u001b[0minput\u001b[0m\u001b[0;34m,\u001b[0m \u001b[0;34m**\u001b[0m\u001b[0mkwargs\u001b[0m\u001b[0;34m)\u001b[0m\u001b[0;34m\u001b[0m\u001b[0;34m\u001b[0m\u001b[0m\n\u001b[1;32m    726\u001b[0m         \u001b[0;32melse\u001b[0m\u001b[0;34m:\u001b[0m\u001b[0;34m\u001b[0m\u001b[0;34m\u001b[0m\u001b[0m\n\u001b[0;32m--> 727\u001b[0;31m             \u001b[0mresult\u001b[0m \u001b[0;34m=\u001b[0m \u001b[0mself\u001b[0m\u001b[0;34m.\u001b[0m\u001b[0mforward\u001b[0m\u001b[0;34m(\u001b[0m\u001b[0;34m*\u001b[0m\u001b[0minput\u001b[0m\u001b[0;34m,\u001b[0m \u001b[0;34m**\u001b[0m\u001b[0mkwargs\u001b[0m\u001b[0;34m)\u001b[0m\u001b[0;34m\u001b[0m\u001b[0;34m\u001b[0m\u001b[0m\n\u001b[0m\u001b[1;32m    728\u001b[0m         for hook in itertools.chain(\n\u001b[1;32m    729\u001b[0m                 \u001b[0m_global_forward_hooks\u001b[0m\u001b[0;34m.\u001b[0m\u001b[0mvalues\u001b[0m\u001b[0;34m(\u001b[0m\u001b[0;34m)\u001b[0m\u001b[0;34m,\u001b[0m\u001b[0;34m\u001b[0m\u001b[0;34m\u001b[0m\u001b[0m\n",
      "\u001b[0;32m~/Documents/Graph-WaveNet/model.py\u001b[0m in \u001b[0;36mforward\u001b[0;34m(self, input, supports, aptinit, viz)\u001b[0m\n\u001b[1;32m   1273\u001b[0m                 \u001b[0;31m# top10 = idx.cpu().numpy()[:,::-1][:,:10]\u001b[0m\u001b[0;34m\u001b[0m\u001b[0;34m\u001b[0m\u001b[0;34m\u001b[0m\u001b[0m\n\u001b[1;32m   1274\u001b[0m \u001b[0;34m\u001b[0m\u001b[0m\n\u001b[0;32m-> 1275\u001b[0;31m             \u001b[0;32mif\u001b[0m \u001b[0mlen\u001b[0m\u001b[0;34m(\u001b[0m\u001b[0msupports\u001b[0m\u001b[0;34m)\u001b[0m \u001b[0;34m>\u001b[0m \u001b[0;36m0\u001b[0m\u001b[0;34m:\u001b[0m\u001b[0;34m\u001b[0m\u001b[0;34m\u001b[0m\u001b[0m\n\u001b[0m\u001b[1;32m   1276\u001b[0m                 \u001b[0mnew_supports\u001b[0m \u001b[0;34m=\u001b[0m \u001b[0msupports\u001b[0m \u001b[0;34m+\u001b[0m \u001b[0;34m[\u001b[0m\u001b[0madp\u001b[0m\u001b[0;34m]\u001b[0m\u001b[0;34m\u001b[0m\u001b[0;34m\u001b[0m\u001b[0m\n\u001b[1;32m   1277\u001b[0m             \u001b[0;32melse\u001b[0m\u001b[0;34m:\u001b[0m\u001b[0;34m\u001b[0m\u001b[0;34m\u001b[0m\u001b[0m\n",
      "\u001b[0;32m~/Documents/Graph-WaveNet/model.py\u001b[0m in \u001b[0;36mforward\u001b[0;34m(self, input, supports, aptinit, viz)\u001b[0m\n\u001b[1;32m   1273\u001b[0m                 \u001b[0;31m# top10 = idx.cpu().numpy()[:,::-1][:,:10]\u001b[0m\u001b[0;34m\u001b[0m\u001b[0;34m\u001b[0m\u001b[0;34m\u001b[0m\u001b[0m\n\u001b[1;32m   1274\u001b[0m \u001b[0;34m\u001b[0m\u001b[0m\n\u001b[0;32m-> 1275\u001b[0;31m             \u001b[0;32mif\u001b[0m \u001b[0mlen\u001b[0m\u001b[0;34m(\u001b[0m\u001b[0msupports\u001b[0m\u001b[0;34m)\u001b[0m \u001b[0;34m>\u001b[0m \u001b[0;36m0\u001b[0m\u001b[0;34m:\u001b[0m\u001b[0;34m\u001b[0m\u001b[0;34m\u001b[0m\u001b[0m\n\u001b[0m\u001b[1;32m   1276\u001b[0m                 \u001b[0mnew_supports\u001b[0m \u001b[0;34m=\u001b[0m \u001b[0msupports\u001b[0m \u001b[0;34m+\u001b[0m \u001b[0;34m[\u001b[0m\u001b[0madp\u001b[0m\u001b[0;34m]\u001b[0m\u001b[0;34m\u001b[0m\u001b[0;34m\u001b[0m\u001b[0m\n\u001b[1;32m   1277\u001b[0m             \u001b[0;32melse\u001b[0m\u001b[0;34m:\u001b[0m\u001b[0;34m\u001b[0m\u001b[0;34m\u001b[0m\u001b[0m\n",
      "\u001b[0;32m~/anaconda3/envs/py38/lib/python3.8/bdb.py\u001b[0m in \u001b[0;36mtrace_dispatch\u001b[0;34m(self, frame, event, arg)\u001b[0m\n\u001b[1;32m     86\u001b[0m             \u001b[0;32mreturn\u001b[0m \u001b[0;31m# None\u001b[0m\u001b[0;34m\u001b[0m\u001b[0;34m\u001b[0m\u001b[0m\n\u001b[1;32m     87\u001b[0m         \u001b[0;32mif\u001b[0m \u001b[0mevent\u001b[0m \u001b[0;34m==\u001b[0m \u001b[0;34m'line'\u001b[0m\u001b[0;34m:\u001b[0m\u001b[0;34m\u001b[0m\u001b[0;34m\u001b[0m\u001b[0m\n\u001b[0;32m---> 88\u001b[0;31m             \u001b[0;32mreturn\u001b[0m \u001b[0mself\u001b[0m\u001b[0;34m.\u001b[0m\u001b[0mdispatch_line\u001b[0m\u001b[0;34m(\u001b[0m\u001b[0mframe\u001b[0m\u001b[0;34m)\u001b[0m\u001b[0;34m\u001b[0m\u001b[0;34m\u001b[0m\u001b[0m\n\u001b[0m\u001b[1;32m     89\u001b[0m         \u001b[0;32mif\u001b[0m \u001b[0mevent\u001b[0m \u001b[0;34m==\u001b[0m \u001b[0;34m'call'\u001b[0m\u001b[0;34m:\u001b[0m\u001b[0;34m\u001b[0m\u001b[0;34m\u001b[0m\u001b[0m\n\u001b[1;32m     90\u001b[0m             \u001b[0;32mreturn\u001b[0m \u001b[0mself\u001b[0m\u001b[0;34m.\u001b[0m\u001b[0mdispatch_call\u001b[0m\u001b[0;34m(\u001b[0m\u001b[0mframe\u001b[0m\u001b[0;34m,\u001b[0m \u001b[0marg\u001b[0m\u001b[0;34m)\u001b[0m\u001b[0;34m\u001b[0m\u001b[0;34m\u001b[0m\u001b[0m\n",
      "\u001b[0;32m~/anaconda3/envs/py38/lib/python3.8/bdb.py\u001b[0m in \u001b[0;36mdispatch_line\u001b[0;34m(self, frame)\u001b[0m\n\u001b[1;32m    111\u001b[0m         \u001b[0;32mif\u001b[0m \u001b[0mself\u001b[0m\u001b[0;34m.\u001b[0m\u001b[0mstop_here\u001b[0m\u001b[0;34m(\u001b[0m\u001b[0mframe\u001b[0m\u001b[0;34m)\u001b[0m \u001b[0;32mor\u001b[0m \u001b[0mself\u001b[0m\u001b[0;34m.\u001b[0m\u001b[0mbreak_here\u001b[0m\u001b[0;34m(\u001b[0m\u001b[0mframe\u001b[0m\u001b[0;34m)\u001b[0m\u001b[0;34m:\u001b[0m\u001b[0;34m\u001b[0m\u001b[0;34m\u001b[0m\u001b[0m\n\u001b[1;32m    112\u001b[0m             \u001b[0mself\u001b[0m\u001b[0;34m.\u001b[0m\u001b[0muser_line\u001b[0m\u001b[0;34m(\u001b[0m\u001b[0mframe\u001b[0m\u001b[0;34m)\u001b[0m\u001b[0;34m\u001b[0m\u001b[0;34m\u001b[0m\u001b[0m\n\u001b[0;32m--> 113\u001b[0;31m             \u001b[0;32mif\u001b[0m \u001b[0mself\u001b[0m\u001b[0;34m.\u001b[0m\u001b[0mquitting\u001b[0m\u001b[0;34m:\u001b[0m \u001b[0;32mraise\u001b[0m \u001b[0mBdbQuit\u001b[0m\u001b[0;34m\u001b[0m\u001b[0;34m\u001b[0m\u001b[0m\n\u001b[0m\u001b[1;32m    114\u001b[0m         \u001b[0;32mreturn\u001b[0m \u001b[0mself\u001b[0m\u001b[0;34m.\u001b[0m\u001b[0mtrace_dispatch\u001b[0m\u001b[0;34m\u001b[0m\u001b[0;34m\u001b[0m\u001b[0m\n\u001b[1;32m    115\u001b[0m \u001b[0;34m\u001b[0m\u001b[0m\n",
      "\u001b[0;31mBdbQuit\u001b[0m: "
     ]
    }
   ],
   "source": [
    "# testing\n",
    "\n",
    "amae = []\n",
    "amape = []\n",
    "armse = []\n",
    "a_cc = []\n",
    "\n",
    "real_Fs = []\n",
    "pred_Fs = []\n",
    "pred_coeffs = []\n",
    "adpa = []\n",
    "\n",
    "engine.set_state('test')\n",
    "x = _input[-nTest:]\n",
    "y = _gt[-nTest:]\n",
    "adj_idx = adj_mx_idx[-nTest:]\n",
    "if scatter:\n",
    "    _coeffs = coeffs[-nTest:]\n",
    "\n",
    "for batch_i in tqdm_notebook(range(nTest//batch_size)):\n",
    "    _adj_idx = adj_idx[batch_i * batch_size: (batch_i + 1) * batch_size]\n",
    "    _x = torch.Tensor(x[batch_i * batch_size: (batch_i + 1) * batch_size][...,None]).to(device).transpose(1, 3)\n",
    "    if scatter:\n",
    "        # _y = y[batch_i * args.batch_size: (batch_i + 1) * args.batch_size]\n",
    "        # coeff_y = torch.Tensor(scattering(_y.transpose(0,2,1))).to(device)\n",
    "        # _y = torch.Tensor(_y).to(device)\n",
    "        _y = torch.Tensor(y[batch_i * batch_size: (batch_i + 1) * batch_size]).to(device)\n",
    "        coeff_y  = torch.Tensor(_coeffs[batch_i * batch_size: (batch_i + 1) * batch_size]).to(device)\n",
    "\n",
    "        _y = [_y.transpose(1,2), coeff_y]\n",
    "    else:\n",
    "        _y = torch.Tensor(y[batch_i * batch_size: (batch_i + 1) * batch_size]).to(device)\n",
    "\n",
    "    if batch_i == 0: # only viz the first one\n",
    "        metrics = engine.eval_CRASH(_x, _y, None, {}, _adj_idx, viz=True)\n",
    "    else:\n",
    "        metrics = engine.eval_CRASH(_x, _y, None, {}, _adj_idx)\n",
    "\n",
    "    amae.append(metrics[1])\n",
    "    amape.append(metrics[2])\n",
    "    armse.append(metrics[3])\n",
    "    adpa.append(metrics[5])\n",
    "\n",
    "    real_Fs.append(_y)\n",
    "    pred_Fs.append(metrics[-3])\n",
    "    \n",
    "    if scatter:\n",
    "        pred_coeffs.append(metrics[-1])\n",
    "\n",
    "    if batch_i == 0:\n",
    "        if scatter:\n",
    "            # for in-network scatter checking\n",
    "            # ipdb.set_trace()\n",
    "            plt.figure('sig')\n",
    "            plt.plot(real_Es[0][0].squeeze().cpu().numpy()[1,1], label='real')\n",
    "            plt.plot(pred_Es[0].squeeze().cpu().numpy()[1,1], label='pred')\n",
    "            plt.legend()\n",
    "            # plt.savefig('sig.png')\n",
    "\n",
    "            plt.figure('coeff')\n",
    "            # plt.plot(real_Es[0][1].squeeze().cpu().numpy()[0,0], label='real')\n",
    "            # plt.plot(pred_coeffs[0].squeeze().cpu().numpy()[0,0], label='pred')\n",
    "            plt.plot(real_Es[0][1].squeeze().cpu().numpy()[1,1,0], label='real')\n",
    "            plt.plot(pred_coeffs[0].squeeze().cpu().numpy()[1,1,0], label='pred')\n",
    "            plt.legend()\n",
    "            # plt.savefig('coeff.png')\n",
    "            plt.show()\n",
    "            ipdb.set_trace()   \n",
    "\n",
    "        else:\n",
    "            plt.figure(0) # timestep 0\n",
    "            plt.plot(real_Fs[0].squeeze().cpu().numpy()[3,0], label='real Fs')\n",
    "            plt.plot(pred_Fs[0].squeeze().cpu().numpy()[3,0], label='pred Fs')\n",
    "            plt.legend()\n",
    "            plt.show()\n",
    "            plt.figure(1) # timestep c3\n",
    "            plt.plot(real_Fs[0].squeeze().cpu().numpy()[3,3], label='real Fs')\n",
    "            plt.plot(pred_Fs[0].squeeze().cpu().numpy()[3,3], label='pred Fs')\n",
    "            plt.legend()\n",
    "            plt.show()                       \n",
    "            ipdb.set_trace()"
   ]
  },
  {
   "cell_type": "code",
   "execution_count": 25,
   "metadata": {},
   "outputs": [
    {
     "data": {
      "text/plain": [
       "(8384, 200, 200)"
      ]
     },
     "execution_count": 25,
     "metadata": {},
     "output_type": "execute_result"
    }
   ],
   "source": [
    "torch.cat(adpa).cpu().numpy().shape"
   ]
  },
  {
   "cell_type": "code",
   "execution_count": 26,
   "metadata": {},
   "outputs": [],
   "source": [
    "np.save('adaptive_adj_F_'+task+'longIN.npy', torch.cat(adpa).cpu().numpy())"
   ]
  },
  {
   "cell_type": "code",
   "execution_count": null,
   "metadata": {},
   "outputs": [],
   "source": []
  }
 ],
 "metadata": {
  "kernelspec": {
   "display_name": "Python 3",
   "language": "python",
   "name": "python3"
  },
  "language_info": {
   "codemirror_mode": {
    "name": "ipython",
    "version": 3
   },
   "file_extension": ".py",
   "mimetype": "text/x-python",
   "name": "python",
   "nbconvert_exporter": "python",
   "pygments_lexer": "ipython3",
   "version": "3.8.5"
  }
 },
 "nbformat": 4,
 "nbformat_minor": 4
}
